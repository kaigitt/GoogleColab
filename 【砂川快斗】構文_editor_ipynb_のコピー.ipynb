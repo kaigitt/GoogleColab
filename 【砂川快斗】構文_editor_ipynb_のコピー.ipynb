{
  "nbformat": 4,
  "nbformat_minor": 0,
  "metadata": {
    "colab": {
      "name": "【砂川快斗】構文_editor.ipynb のコピー",
      "provenance": [],
      "collapsed_sections": [],
      "include_colab_link": true
    },
    "kernelspec": {
      "name": "python3",
      "display_name": "Python 3"
    },
    "language_info": {
      "name": "python"
    }
  },
  "cells": [
    {
      "cell_type": "markdown",
      "metadata": {
        "id": "view-in-github",
        "colab_type": "text"
      },
      "source": [
        "<a href=\"https://colab.research.google.com/github/kaigitt/GoogleColab/blob/master/%E3%80%90%E7%A0%82%E5%B7%9D%E5%BF%AB%E6%96%97%E3%80%91%E6%A7%8B%E6%96%87_editor_ipynb_%E3%81%AE%E3%82%B3%E3%83%94%E3%83%BC.ipynb\" target=\"_parent\"><img src=\"https://colab.research.google.com/assets/colab-badge.svg\" alt=\"Open In Colab\"/></a>"
      ]
    },
    {
      "cell_type": "markdown",
      "metadata": {
        "id": "mD6tkIQAYL1e"
      },
      "source": [
        "# 構文 exercises\n",
        "\n",
        "\n",
        "1. 条件分岐について学習します。（4問）\n",
        "2. 繰り返し文について学習します。 (4問)\n",
        "3. 例外処理について学習します　(2問)\n",
        "\n",
        "\n",
        "**解答は参考例なので、コードが完全一致している必要はありません。**"
      ]
    },
    {
      "cell_type": "markdown",
      "metadata": {
        "id": "VQ3YF0AhZquA"
      },
      "source": [
        "## 1. 条件分岐について学習します。（4問）"
      ]
    },
    {
      "cell_type": "markdown",
      "metadata": {
        "id": "z0uPpa1ZZsqk"
      },
      "source": [
        "### 1.1 「次のa, bの大きさを比較して、大きい方を表示してください。」"
      ]
    },
    {
      "cell_type": "code",
      "source": [
        "# こちらのセルを実行してください。\n",
        "a = 100\n",
        "b = 150\n",
        "if a > b:\n",
        "  print(a)\n",
        "else:\n",
        "  print(b)"
      ],
      "metadata": {
        "id": "AT-tIHeMD7p0",
        "outputId": "77ad73e3-5264-4b98-9131-073d55201992",
        "colab": {
          "base_uri": "https://localhost:8080/"
        }
      },
      "execution_count": null,
      "outputs": [
        {
          "output_type": "stream",
          "name": "stdout",
          "text": [
            "150\n"
          ]
        }
      ]
    },
    {
      "cell_type": "markdown",
      "metadata": {
        "id": "Xy3PDN0Hgy5S"
      },
      "source": [
        "### 1.2 「次のaが3の倍数ならば『Red』、3の倍数ではなく100以上なら『Green』、どれも違うなら『Blue』と表示してください。」"
      ]
    },
    {
      "cell_type": "code",
      "metadata": {
        "id": "W-lmZaDCg3Gk",
        "colab": {
          "base_uri": "https://localhost:8080/"
        },
        "outputId": "66b0707d-4c22-4059-a503-d7cc56cc1ad9"
      },
      "source": [
        "# こちらのセルを実行してください。\n",
        "a = 127\n",
        "if a % 3 == 0:\n",
        "  print(\"Red\")\n",
        "elif a % 3 != 0 and a >= 100:\n",
        "  print(\"Green\")\n",
        "else:\n",
        "  print(\"Blue\")"
      ],
      "execution_count": null,
      "outputs": [
        {
          "output_type": "stream",
          "name": "stdout",
          "text": [
            "Green\n"
          ]
        }
      ]
    },
    {
      "cell_type": "markdown",
      "metadata": {
        "id": "QNvJVDL_g3b1"
      },
      "source": [
        "### 1.3 「次のaがn_listに含まれてたら『In』、含まれていなかったら『Out』と表示してください。」"
      ]
    },
    {
      "cell_type": "code",
      "source": [
        "# こちらのセルを実行してください。\n",
        "a = 127\n",
        "n_list = [127, 35, 87]\n",
        "for i in n_list:\n",
        "  if i == a:\n",
        "    print(\"In\")\n",
        "    break\n",
        "print(\"Out\")"
      ],
      "metadata": {
        "id": "YXtIfWHKGIzx",
        "colab": {
          "base_uri": "https://localhost:8080/"
        },
        "outputId": "c876bc24-52a9-41ac-f8f6-bfedff4b146e"
      },
      "execution_count": null,
      "outputs": [
        {
          "output_type": "stream",
          "name": "stdout",
          "text": [
            "In\n",
            "Out\n"
          ]
        }
      ]
    },
    {
      "cell_type": "markdown",
      "metadata": {
        "id": "NAzCunjcg50S"
      },
      "source": [
        "### 1.4 「次のaがbと同じ値でなければ『Good』、同じ値なら『Bad』を表示してください。」"
      ]
    },
    {
      "cell_type": "code",
      "metadata": {
        "id": "wDcJgfMQg77T"
      },
      "source": [
        "# こちらのセルを実行してください。\n",
        "a = 145\n",
        "b = 187"
      ],
      "execution_count": null,
      "outputs": []
    },
    {
      "cell_type": "markdown",
      "metadata": {
        "id": "kppqnG7vZ04Z"
      },
      "source": [
        "## 2. 繰り返し文について学習します。 (4問)"
      ]
    },
    {
      "cell_type": "markdown",
      "metadata": {
        "id": "4aL-j_qCbOws"
      },
      "source": [
        "### 2.1 「0から12までの整数の中で、2の倍数のものを表示してください。」"
      ]
    },
    {
      "cell_type": "code",
      "source": [
        "nums = [ i for i in range(13)]\n",
        "for i in nums:\n",
        "  if i % 2 == 0:\n",
        "    print(i)\n",
        "    \n"
      ],
      "metadata": {
        "id": "FZ7mXRgXVyS3",
        "colab": {
          "base_uri": "https://localhost:8080/"
        },
        "outputId": "ba8688a5-b3f8-40b8-96cb-88dd3d57f1c2"
      },
      "execution_count": null,
      "outputs": [
        {
          "output_type": "stream",
          "name": "stdout",
          "text": [
            "0\n",
            "2\n",
            "4\n",
            "6\n",
            "8\n",
            "10\n",
            "12\n"
          ]
        }
      ]
    },
    {
      "cell_type": "markdown",
      "metadata": {
        "id": "94oKrVhgZ8Va"
      },
      "source": [
        "### 2.2 「次のn_dictをfor文によって繰り返して、繰り返し変数への代入結果を表示してください。」"
      ]
    },
    {
      "cell_type": "code",
      "metadata": {
        "id": "D9xYVZrUaXcI",
        "colab": {
          "base_uri": "https://localhost:8080/"
        },
        "outputId": "8ed1359e-f621-43a8-f93e-09509bbfbd31"
      },
      "source": [
        "# こちらのセルを実行してください。\n",
        "n_dict = {'太郎': 18, '次郎': 16, 12: '三郎' }\n",
        "for i in n_dict:\n",
        "  print(i)"
      ],
      "execution_count": null,
      "outputs": [
        {
          "output_type": "stream",
          "name": "stdout",
          "text": [
            "太郎\n",
            "次郎\n",
            "12\n"
          ]
        }
      ]
    },
    {
      "cell_type": "markdown",
      "metadata": {
        "id": "JTnQRjzhqCNO"
      },
      "source": [
        "**このように、辞書をfor文で繰り返すと辞書のキーが回されます。**"
      ]
    },
    {
      "cell_type": "markdown",
      "metadata": {
        "id": "MbogJ_DYa1FW"
      },
      "source": [
        "### 2.3 「次のn_dictをfor文によって繰り返して、辞書のバリューを順番に表示してください。」"
      ]
    },
    {
      "cell_type": "code",
      "metadata": {
        "id": "gZf9v17ebBNd",
        "colab": {
          "base_uri": "https://localhost:8080/"
        },
        "outputId": "4005037c-76ef-4d86-c417-a814505f7ffd"
      },
      "source": [
        "# こちらのセルを実行してください。\n",
        "n_dict = {'太郎': 18, '次郎': 16, 12: '三郎' }\n",
        "for i in n_dict:\n",
        "  print(n_dict[i])"
      ],
      "execution_count": null,
      "outputs": [
        {
          "output_type": "stream",
          "name": "stdout",
          "text": [
            "18\n",
            "16\n",
            "三郎\n"
          ]
        }
      ]
    },
    {
      "cell_type": "markdown",
      "metadata": {
        "id": "BZ6_wNNzb9CA"
      },
      "source": [
        "### 2.4 「While文によって、0から5までの数字を表示させてください」"
      ]
    },
    {
      "cell_type": "code",
      "source": [
        "i = 0\n",
        "while i < 6:\n",
        "  print(i)\n",
        "  i += 1"
      ],
      "metadata": {
        "id": "qy4Q22w9V0uN",
        "colab": {
          "base_uri": "https://localhost:8080/"
        },
        "outputId": "18fa3fac-41c3-4f58-a528-ad4078b91421"
      },
      "execution_count": null,
      "outputs": [
        {
          "output_type": "stream",
          "name": "stdout",
          "text": [
            "0\n",
            "1\n",
            "2\n",
            "3\n",
            "4\n",
            "5\n"
          ]
        }
      ]
    },
    {
      "cell_type": "markdown",
      "metadata": {
        "id": "ZJh8aH3wZ60_"
      },
      "source": [
        "## 3. 例外処理について学習します。　(2問)"
      ]
    },
    {
      "cell_type": "markdown",
      "metadata": {
        "id": "_LnWd29AaEMb"
      },
      "source": [
        "### 3.1 「次の処理は例外によるエラーが発生しています。この例外をキャッチして、『例外が起きています』と表示してください。」"
      ]
    },
    {
      "cell_type": "code",
      "metadata": {
        "colab": {
          "base_uri": "https://localhost:8080/"
        },
        "id": "kWlUo-QqaFd1",
        "outputId": "a524cd11-6787-44e5-ecc1-a8143b0bea0b"
      },
      "source": [
        "# こちらのセルを実行してください。\n",
        "try:\n",
        "  n_list = [0, 2, 'ネコ']\n",
        "  print(n_list[5])\n",
        "except:\n",
        "  print('例外が起きています')\n"
      ],
      "execution_count": null,
      "outputs": [
        {
          "output_type": "stream",
          "name": "stdout",
          "text": [
            "例外が起きています\n"
          ]
        }
      ]
    },
    {
      "cell_type": "code",
      "source": [
        ""
      ],
      "metadata": {
        "id": "-bXjrGaCV2IC"
      },
      "execution_count": null,
      "outputs": []
    },
    {
      "cell_type": "markdown",
      "metadata": {
        "id": "yodTAFuVexpc"
      },
      "source": [
        "### 3.2 「次の処理は例外によるエラーが発生しています。この例外をキャッチして、『例外が起きています』と表示してください。」"
      ]
    },
    {
      "cell_type": "code",
      "metadata": {
        "colab": {
          "base_uri": "https://localhost:8080/"
        },
        "id": "zxP80PlhfUs3",
        "outputId": "6c225b63-ecea-4759-81d9-1d06bd8c07f4"
      },
      "source": [
        "# こちらのセルを実行してください。\n",
        "try:\n",
        "  a = '123' + 345\n",
        "  print(a)\n",
        "except:\n",
        "  print('例外が起きています')"
      ],
      "execution_count": null,
      "outputs": [
        {
          "output_type": "stream",
          "name": "stdout",
          "text": [
            "例外が起きています\n"
          ]
        }
      ]
    },
    {
      "cell_type": "code",
      "source": [
        ""
      ],
      "metadata": {
        "id": "NBBdVAovV4SF"
      },
      "execution_count": null,
      "outputs": []
    }
  ]
}