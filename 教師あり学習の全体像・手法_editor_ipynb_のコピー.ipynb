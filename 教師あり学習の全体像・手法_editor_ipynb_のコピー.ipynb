{
  "nbformat": 4,
  "nbformat_minor": 0,
  "metadata": {
    "anaconda-cloud": {},
    "kernelspec": {
      "display_name": "Python 3",
      "language": "python",
      "name": "python3"
    },
    "language_info": {
      "codemirror_mode": {
        "name": "ipython",
        "version": 3
      },
      "file_extension": ".py",
      "mimetype": "text/x-python",
      "name": "python",
      "nbconvert_exporter": "python",
      "pygments_lexer": "ipython3",
      "version": "3.7.6"
    },
    "latex_envs": {
      "LaTeX_envs_menu_present": true,
      "autocomplete": true,
      "bibliofile": "biblio.bib",
      "cite_by": "apalike",
      "current_citInitial": 1,
      "eqLabelWithNumbers": true,
      "eqNumInitial": 1,
      "hotkeys": {
        "equation": "Ctrl-E",
        "itemize": "Ctrl-I"
      },
      "labels_anchors": false,
      "latex_user_defs": false,
      "report_style_numbering": false,
      "user_envs_cfg": false
    },
    "toc": {
      "nav_menu": {
        "height": "336px",
        "width": "252px"
      },
      "number_sections": true,
      "sideBar": true,
      "skip_h1_title": false,
      "title_cell": "Table of Contents",
      "title_sidebar": "Contents",
      "toc_cell": false,
      "toc_position": {
        "height": "calc(100% - 180px)",
        "left": "10px",
        "top": "150px",
        "width": "254px"
      },
      "toc_section_display": "block",
      "toc_window_display": true
    },
    "varInspector": {
      "cols": {
        "lenName": 16,
        "lenType": 16,
        "lenVar": 40
      },
      "kernels_config": {
        "python": {
          "delete_cmd_postfix": "",
          "delete_cmd_prefix": "del ",
          "library": "var_list.py",
          "varRefreshCmd": "print(var_dic_list())"
        },
        "r": {
          "delete_cmd_postfix": ") ",
          "delete_cmd_prefix": "rm(",
          "library": "var_list.r",
          "varRefreshCmd": "cat(var_dic_list()) "
        }
      },
      "types_to_exclude": [
        "module",
        "function",
        "builtin_function_or_method",
        "instance",
        "_Feature"
      ],
      "window_display": false
    },
    "colab": {
      "name": "教師あり学習の全体像・手法_editor.ipynb のコピー",
      "provenance": [],
      "collapsed_sections": [
        "S0-Uia5we3fZ",
        "kwoewovve3fe",
        "LXTk8vqde3fi",
        "kmzCP5Fue3fk",
        "dJI5Smrfe3f2"
      ],
      "include_colab_link": true
    }
  },
  "cells": [
    {
      "cell_type": "markdown",
      "metadata": {
        "id": "view-in-github",
        "colab_type": "text"
      },
      "source": [
        "<a href=\"https://colab.research.google.com/github/kaigitt/GoogleColab/blob/master/%E6%95%99%E5%B8%AB%E3%81%82%E3%82%8A%E5%AD%A6%E7%BF%92%E3%81%AE%E5%85%A8%E4%BD%93%E5%83%8F%E3%83%BB%E6%89%8B%E6%B3%95_editor_ipynb_%E3%81%AE%E3%82%B3%E3%83%94%E3%83%BC.ipynb\" target=\"_parent\"><img src=\"https://colab.research.google.com/assets/colab-badge.svg\" alt=\"Open In Colab\"/></a>"
      ]
    },
    {
      "cell_type": "markdown",
      "metadata": {
        "id": "uCjPmuTqe3fK"
      },
      "source": [
        "# 機械学習実装"
      ]
    },
    {
      "cell_type": "markdown",
      "metadata": {
        "id": "I0Eg9H-je3fO"
      },
      "source": [
        "1. データの特徴について確認します。（5問）\n",
        "    - 各変数のデータ型、行列数、統計量を算出し、今回扱うデータの外観を把握します。\n",
        "2. データを加工する方法について学習します。（11問）\n",
        "    - 各変数をモデルに入れる形に整えます。（特徴量生成フェーズ）\n",
        "3. 特徴量の選別方法について学習します。（10問）\n",
        "    - 各特徴量の詳細な特徴を把握し、目的変数との関連性を確認します。（特徴量評価フェーズ）\n",
        "4. 学習データと検証データに分割することについて学習します。（3問）\n",
        "    - 学習に使用したデータは検証に使用できません。モデリング前の下準備について把握します。\n",
        "5. 決定木モデルについて学習します。（分類）（19問）\n",
        "    - 決定木モデルを参考に機械学習のフローについて理解し、精度を算出することが目的です。\n",
        "6. ランダムフォレストについて学習します。（分類、回帰）（15問）\n",
        "    - ランダムフォレストモデルで精度を算出することが目的です。\n"
      ]
    },
    {
      "cell_type": "markdown",
      "metadata": {
        "id": "XpyN9l10e3fP"
      },
      "source": [
        "### 0. 事前準備"
      ]
    },
    {
      "cell_type": "markdown",
      "source": [
        "#### 0.0  次のコードを実行してください。"
      ],
      "metadata": {
        "id": "uY07LGWT-M7O"
      }
    },
    {
      "cell_type": "code",
      "source": [
        "# こちらのセルを実行してください。\n",
        "!pip install japanize-matplotlib"
      ],
      "metadata": {
        "id": "crbDt20g-Sx0",
        "colab": {
          "base_uri": "https://localhost:8080/"
        },
        "outputId": "fbe50b94-0841-4285-f3f1-1ee67278f321"
      },
      "execution_count": 1,
      "outputs": [
        {
          "output_type": "stream",
          "name": "stdout",
          "text": [
            "Collecting japanize-matplotlib\n",
            "  Downloading japanize-matplotlib-1.1.3.tar.gz (4.1 MB)\n",
            "\u001b[K     |████████████████████████████████| 4.1 MB 5.2 MB/s \n",
            "\u001b[?25hRequirement already satisfied: matplotlib in /usr/local/lib/python3.7/dist-packages (from japanize-matplotlib) (3.2.2)\n",
            "Requirement already satisfied: kiwisolver>=1.0.1 in /usr/local/lib/python3.7/dist-packages (from matplotlib->japanize-matplotlib) (1.3.2)\n",
            "Requirement already satisfied: python-dateutil>=2.1 in /usr/local/lib/python3.7/dist-packages (from matplotlib->japanize-matplotlib) (2.8.2)\n",
            "Requirement already satisfied: numpy>=1.11 in /usr/local/lib/python3.7/dist-packages (from matplotlib->japanize-matplotlib) (1.21.5)\n",
            "Requirement already satisfied: cycler>=0.10 in /usr/local/lib/python3.7/dist-packages (from matplotlib->japanize-matplotlib) (0.11.0)\n",
            "Requirement already satisfied: pyparsing!=2.0.4,!=2.1.2,!=2.1.6,>=2.0.1 in /usr/local/lib/python3.7/dist-packages (from matplotlib->japanize-matplotlib) (3.0.7)\n",
            "Requirement already satisfied: six>=1.5 in /usr/local/lib/python3.7/dist-packages (from python-dateutil>=2.1->matplotlib->japanize-matplotlib) (1.15.0)\n",
            "Building wheels for collected packages: japanize-matplotlib\n",
            "  Building wheel for japanize-matplotlib (setup.py) ... \u001b[?25l\u001b[?25hdone\n",
            "  Created wheel for japanize-matplotlib: filename=japanize_matplotlib-1.1.3-py3-none-any.whl size=4120275 sha256=70236cd0cd77ea3102469312b4e79250cf901fcbeda2dbe0ef84c905f3a23135\n",
            "  Stored in directory: /root/.cache/pip/wheels/83/97/6b/e9e0cde099cc40f972b8dd23367308f7705ae06cd6d4714658\n",
            "Successfully built japanize-matplotlib\n",
            "Installing collected packages: japanize-matplotlib\n",
            "Successfully installed japanize-matplotlib-1.1.3\n"
          ]
        }
      ]
    },
    {
      "cell_type": "markdown",
      "metadata": {
        "id": "GEfUaz47e3fQ"
      },
      "source": [
        "#### 0.1  次のモジュールを読み込んで下さい。"
      ]
    },
    {
      "cell_type": "markdown",
      "source": [
        "- numpy\n",
        "- pandas\n",
        "- matplotlib.pyplot\n",
        "- seaborn\n",
        "- japanize_matplotlib"
      ],
      "metadata": {
        "id": "EOO4SNhUrWa_"
      }
    },
    {
      "cell_type": "code",
      "metadata": {
        "id": "5vyfel2Pe3fQ"
      },
      "source": [
        "import pandas as pd\n",
        "import numpy as np\n",
        "import matplotlib.pyplot as plt\n",
        "import seaborn as sns\n",
        "import japanize_matplotlib"
      ],
      "execution_count": 2,
      "outputs": []
    },
    {
      "cell_type": "markdown",
      "metadata": {
        "id": "5Y2Y7mNZe3fR"
      },
      "source": [
        "#### 0.2  訓練データと検証データを分ける関数、精度評価を行う関数を読み込んで下さい。"
      ]
    },
    {
      "cell_type": "code",
      "metadata": {
        "id": "WzRSiSKxe3fS"
      },
      "source": [
        "from sklearn.model_selection import train_test_split # 訓練データと検証データに分ける関数\n",
        "from sklearn.metrics import confusion_matrix, accuracy_score # 混同行列, 予測正解率を求める関数"
      ],
      "execution_count": 3,
      "outputs": []
    },
    {
      "cell_type": "markdown",
      "metadata": {
        "id": "YSxDucOPe3fT"
      },
      "source": [
        "#### 0.3  次のコードを実行して、今回使用する「タイタニック」データを読み込んで下さい。"
      ]
    },
    {
      "cell_type": "code",
      "metadata": {
        "id": "ehyuaVmme3fT",
        "colab": {
          "base_uri": "https://localhost:8080/",
          "height": 537
        },
        "outputId": "e6aa01da-6050-484a-8dd1-23c23dbde3d0"
      },
      "source": [
        "# こちらのセルを実行してください。\n",
        "titanic_data = pd.read_csv(filepath_or_buffer='https://lms-assets.web-camp.io/curriculum/Python/date_set/titanic3.csv',\n",
        "                          sep=',', dtype={'pclass':'str'})\n",
        "titanic_data"
      ],
      "execution_count": 4,
      "outputs": [
        {
          "output_type": "execute_result",
          "data": {
            "text/plain": [
              "     pclass  survived                                             name  \\\n",
              "0         1         1                    Allen, Miss. Elisabeth Walton   \n",
              "1         1         1                   Allison, Master. Hudson Trevor   \n",
              "2         1         0                     Allison, Miss. Helen Loraine   \n",
              "3         1         0             Allison, Mr. Hudson Joshua Creighton   \n",
              "4         1         0  Allison, Mrs. Hudson J C (Bessie Waldo Daniels)   \n",
              "...     ...       ...                                              ...   \n",
              "1304      3         0                             Zabour, Miss. Hileni   \n",
              "1305      3         0                            Zabour, Miss. Thamine   \n",
              "1306      3         0                        Zakarian, Mr. Mapriededer   \n",
              "1307      3         0                              Zakarian, Mr. Ortin   \n",
              "1308      3         0                               Zimmerman, Mr. Leo   \n",
              "\n",
              "         sex    age  sibsp  parch  ticket      fare    cabin embarked boat  \\\n",
              "0     female  29.00      0      0   24160  211.3375       B5        S    2   \n",
              "1       male   0.92      1      2  113781  151.5500  C22 C26        S   11   \n",
              "2     female   2.00      1      2  113781  151.5500  C22 C26        S  NaN   \n",
              "3       male  30.00      1      2  113781  151.5500  C22 C26        S  NaN   \n",
              "4     female  25.00      1      2  113781  151.5500  C22 C26        S  NaN   \n",
              "...      ...    ...    ...    ...     ...       ...      ...      ...  ...   \n",
              "1304  female  14.50      1      0    2665   14.4542      NaN        C  NaN   \n",
              "1305  female    NaN      1      0    2665   14.4542      NaN        C  NaN   \n",
              "1306    male  26.50      0      0    2656    7.2250      NaN        C  NaN   \n",
              "1307    male  27.00      0      0    2670    7.2250      NaN        C  NaN   \n",
              "1308    male  29.00      0      0  315082    7.8750      NaN        S  NaN   \n",
              "\n",
              "       body                        home.dest  \n",
              "0       NaN                     St Louis, MO  \n",
              "1       NaN  Montreal, PQ / Chesterville, ON  \n",
              "2       NaN  Montreal, PQ / Chesterville, ON  \n",
              "3     135.0  Montreal, PQ / Chesterville, ON  \n",
              "4       NaN  Montreal, PQ / Chesterville, ON  \n",
              "...     ...                              ...  \n",
              "1304  328.0                              NaN  \n",
              "1305    NaN                              NaN  \n",
              "1306  304.0                              NaN  \n",
              "1307    NaN                              NaN  \n",
              "1308    NaN                              NaN  \n",
              "\n",
              "[1309 rows x 14 columns]"
            ],
            "text/html": [
              "\n",
              "  <div id=\"df-74aca13f-bd4a-48b7-9c34-07b5f2a441de\">\n",
              "    <div class=\"colab-df-container\">\n",
              "      <div>\n",
              "<style scoped>\n",
              "    .dataframe tbody tr th:only-of-type {\n",
              "        vertical-align: middle;\n",
              "    }\n",
              "\n",
              "    .dataframe tbody tr th {\n",
              "        vertical-align: top;\n",
              "    }\n",
              "\n",
              "    .dataframe thead th {\n",
              "        text-align: right;\n",
              "    }\n",
              "</style>\n",
              "<table border=\"1\" class=\"dataframe\">\n",
              "  <thead>\n",
              "    <tr style=\"text-align: right;\">\n",
              "      <th></th>\n",
              "      <th>pclass</th>\n",
              "      <th>survived</th>\n",
              "      <th>name</th>\n",
              "      <th>sex</th>\n",
              "      <th>age</th>\n",
              "      <th>sibsp</th>\n",
              "      <th>parch</th>\n",
              "      <th>ticket</th>\n",
              "      <th>fare</th>\n",
              "      <th>cabin</th>\n",
              "      <th>embarked</th>\n",
              "      <th>boat</th>\n",
              "      <th>body</th>\n",
              "      <th>home.dest</th>\n",
              "    </tr>\n",
              "  </thead>\n",
              "  <tbody>\n",
              "    <tr>\n",
              "      <th>0</th>\n",
              "      <td>1</td>\n",
              "      <td>1</td>\n",
              "      <td>Allen, Miss. Elisabeth Walton</td>\n",
              "      <td>female</td>\n",
              "      <td>29.00</td>\n",
              "      <td>0</td>\n",
              "      <td>0</td>\n",
              "      <td>24160</td>\n",
              "      <td>211.3375</td>\n",
              "      <td>B5</td>\n",
              "      <td>S</td>\n",
              "      <td>2</td>\n",
              "      <td>NaN</td>\n",
              "      <td>St Louis, MO</td>\n",
              "    </tr>\n",
              "    <tr>\n",
              "      <th>1</th>\n",
              "      <td>1</td>\n",
              "      <td>1</td>\n",
              "      <td>Allison, Master. Hudson Trevor</td>\n",
              "      <td>male</td>\n",
              "      <td>0.92</td>\n",
              "      <td>1</td>\n",
              "      <td>2</td>\n",
              "      <td>113781</td>\n",
              "      <td>151.5500</td>\n",
              "      <td>C22 C26</td>\n",
              "      <td>S</td>\n",
              "      <td>11</td>\n",
              "      <td>NaN</td>\n",
              "      <td>Montreal, PQ / Chesterville, ON</td>\n",
              "    </tr>\n",
              "    <tr>\n",
              "      <th>2</th>\n",
              "      <td>1</td>\n",
              "      <td>0</td>\n",
              "      <td>Allison, Miss. Helen Loraine</td>\n",
              "      <td>female</td>\n",
              "      <td>2.00</td>\n",
              "      <td>1</td>\n",
              "      <td>2</td>\n",
              "      <td>113781</td>\n",
              "      <td>151.5500</td>\n",
              "      <td>C22 C26</td>\n",
              "      <td>S</td>\n",
              "      <td>NaN</td>\n",
              "      <td>NaN</td>\n",
              "      <td>Montreal, PQ / Chesterville, ON</td>\n",
              "    </tr>\n",
              "    <tr>\n",
              "      <th>3</th>\n",
              "      <td>1</td>\n",
              "      <td>0</td>\n",
              "      <td>Allison, Mr. Hudson Joshua Creighton</td>\n",
              "      <td>male</td>\n",
              "      <td>30.00</td>\n",
              "      <td>1</td>\n",
              "      <td>2</td>\n",
              "      <td>113781</td>\n",
              "      <td>151.5500</td>\n",
              "      <td>C22 C26</td>\n",
              "      <td>S</td>\n",
              "      <td>NaN</td>\n",
              "      <td>135.0</td>\n",
              "      <td>Montreal, PQ / Chesterville, ON</td>\n",
              "    </tr>\n",
              "    <tr>\n",
              "      <th>4</th>\n",
              "      <td>1</td>\n",
              "      <td>0</td>\n",
              "      <td>Allison, Mrs. Hudson J C (Bessie Waldo Daniels)</td>\n",
              "      <td>female</td>\n",
              "      <td>25.00</td>\n",
              "      <td>1</td>\n",
              "      <td>2</td>\n",
              "      <td>113781</td>\n",
              "      <td>151.5500</td>\n",
              "      <td>C22 C26</td>\n",
              "      <td>S</td>\n",
              "      <td>NaN</td>\n",
              "      <td>NaN</td>\n",
              "      <td>Montreal, PQ / Chesterville, ON</td>\n",
              "    </tr>\n",
              "    <tr>\n",
              "      <th>...</th>\n",
              "      <td>...</td>\n",
              "      <td>...</td>\n",
              "      <td>...</td>\n",
              "      <td>...</td>\n",
              "      <td>...</td>\n",
              "      <td>...</td>\n",
              "      <td>...</td>\n",
              "      <td>...</td>\n",
              "      <td>...</td>\n",
              "      <td>...</td>\n",
              "      <td>...</td>\n",
              "      <td>...</td>\n",
              "      <td>...</td>\n",
              "      <td>...</td>\n",
              "    </tr>\n",
              "    <tr>\n",
              "      <th>1304</th>\n",
              "      <td>3</td>\n",
              "      <td>0</td>\n",
              "      <td>Zabour, Miss. Hileni</td>\n",
              "      <td>female</td>\n",
              "      <td>14.50</td>\n",
              "      <td>1</td>\n",
              "      <td>0</td>\n",
              "      <td>2665</td>\n",
              "      <td>14.4542</td>\n",
              "      <td>NaN</td>\n",
              "      <td>C</td>\n",
              "      <td>NaN</td>\n",
              "      <td>328.0</td>\n",
              "      <td>NaN</td>\n",
              "    </tr>\n",
              "    <tr>\n",
              "      <th>1305</th>\n",
              "      <td>3</td>\n",
              "      <td>0</td>\n",
              "      <td>Zabour, Miss. Thamine</td>\n",
              "      <td>female</td>\n",
              "      <td>NaN</td>\n",
              "      <td>1</td>\n",
              "      <td>0</td>\n",
              "      <td>2665</td>\n",
              "      <td>14.4542</td>\n",
              "      <td>NaN</td>\n",
              "      <td>C</td>\n",
              "      <td>NaN</td>\n",
              "      <td>NaN</td>\n",
              "      <td>NaN</td>\n",
              "    </tr>\n",
              "    <tr>\n",
              "      <th>1306</th>\n",
              "      <td>3</td>\n",
              "      <td>0</td>\n",
              "      <td>Zakarian, Mr. Mapriededer</td>\n",
              "      <td>male</td>\n",
              "      <td>26.50</td>\n",
              "      <td>0</td>\n",
              "      <td>0</td>\n",
              "      <td>2656</td>\n",
              "      <td>7.2250</td>\n",
              "      <td>NaN</td>\n",
              "      <td>C</td>\n",
              "      <td>NaN</td>\n",
              "      <td>304.0</td>\n",
              "      <td>NaN</td>\n",
              "    </tr>\n",
              "    <tr>\n",
              "      <th>1307</th>\n",
              "      <td>3</td>\n",
              "      <td>0</td>\n",
              "      <td>Zakarian, Mr. Ortin</td>\n",
              "      <td>male</td>\n",
              "      <td>27.00</td>\n",
              "      <td>0</td>\n",
              "      <td>0</td>\n",
              "      <td>2670</td>\n",
              "      <td>7.2250</td>\n",
              "      <td>NaN</td>\n",
              "      <td>C</td>\n",
              "      <td>NaN</td>\n",
              "      <td>NaN</td>\n",
              "      <td>NaN</td>\n",
              "    </tr>\n",
              "    <tr>\n",
              "      <th>1308</th>\n",
              "      <td>3</td>\n",
              "      <td>0</td>\n",
              "      <td>Zimmerman, Mr. Leo</td>\n",
              "      <td>male</td>\n",
              "      <td>29.00</td>\n",
              "      <td>0</td>\n",
              "      <td>0</td>\n",
              "      <td>315082</td>\n",
              "      <td>7.8750</td>\n",
              "      <td>NaN</td>\n",
              "      <td>S</td>\n",
              "      <td>NaN</td>\n",
              "      <td>NaN</td>\n",
              "      <td>NaN</td>\n",
              "    </tr>\n",
              "  </tbody>\n",
              "</table>\n",
              "<p>1309 rows × 14 columns</p>\n",
              "</div>\n",
              "      <button class=\"colab-df-convert\" onclick=\"convertToInteractive('df-74aca13f-bd4a-48b7-9c34-07b5f2a441de')\"\n",
              "              title=\"Convert this dataframe to an interactive table.\"\n",
              "              style=\"display:none;\">\n",
              "        \n",
              "  <svg xmlns=\"http://www.w3.org/2000/svg\" height=\"24px\"viewBox=\"0 0 24 24\"\n",
              "       width=\"24px\">\n",
              "    <path d=\"M0 0h24v24H0V0z\" fill=\"none\"/>\n",
              "    <path d=\"M18.56 5.44l.94 2.06.94-2.06 2.06-.94-2.06-.94-.94-2.06-.94 2.06-2.06.94zm-11 1L8.5 8.5l.94-2.06 2.06-.94-2.06-.94L8.5 2.5l-.94 2.06-2.06.94zm10 10l.94 2.06.94-2.06 2.06-.94-2.06-.94-.94-2.06-.94 2.06-2.06.94z\"/><path d=\"M17.41 7.96l-1.37-1.37c-.4-.4-.92-.59-1.43-.59-.52 0-1.04.2-1.43.59L10.3 9.45l-7.72 7.72c-.78.78-.78 2.05 0 2.83L4 21.41c.39.39.9.59 1.41.59.51 0 1.02-.2 1.41-.59l7.78-7.78 2.81-2.81c.8-.78.8-2.07 0-2.86zM5.41 20L4 18.59l7.72-7.72 1.47 1.35L5.41 20z\"/>\n",
              "  </svg>\n",
              "      </button>\n",
              "      \n",
              "  <style>\n",
              "    .colab-df-container {\n",
              "      display:flex;\n",
              "      flex-wrap:wrap;\n",
              "      gap: 12px;\n",
              "    }\n",
              "\n",
              "    .colab-df-convert {\n",
              "      background-color: #E8F0FE;\n",
              "      border: none;\n",
              "      border-radius: 50%;\n",
              "      cursor: pointer;\n",
              "      display: none;\n",
              "      fill: #1967D2;\n",
              "      height: 32px;\n",
              "      padding: 0 0 0 0;\n",
              "      width: 32px;\n",
              "    }\n",
              "\n",
              "    .colab-df-convert:hover {\n",
              "      background-color: #E2EBFA;\n",
              "      box-shadow: 0px 1px 2px rgba(60, 64, 67, 0.3), 0px 1px 3px 1px rgba(60, 64, 67, 0.15);\n",
              "      fill: #174EA6;\n",
              "    }\n",
              "\n",
              "    [theme=dark] .colab-df-convert {\n",
              "      background-color: #3B4455;\n",
              "      fill: #D2E3FC;\n",
              "    }\n",
              "\n",
              "    [theme=dark] .colab-df-convert:hover {\n",
              "      background-color: #434B5C;\n",
              "      box-shadow: 0px 1px 3px 1px rgba(0, 0, 0, 0.15);\n",
              "      filter: drop-shadow(0px 1px 2px rgba(0, 0, 0, 0.3));\n",
              "      fill: #FFFFFF;\n",
              "    }\n",
              "  </style>\n",
              "\n",
              "      <script>\n",
              "        const buttonEl =\n",
              "          document.querySelector('#df-74aca13f-bd4a-48b7-9c34-07b5f2a441de button.colab-df-convert');\n",
              "        buttonEl.style.display =\n",
              "          google.colab.kernel.accessAllowed ? 'block' : 'none';\n",
              "\n",
              "        async function convertToInteractive(key) {\n",
              "          const element = document.querySelector('#df-74aca13f-bd4a-48b7-9c34-07b5f2a441de');\n",
              "          const dataTable =\n",
              "            await google.colab.kernel.invokeFunction('convertToInteractive',\n",
              "                                                     [key], {});\n",
              "          if (!dataTable) return;\n",
              "\n",
              "          const docLinkHtml = 'Like what you see? Visit the ' +\n",
              "            '<a target=\"_blank\" href=https://colab.research.google.com/notebooks/data_table.ipynb>data table notebook</a>'\n",
              "            + ' to learn more about interactive tables.';\n",
              "          element.innerHTML = '';\n",
              "          dataTable['output_type'] = 'display_data';\n",
              "          await google.colab.output.renderOutput(dataTable, element);\n",
              "          const docLink = document.createElement('div');\n",
              "          docLink.innerHTML = docLinkHtml;\n",
              "          element.appendChild(docLink);\n",
              "        }\n",
              "      </script>\n",
              "    </div>\n",
              "  </div>\n",
              "  "
            ]
          },
          "metadata": {},
          "execution_count": 4
        }
      ]
    },
    {
      "cell_type": "markdown",
      "metadata": {
        "id": "5lgLFEH0e3fU"
      },
      "source": [
        "#### 0.4  今回使用する「タイタニック」データは以下のようなデータになっています。"
      ]
    },
    {
      "cell_type": "markdown",
      "metadata": {
        "id": "Vla4K3kNe3fU"
      },
      "source": [
        "\n",
        "- Pclass: 　乗客の階級、1が一番位が高い\n",
        "- Survived: 　生存結果 (1: 生存, 0: 死亡)　\n",
        "- Name: 　乗客の名前\n",
        "- Sex:　 性別\n",
        "- Age: 　年齢\n",
        "- SibSp: 　兄弟、配偶者の数\n",
        "- Parch: 　両親、子供の数\n",
        "- Ticket: 　チケット番号\n",
        "- Fare: 　乗船料金\n",
        "- Cabin: 　部屋番号\n",
        "- Embarked: 　乗船した港　Cherbourg、Queenstown、Southamptonの3種類\n",
        "- boat: 　乗ったボート（生きていた場合）\n",
        "- body: 　身体識別番号\n",
        "- home.dest: 　目的地"
      ]
    },
    {
      "cell_type": "markdown",
      "metadata": {
        "id": "7aEZh_s9e3fV"
      },
      "source": [
        "### 1. データの特徴について確認します。（6問）"
      ]
    },
    {
      "cell_type": "markdown",
      "metadata": {
        "id": "XNc94Rd2e3fV"
      },
      "source": [
        "#### 1.1 レコード数を確認してください。"
      ]
    },
    {
      "cell_type": "code",
      "metadata": {
        "id": "ZUsCK5wee3fV",
        "colab": {
          "base_uri": "https://localhost:8080/"
        },
        "outputId": "7001d823-dfe8-4467-c36d-ab35b7933b6d"
      },
      "source": [
        "len(titanic_data)"
      ],
      "execution_count": 5,
      "outputs": [
        {
          "output_type": "execute_result",
          "data": {
            "text/plain": [
              "1309"
            ]
          },
          "metadata": {},
          "execution_count": 5
        }
      ]
    },
    {
      "cell_type": "markdown",
      "metadata": {
        "id": "S53saetPe3fW"
      },
      "source": [
        "#### 1.2 カラムの数を確認してください。"
      ]
    },
    {
      "cell_type": "code",
      "metadata": {
        "id": "dXezh5eXe3fX",
        "colab": {
          "base_uri": "https://localhost:8080/"
        },
        "outputId": "84768bd4-64b5-47f4-f6c8-fb14a3830eb6"
      },
      "source": [
        "len(titanic_data.columns)"
      ],
      "execution_count": 6,
      "outputs": [
        {
          "output_type": "execute_result",
          "data": {
            "text/plain": [
              "14"
            ]
          },
          "metadata": {},
          "execution_count": 6
        }
      ]
    },
    {
      "cell_type": "code",
      "source": [
        ""
      ],
      "metadata": {
        "id": "W2bV6xR_Yh0g"
      },
      "execution_count": 6,
      "outputs": []
    },
    {
      "cell_type": "markdown",
      "metadata": {
        "id": "1aDGq4ANe3fX"
      },
      "source": [
        "#### 1.3 上から5行データを確認してください。"
      ]
    },
    {
      "cell_type": "code",
      "metadata": {
        "id": "hgFC1VbQe3fX",
        "colab": {
          "base_uri": "https://localhost:8080/",
          "height": 319
        },
        "outputId": "84e9ed84-3c40-4ca5-eabc-574be486611e"
      },
      "source": [
        "titanic_data.head()"
      ],
      "execution_count": 7,
      "outputs": [
        {
          "output_type": "execute_result",
          "data": {
            "text/plain": [
              "  pclass  survived                                             name     sex  \\\n",
              "0      1         1                    Allen, Miss. Elisabeth Walton  female   \n",
              "1      1         1                   Allison, Master. Hudson Trevor    male   \n",
              "2      1         0                     Allison, Miss. Helen Loraine  female   \n",
              "3      1         0             Allison, Mr. Hudson Joshua Creighton    male   \n",
              "4      1         0  Allison, Mrs. Hudson J C (Bessie Waldo Daniels)  female   \n",
              "\n",
              "     age  sibsp  parch  ticket      fare    cabin embarked boat   body  \\\n",
              "0  29.00      0      0   24160  211.3375       B5        S    2    NaN   \n",
              "1   0.92      1      2  113781  151.5500  C22 C26        S   11    NaN   \n",
              "2   2.00      1      2  113781  151.5500  C22 C26        S  NaN    NaN   \n",
              "3  30.00      1      2  113781  151.5500  C22 C26        S  NaN  135.0   \n",
              "4  25.00      1      2  113781  151.5500  C22 C26        S  NaN    NaN   \n",
              "\n",
              "                         home.dest  \n",
              "0                     St Louis, MO  \n",
              "1  Montreal, PQ / Chesterville, ON  \n",
              "2  Montreal, PQ / Chesterville, ON  \n",
              "3  Montreal, PQ / Chesterville, ON  \n",
              "4  Montreal, PQ / Chesterville, ON  "
            ],
            "text/html": [
              "\n",
              "  <div id=\"df-d67bf191-ddef-41c2-b5f4-ff2bcc200a20\">\n",
              "    <div class=\"colab-df-container\">\n",
              "      <div>\n",
              "<style scoped>\n",
              "    .dataframe tbody tr th:only-of-type {\n",
              "        vertical-align: middle;\n",
              "    }\n",
              "\n",
              "    .dataframe tbody tr th {\n",
              "        vertical-align: top;\n",
              "    }\n",
              "\n",
              "    .dataframe thead th {\n",
              "        text-align: right;\n",
              "    }\n",
              "</style>\n",
              "<table border=\"1\" class=\"dataframe\">\n",
              "  <thead>\n",
              "    <tr style=\"text-align: right;\">\n",
              "      <th></th>\n",
              "      <th>pclass</th>\n",
              "      <th>survived</th>\n",
              "      <th>name</th>\n",
              "      <th>sex</th>\n",
              "      <th>age</th>\n",
              "      <th>sibsp</th>\n",
              "      <th>parch</th>\n",
              "      <th>ticket</th>\n",
              "      <th>fare</th>\n",
              "      <th>cabin</th>\n",
              "      <th>embarked</th>\n",
              "      <th>boat</th>\n",
              "      <th>body</th>\n",
              "      <th>home.dest</th>\n",
              "    </tr>\n",
              "  </thead>\n",
              "  <tbody>\n",
              "    <tr>\n",
              "      <th>0</th>\n",
              "      <td>1</td>\n",
              "      <td>1</td>\n",
              "      <td>Allen, Miss. Elisabeth Walton</td>\n",
              "      <td>female</td>\n",
              "      <td>29.00</td>\n",
              "      <td>0</td>\n",
              "      <td>0</td>\n",
              "      <td>24160</td>\n",
              "      <td>211.3375</td>\n",
              "      <td>B5</td>\n",
              "      <td>S</td>\n",
              "      <td>2</td>\n",
              "      <td>NaN</td>\n",
              "      <td>St Louis, MO</td>\n",
              "    </tr>\n",
              "    <tr>\n",
              "      <th>1</th>\n",
              "      <td>1</td>\n",
              "      <td>1</td>\n",
              "      <td>Allison, Master. Hudson Trevor</td>\n",
              "      <td>male</td>\n",
              "      <td>0.92</td>\n",
              "      <td>1</td>\n",
              "      <td>2</td>\n",
              "      <td>113781</td>\n",
              "      <td>151.5500</td>\n",
              "      <td>C22 C26</td>\n",
              "      <td>S</td>\n",
              "      <td>11</td>\n",
              "      <td>NaN</td>\n",
              "      <td>Montreal, PQ / Chesterville, ON</td>\n",
              "    </tr>\n",
              "    <tr>\n",
              "      <th>2</th>\n",
              "      <td>1</td>\n",
              "      <td>0</td>\n",
              "      <td>Allison, Miss. Helen Loraine</td>\n",
              "      <td>female</td>\n",
              "      <td>2.00</td>\n",
              "      <td>1</td>\n",
              "      <td>2</td>\n",
              "      <td>113781</td>\n",
              "      <td>151.5500</td>\n",
              "      <td>C22 C26</td>\n",
              "      <td>S</td>\n",
              "      <td>NaN</td>\n",
              "      <td>NaN</td>\n",
              "      <td>Montreal, PQ / Chesterville, ON</td>\n",
              "    </tr>\n",
              "    <tr>\n",
              "      <th>3</th>\n",
              "      <td>1</td>\n",
              "      <td>0</td>\n",
              "      <td>Allison, Mr. Hudson Joshua Creighton</td>\n",
              "      <td>male</td>\n",
              "      <td>30.00</td>\n",
              "      <td>1</td>\n",
              "      <td>2</td>\n",
              "      <td>113781</td>\n",
              "      <td>151.5500</td>\n",
              "      <td>C22 C26</td>\n",
              "      <td>S</td>\n",
              "      <td>NaN</td>\n",
              "      <td>135.0</td>\n",
              "      <td>Montreal, PQ / Chesterville, ON</td>\n",
              "    </tr>\n",
              "    <tr>\n",
              "      <th>4</th>\n",
              "      <td>1</td>\n",
              "      <td>0</td>\n",
              "      <td>Allison, Mrs. Hudson J C (Bessie Waldo Daniels)</td>\n",
              "      <td>female</td>\n",
              "      <td>25.00</td>\n",
              "      <td>1</td>\n",
              "      <td>2</td>\n",
              "      <td>113781</td>\n",
              "      <td>151.5500</td>\n",
              "      <td>C22 C26</td>\n",
              "      <td>S</td>\n",
              "      <td>NaN</td>\n",
              "      <td>NaN</td>\n",
              "      <td>Montreal, PQ / Chesterville, ON</td>\n",
              "    </tr>\n",
              "  </tbody>\n",
              "</table>\n",
              "</div>\n",
              "      <button class=\"colab-df-convert\" onclick=\"convertToInteractive('df-d67bf191-ddef-41c2-b5f4-ff2bcc200a20')\"\n",
              "              title=\"Convert this dataframe to an interactive table.\"\n",
              "              style=\"display:none;\">\n",
              "        \n",
              "  <svg xmlns=\"http://www.w3.org/2000/svg\" height=\"24px\"viewBox=\"0 0 24 24\"\n",
              "       width=\"24px\">\n",
              "    <path d=\"M0 0h24v24H0V0z\" fill=\"none\"/>\n",
              "    <path d=\"M18.56 5.44l.94 2.06.94-2.06 2.06-.94-2.06-.94-.94-2.06-.94 2.06-2.06.94zm-11 1L8.5 8.5l.94-2.06 2.06-.94-2.06-.94L8.5 2.5l-.94 2.06-2.06.94zm10 10l.94 2.06.94-2.06 2.06-.94-2.06-.94-.94-2.06-.94 2.06-2.06.94z\"/><path d=\"M17.41 7.96l-1.37-1.37c-.4-.4-.92-.59-1.43-.59-.52 0-1.04.2-1.43.59L10.3 9.45l-7.72 7.72c-.78.78-.78 2.05 0 2.83L4 21.41c.39.39.9.59 1.41.59.51 0 1.02-.2 1.41-.59l7.78-7.78 2.81-2.81c.8-.78.8-2.07 0-2.86zM5.41 20L4 18.59l7.72-7.72 1.47 1.35L5.41 20z\"/>\n",
              "  </svg>\n",
              "      </button>\n",
              "      \n",
              "  <style>\n",
              "    .colab-df-container {\n",
              "      display:flex;\n",
              "      flex-wrap:wrap;\n",
              "      gap: 12px;\n",
              "    }\n",
              "\n",
              "    .colab-df-convert {\n",
              "      background-color: #E8F0FE;\n",
              "      border: none;\n",
              "      border-radius: 50%;\n",
              "      cursor: pointer;\n",
              "      display: none;\n",
              "      fill: #1967D2;\n",
              "      height: 32px;\n",
              "      padding: 0 0 0 0;\n",
              "      width: 32px;\n",
              "    }\n",
              "\n",
              "    .colab-df-convert:hover {\n",
              "      background-color: #E2EBFA;\n",
              "      box-shadow: 0px 1px 2px rgba(60, 64, 67, 0.3), 0px 1px 3px 1px rgba(60, 64, 67, 0.15);\n",
              "      fill: #174EA6;\n",
              "    }\n",
              "\n",
              "    [theme=dark] .colab-df-convert {\n",
              "      background-color: #3B4455;\n",
              "      fill: #D2E3FC;\n",
              "    }\n",
              "\n",
              "    [theme=dark] .colab-df-convert:hover {\n",
              "      background-color: #434B5C;\n",
              "      box-shadow: 0px 1px 3px 1px rgba(0, 0, 0, 0.15);\n",
              "      filter: drop-shadow(0px 1px 2px rgba(0, 0, 0, 0.3));\n",
              "      fill: #FFFFFF;\n",
              "    }\n",
              "  </style>\n",
              "\n",
              "      <script>\n",
              "        const buttonEl =\n",
              "          document.querySelector('#df-d67bf191-ddef-41c2-b5f4-ff2bcc200a20 button.colab-df-convert');\n",
              "        buttonEl.style.display =\n",
              "          google.colab.kernel.accessAllowed ? 'block' : 'none';\n",
              "\n",
              "        async function convertToInteractive(key) {\n",
              "          const element = document.querySelector('#df-d67bf191-ddef-41c2-b5f4-ff2bcc200a20');\n",
              "          const dataTable =\n",
              "            await google.colab.kernel.invokeFunction('convertToInteractive',\n",
              "                                                     [key], {});\n",
              "          if (!dataTable) return;\n",
              "\n",
              "          const docLinkHtml = 'Like what you see? Visit the ' +\n",
              "            '<a target=\"_blank\" href=https://colab.research.google.com/notebooks/data_table.ipynb>data table notebook</a>'\n",
              "            + ' to learn more about interactive tables.';\n",
              "          element.innerHTML = '';\n",
              "          dataTable['output_type'] = 'display_data';\n",
              "          await google.colab.output.renderOutput(dataTable, element);\n",
              "          const docLink = document.createElement('div');\n",
              "          docLink.innerHTML = docLinkHtml;\n",
              "          element.appendChild(docLink);\n",
              "        }\n",
              "      </script>\n",
              "    </div>\n",
              "  </div>\n",
              "  "
            ]
          },
          "metadata": {},
          "execution_count": 7
        }
      ]
    },
    {
      "cell_type": "markdown",
      "metadata": {
        "id": "SxlC2b-_e3fY"
      },
      "source": [
        "#### 1.4 次のコードを実行することで、各列のデータ型を確認してください。"
      ]
    },
    {
      "cell_type": "code",
      "metadata": {
        "id": "Z6Cucbcle3fY",
        "colab": {
          "base_uri": "https://localhost:8080/"
        },
        "outputId": "f857613c-14e2-4342-aa22-e82fc8e85f69"
      },
      "source": [
        "# こちらのセルを実行してください。\n",
        "titanic_data.dtypes"
      ],
      "execution_count": 8,
      "outputs": [
        {
          "output_type": "execute_result",
          "data": {
            "text/plain": [
              "pclass        object\n",
              "survived       int64\n",
              "name          object\n",
              "sex           object\n",
              "age          float64\n",
              "sibsp          int64\n",
              "parch          int64\n",
              "ticket        object\n",
              "fare         float64\n",
              "cabin         object\n",
              "embarked      object\n",
              "boat          object\n",
              "body         float64\n",
              "home.dest     object\n",
              "dtype: object"
            ]
          },
          "metadata": {},
          "execution_count": 8
        }
      ]
    },
    {
      "cell_type": "markdown",
      "source": [
        "　これで、各列のデータ型が表示されました。\n",
        "それぞれ\n",
        "- object(文字列のデータ)\n",
        "- int64(整数型のデータ)\n",
        "- float64(実数型のデータ)\n",
        "\n",
        "となっています。\n"
      ],
      "metadata": {
        "id": "31NgODX_fRKn"
      }
    },
    {
      "cell_type": "markdown",
      "metadata": {
        "id": "JDeovKhhe3fY"
      },
      "source": [
        "#### 1.5 各カラムの統計量を算出してください。"
      ]
    },
    {
      "cell_type": "code",
      "metadata": {
        "id": "vwDRfcQre3fZ",
        "colab": {
          "base_uri": "https://localhost:8080/",
          "height": 300
        },
        "outputId": "30c1fa2f-8478-402f-feb2-a1bf900b9666"
      },
      "source": [
        "titanic_data.describe().round()"
      ],
      "execution_count": 9,
      "outputs": [
        {
          "output_type": "execute_result",
          "data": {
            "text/plain": [
              "       survived     age   sibsp   parch    fare   body\n",
              "count    1309.0  1046.0  1309.0  1309.0  1308.0  121.0\n",
              "mean        0.0    30.0     0.0     0.0    33.0  161.0\n",
              "std         0.0    14.0     1.0     1.0    52.0   98.0\n",
              "min         0.0     0.0     0.0     0.0     0.0    1.0\n",
              "25%         0.0    21.0     0.0     0.0     8.0   72.0\n",
              "50%         0.0    28.0     0.0     0.0    14.0  155.0\n",
              "75%         1.0    39.0     1.0     0.0    31.0  256.0\n",
              "max         1.0    80.0     8.0     9.0   512.0  328.0"
            ],
            "text/html": [
              "\n",
              "  <div id=\"df-2df390a1-ee89-41dd-b222-b5f202633c0a\">\n",
              "    <div class=\"colab-df-container\">\n",
              "      <div>\n",
              "<style scoped>\n",
              "    .dataframe tbody tr th:only-of-type {\n",
              "        vertical-align: middle;\n",
              "    }\n",
              "\n",
              "    .dataframe tbody tr th {\n",
              "        vertical-align: top;\n",
              "    }\n",
              "\n",
              "    .dataframe thead th {\n",
              "        text-align: right;\n",
              "    }\n",
              "</style>\n",
              "<table border=\"1\" class=\"dataframe\">\n",
              "  <thead>\n",
              "    <tr style=\"text-align: right;\">\n",
              "      <th></th>\n",
              "      <th>survived</th>\n",
              "      <th>age</th>\n",
              "      <th>sibsp</th>\n",
              "      <th>parch</th>\n",
              "      <th>fare</th>\n",
              "      <th>body</th>\n",
              "    </tr>\n",
              "  </thead>\n",
              "  <tbody>\n",
              "    <tr>\n",
              "      <th>count</th>\n",
              "      <td>1309.0</td>\n",
              "      <td>1046.0</td>\n",
              "      <td>1309.0</td>\n",
              "      <td>1309.0</td>\n",
              "      <td>1308.0</td>\n",
              "      <td>121.0</td>\n",
              "    </tr>\n",
              "    <tr>\n",
              "      <th>mean</th>\n",
              "      <td>0.0</td>\n",
              "      <td>30.0</td>\n",
              "      <td>0.0</td>\n",
              "      <td>0.0</td>\n",
              "      <td>33.0</td>\n",
              "      <td>161.0</td>\n",
              "    </tr>\n",
              "    <tr>\n",
              "      <th>std</th>\n",
              "      <td>0.0</td>\n",
              "      <td>14.0</td>\n",
              "      <td>1.0</td>\n",
              "      <td>1.0</td>\n",
              "      <td>52.0</td>\n",
              "      <td>98.0</td>\n",
              "    </tr>\n",
              "    <tr>\n",
              "      <th>min</th>\n",
              "      <td>0.0</td>\n",
              "      <td>0.0</td>\n",
              "      <td>0.0</td>\n",
              "      <td>0.0</td>\n",
              "      <td>0.0</td>\n",
              "      <td>1.0</td>\n",
              "    </tr>\n",
              "    <tr>\n",
              "      <th>25%</th>\n",
              "      <td>0.0</td>\n",
              "      <td>21.0</td>\n",
              "      <td>0.0</td>\n",
              "      <td>0.0</td>\n",
              "      <td>8.0</td>\n",
              "      <td>72.0</td>\n",
              "    </tr>\n",
              "    <tr>\n",
              "      <th>50%</th>\n",
              "      <td>0.0</td>\n",
              "      <td>28.0</td>\n",
              "      <td>0.0</td>\n",
              "      <td>0.0</td>\n",
              "      <td>14.0</td>\n",
              "      <td>155.0</td>\n",
              "    </tr>\n",
              "    <tr>\n",
              "      <th>75%</th>\n",
              "      <td>1.0</td>\n",
              "      <td>39.0</td>\n",
              "      <td>1.0</td>\n",
              "      <td>0.0</td>\n",
              "      <td>31.0</td>\n",
              "      <td>256.0</td>\n",
              "    </tr>\n",
              "    <tr>\n",
              "      <th>max</th>\n",
              "      <td>1.0</td>\n",
              "      <td>80.0</td>\n",
              "      <td>8.0</td>\n",
              "      <td>9.0</td>\n",
              "      <td>512.0</td>\n",
              "      <td>328.0</td>\n",
              "    </tr>\n",
              "  </tbody>\n",
              "</table>\n",
              "</div>\n",
              "      <button class=\"colab-df-convert\" onclick=\"convertToInteractive('df-2df390a1-ee89-41dd-b222-b5f202633c0a')\"\n",
              "              title=\"Convert this dataframe to an interactive table.\"\n",
              "              style=\"display:none;\">\n",
              "        \n",
              "  <svg xmlns=\"http://www.w3.org/2000/svg\" height=\"24px\"viewBox=\"0 0 24 24\"\n",
              "       width=\"24px\">\n",
              "    <path d=\"M0 0h24v24H0V0z\" fill=\"none\"/>\n",
              "    <path d=\"M18.56 5.44l.94 2.06.94-2.06 2.06-.94-2.06-.94-.94-2.06-.94 2.06-2.06.94zm-11 1L8.5 8.5l.94-2.06 2.06-.94-2.06-.94L8.5 2.5l-.94 2.06-2.06.94zm10 10l.94 2.06.94-2.06 2.06-.94-2.06-.94-.94-2.06-.94 2.06-2.06.94z\"/><path d=\"M17.41 7.96l-1.37-1.37c-.4-.4-.92-.59-1.43-.59-.52 0-1.04.2-1.43.59L10.3 9.45l-7.72 7.72c-.78.78-.78 2.05 0 2.83L4 21.41c.39.39.9.59 1.41.59.51 0 1.02-.2 1.41-.59l7.78-7.78 2.81-2.81c.8-.78.8-2.07 0-2.86zM5.41 20L4 18.59l7.72-7.72 1.47 1.35L5.41 20z\"/>\n",
              "  </svg>\n",
              "      </button>\n",
              "      \n",
              "  <style>\n",
              "    .colab-df-container {\n",
              "      display:flex;\n",
              "      flex-wrap:wrap;\n",
              "      gap: 12px;\n",
              "    }\n",
              "\n",
              "    .colab-df-convert {\n",
              "      background-color: #E8F0FE;\n",
              "      border: none;\n",
              "      border-radius: 50%;\n",
              "      cursor: pointer;\n",
              "      display: none;\n",
              "      fill: #1967D2;\n",
              "      height: 32px;\n",
              "      padding: 0 0 0 0;\n",
              "      width: 32px;\n",
              "    }\n",
              "\n",
              "    .colab-df-convert:hover {\n",
              "      background-color: #E2EBFA;\n",
              "      box-shadow: 0px 1px 2px rgba(60, 64, 67, 0.3), 0px 1px 3px 1px rgba(60, 64, 67, 0.15);\n",
              "      fill: #174EA6;\n",
              "    }\n",
              "\n",
              "    [theme=dark] .colab-df-convert {\n",
              "      background-color: #3B4455;\n",
              "      fill: #D2E3FC;\n",
              "    }\n",
              "\n",
              "    [theme=dark] .colab-df-convert:hover {\n",
              "      background-color: #434B5C;\n",
              "      box-shadow: 0px 1px 3px 1px rgba(0, 0, 0, 0.15);\n",
              "      filter: drop-shadow(0px 1px 2px rgba(0, 0, 0, 0.3));\n",
              "      fill: #FFFFFF;\n",
              "    }\n",
              "  </style>\n",
              "\n",
              "      <script>\n",
              "        const buttonEl =\n",
              "          document.querySelector('#df-2df390a1-ee89-41dd-b222-b5f202633c0a button.colab-df-convert');\n",
              "        buttonEl.style.display =\n",
              "          google.colab.kernel.accessAllowed ? 'block' : 'none';\n",
              "\n",
              "        async function convertToInteractive(key) {\n",
              "          const element = document.querySelector('#df-2df390a1-ee89-41dd-b222-b5f202633c0a');\n",
              "          const dataTable =\n",
              "            await google.colab.kernel.invokeFunction('convertToInteractive',\n",
              "                                                     [key], {});\n",
              "          if (!dataTable) return;\n",
              "\n",
              "          const docLinkHtml = 'Like what you see? Visit the ' +\n",
              "            '<a target=\"_blank\" href=https://colab.research.google.com/notebooks/data_table.ipynb>data table notebook</a>'\n",
              "            + ' to learn more about interactive tables.';\n",
              "          element.innerHTML = '';\n",
              "          dataTable['output_type'] = 'display_data';\n",
              "          await google.colab.output.renderOutput(dataTable, element);\n",
              "          const docLink = document.createElement('div');\n",
              "          docLink.innerHTML = docLinkHtml;\n",
              "          element.appendChild(docLink);\n",
              "        }\n",
              "      </script>\n",
              "    </div>\n",
              "  </div>\n",
              "  "
            ]
          },
          "metadata": {},
          "execution_count": 9
        }
      ]
    },
    {
      "cell_type": "markdown",
      "metadata": {
        "id": "-6EWOIyee3fZ"
      },
      "source": [
        "### 2.データを加工する方法について学習します。（11問）"
      ]
    },
    {
      "cell_type": "markdown",
      "metadata": {
        "id": "S0-Uia5we3fZ"
      },
      "source": [
        "#### モデルには数値データしか扱えません。また欠損値があると扱えないモデルも存在します。このステップではデータ加工し、モデルに入れる特徴量を作成するまでのステップを学習します。※本来の機械学習においては一番大事なフェーズです。今回は基本的な前処理方法を学習しますが、「実態のデータを再現するような加工処理を施す」ことが大切です。"
      ]
    },
    {
      "cell_type": "markdown",
      "metadata": {
        "id": "s7993Z8Pe3fa"
      },
      "source": [
        "#### 2.1 object型のデータを削除し、削除されていることを確認してください。"
      ]
    },
    {
      "cell_type": "code",
      "metadata": {
        "scrolled": true,
        "id": "0rpfQ0_Fe3fa",
        "colab": {
          "base_uri": "https://localhost:8080/",
          "height": 423
        },
        "outputId": "9ad6afc2-170e-4d9e-c07f-7256512311e0"
      },
      "source": [
        "titanic_data_except_object = titanic_data[['survived', 'age', 'sibsp', 'parch', 'fare', 'body']].copy()\n",
        "titanic_data_except_object"
      ],
      "execution_count": 10,
      "outputs": [
        {
          "output_type": "execute_result",
          "data": {
            "text/plain": [
              "      survived    age  sibsp  parch      fare   body\n",
              "0            1  29.00      0      0  211.3375    NaN\n",
              "1            1   0.92      1      2  151.5500    NaN\n",
              "2            0   2.00      1      2  151.5500    NaN\n",
              "3            0  30.00      1      2  151.5500  135.0\n",
              "4            0  25.00      1      2  151.5500    NaN\n",
              "...        ...    ...    ...    ...       ...    ...\n",
              "1304         0  14.50      1      0   14.4542  328.0\n",
              "1305         0    NaN      1      0   14.4542    NaN\n",
              "1306         0  26.50      0      0    7.2250  304.0\n",
              "1307         0  27.00      0      0    7.2250    NaN\n",
              "1308         0  29.00      0      0    7.8750    NaN\n",
              "\n",
              "[1309 rows x 6 columns]"
            ],
            "text/html": [
              "\n",
              "  <div id=\"df-33a66bb9-13ed-4bd6-af1f-4e92d25ff0d8\">\n",
              "    <div class=\"colab-df-container\">\n",
              "      <div>\n",
              "<style scoped>\n",
              "    .dataframe tbody tr th:only-of-type {\n",
              "        vertical-align: middle;\n",
              "    }\n",
              "\n",
              "    .dataframe tbody tr th {\n",
              "        vertical-align: top;\n",
              "    }\n",
              "\n",
              "    .dataframe thead th {\n",
              "        text-align: right;\n",
              "    }\n",
              "</style>\n",
              "<table border=\"1\" class=\"dataframe\">\n",
              "  <thead>\n",
              "    <tr style=\"text-align: right;\">\n",
              "      <th></th>\n",
              "      <th>survived</th>\n",
              "      <th>age</th>\n",
              "      <th>sibsp</th>\n",
              "      <th>parch</th>\n",
              "      <th>fare</th>\n",
              "      <th>body</th>\n",
              "    </tr>\n",
              "  </thead>\n",
              "  <tbody>\n",
              "    <tr>\n",
              "      <th>0</th>\n",
              "      <td>1</td>\n",
              "      <td>29.00</td>\n",
              "      <td>0</td>\n",
              "      <td>0</td>\n",
              "      <td>211.3375</td>\n",
              "      <td>NaN</td>\n",
              "    </tr>\n",
              "    <tr>\n",
              "      <th>1</th>\n",
              "      <td>1</td>\n",
              "      <td>0.92</td>\n",
              "      <td>1</td>\n",
              "      <td>2</td>\n",
              "      <td>151.5500</td>\n",
              "      <td>NaN</td>\n",
              "    </tr>\n",
              "    <tr>\n",
              "      <th>2</th>\n",
              "      <td>0</td>\n",
              "      <td>2.00</td>\n",
              "      <td>1</td>\n",
              "      <td>2</td>\n",
              "      <td>151.5500</td>\n",
              "      <td>NaN</td>\n",
              "    </tr>\n",
              "    <tr>\n",
              "      <th>3</th>\n",
              "      <td>0</td>\n",
              "      <td>30.00</td>\n",
              "      <td>1</td>\n",
              "      <td>2</td>\n",
              "      <td>151.5500</td>\n",
              "      <td>135.0</td>\n",
              "    </tr>\n",
              "    <tr>\n",
              "      <th>4</th>\n",
              "      <td>0</td>\n",
              "      <td>25.00</td>\n",
              "      <td>1</td>\n",
              "      <td>2</td>\n",
              "      <td>151.5500</td>\n",
              "      <td>NaN</td>\n",
              "    </tr>\n",
              "    <tr>\n",
              "      <th>...</th>\n",
              "      <td>...</td>\n",
              "      <td>...</td>\n",
              "      <td>...</td>\n",
              "      <td>...</td>\n",
              "      <td>...</td>\n",
              "      <td>...</td>\n",
              "    </tr>\n",
              "    <tr>\n",
              "      <th>1304</th>\n",
              "      <td>0</td>\n",
              "      <td>14.50</td>\n",
              "      <td>1</td>\n",
              "      <td>0</td>\n",
              "      <td>14.4542</td>\n",
              "      <td>328.0</td>\n",
              "    </tr>\n",
              "    <tr>\n",
              "      <th>1305</th>\n",
              "      <td>0</td>\n",
              "      <td>NaN</td>\n",
              "      <td>1</td>\n",
              "      <td>0</td>\n",
              "      <td>14.4542</td>\n",
              "      <td>NaN</td>\n",
              "    </tr>\n",
              "    <tr>\n",
              "      <th>1306</th>\n",
              "      <td>0</td>\n",
              "      <td>26.50</td>\n",
              "      <td>0</td>\n",
              "      <td>0</td>\n",
              "      <td>7.2250</td>\n",
              "      <td>304.0</td>\n",
              "    </tr>\n",
              "    <tr>\n",
              "      <th>1307</th>\n",
              "      <td>0</td>\n",
              "      <td>27.00</td>\n",
              "      <td>0</td>\n",
              "      <td>0</td>\n",
              "      <td>7.2250</td>\n",
              "      <td>NaN</td>\n",
              "    </tr>\n",
              "    <tr>\n",
              "      <th>1308</th>\n",
              "      <td>0</td>\n",
              "      <td>29.00</td>\n",
              "      <td>0</td>\n",
              "      <td>0</td>\n",
              "      <td>7.8750</td>\n",
              "      <td>NaN</td>\n",
              "    </tr>\n",
              "  </tbody>\n",
              "</table>\n",
              "<p>1309 rows × 6 columns</p>\n",
              "</div>\n",
              "      <button class=\"colab-df-convert\" onclick=\"convertToInteractive('df-33a66bb9-13ed-4bd6-af1f-4e92d25ff0d8')\"\n",
              "              title=\"Convert this dataframe to an interactive table.\"\n",
              "              style=\"display:none;\">\n",
              "        \n",
              "  <svg xmlns=\"http://www.w3.org/2000/svg\" height=\"24px\"viewBox=\"0 0 24 24\"\n",
              "       width=\"24px\">\n",
              "    <path d=\"M0 0h24v24H0V0z\" fill=\"none\"/>\n",
              "    <path d=\"M18.56 5.44l.94 2.06.94-2.06 2.06-.94-2.06-.94-.94-2.06-.94 2.06-2.06.94zm-11 1L8.5 8.5l.94-2.06 2.06-.94-2.06-.94L8.5 2.5l-.94 2.06-2.06.94zm10 10l.94 2.06.94-2.06 2.06-.94-2.06-.94-.94-2.06-.94 2.06-2.06.94z\"/><path d=\"M17.41 7.96l-1.37-1.37c-.4-.4-.92-.59-1.43-.59-.52 0-1.04.2-1.43.59L10.3 9.45l-7.72 7.72c-.78.78-.78 2.05 0 2.83L4 21.41c.39.39.9.59 1.41.59.51 0 1.02-.2 1.41-.59l7.78-7.78 2.81-2.81c.8-.78.8-2.07 0-2.86zM5.41 20L4 18.59l7.72-7.72 1.47 1.35L5.41 20z\"/>\n",
              "  </svg>\n",
              "      </button>\n",
              "      \n",
              "  <style>\n",
              "    .colab-df-container {\n",
              "      display:flex;\n",
              "      flex-wrap:wrap;\n",
              "      gap: 12px;\n",
              "    }\n",
              "\n",
              "    .colab-df-convert {\n",
              "      background-color: #E8F0FE;\n",
              "      border: none;\n",
              "      border-radius: 50%;\n",
              "      cursor: pointer;\n",
              "      display: none;\n",
              "      fill: #1967D2;\n",
              "      height: 32px;\n",
              "      padding: 0 0 0 0;\n",
              "      width: 32px;\n",
              "    }\n",
              "\n",
              "    .colab-df-convert:hover {\n",
              "      background-color: #E2EBFA;\n",
              "      box-shadow: 0px 1px 2px rgba(60, 64, 67, 0.3), 0px 1px 3px 1px rgba(60, 64, 67, 0.15);\n",
              "      fill: #174EA6;\n",
              "    }\n",
              "\n",
              "    [theme=dark] .colab-df-convert {\n",
              "      background-color: #3B4455;\n",
              "      fill: #D2E3FC;\n",
              "    }\n",
              "\n",
              "    [theme=dark] .colab-df-convert:hover {\n",
              "      background-color: #434B5C;\n",
              "      box-shadow: 0px 1px 3px 1px rgba(0, 0, 0, 0.15);\n",
              "      filter: drop-shadow(0px 1px 2px rgba(0, 0, 0, 0.3));\n",
              "      fill: #FFFFFF;\n",
              "    }\n",
              "  </style>\n",
              "\n",
              "      <script>\n",
              "        const buttonEl =\n",
              "          document.querySelector('#df-33a66bb9-13ed-4bd6-af1f-4e92d25ff0d8 button.colab-df-convert');\n",
              "        buttonEl.style.display =\n",
              "          google.colab.kernel.accessAllowed ? 'block' : 'none';\n",
              "\n",
              "        async function convertToInteractive(key) {\n",
              "          const element = document.querySelector('#df-33a66bb9-13ed-4bd6-af1f-4e92d25ff0d8');\n",
              "          const dataTable =\n",
              "            await google.colab.kernel.invokeFunction('convertToInteractive',\n",
              "                                                     [key], {});\n",
              "          if (!dataTable) return;\n",
              "\n",
              "          const docLinkHtml = 'Like what you see? Visit the ' +\n",
              "            '<a target=\"_blank\" href=https://colab.research.google.com/notebooks/data_table.ipynb>data table notebook</a>'\n",
              "            + ' to learn more about interactive tables.';\n",
              "          element.innerHTML = '';\n",
              "          dataTable['output_type'] = 'display_data';\n",
              "          await google.colab.output.renderOutput(dataTable, element);\n",
              "          const docLink = document.createElement('div');\n",
              "          docLink.innerHTML = docLinkHtml;\n",
              "          element.appendChild(docLink);\n",
              "        }\n",
              "      </script>\n",
              "    </div>\n",
              "  </div>\n",
              "  "
            ]
          },
          "metadata": {},
          "execution_count": 10
        }
      ]
    },
    {
      "cell_type": "markdown",
      "metadata": {
        "id": "YQmdUPT6e3fa"
      },
      "source": [
        "#### 2.2 各カラムの欠損値数を算出してください。(※object型のデータ除外後)"
      ]
    },
    {
      "cell_type": "code",
      "metadata": {
        "id": "dxgbvmEbe3fa",
        "colab": {
          "base_uri": "https://localhost:8080/"
        },
        "outputId": "850ce1fc-a13f-4dde-b018-4c0d9fe3422b"
      },
      "source": [
        "titanic_data_except_object.isna().sum()"
      ],
      "execution_count": 12,
      "outputs": [
        {
          "output_type": "execute_result",
          "data": {
            "text/plain": [
              "survived       0\n",
              "age          263\n",
              "sibsp          0\n",
              "parch          0\n",
              "fare           1\n",
              "body        1188\n",
              "dtype: int64"
            ]
          },
          "metadata": {},
          "execution_count": 12
        }
      ]
    },
    {
      "cell_type": "markdown",
      "metadata": {
        "id": "J1itAp1Ge3fa"
      },
      "source": [
        "#### 2.3 欠損値は補完する必要があります。「age」の分布を確認して下さい。"
      ]
    },
    {
      "cell_type": "code",
      "metadata": {
        "id": "gKHBBOTxe3fb",
        "colab": {
          "base_uri": "https://localhost:8080/",
          "height": 264
        },
        "outputId": "cfbd0dd8-15f8-44d0-d164-8d22fe2e3124"
      },
      "source": [
        "plt.hist(titanic_data_except_object['age'])\n",
        "plt.show()"
      ],
      "execution_count": 14,
      "outputs": [
        {
          "output_type": "display_data",
          "data": {
            "text/plain": [
              "<Figure size 432x288 with 1 Axes>"
            ],
            "image/png": "[encoded data removed]"
          },
          "metadata": {
            "needs_background": "light"
          }
        }
      ]
    },
    {
      "cell_type": "markdown",
      "metadata": {
        "id": "NURt0tjSe3fb"
      },
      "source": [
        "#### 2.4 分布を確認すると20代が多いようです。欠損値には「age」の平均値を補完してみましょう。"
      ]
    },
    {
      "cell_type": "markdown",
      "source": [
        ">strategy引数に'mean'を指定することで、平均値を用いた補完ができます。"
      ],
      "metadata": {
        "id": "_oFbI6qPvBCF"
      }
    },
    {
      "cell_type": "code",
      "metadata": {
        "id": "ffXgg3dbe3fb"
      },
      "source": [
        "from sklearn.impute import SimpleImputer\n",
        "\n",
        "imputer = SimpleImputer(missing_values=np.nan, strategy='mean')\n",
        "imputer.fit(titanic_data_except_object[['age']])\n",
        "titanic_data_except_object[['age']] = imputer.transform((titanic_data_except_object[['age']]))"
      ],
      "execution_count": 15,
      "outputs": []
    },
    {
      "cell_type": "markdown",
      "metadata": {
        "id": "V6Hkj_DMe3fb"
      },
      "source": [
        "#### 2.5 「age」に欠損値が無くなったことを確認してください。"
      ]
    },
    {
      "cell_type": "code",
      "metadata": {
        "scrolled": true,
        "id": "xVqqStH4e3fb",
        "colab": {
          "base_uri": "https://localhost:8080/"
        },
        "outputId": "46c579a6-2ec8-4f93-ff08-b06ef24cc881"
      },
      "source": [
        "titanic_data_except_object[['age']].isna().sum()"
      ],
      "execution_count": 16,
      "outputs": [
        {
          "output_type": "execute_result",
          "data": {
            "text/plain": [
              "age    0\n",
              "dtype: int64"
            ]
          },
          "metadata": {},
          "execution_count": 16
        }
      ]
    },
    {
      "cell_type": "markdown",
      "metadata": {
        "id": "xtv5UyLQe3fc"
      },
      "source": [
        "#### 2.6 bodyの欠損値も補完する必要があります。「body」の分布を確認して下さい。"
      ]
    },
    {
      "cell_type": "code",
      "metadata": {
        "id": "0B6CPtz-e3fc",
        "colab": {
          "base_uri": "https://localhost:8080/",
          "height": 264
        },
        "outputId": "19385c53-f182-430c-a0ec-6ba944e72d12"
      },
      "source": [
        "plt.hist(titanic_data_except_object['body'])\n",
        "plt.show()"
      ],
      "execution_count": 20,
      "outputs": [
        {
          "output_type": "display_data",
          "data": {
            "text/plain": [
              "<Figure size 432x288 with 1 Axes>"
            ],
            "image/png": "[encoded data removed]"
          },
          "metadata": {
            "needs_background": "light"
          }
        }
      ]
    },
    {
      "cell_type": "markdown",
      "metadata": {
        "id": "FKVHFdI7e3fc"
      },
      "source": [
        "#### 2.7 欠損値が非常に多いです。欠損に意味を持たせるために、今存在しない値である「－1」を補完してみましょう。"
      ]
    },
    {
      "cell_type": "code",
      "metadata": {
        "id": "fWyfW0GJe3fc"
      },
      "source": [
        "titanic_data_except_object['body'] = titanic_data_except_object['body'].fillna(-1)\n"
      ],
      "execution_count": 23,
      "outputs": []
    },
    {
      "cell_type": "markdown",
      "metadata": {
        "id": "blqxMIOHe3fc"
      },
      "source": [
        "#### 2.8 bodyに欠損値が無くなったことを確認してください。"
      ]
    },
    {
      "cell_type": "code",
      "metadata": {
        "scrolled": true,
        "id": "dSWrBdZ7e3fc",
        "colab": {
          "base_uri": "https://localhost:8080/"
        },
        "outputId": "30f1a70d-b047-4192-852f-99d73639866d"
      },
      "source": [
        "titanic_data_except_object['body'].isna().sum()"
      ],
      "execution_count": 24,
      "outputs": [
        {
          "output_type": "execute_result",
          "data": {
            "text/plain": [
              "0"
            ]
          },
          "metadata": {},
          "execution_count": 24
        }
      ]
    },
    {
      "cell_type": "markdown",
      "metadata": {
        "id": "SPMsDPNRe3fd"
      },
      "source": [
        "#### 2.9 fareの欠損値も補完する必要があります。「fare」の分布を確認して下さい。"
      ]
    },
    {
      "cell_type": "code",
      "metadata": {
        "id": "5ua_iIyfe3fd",
        "colab": {
          "base_uri": "https://localhost:8080/",
          "height": 264
        },
        "outputId": "b3ef33c2-75e4-4d72-d0c3-e903f7c4a7d1"
      },
      "source": [
        "plt.hist(titanic_data_except_object['fare'])\n",
        "plt.show()"
      ],
      "execution_count": 26,
      "outputs": [
        {
          "output_type": "display_data",
          "data": {
            "text/plain": [
              "<Figure size 432x288 with 1 Axes>"
            ],
            "image/png": "[encoded data removed]"
          },
          "metadata": {
            "needs_background": "light"
          }
        }
      ]
    },
    {
      "cell_type": "markdown",
      "metadata": {
        "id": "j5qVy1HOe3fd"
      },
      "source": [
        "#### 2.10 fareの欠損値は1件です。レコードを削除しても殆ど影響が無いので、削除してしまいましょう。1行減ったことを確認して下さい。"
      ]
    },
    {
      "cell_type": "code",
      "metadata": {
        "id": "5CesgVOte3fd",
        "colab": {
          "base_uri": "https://localhost:8080/"
        },
        "outputId": "d2d590d1-7a01-4bc2-8ff7-60c3fb013733"
      },
      "source": [
        "titanic_data_except_object = titanic_data_except_object.dropna()\n",
        "titanic_data_except_object.shape"
      ],
      "execution_count": 28,
      "outputs": [
        {
          "output_type": "execute_result",
          "data": {
            "text/plain": [
              "(1308, 6)"
            ]
          },
          "metadata": {},
          "execution_count": 28
        }
      ]
    },
    {
      "cell_type": "markdown",
      "metadata": {
        "id": "BzG44hiWe3fd"
      },
      "source": [
        "#### 2.11 欠損値が無くなったことを確認して下さい。"
      ]
    },
    {
      "cell_type": "code",
      "metadata": {
        "id": "TGJ3m-2te3fe",
        "colab": {
          "base_uri": "https://localhost:8080/"
        },
        "outputId": "e4ccdf55-79c4-497f-802c-fd8b6cdf0e76"
      },
      "source": [
        "titanic_data_except_object.isna().sum()"
      ],
      "execution_count": 29,
      "outputs": [
        {
          "output_type": "execute_result",
          "data": {
            "text/plain": [
              "survived    0\n",
              "age         0\n",
              "sibsp       0\n",
              "parch       0\n",
              "fare        0\n",
              "body        0\n",
              "dtype: int64"
            ]
          },
          "metadata": {},
          "execution_count": 29
        }
      ]
    },
    {
      "cell_type": "markdown",
      "metadata": {
        "id": "rtyqdaqre3fe"
      },
      "source": [
        "### 3. 特徴量の選別方法について学習します。（10問）"
      ]
    },
    {
      "cell_type": "markdown",
      "metadata": {
        "id": "kwoewovve3fe"
      },
      "source": [
        "#### 目的変数と説明変数の関連性の調査を行います。目的変数に対してどういう変数が影響力を持っているか、前もって調査しておくことは大切です。その方法について学んでいきましょう。今回の目的変数は「survived」です。生存：1、死亡：0となります。"
      ]
    },
    {
      "cell_type": "markdown",
      "metadata": {
        "id": "vTo3Dtlse3fe"
      },
      "source": [
        "#### 3.1 「sibsp」のユニーク値毎に、生存割合を算出して下さい。※小数点3桁で表示して下さい。"
      ]
    },
    {
      "cell_type": "code",
      "metadata": {
        "id": "Oy88tiKpe3fe",
        "colab": {
          "base_uri": "https://localhost:8080/"
        },
        "outputId": "12b2c474-f705-4716-a192-e8b2440c45d1"
      },
      "source": [
        "titanic_data_except_object.groupby('sibsp').mean()['survived'].round(3)"
      ],
      "execution_count": 33,
      "outputs": [
        {
          "output_type": "execute_result",
          "data": {
            "text/plain": [
              "sibsp\n",
              "0    0.347\n",
              "1    0.511\n",
              "2    0.452\n",
              "3    0.300\n",
              "4    0.136\n",
              "5    0.000\n",
              "8    0.000\n",
              "Name: survived, dtype: float64"
            ]
          },
          "metadata": {},
          "execution_count": 33
        }
      ]
    },
    {
      "cell_type": "markdown",
      "metadata": {
        "id": "_CVNjCPke3fe"
      },
      "source": [
        "#### 3.2 「parch」のユニーク値毎に、生存割合を算出してください。※小数点3桁で表示して下さい。"
      ]
    },
    {
      "cell_type": "code",
      "source": [
        "titanic_data_except_object.groupby('parch').mean()['survived'].round(3)"
      ],
      "metadata": {
        "colab": {
          "base_uri": "https://localhost:8080/"
        },
        "id": "0Fw60QPNk7LQ",
        "outputId": "a8768d36-a49a-478b-b1c7-a891d4927502"
      },
      "execution_count": 34,
      "outputs": [
        {
          "output_type": "execute_result",
          "data": {
            "text/plain": [
              "parch\n",
              "0    0.336\n",
              "1    0.588\n",
              "2    0.504\n",
              "3    0.625\n",
              "4    0.167\n",
              "5    0.167\n",
              "6    0.000\n",
              "9    0.000\n",
              "Name: survived, dtype: float64"
            ]
          },
          "metadata": {},
          "execution_count": 34
        }
      ]
    },
    {
      "cell_type": "code",
      "metadata": {
        "id": "kwsMD_wbe3ff"
      },
      "source": [
        ""
      ],
      "execution_count": 9,
      "outputs": []
    },
    {
      "cell_type": "markdown",
      "metadata": {
        "id": "NH_iqUJ-e3ff"
      },
      "source": [
        "#### 3.3 「parch」の値ごとの死亡者数と生存者数をそれぞれ棒グラフで重ねて描画してください。その際に、それぞれに「死亡者」、「生存者」という凡例を表示して、グラフは半透明(引数alpha)にしてください。"
      ]
    },
    {
      "cell_type": "code",
      "metadata": {
        "id": "CsEG20E6e3ff",
        "colab": {
          "base_uri": "https://localhost:8080/",
          "height": 264
        },
        "outputId": "a1b9d84e-884d-4a33-a3b3-b22adfde5fda"
      },
      "source": [
        "titanic_survived_parch = titanic_data_except_object.groupby(['parch', 'survived']).count().reset_index()\n",
        "\n",
        "titanic_survived = titanic_survived_parch[titanic_survived_parch['survived'] == 1]\n",
        "titanic_dead = titanic_survived_parch[titanic_survived_parch['survived'] == 0]\n",
        "\n",
        "plt.figure()\n",
        "plt.bar(titanic_dead['parch'], titanic_dead['age'], label='死亡者', alpha=0.5)\n",
        "plt.bar(titanic_survived['parch'], titanic_survived['age'], label='生存者', alpha=0.5)\n",
        "\n",
        "plt.legend()\n",
        "plt.show()"
      ],
      "execution_count": 42,
      "outputs": [
        {
          "output_type": "display_data",
          "data": {
            "text/plain": [
              "<Figure size 432x288 with 1 Axes>"
            ],
            "image/png": "[encoded data removed]"
          },
          "metadata": {
            "needs_background": "light"
          }
        }
      ]
    },
    {
      "cell_type": "markdown",
      "metadata": {
        "id": "su3v9q3We3ff"
      },
      "source": [
        "#### 3.4 「age」はユニーク数が多く、値をグルーピングする必要があります。値を「10」刻みでグループ化し、各グループ毎に生存割合を算出してください。"
      ]
    },
    {
      "cell_type": "code",
      "metadata": {
        "id": "ycsMBOabe3ff",
        "colab": {
          "base_uri": "https://localhost:8080/"
        },
        "outputId": "34723bbc-9360-4467-da0f-86a2a443e200"
      },
      "source": [
        "s_cut = pd.cut(titanic_data_except_object['age'],[0,10,20,30,40,50,60,70,80,90,100])\n",
        "titanic_data_except_object.groupby(s_cut).mean()['survived'].round(3)"
      ],
      "execution_count": 45,
      "outputs": [
        {
          "output_type": "execute_result",
          "data": {
            "text/plain": [
              "age\n",
              "(0, 10]      0.581\n",
              "(10, 20]     0.395\n",
              "(20, 30]     0.332\n",
              "(30, 40]     0.424\n",
              "(40, 50]     0.394\n",
              "(50, 60]     0.484\n",
              "(60, 70]     0.231\n",
              "(70, 80]     0.333\n",
              "(80, 90]       NaN\n",
              "(90, 100]      NaN\n",
              "Name: survived, dtype: float64"
            ]
          },
          "metadata": {},
          "execution_count": 45
        }
      ]
    },
    {
      "cell_type": "markdown",
      "metadata": {
        "id": "DG5kOEloe3fg"
      },
      "source": [
        "#### 3.5 「age」の値ごとの死亡者数と生存者数をそれぞれ棒グラフで重ねて描画してください。その際に、それぞれに「死亡者」、「生存者」という凡例を表示して、グラフは半透明(引数alpha)にしてください。また、棒グラフを描画する際にx軸の値はstr関数を適用することでstr型に直してください。"
      ]
    },
    {
      "cell_type": "code",
      "source": [
        ""
      ],
      "metadata": {
        "id": "BIFfcoBonWd8"
      },
      "execution_count": null,
      "outputs": []
    },
    {
      "cell_type": "code",
      "metadata": {
        "id": "nB9o6RB6e3fg",
        "colab": {
          "base_uri": "https://localhost:8080/",
          "height": 265
        },
        "outputId": "92b40071-dd92-41fc-cb18-3de14b24ace7"
      },
      "source": [
        "titanic_survived_copy = titanic_data_except_object.copy()\n",
        "titanic_survived_copy['age_cut'] = s_cut\n",
        "\n",
        "titanic_survived_agecut = titanic_survived_copy.groupby(['age_cut', 'survived']).count().reset_index()\n",
        "titanic_survived_agecut\n",
        "\n",
        "titanic_survived_age = titanic_survived_agecut[titanic_survived_agecut['survived'] == 1]\n",
        "titanic_dead_age = titanic_survived_agecut[titanic_survived_agecut['survived'] == 0]\n",
        "\n",
        "plt.figure()\n",
        "plt.bar(titanic_dead_age['age_cut'].map(str), titanic_dead_age['age'], label='死亡者', alpha=0.5)\n",
        "plt.bar(titanic_survived_age['age_cut'].map(str), titanic_survived_age['age'], label='生存者', alpha=0.5)\n",
        "\n",
        "plt.legend()\n",
        "\n",
        "plt.show()"
      ],
      "execution_count": 49,
      "outputs": [
        {
          "output_type": "display_data",
          "data": {
            "text/plain": [
              "<Figure size 432x288 with 1 Axes>"
            ],
            "image/png": "[encoded data removed]"
          },
          "metadata": {
            "needs_background": "light"
          }
        }
      ]
    },
    {
      "cell_type": "markdown",
      "metadata": {
        "id": "yUmFuHJie3fg"
      },
      "source": [
        "#### 3.6 「fare」はユニーク数が多く、値をグルーピングする必要があります。値を昇順にして上から順番に「件数ができるだけ均等になるよう」グループ化を行い、各グループ毎に生存割合を算出してください。※値に重複があるので、完全に均等にする必要はありません。"
      ]
    },
    {
      "cell_type": "code",
      "metadata": {
        "id": "wJTCtNs4e3fg",
        "colab": {
          "base_uri": "https://localhost:8080/"
        },
        "outputId": "3657e5f5-cf02-44b4-a42f-763a2748a64d"
      },
      "source": [
        "fare_cut = pd.qcut(titanic_data_except_object['fare'],5)\n",
        "titanic_data_except_object.groupby(fare_cut).mean()['survived'].round(3)"
      ],
      "execution_count": 55,
      "outputs": [
        {
          "output_type": "execute_result",
          "data": {
            "text/plain": [
              "fare\n",
              "(-0.001, 7.854]      0.258\n",
              "(7.854, 10.5]        0.201\n",
              "(10.5, 21.679]       0.380\n",
              "(21.679, 41.579]     0.458\n",
              "(41.579, 512.329]    0.618\n",
              "Name: survived, dtype: float64"
            ]
          },
          "metadata": {},
          "execution_count": 55
        }
      ]
    },
    {
      "cell_type": "markdown",
      "metadata": {
        "id": "LvDWS8iVe3fg"
      },
      "source": [
        "#### 3.7 「3.6で分けたグループ」ごとの死亡者数と生存者数をそれぞれ棒グラフで重ねて描画してください。その際に、それぞれに「死亡者」、「生存者」という凡例を表示して、グラフは半透明にしてください。また、棒グラフを描画する際にx軸の値はstr関数を適用することでstr型に直してください。"
      ]
    },
    {
      "cell_type": "code",
      "metadata": {
        "id": "U3c0U1k0e3fg",
        "colab": {
          "base_uri": "https://localhost:8080/",
          "height": 265
        },
        "outputId": "479cc629-3d6f-4037-cf1c-78746fa05e26"
      },
      "source": [
        "#データコピー fare_cutのデータを追加\n",
        "titanic_survived_copy = titanic_data_except_object.copy()\n",
        "titanic_survived_copy['fare_cut'] = fare_cut\n",
        "\n",
        "titanic_survived_farecut = titanic_survived_copy.groupby(['fare_cut', 'survived']).count().reset_index()\n",
        "titanic_survived_farecut\n",
        "\n",
        "titanic_survived_fare = titanic_survived_farecut[titanic_survived_farecut['survived'] == 1]\n",
        "titanic_dead_fare = titanic_survived_farecut[titanic_survived_farecut['survived'] == 0]\n",
        "\n",
        "plt.figure()\n",
        "plt.bar(titanic_dead_fare['fare_cut'].map(str), titanic_dead_fare['fare'], label='死亡者', alpha=0.5)\n",
        "plt.bar(titanic_survived_fare['fare_cut'].map(str), titanic_survived_fare['fare'], label='生存者', alpha=0.5)\n",
        "\n",
        "plt.legend()\n",
        "\n",
        "plt.show()"
      ],
      "execution_count": 58,
      "outputs": [
        {
          "output_type": "display_data",
          "data": {
            "text/plain": [
              "<Figure size 432x288 with 1 Axes>"
            ],
            "image/png": "[encoded data removed]"
          },
          "metadata": {
            "needs_background": "light"
          }
        }
      ]
    },
    {
      "cell_type": "markdown",
      "metadata": {
        "id": "KqHqM0k5e3fh"
      },
      "source": [
        "#### 3.8 「body」はユニーク数が多く、値をグルーピングする必要があります。最大値と最小値の間を等間隔で5分割してください。また、各グループ毎に生存割合を算出してください。※値に重複があるので、完全に均等にする必要はありません。"
      ]
    },
    {
      "cell_type": "code",
      "metadata": {
        "id": "_8cHOnHle3fh",
        "colab": {
          "base_uri": "https://localhost:8080/"
        },
        "outputId": "2e5cc5c0-8225-4991-b9cf-5625d55baa21"
      },
      "source": [
        "body_cut = pd.cut(titanic_data_except_object['body'], 5)\n",
        "titanic_data_except_object.groupby(body_cut).mean()['survived'].round(3)"
      ],
      "execution_count": 60,
      "outputs": [
        {
          "output_type": "execute_result",
          "data": {
            "text/plain": [
              "body\n",
              "(-1.329, 64.8]    0.412\n",
              "(64.8, 130.6]     0.000\n",
              "(130.6, 196.4]    0.000\n",
              "(196.4, 262.2]    0.000\n",
              "(262.2, 328.0]    0.000\n",
              "Name: survived, dtype: float64"
            ]
          },
          "metadata": {},
          "execution_count": 60
        }
      ]
    },
    {
      "cell_type": "markdown",
      "metadata": {
        "id": "9eyzHXwre3fh"
      },
      "source": [
        "#### 3.9 「3.8で分けたグループ」ごとの死亡者数と生存者数をそれぞれ棒グラフで重ねて描画してください。その際に、それぞれに「死亡者」、「生存者」という凡例を表示して、グラフは半透明にしてください。また、棒グラフを描画する際にx軸の値はstr関数を適用することでstr型に直してください。"
      ]
    },
    {
      "cell_type": "code",
      "metadata": {
        "scrolled": true,
        "id": "-D6YEIWJe3fh",
        "colab": {
          "base_uri": "https://localhost:8080/",
          "height": 319
        },
        "outputId": "8f4fdbf0-709a-4b78-9626-70dd8a1d58cb"
      },
      "source": [
        "titanic_body_copy = titanic_data_except_object.copy()\n",
        "titanic_body_copy['body_cut'] = body_cut\n",
        "\n",
        "titanic_survived_bodycut = titanic_body_copy.groupby(['body_cut', 'survived']).count().reset_index()\n",
        "\n",
        "titanic_survived_body = titanic_survived_bodycut[titanic_survived_bodycut['survived'] == 1]\n",
        "titanic_dead_body = titanic_survived_bodycut[titanic_survived_bodycut['survived'] == 0]\n",
        "\n",
        "plt.figure(figsize=(12, 5))\n",
        "plt.bar(titanic_dead_body['body_cut'].map(str), titanic_dead_body['body'], label='死亡者', alpha=0.5)\n",
        "plt.bar(titanic_survived_body['body_cut'].map(str), titanic_survived_body['body'], label='生存者', alpha=0.5)\n",
        "\n",
        "plt.legend()\n",
        "\n",
        "plt.show()"
      ],
      "execution_count": 61,
      "outputs": [
        {
          "output_type": "display_data",
          "data": {
            "text/plain": [
              "<Figure size 864x360 with 1 Axes>"
            ],
            "image/png": "[encoded data removed]"
          },
          "metadata": {
            "needs_background": "light"
          }
        }
      ]
    },
    {
      "cell_type": "markdown",
      "metadata": {
        "id": "6OOeV_Wfe3fh"
      },
      "source": [
        "#### 3.10 各変数間の相関係数を算出してください。"
      ]
    },
    {
      "cell_type": "code",
      "metadata": {
        "id": "kk0x0f_Ce3fh",
        "colab": {
          "base_uri": "https://localhost:8080/",
          "height": 237
        },
        "outputId": "1862e07f-72ba-4ccf-9817-d822d868ad41"
      },
      "source": [
        "titanic_data_except_object.corr()"
      ],
      "execution_count": 62,
      "outputs": [
        {
          "output_type": "execute_result",
          "data": {
            "text/plain": [
              "          survived       age     sibsp     parch      fare      body\n",
              "survived  1.000000 -0.048887 -0.028122  0.082418  0.244265 -0.211151\n",
              "age      -0.048887  1.000000 -0.190304 -0.130355  0.171893  0.136776\n",
              "sibsp    -0.028122 -0.190304  1.000000  0.373485  0.160238 -0.051933\n",
              "parch     0.082418 -0.130355  0.373485  1.000000  0.221539 -0.023011\n",
              "fare      0.244265  0.171893  0.160238  0.221539  1.000000 -0.012274\n",
              "body     -0.211151  0.136776 -0.051933 -0.023011 -0.012274  1.000000"
            ],
            "text/html": [
              "\n",
              "  <div id=\"df-bcf4d857-dc8f-40ba-8ec6-cf58f5c003c6\">\n",
              "    <div class=\"colab-df-container\">\n",
              "      <div>\n",
              "<style scoped>\n",
              "    .dataframe tbody tr th:only-of-type {\n",
              "        vertical-align: middle;\n",
              "    }\n",
              "\n",
              "    .dataframe tbody tr th {\n",
              "        vertical-align: top;\n",
              "    }\n",
              "\n",
              "    .dataframe thead th {\n",
              "        text-align: right;\n",
              "    }\n",
              "</style>\n",
              "<table border=\"1\" class=\"dataframe\">\n",
              "  <thead>\n",
              "    <tr style=\"text-align: right;\">\n",
              "      <th></th>\n",
              "      <th>survived</th>\n",
              "      <th>age</th>\n",
              "      <th>sibsp</th>\n",
              "      <th>parch</th>\n",
              "      <th>fare</th>\n",
              "      <th>body</th>\n",
              "    </tr>\n",
              "  </thead>\n",
              "  <tbody>\n",
              "    <tr>\n",
              "      <th>survived</th>\n",
              "      <td>1.000000</td>\n",
              "      <td>-0.048887</td>\n",
              "      <td>-0.028122</td>\n",
              "      <td>0.082418</td>\n",
              "      <td>0.244265</td>\n",
              "      <td>-0.211151</td>\n",
              "    </tr>\n",
              "    <tr>\n",
              "      <th>age</th>\n",
              "      <td>-0.048887</td>\n",
              "      <td>1.000000</td>\n",
              "      <td>-0.190304</td>\n",
              "      <td>-0.130355</td>\n",
              "      <td>0.171893</td>\n",
              "      <td>0.136776</td>\n",
              "    </tr>\n",
              "    <tr>\n",
              "      <th>sibsp</th>\n",
              "      <td>-0.028122</td>\n",
              "      <td>-0.190304</td>\n",
              "      <td>1.000000</td>\n",
              "      <td>0.373485</td>\n",
              "      <td>0.160238</td>\n",
              "      <td>-0.051933</td>\n",
              "    </tr>\n",
              "    <tr>\n",
              "      <th>parch</th>\n",
              "      <td>0.082418</td>\n",
              "      <td>-0.130355</td>\n",
              "      <td>0.373485</td>\n",
              "      <td>1.000000</td>\n",
              "      <td>0.221539</td>\n",
              "      <td>-0.023011</td>\n",
              "    </tr>\n",
              "    <tr>\n",
              "      <th>fare</th>\n",
              "      <td>0.244265</td>\n",
              "      <td>0.171893</td>\n",
              "      <td>0.160238</td>\n",
              "      <td>0.221539</td>\n",
              "      <td>1.000000</td>\n",
              "      <td>-0.012274</td>\n",
              "    </tr>\n",
              "    <tr>\n",
              "      <th>body</th>\n",
              "      <td>-0.211151</td>\n",
              "      <td>0.136776</td>\n",
              "      <td>-0.051933</td>\n",
              "      <td>-0.023011</td>\n",
              "      <td>-0.012274</td>\n",
              "      <td>1.000000</td>\n",
              "    </tr>\n",
              "  </tbody>\n",
              "</table>\n",
              "</div>\n",
              "      <button class=\"colab-df-convert\" onclick=\"convertToInteractive('df-bcf4d857-dc8f-40ba-8ec6-cf58f5c003c6')\"\n",
              "              title=\"Convert this dataframe to an interactive table.\"\n",
              "              style=\"display:none;\">\n",
              "        \n",
              "  <svg xmlns=\"http://www.w3.org/2000/svg\" height=\"24px\"viewBox=\"0 0 24 24\"\n",
              "       width=\"24px\">\n",
              "    <path d=\"M0 0h24v24H0V0z\" fill=\"none\"/>\n",
              "    <path d=\"M18.56 5.44l.94 2.06.94-2.06 2.06-.94-2.06-.94-.94-2.06-.94 2.06-2.06.94zm-11 1L8.5 8.5l.94-2.06 2.06-.94-2.06-.94L8.5 2.5l-.94 2.06-2.06.94zm10 10l.94 2.06.94-2.06 2.06-.94-2.06-.94-.94-2.06-.94 2.06-2.06.94z\"/><path d=\"M17.41 7.96l-1.37-1.37c-.4-.4-.92-.59-1.43-.59-.52 0-1.04.2-1.43.59L10.3 9.45l-7.72 7.72c-.78.78-.78 2.05 0 2.83L4 21.41c.39.39.9.59 1.41.59.51 0 1.02-.2 1.41-.59l7.78-7.78 2.81-2.81c.8-.78.8-2.07 0-2.86zM5.41 20L4 18.59l7.72-7.72 1.47 1.35L5.41 20z\"/>\n",
              "  </svg>\n",
              "      </button>\n",
              "      \n",
              "  <style>\n",
              "    .colab-df-container {\n",
              "      display:flex;\n",
              "      flex-wrap:wrap;\n",
              "      gap: 12px;\n",
              "    }\n",
              "\n",
              "    .colab-df-convert {\n",
              "      background-color: #E8F0FE;\n",
              "      border: none;\n",
              "      border-radius: 50%;\n",
              "      cursor: pointer;\n",
              "      display: none;\n",
              "      fill: #1967D2;\n",
              "      height: 32px;\n",
              "      padding: 0 0 0 0;\n",
              "      width: 32px;\n",
              "    }\n",
              "\n",
              "    .colab-df-convert:hover {\n",
              "      background-color: #E2EBFA;\n",
              "      box-shadow: 0px 1px 2px rgba(60, 64, 67, 0.3), 0px 1px 3px 1px rgba(60, 64, 67, 0.15);\n",
              "      fill: #174EA6;\n",
              "    }\n",
              "\n",
              "    [theme=dark] .colab-df-convert {\n",
              "      background-color: #3B4455;\n",
              "      fill: #D2E3FC;\n",
              "    }\n",
              "\n",
              "    [theme=dark] .colab-df-convert:hover {\n",
              "      background-color: #434B5C;\n",
              "      box-shadow: 0px 1px 3px 1px rgba(0, 0, 0, 0.15);\n",
              "      filter: drop-shadow(0px 1px 2px rgba(0, 0, 0, 0.3));\n",
              "      fill: #FFFFFF;\n",
              "    }\n",
              "  </style>\n",
              "\n",
              "      <script>\n",
              "        const buttonEl =\n",
              "          document.querySelector('#df-bcf4d857-dc8f-40ba-8ec6-cf58f5c003c6 button.colab-df-convert');\n",
              "        buttonEl.style.display =\n",
              "          google.colab.kernel.accessAllowed ? 'block' : 'none';\n",
              "\n",
              "        async function convertToInteractive(key) {\n",
              "          const element = document.querySelector('#df-bcf4d857-dc8f-40ba-8ec6-cf58f5c003c6');\n",
              "          const dataTable =\n",
              "            await google.colab.kernel.invokeFunction('convertToInteractive',\n",
              "                                                     [key], {});\n",
              "          if (!dataTable) return;\n",
              "\n",
              "          const docLinkHtml = 'Like what you see? Visit the ' +\n",
              "            '<a target=\"_blank\" href=https://colab.research.google.com/notebooks/data_table.ipynb>data table notebook</a>'\n",
              "            + ' to learn more about interactive tables.';\n",
              "          element.innerHTML = '';\n",
              "          dataTable['output_type'] = 'display_data';\n",
              "          await google.colab.output.renderOutput(dataTable, element);\n",
              "          const docLink = document.createElement('div');\n",
              "          docLink.innerHTML = docLinkHtml;\n",
              "          element.appendChild(docLink);\n",
              "        }\n",
              "      </script>\n",
              "    </div>\n",
              "  </div>\n",
              "  "
            ]
          },
          "metadata": {},
          "execution_count": 62
        }
      ]
    },
    {
      "cell_type": "markdown",
      "metadata": {
        "id": "4egvgNdqe3fi"
      },
      "source": [
        "### 4. 学習データと検証データに分割する方法を学習します。（3問）"
      ]
    },
    {
      "cell_type": "markdown",
      "metadata": {
        "id": "LXTk8vqde3fi"
      },
      "source": [
        "#### 先程のフェーズでは、全て数値データに変換し、今回予測する「生存」との関連性を評価しました。今フェーズはモデルの作成の為の最終準備です。未知のデータに対する予測値を算出したいので、学習に使用するデータと検証に使用するデータを分割し、擬似的に未知データを作り出します。"
      ]
    },
    {
      "cell_type": "markdown",
      "metadata": {
        "id": "GwO0ZWxIe3fi"
      },
      "source": [
        "#### ※下記は、scikit-learn==1.0.2の結果です。バージョン毎で表示形式が異なる場合がございます。数値がおおよそ一致していれば、問題ございません。\n",
        "#### 4.1 決定木(分類木)のモジュールをインポートして下さい。"
      ]
    },
    {
      "cell_type": "code",
      "metadata": {
        "id": "pXMU_EkVe3fj"
      },
      "source": [
        "from sklearn.tree import DecisionTreeClassifier"
      ],
      "execution_count": 63,
      "outputs": []
    },
    {
      "cell_type": "markdown",
      "metadata": {
        "id": "n0BA_jO2e3fj"
      },
      "source": [
        "#### 4.2 説明変数と目的変数を分けて、それぞれ「X」,「y」と言う変数名に格納し、レコード数, カラム数を確認して下さい。"
      ]
    },
    {
      "cell_type": "code",
      "metadata": {
        "id": "mrIokxRbe3fj",
        "colab": {
          "base_uri": "https://localhost:8080/"
        },
        "outputId": "4569b9eb-2af5-492b-b079-da06a065fb4c"
      },
      "source": [
        "X = titanic_data_except_object.drop('survived', axis=1)\n",
        "y = titanic_data_except_object['survived']\n",
        "print(X.shape)\n",
        "print(y.shape)"
      ],
      "execution_count": 68,
      "outputs": [
        {
          "output_type": "stream",
          "name": "stdout",
          "text": [
            "(1308, 5)\n",
            "(1308,)\n"
          ]
        }
      ]
    },
    {
      "cell_type": "markdown",
      "metadata": {
        "id": "Eo29uCX9e3fk"
      },
      "source": [
        "#### 4.3 説明変数、目的変数をそれぞれ学習データと検証データを7:3の割合で作成して下さい。変数名はX_train（説明変数の学習データ）, X_test（説明変数の検証データ）, y_train（目的変数の学習データ）, y_test（目的変数の検証データ）として下さい。test_size引数を指定することで検証データの割合を指定できます。その際インデックスのシャッフルはしないようにして、random_state引数に0を指定してください。また、各変数の上5行を確認して下さい。"
      ]
    },
    {
      "cell_type": "code",
      "metadata": {
        "scrolled": true,
        "id": "RVusi8oNe3fk",
        "colab": {
          "base_uri": "https://localhost:8080/"
        },
        "outputId": "84a8e200-5a73-468c-8df2-c023ff5894bf"
      },
      "source": [
        "X_train, X_test, y_train, y_test = train_test_split(X, y, test_size=0.3, shuffle=False, random_state=0)\n",
        "print(X_train.head())\n",
        "print(X_test.head())\n",
        "print(y_train.head())\n",
        "print(y_test.head())"
      ],
      "execution_count": 71,
      "outputs": [
        {
          "output_type": "stream",
          "name": "stdout",
          "text": [
            "     age  sibsp  parch      fare   body\n",
            "0  29.00      0      0  211.3375   -1.0\n",
            "1   0.92      1      2  151.5500   -1.0\n",
            "2   2.00      1      2  151.5500   -1.0\n",
            "3  30.00      1      2  151.5500  135.0\n",
            "4  25.00      1      2  151.5500   -1.0\n",
            "           age  sibsp  parch     fare  body\n",
            "915  22.000000      0      0   7.5208  -1.0\n",
            "916   4.000000      0      1  13.4167  -1.0\n",
            "917  39.000000      0      1  13.4167  -1.0\n",
            "918  29.881138      0      0   7.2292  -1.0\n",
            "919  18.500000      0      0   7.2292  58.0\n",
            "0    1\n",
            "1    1\n",
            "2    0\n",
            "3    0\n",
            "4    0\n",
            "Name: survived, dtype: int64\n",
            "915    0\n",
            "916    1\n",
            "917    1\n",
            "918    0\n",
            "919    0\n",
            "Name: survived, dtype: int64\n"
          ]
        }
      ]
    },
    {
      "cell_type": "markdown",
      "metadata": {
        "id": "rpMUXKCYe3fk"
      },
      "source": [
        "### 5. モデリング方法について学習します。（19問）"
      ]
    },
    {
      "cell_type": "markdown",
      "metadata": {
        "id": "kmzCP5Fue3fk"
      },
      "source": [
        "#### この章では、決定木モデルを例にして機械学習の一般的なフロー（パラメータチューニング、特徴量の追加、評価指標）を学習します。（モデルを作成するときはrandom_state=0を指定してください。）"
      ]
    },
    {
      "cell_type": "markdown",
      "metadata": {
        "id": "oDZSFnuNe3fk"
      },
      "source": [
        "#### 5.1 分類木のrandom_state引数に「0」を指定し、decision_treeという変数名のインスタンスを生成してください。※random_stateに数字を入れることで、結果を固定することができます。"
      ]
    },
    {
      "cell_type": "code",
      "metadata": {
        "scrolled": true,
        "id": "5z07yG6Pe3fk"
      },
      "source": [
        "decision_tree = DecisionTreeClassifier(random_state=0)"
      ],
      "execution_count": 73,
      "outputs": []
    },
    {
      "cell_type": "markdown",
      "metadata": {
        "id": "v54x5r6we3fl"
      },
      "source": [
        "#### 5.2 fit関数を使い、学習データを使用して決定木を作成して下さい。※ここが「学習」と呼ばれる処理になります。"
      ]
    },
    {
      "cell_type": "code",
      "metadata": {
        "id": "3yIeL4DTe3fl"
      },
      "source": [
        ""
      ],
      "execution_count": 9,
      "outputs": []
    },
    {
      "cell_type": "markdown",
      "metadata": {
        "id": "AinCZb6Xe3fl"
      },
      "source": [
        "#### 5.3 「5.2」で決定木は作成できました。作成した決定木を用いて、新規データ（X_test）に対する予測値を出力してください。※ここが「予測」と呼ばれる処理になります。"
      ]
    },
    {
      "cell_type": "code",
      "metadata": {
        "scrolled": true,
        "id": "dh_k8pRDe3fl"
      },
      "source": [
        ""
      ],
      "execution_count": 9,
      "outputs": []
    },
    {
      "cell_type": "markdown",
      "metadata": {
        "id": "1l6dLIvee3fl"
      },
      "source": [
        "#### 5.4 精度を確認していきましょう。学習データに使用しなかった「目的変数の検証データ（y_test）」を使用して、正解率を算出してください。"
      ]
    },
    {
      "cell_type": "code",
      "metadata": {
        "id": "3ewXBfA1e3fl"
      },
      "source": [
        ""
      ],
      "execution_count": 9,
      "outputs": []
    },
    {
      "cell_type": "markdown",
      "metadata": {
        "id": "NUpN2IxVe3fl"
      },
      "source": [
        "#### 5.5 今回の結果の混同行列を出力してください。"
      ]
    },
    {
      "cell_type": "code",
      "metadata": {
        "id": "_kgIoFcTe3fm"
      },
      "source": [
        ""
      ],
      "execution_count": 9,
      "outputs": []
    },
    {
      "cell_type": "markdown",
      "metadata": {
        "id": "neIkYyRwe3fm"
      },
      "source": [
        "#### 5.6 正解率は算出できましたが、まだまだ向上の余地がありそうです。「max_depth」を「4」に設定して正解率を算出し直しましょう。"
      ]
    },
    {
      "cell_type": "code",
      "metadata": {
        "id": "jZRD7xg2e3fm"
      },
      "source": [
        ""
      ],
      "execution_count": 9,
      "outputs": []
    },
    {
      "cell_type": "markdown",
      "metadata": {
        "id": "LS91fqKle3fm"
      },
      "source": [
        "#### 5.7 やや正解率が向上したようです。混同行列も確認してみましょう。"
      ]
    },
    {
      "cell_type": "code",
      "metadata": {
        "id": "ITXEyJxfe3fm"
      },
      "source": [
        ""
      ],
      "execution_count": 9,
      "outputs": []
    },
    {
      "cell_type": "markdown",
      "metadata": {
        "id": "PFQFz7aze3fm"
      },
      "source": [
        "#### 5.8 様々なパラメータを試す余地がありそうです。2～6までの順続きのリストを作成し、「min_samples_split_list」と名前を付けて下さい。"
      ]
    },
    {
      "cell_type": "code",
      "metadata": {
        "id": "ryjPepQae3fn"
      },
      "source": [
        ""
      ],
      "execution_count": 9,
      "outputs": []
    },
    {
      "cell_type": "markdown",
      "metadata": {
        "id": "TGpxYIvhe3fn"
      },
      "source": [
        "#### 5.9 X_train, y_trainを用いたグリッドサーチをすることによって、「5.8」で作成したリストの要素分、「min_samples_split」をパラメータチューニングしてください。また、最適なモデルを用いて、学習データに使用しなかった「目的変数の検証データ（y_test）」を使用して、正解率を算出してください。※「min_samples_split」とは、分岐に必要な最小サンプル数のことです。過学習を抑制するために使用されます。"
      ]
    },
    {
      "cell_type": "markdown",
      "source": [
        ">GridSearchCVのfitさせたインスタンスに対して、**変数名=インスタンス.best_estimator_**とすることで最適なモデルを代入できます。そのモデルを用いて学習データに使用しなかった「目的変数の検証データ（y_test）」に対して、正解率を算出してください。"
      ],
      "metadata": {
        "id": "qJOhxGBG4nKL"
      }
    },
    {
      "cell_type": "markdown",
      "source": [
        ">用いる分割方法は、層化k分割交差検証法で、random_state引数に0, n_splits引数に5, shuffle引数にTrueを指定してください。"
      ],
      "metadata": {
        "id": "VaQfk06_4sV_"
      }
    },
    {
      "cell_type": "code",
      "source": [
        ""
      ],
      "metadata": {
        "id": "2bYQJryPILZ-"
      },
      "execution_count": 9,
      "outputs": []
    },
    {
      "cell_type": "markdown",
      "metadata": {
        "id": "6y2CdtLge3fn"
      },
      "source": [
        "#### 5.10 大きな効果は確認できませんでした。次は分類木のmin_impurity_decrease引数に0.06を指定して、X_train, y_trainで学習させた後に学習データに使用しなかった「目的変数の検証データ（y_test）」を使用して、正解率を算出してください。"
      ]
    },
    {
      "cell_type": "code",
      "metadata": {
        "id": "mFxLfEWee3fn"
      },
      "source": [
        ""
      ],
      "execution_count": 9,
      "outputs": []
    },
    {
      "cell_type": "markdown",
      "metadata": {
        "id": "78xBuumDe3fo"
      },
      "source": [
        "#### 5.11 正解率は「min_impurity_decrease」が0.06で向上していることが確認できますが、本当にこれで大丈夫でしょうか。混同行列を確認してきましょう。"
      ]
    },
    {
      "cell_type": "code",
      "metadata": {
        "scrolled": true,
        "id": "tzLnzZ1ze3fo"
      },
      "source": [
        ""
      ],
      "execution_count": 9,
      "outputs": []
    },
    {
      "cell_type": "markdown",
      "metadata": {
        "id": "eSnxc_fSe3fo"
      },
      "source": [
        "#### 5.12 全ての人に対し「0＝死亡」と予測してしまっているようです。正解率ではなく他の指標も確認してきましょう。適合率を算出して下さい。※適合率は生存と予測された人間のうち正解した人間の割合のことです。"
      ]
    },
    {
      "cell_type": "code",
      "metadata": {
        "id": "KMg5GAN8e3fo"
      },
      "source": [
        ""
      ],
      "execution_count": 9,
      "outputs": []
    },
    {
      "cell_type": "markdown",
      "metadata": {
        "id": "yYsUxU5ne3fp"
      },
      "source": [
        "#### 5.13 再現率を算出して下さい。※再現率は生存した人間のうち正解した人間の割合のことです。"
      ]
    },
    {
      "cell_type": "code",
      "metadata": {
        "id": "UXT-paM4e3fp"
      },
      "source": [
        ""
      ],
      "execution_count": 9,
      "outputs": []
    },
    {
      "cell_type": "markdown",
      "metadata": {
        "id": "0P4YC9gde3fp"
      },
      "source": [
        "#### 5.14 F値を算出して下さい。※F値（F1-measure）は適合率と再現率の調和平均のことです。"
      ]
    },
    {
      "cell_type": "code",
      "metadata": {
        "id": "gP5yD2Fae3fp"
      },
      "source": [
        ""
      ],
      "execution_count": 9,
      "outputs": []
    },
    {
      "cell_type": "markdown",
      "metadata": {
        "id": "6XklnX-Qe3fp"
      },
      "source": [
        "#### 5.15 生存していた人を評価する指標だと軒並み「0」になってしまうことが確認できました。正解率は分かりやすい指標ですが、今回のように「生存」と「死亡」の割合に差があるケースだと、間違った示唆を生み出してしまう可能性があります。それでは、次はGridSearchCVのscoring引数に'f1'と指定することでf値を指標としたグリッドサーチを行なってください。max_depthパラメータを2から4の値で探索してください。また、最適なモデルを用いて、学習データに使用しなかった「目的変数の検証データ（y_test）」を使用して、f値を算出してください。"
      ]
    },
    {
      "cell_type": "markdown",
      "source": [
        ">用いる分割方法は、層化k分割交差検証法で、random_state引数に0, n_splits引数に5, shuffle引数にTrueを指定してください。"
      ],
      "metadata": {
        "id": "7QsSpAVK5Xkw"
      }
    },
    {
      "cell_type": "code",
      "metadata": {
        "id": "ILVaeEHue3fp"
      },
      "source": [
        ""
      ],
      "execution_count": 9,
      "outputs": []
    },
    {
      "cell_type": "markdown",
      "metadata": {
        "id": "1hZVTUmae3fx"
      },
      "source": [
        "#### 5.16 変数追加も考えてみましょう。「sex」の値ごとの死亡者数と生存者数をそれぞれ棒グラフで重ねて描画してください。その際に、それぞれに「死亡者」、「生存者」という凡例を表示して、グラフは半透明にしてください。"
      ]
    },
    {
      "cell_type": "code",
      "metadata": {
        "id": "g4Um9Lzbe3fx"
      },
      "source": [
        ""
      ],
      "execution_count": 9,
      "outputs": []
    },
    {
      "cell_type": "markdown",
      "metadata": {
        "id": "XVYXrYTae3fy"
      },
      "source": [
        "#### 5.17 「sex」の変数は予測に寄与する可能性がありそうです。X_trainとX_testの変数にtitanic_dataからsexを追加して下さい。インデックスを変えないように注意して下さい。"
      ]
    },
    {
      "cell_type": "code",
      "metadata": {
        "id": "FFheoqQJe3fy"
      },
      "source": [
        ""
      ],
      "execution_count": 9,
      "outputs": []
    },
    {
      "cell_type": "markdown",
      "metadata": {
        "id": "COYS80TDe3fy"
      },
      "source": [
        "#### 5.18 「sex」はカテゴリ変数なので、入力データとして用いることができません。maleを0、femaleを1に変更し、数字に変わっていることを確認して下さい。"
      ]
    },
    {
      "cell_type": "code",
      "metadata": {
        "id": "-zRJtcCee3fz"
      },
      "source": [
        ""
      ],
      "execution_count": 9,
      "outputs": []
    },
    {
      "cell_type": "markdown",
      "metadata": {
        "id": "SjAMe_S7e3fz"
      },
      "source": [
        "#### 5.19「5.15」と同様の処理を行なって、最適なモデルにおけるf値を算出してください。 "
      ]
    },
    {
      "cell_type": "code",
      "metadata": {
        "id": "cRxfeXgKe3fz"
      },
      "source": [
        ""
      ],
      "execution_count": 9,
      "outputs": []
    },
    {
      "cell_type": "markdown",
      "source": [
        "精度が少し向上しました"
      ],
      "metadata": {
        "id": "pclQ-lvU6SLP"
      }
    },
    {
      "cell_type": "markdown",
      "metadata": {
        "id": "edOWp4hue3f2"
      },
      "source": [
        "### 6. ランダムフォレストの方法について学習します。（15問）"
      ]
    },
    {
      "cell_type": "markdown",
      "metadata": {
        "id": "dJI5Smrfe3f2"
      },
      "source": [
        "#### ランダムフォレストは機械学習のアルゴリズムのひとつで、決定木を統合させて汎化能力を向上させる、アンサンブル学習アルゴリズムです。分類（判別）・回帰（予測）どちらも使用することができます。アンサンブル学習は精度が高くなる傾向にあります。（モデルを作成するときはrandom_state=0を指定してください。）"
      ]
    },
    {
      "cell_type": "markdown",
      "metadata": {
        "id": "xb7c9-Jee3f2"
      },
      "source": [
        "#### 6.1 ランダムフォレスト（分類木）のモジュールをインポートして下さい。"
      ]
    },
    {
      "cell_type": "code",
      "metadata": {
        "id": "VcSJvT5Oe3f3"
      },
      "source": [
        ""
      ],
      "execution_count": 9,
      "outputs": []
    },
    {
      "cell_type": "markdown",
      "metadata": {
        "id": "JjX31vq9e3f3"
      },
      "source": [
        "#### 6.2 ランダムフォレスト分類木のrandom_state引数に「0」を指定し、random_forestという変数名のインスタンスを生成してください。※random_stateに数字を入れることで、結果を固定することができます。※random_stateに数字を入れることで、結果を固定することができます。"
      ]
    },
    {
      "cell_type": "code",
      "metadata": {
        "scrolled": true,
        "id": "a9EBJVVke3f3"
      },
      "source": [
        ""
      ],
      "execution_count": 9,
      "outputs": []
    },
    {
      "cell_type": "markdown",
      "metadata": {
        "id": "yu2ksDHIe3f4"
      },
      "source": [
        "#### 6.3 fit関数を使い、学習データを使用して、ランダムフォレストの学習を行って下さい。"
      ]
    },
    {
      "cell_type": "code",
      "metadata": {
        "id": "monOs4t6e3f4"
      },
      "source": [
        ""
      ],
      "execution_count": 9,
      "outputs": []
    },
    {
      "cell_type": "markdown",
      "metadata": {
        "id": "sjXs9xUZe3f4"
      },
      "source": [
        "#### 6.4 作成したモデルを用いて、新規データ（X_test）に対する予測値を出力してください。※ここが「予測」と呼ばれる処理になります。"
      ]
    },
    {
      "cell_type": "code",
      "metadata": {
        "scrolled": true,
        "id": "_Banvav8e3f4"
      },
      "source": [
        ""
      ],
      "execution_count": 9,
      "outputs": []
    },
    {
      "cell_type": "markdown",
      "metadata": {
        "id": "dzMfwxnge3f4"
      },
      "source": [
        "#### 6.5 混同行列を算出して下さい。"
      ]
    },
    {
      "cell_type": "code",
      "metadata": {
        "id": "bJrDaBRUe3f4"
      },
      "source": [
        ""
      ],
      "execution_count": 9,
      "outputs": []
    },
    {
      "cell_type": "markdown",
      "metadata": {
        "id": "N5VLoLlAe3f5"
      },
      "source": [
        "#### 6.6 F値を算出して下さい。"
      ]
    },
    {
      "cell_type": "code",
      "metadata": {
        "scrolled": true,
        "id": "DD9UM_5-e3f5"
      },
      "source": [
        ""
      ],
      "execution_count": 9,
      "outputs": []
    },
    {
      "cell_type": "markdown",
      "metadata": {
        "id": "gYr9sgZne3f5"
      },
      "source": [
        "#### 6.7 デフォルト設定だとF値があまり良くないです。ランダムフォレストの主要パラメータであるn_estimotrs（木の数）、max_depth（木の深さ）を変更して見ましょう。100から500まで100おきに数値が格納されたn_estimators_listという変数名のリスト、2から5までの数値が格納されたmax_depth_listという変数名のリストを作成してください。"
      ]
    },
    {
      "cell_type": "code",
      "metadata": {
        "id": "rGMLU86pe3f5"
      },
      "source": [
        ""
      ],
      "execution_count": 9,
      "outputs": []
    },
    {
      "cell_type": "markdown",
      "metadata": {
        "id": "h2YGso5Le3f5"
      },
      "source": [
        "#### 6.8 ランダムフォレスト分類木のn_estimators引数を「6.7」のn_estimators_list, max_depth引数を「6.7」のmax_depth_listの範囲で探索することによって、f値を指標としたグリッドサーチを行なってください。また、最も性能が良かったモデルを利用して学習データに使用しなかった「目的変数の検証データ（y_test）」に対してf値を算出してください。"
      ]
    },
    {
      "cell_type": "markdown",
      "source": [
        ">用いる分割方法は、層化k分割交差検証法で、random_state引数に0, n_splits引数に5, shuffle引数にTrueを指定してください。"
      ],
      "metadata": {
        "id": "RgYl6H3g8bvv"
      }
    },
    {
      "cell_type": "code",
      "metadata": {
        "scrolled": true,
        "id": "e22Y35KZe3f5"
      },
      "source": [
        ""
      ],
      "execution_count": 9,
      "outputs": []
    },
    {
      "cell_type": "markdown",
      "metadata": {
        "id": "ZUGLWbh3e3f6"
      },
      "source": [
        "#### 6.9 目的変数が量的変数の場合（回帰）を確認していきましょう。目的変数を「fare」に変更し、説明変数から削除して下さい。「age」,「sibsp」,「parch」,「sex」から「fare」を予測するモデルを作成することになります。"
      ]
    },
    {
      "cell_type": "code",
      "metadata": {
        "id": "r8OskDUhe3f6"
      },
      "source": [
        ""
      ],
      "execution_count": 9,
      "outputs": []
    },
    {
      "cell_type": "markdown",
      "metadata": {
        "id": "XC8bLjlce3f6"
      },
      "source": [
        "#### 6.10 ランダムフォレストには回帰木も存在し、そのモジュール名は『RandomForestRegressor』です。ランダムフォレストの分類木と同様にこれをインポートしてください。"
      ]
    },
    {
      "cell_type": "code",
      "metadata": {
        "id": "Xnc7kmPPe3f7"
      },
      "source": [
        ""
      ],
      "execution_count": 9,
      "outputs": []
    },
    {
      "cell_type": "markdown",
      "metadata": {
        "id": "IyIPf6m6e3f7"
      },
      "source": [
        "#### 6.11 ランダムフォレスト回帰木のrandom_state引数に「0」を指定し、random_forestという変数名のインスタンスを生成してください。※random_stateに数字を入れることで、結果を固定することができます。※random_stateに数字を入れることで、結果を固定することができます。"
      ]
    },
    {
      "cell_type": "code",
      "metadata": {
        "scrolled": true,
        "id": "GBBKE60re3f7"
      },
      "source": [
        ""
      ],
      "execution_count": 9,
      "outputs": []
    },
    {
      "cell_type": "markdown",
      "metadata": {
        "id": "Nt_PhByge3f7"
      },
      "source": [
        "#### 6.12 fit関数を使い、学習データを使用してランダムフォレストの学習を行って下さい。"
      ]
    },
    {
      "cell_type": "code",
      "metadata": {
        "id": "JUwoNltde3f7"
      },
      "source": [
        ""
      ],
      "execution_count": 9,
      "outputs": []
    },
    {
      "cell_type": "markdown",
      "metadata": {
        "id": "4hnAUWxVe3f7"
      },
      "source": [
        "#### 6.13 作成したモデルを用いて、新規データ（X_test）に対する予測値を出力（上から50行）してください。※ここが「予測」と呼ばれる処理になります。"
      ]
    },
    {
      "cell_type": "code",
      "metadata": {
        "scrolled": true,
        "id": "L9o9HW2Xe3f7"
      },
      "source": [
        ""
      ],
      "execution_count": 9,
      "outputs": []
    },
    {
      "cell_type": "markdown",
      "metadata": {
        "id": "rMnU4n9De3f8"
      },
      "source": [
        "#### 6.14 実測値と予測値の平均絶対パーセント誤差を出力して下さい。"
      ]
    },
    {
      "cell_type": "code",
      "metadata": {
        "id": "cnBot1Uge3f8"
      },
      "source": [
        ""
      ],
      "execution_count": 9,
      "outputs": []
    },
    {
      "cell_type": "markdown",
      "metadata": {
        "id": "ia7JLxsYe3f8"
      },
      "source": [
        "#### 6.15 縦軸に実測値、横軸に予測値をとる散布図を描画して下さい。"
      ]
    },
    {
      "cell_type": "code",
      "metadata": {
        "scrolled": true,
        "id": "OYyaQ91oe3f8"
      },
      "source": [
        ""
      ],
      "execution_count": 9,
      "outputs": []
    }
  ]
}