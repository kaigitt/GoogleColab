{
  "nbformat": 4,
  "nbformat_minor": 0,
  "metadata": {
    "anaconda-cloud": {},
    "kernelspec": {
      "display_name": "Python 3",
      "language": "python",
      "name": "python3"
    },
    "language_info": {
      "codemirror_mode": {
        "name": "ipython",
        "version": 3
      },
      "file_extension": ".py",
      "mimetype": "text/x-python",
      "name": "python",
      "nbconvert_exporter": "python",
      "pygments_lexer": "ipython3",
      "version": "3.7.6"
    },
    "latex_envs": {
      "LaTeX_envs_menu_present": true,
      "autocomplete": true,
      "bibliofile": "biblio.bib",
      "cite_by": "apalike",
      "current_citInitial": 1,
      "eqLabelWithNumbers": true,
      "eqNumInitial": 1,
      "hotkeys": {
        "equation": "Ctrl-E",
        "itemize": "Ctrl-I"
      },
      "labels_anchors": false,
      "latex_user_defs": false,
      "report_style_numbering": false,
      "user_envs_cfg": false
    },
    "toc": {
      "nav_menu": {
        "height": "336px",
        "width": "252px"
      },
      "number_sections": true,
      "sideBar": true,
      "skip_h1_title": false,
      "title_cell": "Table of Contents",
      "title_sidebar": "Contents",
      "toc_cell": false,
      "toc_position": {
        "height": "calc(100% - 180px)",
        "left": "10px",
        "top": "150px",
        "width": "254px"
      },
      "toc_section_display": "block",
      "toc_window_display": true
    },
    "varInspector": {
      "cols": {
        "lenName": 16,
        "lenType": 16,
        "lenVar": 40
      },
      "kernels_config": {
        "python": {
          "delete_cmd_postfix": "",
          "delete_cmd_prefix": "del ",
          "library": "var_list.py",
          "varRefreshCmd": "print(var_dic_list())"
        },
        "r": {
          "delete_cmd_postfix": ") ",
          "delete_cmd_prefix": "rm(",
          "library": "var_list.r",
          "varRefreshCmd": "cat(var_dic_list()) "
        }
      },
      "types_to_exclude": [
        "module",
        "function",
        "builtin_function_or_method",
        "instance",
        "_Feature"
      ],
      "window_display": false
    },
    "colab": {
      "name": "教師あり学習の全体像・手法_editor.ipynb のコピー",
      "provenance": [],
      "collapsed_sections": [
        "S0-Uia5we3fZ",
        "kwoewovve3fe",
        "LXTk8vqde3fi",
        "kmzCP5Fue3fk",
        "dJI5Smrfe3f2"
      ],
      "include_colab_link": true
    }
  },
  "cells": [
    {
      "cell_type": "markdown",
      "metadata": {
        "id": "view-in-github",
        "colab_type": "text"
      },
      "source": [
        "<a href=\"https://colab.research.google.com/github/kaigitt/GoogleColab/blob/master/%E6%95%99%E5%B8%AB%E3%81%82%E3%82%8A%E5%AD%A6%E7%BF%92%E3%81%AE%E5%85%A8%E4%BD%93%E5%83%8F%E3%83%BB%E6%89%8B%E6%B3%95_editor_ipynb_%E3%81%AE%E3%82%B3%E3%83%94%E3%83%BC.ipynb\" target=\"_parent\"><img src=\"https://colab.research.google.com/assets/colab-badge.svg\" alt=\"Open In Colab\"/></a>"
      ]
    },
    {
      "cell_type": "markdown",
      "metadata": {
        "id": "uCjPmuTqe3fK"
      },
      "source": [
        "# 機械学習実装"
      ]
    },
    {
      "cell_type": "markdown",
      "metadata": {
        "id": "I0Eg9H-je3fO"
      },
      "source": [
        "1. データの特徴について確認します。（5問）\n",
        "    - 各変数のデータ型、行列数、統計量を算出し、今回扱うデータの外観を把握します。\n",
        "2. データを加工する方法について学習します。（11問）\n",
        "    - 各変数をモデルに入れる形に整えます。（特徴量生成フェーズ）\n",
        "3. 特徴量の選別方法について学習します。（10問）\n",
        "    - 各特徴量の詳細な特徴を把握し、目的変数との関連性を確認します。（特徴量評価フェーズ）\n",
        "4. 学習データと検証データに分割することについて学習します。（3問）\n",
        "    - 学習に使用したデータは検証に使用できません。モデリング前の下準備について把握します。\n",
        "5. 決定木モデルについて学習します。（分類）（19問）\n",
        "    - 決定木モデルを参考に機械学習のフローについて理解し、精度を算出することが目的です。\n",
        "6. ランダムフォレストについて学習します。（分類、回帰）（15問）\n",
        "    - ランダムフォレストモデルで精度を算出することが目的です。\n"
      ]
    },
    {
      "cell_type": "markdown",
      "metadata": {
        "id": "XpyN9l10e3fP"
      },
      "source": [
        "### 0. 事前準備"
      ]
    },
    {
      "cell_type": "markdown",
      "source": [
        "#### 0.0  次のコードを実行してください。"
      ],
      "metadata": {
        "id": "uY07LGWT-M7O"
      }
    },
    {
      "cell_type": "code",
      "source": [
        "# こちらのセルを実行してください。\n",
        "!pip install japanize-matplotlib"
      ],
      "metadata": {
        "id": "crbDt20g-Sx0"
      },
      "execution_count": null,
      "outputs": []
    },
    {
      "cell_type": "markdown",
      "metadata": {
        "id": "GEfUaz47e3fQ"
      },
      "source": [
        "#### 0.1  次のモジュールを読み込んで下さい。"
      ]
    },
    {
      "cell_type": "markdown",
      "source": [
        "- numpy\n",
        "- pandas\n",
        "- matplotlib.pyplot\n",
        "- seaborn\n",
        "- japanize_matplotlib"
      ],
      "metadata": {
        "id": "EOO4SNhUrWa_"
      }
    },
    {
      "cell_type": "code",
      "metadata": {
        "id": "5vyfel2Pe3fQ"
      },
      "source": [
        ""
      ],
      "execution_count": null,
      "outputs": []
    },
    {
      "cell_type": "markdown",
      "metadata": {
        "id": "5Y2Y7mNZe3fR"
      },
      "source": [
        "#### 0.2  訓練データと検証データを分ける関数、精度評価を行う関数を読み込んで下さい。"
      ]
    },
    {
      "cell_type": "code",
      "metadata": {
        "id": "WzRSiSKxe3fS"
      },
      "source": [
        ""
      ],
      "execution_count": null,
      "outputs": []
    },
    {
      "cell_type": "markdown",
      "metadata": {
        "id": "YSxDucOPe3fT"
      },
      "source": [
        "#### 0.3  次のコードを実行して、今回使用する「タイタニック」データを読み込んで下さい。"
      ]
    },
    {
      "cell_type": "code",
      "metadata": {
        "id": "ehyuaVmme3fT"
      },
      "source": [
        "# こちらのセルを実行してください。\n",
        "titanic_data = pd.read_csv(filepath_or_buffer='https://lms-assets.web-camp.io/curriculum/Python/date_set/titanic3.csv',\n",
        "                          sep=',', dtype={'pclass':'str'})\n",
        "titanic_data"
      ],
      "execution_count": null,
      "outputs": []
    },
    {
      "cell_type": "markdown",
      "metadata": {
        "id": "5lgLFEH0e3fU"
      },
      "source": [
        "#### 0.4  今回使用する「タイタニック」データは以下のようなデータになっています。"
      ]
    },
    {
      "cell_type": "markdown",
      "metadata": {
        "id": "Vla4K3kNe3fU"
      },
      "source": [
        "\n",
        "- Pclass: 　乗客の階級、1が一番位が高い\n",
        "- Survived: 　生存結果 (1: 生存, 0: 死亡)　\n",
        "- Name: 　乗客の名前\n",
        "- Sex:　 性別\n",
        "- Age: 　年齢\n",
        "- SibSp: 　兄弟、配偶者の数\n",
        "- Parch: 　両親、子供の数\n",
        "- Ticket: 　チケット番号\n",
        "- Fare: 　乗船料金\n",
        "- Cabin: 　部屋番号\n",
        "- Embarked: 　乗船した港　Cherbourg、Queenstown、Southamptonの3種類\n",
        "- boat: 　乗ったボート（生きていた場合）\n",
        "- body: 　身体識別番号\n",
        "- home.dest: 　目的地"
      ]
    },
    {
      "cell_type": "markdown",
      "metadata": {
        "id": "7aEZh_s9e3fV"
      },
      "source": [
        "### 1. データの特徴について確認します。（6問）"
      ]
    },
    {
      "cell_type": "markdown",
      "metadata": {
        "id": "XNc94Rd2e3fV"
      },
      "source": [
        "#### 1.1 レコード数を確認してください。"
      ]
    },
    {
      "cell_type": "code",
      "metadata": {
        "id": "ZUsCK5wee3fV"
      },
      "source": [
        ""
      ],
      "execution_count": null,
      "outputs": []
    },
    {
      "cell_type": "markdown",
      "metadata": {
        "id": "S53saetPe3fW"
      },
      "source": [
        "#### 1.2 カラムの数を確認してください。"
      ]
    },
    {
      "cell_type": "code",
      "metadata": {
        "id": "dXezh5eXe3fX"
      },
      "source": [
        ""
      ],
      "execution_count": null,
      "outputs": []
    },
    {
      "cell_type": "markdown",
      "metadata": {
        "id": "1aDGq4ANe3fX"
      },
      "source": [
        "#### 1.3 上から5行データを確認してください。"
      ]
    },
    {
      "cell_type": "code",
      "metadata": {
        "id": "hgFC1VbQe3fX"
      },
      "source": [
        ""
      ],
      "execution_count": null,
      "outputs": []
    },
    {
      "cell_type": "markdown",
      "metadata": {
        "id": "SxlC2b-_e3fY"
      },
      "source": [
        "#### 1.4 次のコードを実行することで、各列のデータ型を確認してください。"
      ]
    },
    {
      "cell_type": "code",
      "metadata": {
        "id": "Z6Cucbcle3fY"
      },
      "source": [
        "# こちらのセルを実行してください。\n",
        "titanic_data.dtypes"
      ],
      "execution_count": null,
      "outputs": []
    },
    {
      "cell_type": "markdown",
      "source": [
        "　これで、各列のデータ型が表示されました。\n",
        "それぞれ\n",
        "- object(文字列のデータ)\n",
        "- int64(整数型のデータ)\n",
        "- float64(実数型のデータ)\n",
        "\n",
        "となっています。\n"
      ],
      "metadata": {
        "id": "31NgODX_fRKn"
      }
    },
    {
      "cell_type": "markdown",
      "metadata": {
        "id": "JDeovKhhe3fY"
      },
      "source": [
        "#### 1.5 各カラムの統計量を算出してください。"
      ]
    },
    {
      "cell_type": "code",
      "metadata": {
        "id": "vwDRfcQre3fZ"
      },
      "source": [
        ""
      ],
      "execution_count": null,
      "outputs": []
    },
    {
      "cell_type": "markdown",
      "metadata": {
        "id": "-6EWOIyee3fZ"
      },
      "source": [
        "### 2.データを加工する方法について学習します。（11問）"
      ]
    },
    {
      "cell_type": "markdown",
      "metadata": {
        "id": "S0-Uia5we3fZ"
      },
      "source": [
        "#### モデルには数値データしか扱えません。また欠損値があると扱えないモデルも存在します。このステップではデータ加工し、モデルに入れる特徴量を作成するまでのステップを学習します。※本来の機械学習においては一番大事なフェーズです。今回は基本的な前処理方法を学習しますが、「実態のデータを再現するような加工処理を施す」ことが大切です。"
      ]
    },
    {
      "cell_type": "markdown",
      "metadata": {
        "id": "s7993Z8Pe3fa"
      },
      "source": [
        "#### 2.1 object型のデータを削除し、削除されていることを確認してください。"
      ]
    },
    {
      "cell_type": "code",
      "metadata": {
        "scrolled": true,
        "id": "0rpfQ0_Fe3fa"
      },
      "source": [
        ""
      ],
      "execution_count": null,
      "outputs": []
    },
    {
      "cell_type": "markdown",
      "metadata": {
        "id": "YQmdUPT6e3fa"
      },
      "source": [
        "#### 2.2 各カラムの欠損値数を算出してください。(※object型のデータ除外後)"
      ]
    },
    {
      "cell_type": "code",
      "metadata": {
        "id": "dxgbvmEbe3fa"
      },
      "source": [
        ""
      ],
      "execution_count": null,
      "outputs": []
    },
    {
      "cell_type": "markdown",
      "metadata": {
        "id": "J1itAp1Ge3fa"
      },
      "source": [
        "#### 2.3 欠損値は補完する必要があります。「age」の分布を確認して下さい。"
      ]
    },
    {
      "cell_type": "code",
      "metadata": {
        "id": "gKHBBOTxe3fb"
      },
      "source": [
        ""
      ],
      "execution_count": null,
      "outputs": []
    },
    {
      "cell_type": "markdown",
      "metadata": {
        "id": "NURt0tjSe3fb"
      },
      "source": [
        "#### 2.4 分布を確認すると20代が多いようです。欠損値には「age」の平均値を補完してみましょう。"
      ]
    },
    {
      "cell_type": "markdown",
      "source": [
        ">strategy引数に'mean'を指定することで、平均値を用いた補完ができます。"
      ],
      "metadata": {
        "id": "_oFbI6qPvBCF"
      }
    },
    {
      "cell_type": "code",
      "metadata": {
        "id": "ffXgg3dbe3fb"
      },
      "source": [
        ""
      ],
      "execution_count": null,
      "outputs": []
    },
    {
      "cell_type": "markdown",
      "metadata": {
        "id": "V6Hkj_DMe3fb"
      },
      "source": [
        "#### 2.5 「age」に欠損値が無くなったことを確認してください。"
      ]
    },
    {
      "cell_type": "code",
      "metadata": {
        "scrolled": true,
        "id": "xVqqStH4e3fb"
      },
      "source": [
        ""
      ],
      "execution_count": null,
      "outputs": []
    },
    {
      "cell_type": "markdown",
      "metadata": {
        "id": "xtv5UyLQe3fc"
      },
      "source": [
        "#### 2.6 bodyの欠損値も補完する必要があります。「body」の分布を確認して下さい。"
      ]
    },
    {
      "cell_type": "code",
      "metadata": {
        "id": "0B6CPtz-e3fc"
      },
      "source": [
        ""
      ],
      "execution_count": null,
      "outputs": []
    },
    {
      "cell_type": "markdown",
      "metadata": {
        "id": "FKVHFdI7e3fc"
      },
      "source": [
        "#### 2.7 欠損値が非常に多いです。欠損に意味を持たせるために、今存在しない値である「－1」を補完してみましょう。"
      ]
    },
    {
      "cell_type": "code",
      "metadata": {
        "id": "fWyfW0GJe3fc"
      },
      "source": [
        ""
      ],
      "execution_count": null,
      "outputs": []
    },
    {
      "cell_type": "markdown",
      "metadata": {
        "id": "blqxMIOHe3fc"
      },
      "source": [
        "#### 2.8 bodyに欠損値が無くなったことを確認してください。"
      ]
    },
    {
      "cell_type": "code",
      "metadata": {
        "scrolled": true,
        "id": "dSWrBdZ7e3fc"
      },
      "source": [
        ""
      ],
      "execution_count": null,
      "outputs": []
    },
    {
      "cell_type": "markdown",
      "metadata": {
        "id": "SPMsDPNRe3fd"
      },
      "source": [
        "#### 2.9 fareの欠損値も補完する必要があります。「fare」の分布を確認して下さい。"
      ]
    },
    {
      "cell_type": "code",
      "metadata": {
        "id": "5ua_iIyfe3fd"
      },
      "source": [
        ""
      ],
      "execution_count": null,
      "outputs": []
    },
    {
      "cell_type": "markdown",
      "metadata": {
        "id": "j5qVy1HOe3fd"
      },
      "source": [
        "#### 2.10 fareの欠損値は1件です。レコードを削除しても殆ど影響が無いので、削除してしまいましょう。1行減ったことを確認して下さい。"
      ]
    },
    {
      "cell_type": "code",
      "metadata": {
        "id": "5CesgVOte3fd"
      },
      "source": [
        ""
      ],
      "execution_count": null,
      "outputs": []
    },
    {
      "cell_type": "markdown",
      "metadata": {
        "id": "BzG44hiWe3fd"
      },
      "source": [
        "#### 2.11 欠損値が無くなったことを確認して下さい。"
      ]
    },
    {
      "cell_type": "code",
      "metadata": {
        "id": "TGJ3m-2te3fe"
      },
      "source": [
        ""
      ],
      "execution_count": null,
      "outputs": []
    },
    {
      "cell_type": "markdown",
      "metadata": {
        "id": "rtyqdaqre3fe"
      },
      "source": [
        "### 3. 特徴量の選別方法について学習します。（10問）"
      ]
    },
    {
      "cell_type": "markdown",
      "metadata": {
        "id": "kwoewovve3fe"
      },
      "source": [
        "#### 目的変数と説明変数の関連性の調査を行います。目的変数に対してどういう変数が影響力を持っているか、前もって調査しておくことは大切です。その方法について学んでいきましょう。今回の目的変数は「survived」です。生存：1、死亡：0となります。"
      ]
    },
    {
      "cell_type": "markdown",
      "metadata": {
        "id": "vTo3Dtlse3fe"
      },
      "source": [
        "#### 3.1 「sibsp」のユニーク値毎に、生存割合を算出して下さい。※小数点3桁で表示して下さい。"
      ]
    },
    {
      "cell_type": "code",
      "metadata": {
        "id": "Oy88tiKpe3fe"
      },
      "source": [
        ""
      ],
      "execution_count": null,
      "outputs": []
    },
    {
      "cell_type": "markdown",
      "metadata": {
        "id": "_CVNjCPke3fe"
      },
      "source": [
        "#### 3.2 「parch」のユニーク値毎に、生存割合を算出してください。※小数点3桁で表示して下さい。"
      ]
    },
    {
      "cell_type": "code",
      "metadata": {
        "id": "kwsMD_wbe3ff"
      },
      "source": [
        ""
      ],
      "execution_count": null,
      "outputs": []
    },
    {
      "cell_type": "markdown",
      "metadata": {
        "id": "NH_iqUJ-e3ff"
      },
      "source": [
        "#### 3.3 「parch」の値ごとの死亡者数と生存者数をそれぞれ棒グラフで重ねて描画してください。その際に、それぞれに「死亡者」、「生存者」という凡例を表示して、グラフは半透明(引数alpha)にしてください。"
      ]
    },
    {
      "cell_type": "code",
      "metadata": {
        "id": "CsEG20E6e3ff"
      },
      "source": [
        ""
      ],
      "execution_count": null,
      "outputs": []
    },
    {
      "cell_type": "markdown",
      "metadata": {
        "id": "su3v9q3We3ff"
      },
      "source": [
        "#### 3.4 「age」はユニーク数が多く、値をグルーピングする必要があります。値を「10」刻みでグループ化し、各グループ毎に生存割合を算出してください。"
      ]
    },
    {
      "cell_type": "code",
      "metadata": {
        "id": "ycsMBOabe3ff"
      },
      "source": [
        ""
      ],
      "execution_count": null,
      "outputs": []
    },
    {
      "cell_type": "markdown",
      "metadata": {
        "id": "DG5kOEloe3fg"
      },
      "source": [
        "#### 3.5 「age」の値ごとの死亡者数と生存者数をそれぞれ棒グラフで重ねて描画してください。その際に、それぞれに「死亡者」、「生存者」という凡例を表示して、グラフは半透明(引数alpha)にしてください。また、棒グラフを描画する際にx軸の値はstr関数を適用することでstr型に直してください。"
      ]
    },
    {
      "cell_type": "code",
      "metadata": {
        "id": "nB9o6RB6e3fg"
      },
      "source": [
        ""
      ],
      "execution_count": null,
      "outputs": []
    },
    {
      "cell_type": "markdown",
      "metadata": {
        "id": "yUmFuHJie3fg"
      },
      "source": [
        "#### 3.6 「fare」はユニーク数が多く、値をグルーピングする必要があります。値を昇順にして上から順番に「件数ができるだけ均等になるよう」グループ化を行い、各グループ毎に生存割合を算出してください。※値に重複があるので、完全に均等にする必要はありません。"
      ]
    },
    {
      "cell_type": "code",
      "metadata": {
        "id": "wJTCtNs4e3fg"
      },
      "source": [
        ""
      ],
      "execution_count": null,
      "outputs": []
    },
    {
      "cell_type": "markdown",
      "metadata": {
        "id": "LvDWS8iVe3fg"
      },
      "source": [
        "#### 3.7 「3.6で分けたグループ」ごとの死亡者数と生存者数をそれぞれ棒グラフで重ねて描画してください。その際に、それぞれに「死亡者」、「生存者」という凡例を表示して、グラフは半透明にしてください。また、棒グラフを描画する際にx軸の値はstr関数を適用することでstr型に直してください。"
      ]
    },
    {
      "cell_type": "code",
      "metadata": {
        "id": "U3c0U1k0e3fg"
      },
      "source": [
        ""
      ],
      "execution_count": null,
      "outputs": []
    },
    {
      "cell_type": "markdown",
      "metadata": {
        "id": "KqHqM0k5e3fh"
      },
      "source": [
        "#### 3.8 「body」はユニーク数が多く、値をグルーピングする必要があります。最大値と最小値の間を等間隔で5分割してください。また、各グループ毎に生存割合を算出してください。※値に重複があるので、完全に均等にする必要はありません。"
      ]
    },
    {
      "cell_type": "code",
      "metadata": {
        "id": "_8cHOnHle3fh"
      },
      "source": [
        ""
      ],
      "execution_count": null,
      "outputs": []
    },
    {
      "cell_type": "markdown",
      "metadata": {
        "id": "9eyzHXwre3fh"
      },
      "source": [
        "#### 3.9 「3.8で分けたグループ」ごとの死亡者数と生存者数をそれぞれ棒グラフで重ねて描画してください。その際に、それぞれに「死亡者」、「生存者」という凡例を表示して、グラフは半透明にしてください。また、棒グラフを描画する際にx軸の値はstr関数を適用することでstr型に直してください。"
      ]
    },
    {
      "cell_type": "code",
      "metadata": {
        "scrolled": true,
        "id": "-D6YEIWJe3fh"
      },
      "source": [
        ""
      ],
      "execution_count": null,
      "outputs": []
    },
    {
      "cell_type": "markdown",
      "metadata": {
        "id": "6OOeV_Wfe3fh"
      },
      "source": [
        "#### 3.10 各変数間の相関係数を算出してください。"
      ]
    },
    {
      "cell_type": "code",
      "metadata": {
        "id": "kk0x0f_Ce3fh"
      },
      "source": [
        ""
      ],
      "execution_count": null,
      "outputs": []
    },
    {
      "cell_type": "markdown",
      "metadata": {
        "id": "4egvgNdqe3fi"
      },
      "source": [
        "### 4. 学習データと検証データに分割する方法を学習します。（3問）"
      ]
    },
    {
      "cell_type": "markdown",
      "metadata": {
        "id": "LXTk8vqde3fi"
      },
      "source": [
        "#### 先程のフェーズでは、全て数値データに変換し、今回予測する「生存」との関連性を評価しました。今フェーズはモデルの作成の為の最終準備です。未知のデータに対する予測値を算出したいので、学習に使用するデータと検証に使用するデータを分割し、擬似的に未知データを作り出します。"
      ]
    },
    {
      "cell_type": "markdown",
      "metadata": {
        "id": "GwO0ZWxIe3fi"
      },
      "source": [
        "#### ※下記は、scikit-learn==1.0.2の結果です。バージョン毎で表示形式が異なる場合がございます。数値がおおよそ一致していれば、問題ございません。\n",
        "#### 4.1 決定木(分類木)のモジュールをインポートして下さい。"
      ]
    },
    {
      "cell_type": "code",
      "metadata": {
        "id": "pXMU_EkVe3fj"
      },
      "source": [
        ""
      ],
      "execution_count": null,
      "outputs": []
    },
    {
      "cell_type": "markdown",
      "metadata": {
        "id": "n0BA_jO2e3fj"
      },
      "source": [
        "#### 4.2 説明変数と目的変数を分けて、それぞれ「X」,「y」と言う変数名に格納し、レコード数, カラム数を確認して下さい。"
      ]
    },
    {
      "cell_type": "code",
      "metadata": {
        "id": "mrIokxRbe3fj"
      },
      "source": [
        ""
      ],
      "execution_count": null,
      "outputs": []
    },
    {
      "cell_type": "markdown",
      "metadata": {
        "id": "Eo29uCX9e3fk"
      },
      "source": [
        "#### 4.3 説明変数、目的変数をそれぞれ学習データと検証データを7:3の割合で作成して下さい。変数名はX_train（説明変数の学習データ）, X_test（説明変数の検証データ）, y_train（目的変数の学習データ）, y_test（目的変数の検証データ）として下さい。test_size引数を指定することで検証データの割合を指定できます。その際インデックスのシャッフルはしないようにして、random_state引数に0を指定してください。また、各変数の上5行を確認して下さい。"
      ]
    },
    {
      "cell_type": "code",
      "metadata": {
        "scrolled": true,
        "id": "RVusi8oNe3fk"
      },
      "source": [
        ""
      ],
      "execution_count": null,
      "outputs": []
    },
    {
      "cell_type": "markdown",
      "metadata": {
        "id": "rpMUXKCYe3fk"
      },
      "source": [
        "### 5. モデリング方法について学習します。（19問）"
      ]
    },
    {
      "cell_type": "markdown",
      "metadata": {
        "id": "kmzCP5Fue3fk"
      },
      "source": [
        "#### この章では、決定木モデルを例にして機械学習の一般的なフロー（パラメータチューニング、特徴量の追加、評価指標）を学習します。（モデルを作成するときはrandom_state=0を指定してください。）"
      ]
    },
    {
      "cell_type": "markdown",
      "metadata": {
        "id": "oDZSFnuNe3fk"
      },
      "source": [
        "#### 5.1 分類木のrandom_state引数に「0」を指定し、decision_treeという変数名のインスタンスを生成してください。※random_stateに数字を入れることで、結果を固定することができます。"
      ]
    },
    {
      "cell_type": "code",
      "metadata": {
        "scrolled": true,
        "id": "5z07yG6Pe3fk"
      },
      "source": [
        ""
      ],
      "execution_count": null,
      "outputs": []
    },
    {
      "cell_type": "markdown",
      "metadata": {
        "id": "v54x5r6we3fl"
      },
      "source": [
        "#### 5.2 fit関数を使い、学習データを使用して決定木を作成して下さい。※ここが「学習」と呼ばれる処理になります。"
      ]
    },
    {
      "cell_type": "code",
      "metadata": {
        "id": "3yIeL4DTe3fl"
      },
      "source": [
        ""
      ],
      "execution_count": null,
      "outputs": []
    },
    {
      "cell_type": "markdown",
      "metadata": {
        "id": "AinCZb6Xe3fl"
      },
      "source": [
        "#### 5.3 「5.2」で決定木は作成できました。作成した決定木を用いて、新規データ（X_test）に対する予測値を出力してください。※ここが「予測」と呼ばれる処理になります。"
      ]
    },
    {
      "cell_type": "code",
      "metadata": {
        "scrolled": true,
        "id": "dh_k8pRDe3fl"
      },
      "source": [
        ""
      ],
      "execution_count": null,
      "outputs": []
    },
    {
      "cell_type": "markdown",
      "metadata": {
        "id": "1l6dLIvee3fl"
      },
      "source": [
        "#### 5.4 精度を確認していきましょう。学習データに使用しなかった「目的変数の検証データ（y_test）」を使用して、正解率を算出してください。"
      ]
    },
    {
      "cell_type": "code",
      "metadata": {
        "id": "3ewXBfA1e3fl"
      },
      "source": [
        ""
      ],
      "execution_count": null,
      "outputs": []
    },
    {
      "cell_type": "markdown",
      "metadata": {
        "id": "NUpN2IxVe3fl"
      },
      "source": [
        "#### 5.5 今回の結果の混同行列を出力してください。"
      ]
    },
    {
      "cell_type": "code",
      "metadata": {
        "id": "_kgIoFcTe3fm"
      },
      "source": [
        ""
      ],
      "execution_count": null,
      "outputs": []
    },
    {
      "cell_type": "markdown",
      "metadata": {
        "id": "neIkYyRwe3fm"
      },
      "source": [
        "#### 5.6 正解率は算出できましたが、まだまだ向上の余地がありそうです。「max_depth」を「4」に設定して正解率を算出し直しましょう。"
      ]
    },
    {
      "cell_type": "code",
      "metadata": {
        "id": "jZRD7xg2e3fm"
      },
      "source": [
        ""
      ],
      "execution_count": null,
      "outputs": []
    },
    {
      "cell_type": "markdown",
      "metadata": {
        "id": "LS91fqKle3fm"
      },
      "source": [
        "#### 5.7 やや正解率が向上したようです。混同行列も確認してみましょう。"
      ]
    },
    {
      "cell_type": "code",
      "metadata": {
        "id": "ITXEyJxfe3fm"
      },
      "source": [
        ""
      ],
      "execution_count": null,
      "outputs": []
    },
    {
      "cell_type": "markdown",
      "metadata": {
        "id": "PFQFz7aze3fm"
      },
      "source": [
        "#### 5.8 様々なパラメータを試す余地がありそうです。2～6までの順続きのリストを作成し、「min_samples_split_list」と名前を付けて下さい。"
      ]
    },
    {
      "cell_type": "code",
      "metadata": {
        "id": "ryjPepQae3fn"
      },
      "source": [
        ""
      ],
      "execution_count": null,
      "outputs": []
    },
    {
      "cell_type": "markdown",
      "metadata": {
        "id": "TGpxYIvhe3fn"
      },
      "source": [
        "#### 5.9 X_train, y_trainを用いたグリッドサーチをすることによって、「5.8」で作成したリストの要素分、「min_samples_split」をパラメータチューニングしてください。また、最適なモデルを用いて、学習データに使用しなかった「目的変数の検証データ（y_test）」を使用して、正解率を算出してください。※「min_samples_split」とは、分岐に必要な最小サンプル数のことです。過学習を抑制するために使用されます。"
      ]
    },
    {
      "cell_type": "markdown",
      "source": [
        ">GridSearchCVのfitさせたインスタンスに対して、**変数名=インスタンス.best_estimator_**とすることで最適なモデルを代入できます。そのモデルを用いて学習データに使用しなかった「目的変数の検証データ（y_test）」に対して、正解率を算出してください。"
      ],
      "metadata": {
        "id": "qJOhxGBG4nKL"
      }
    },
    {
      "cell_type": "markdown",
      "source": [
        ">用いる分割方法は、層化k分割交差検証法で、random_state引数に0, n_splits引数に5, shuffle引数にTrueを指定してください。"
      ],
      "metadata": {
        "id": "VaQfk06_4sV_"
      }
    },
    {
      "cell_type": "code",
      "source": [
        ""
      ],
      "metadata": {
        "id": "2bYQJryPILZ-"
      },
      "execution_count": null,
      "outputs": []
    },
    {
      "cell_type": "markdown",
      "metadata": {
        "id": "6y2CdtLge3fn"
      },
      "source": [
        "#### 5.10 大きな効果は確認できませんでした。次は分類木のmin_impurity_decrease引数に0.06を指定して、X_train, y_trainで学習させた後に学習データに使用しなかった「目的変数の検証データ（y_test）」を使用して、正解率を算出してください。"
      ]
    },
    {
      "cell_type": "code",
      "metadata": {
        "id": "mFxLfEWee3fn"
      },
      "source": [
        ""
      ],
      "execution_count": null,
      "outputs": []
    },
    {
      "cell_type": "markdown",
      "metadata": {
        "id": "78xBuumDe3fo"
      },
      "source": [
        "#### 5.11 正解率は「min_impurity_decrease」が0.06で向上していることが確認できますが、本当にこれで大丈夫でしょうか。混同行列を確認してきましょう。"
      ]
    },
    {
      "cell_type": "code",
      "metadata": {
        "scrolled": true,
        "id": "tzLnzZ1ze3fo"
      },
      "source": [
        ""
      ],
      "execution_count": null,
      "outputs": []
    },
    {
      "cell_type": "markdown",
      "metadata": {
        "id": "eSnxc_fSe3fo"
      },
      "source": [
        "#### 5.12 全ての人に対し「0＝死亡」と予測してしまっているようです。正解率ではなく他の指標も確認してきましょう。適合率を算出して下さい。※適合率は生存と予測された人間のうち正解した人間の割合のことです。"
      ]
    },
    {
      "cell_type": "code",
      "metadata": {
        "id": "KMg5GAN8e3fo"
      },
      "source": [
        ""
      ],
      "execution_count": null,
      "outputs": []
    },
    {
      "cell_type": "markdown",
      "metadata": {
        "id": "yYsUxU5ne3fp"
      },
      "source": [
        "#### 5.13 再現率を算出して下さい。※再現率は生存した人間のうち正解した人間の割合のことです。"
      ]
    },
    {
      "cell_type": "code",
      "metadata": {
        "id": "UXT-paM4e3fp"
      },
      "source": [
        ""
      ],
      "execution_count": null,
      "outputs": []
    },
    {
      "cell_type": "markdown",
      "metadata": {
        "id": "0P4YC9gde3fp"
      },
      "source": [
        "#### 5.14 F値を算出して下さい。※F値（F1-measure）は適合率と再現率の調和平均のことです。"
      ]
    },
    {
      "cell_type": "code",
      "metadata": {
        "id": "gP5yD2Fae3fp"
      },
      "source": [
        ""
      ],
      "execution_count": null,
      "outputs": []
    },
    {
      "cell_type": "markdown",
      "metadata": {
        "id": "6XklnX-Qe3fp"
      },
      "source": [
        "#### 5.15 生存していた人を評価する指標だと軒並み「0」になってしまうことが確認できました。正解率は分かりやすい指標ですが、今回のように「生存」と「死亡」の割合に差があるケースだと、間違った示唆を生み出してしまう可能性があります。それでは、次はGridSearchCVのscoring引数に'f1'と指定することでf値を指標としたグリッドサーチを行なってください。max_depthパラメータを2から4の値で探索してください。また、最適なモデルを用いて、学習データに使用しなかった「目的変数の検証データ（y_test）」を使用して、f値を算出してください。"
      ]
    },
    {
      "cell_type": "markdown",
      "source": [
        ">用いる分割方法は、層化k分割交差検証法で、random_state引数に0, n_splits引数に5, shuffle引数にTrueを指定してください。"
      ],
      "metadata": {
        "id": "7QsSpAVK5Xkw"
      }
    },
    {
      "cell_type": "code",
      "metadata": {
        "id": "ILVaeEHue3fp"
      },
      "source": [
        ""
      ],
      "execution_count": null,
      "outputs": []
    },
    {
      "cell_type": "markdown",
      "metadata": {
        "id": "1hZVTUmae3fx"
      },
      "source": [
        "#### 5.16 変数追加も考えてみましょう。「sex」の値ごとの死亡者数と生存者数をそれぞれ棒グラフで重ねて描画してください。その際に、それぞれに「死亡者」、「生存者」という凡例を表示して、グラフは半透明にしてください。"
      ]
    },
    {
      "cell_type": "code",
      "metadata": {
        "id": "g4Um9Lzbe3fx"
      },
      "source": [
        ""
      ],
      "execution_count": null,
      "outputs": []
    },
    {
      "cell_type": "markdown",
      "metadata": {
        "id": "XVYXrYTae3fy"
      },
      "source": [
        "#### 5.17 「sex」の変数は予測に寄与する可能性がありそうです。X_trainとX_testの変数にtitanic_dataからsexを追加して下さい。インデックスを変えないように注意して下さい。"
      ]
    },
    {
      "cell_type": "code",
      "metadata": {
        "id": "FFheoqQJe3fy"
      },
      "source": [
        ""
      ],
      "execution_count": null,
      "outputs": []
    },
    {
      "cell_type": "markdown",
      "metadata": {
        "id": "COYS80TDe3fy"
      },
      "source": [
        "#### 5.18 「sex」はカテゴリ変数なので、入力データとして用いることができません。maleを0、femaleを1に変更し、数字に変わっていることを確認して下さい。"
      ]
    },
    {
      "cell_type": "code",
      "metadata": {
        "id": "-zRJtcCee3fz"
      },
      "source": [
        ""
      ],
      "execution_count": null,
      "outputs": []
    },
    {
      "cell_type": "markdown",
      "metadata": {
        "id": "SjAMe_S7e3fz"
      },
      "source": [
        "#### 5.19「5.15」と同様の処理を行なって、最適なモデルにおけるf値を算出してください。 "
      ]
    },
    {
      "cell_type": "code",
      "metadata": {
        "id": "cRxfeXgKe3fz"
      },
      "source": [
        ""
      ],
      "execution_count": null,
      "outputs": []
    },
    {
      "cell_type": "markdown",
      "source": [
        "精度が少し向上しました"
      ],
      "metadata": {
        "id": "pclQ-lvU6SLP"
      }
    },
    {
      "cell_type": "markdown",
      "metadata": {
        "id": "edOWp4hue3f2"
      },
      "source": [
        "### 6. ランダムフォレストの方法について学習します。（15問）"
      ]
    },
    {
      "cell_type": "markdown",
      "metadata": {
        "id": "dJI5Smrfe3f2"
      },
      "source": [
        "#### ランダムフォレストは機械学習のアルゴリズムのひとつで、決定木を統合させて汎化能力を向上させる、アンサンブル学習アルゴリズムです。分類（判別）・回帰（予測）どちらも使用することができます。アンサンブル学習は精度が高くなる傾向にあります。（モデルを作成するときはrandom_state=0を指定してください。）"
      ]
    },
    {
      "cell_type": "markdown",
      "metadata": {
        "id": "xb7c9-Jee3f2"
      },
      "source": [
        "#### 6.1 ランダムフォレスト（分類木）のモジュールをインポートして下さい。"
      ]
    },
    {
      "cell_type": "code",
      "metadata": {
        "id": "VcSJvT5Oe3f3"
      },
      "source": [
        ""
      ],
      "execution_count": null,
      "outputs": []
    },
    {
      "cell_type": "markdown",
      "metadata": {
        "id": "JjX31vq9e3f3"
      },
      "source": [
        "#### 6.2 ランダムフォレスト分類木のrandom_state引数に「0」を指定し、random_forestという変数名のインスタンスを生成してください。※random_stateに数字を入れることで、結果を固定することができます。※random_stateに数字を入れることで、結果を固定することができます。"
      ]
    },
    {
      "cell_type": "code",
      "metadata": {
        "scrolled": true,
        "id": "a9EBJVVke3f3"
      },
      "source": [
        ""
      ],
      "execution_count": null,
      "outputs": []
    },
    {
      "cell_type": "markdown",
      "metadata": {
        "id": "yu2ksDHIe3f4"
      },
      "source": [
        "#### 6.3 fit関数を使い、学習データを使用して、ランダムフォレストの学習を行って下さい。"
      ]
    },
    {
      "cell_type": "code",
      "metadata": {
        "id": "monOs4t6e3f4"
      },
      "source": [
        ""
      ],
      "execution_count": null,
      "outputs": []
    },
    {
      "cell_type": "markdown",
      "metadata": {
        "id": "sjXs9xUZe3f4"
      },
      "source": [
        "#### 6.4 作成したモデルを用いて、新規データ（X_test）に対する予測値を出力してください。※ここが「予測」と呼ばれる処理になります。"
      ]
    },
    {
      "cell_type": "code",
      "metadata": {
        "scrolled": true,
        "id": "_Banvav8e3f4"
      },
      "source": [
        ""
      ],
      "execution_count": null,
      "outputs": []
    },
    {
      "cell_type": "markdown",
      "metadata": {
        "id": "dzMfwxnge3f4"
      },
      "source": [
        "#### 6.5 混同行列を算出して下さい。"
      ]
    },
    {
      "cell_type": "code",
      "metadata": {
        "id": "bJrDaBRUe3f4"
      },
      "source": [
        ""
      ],
      "execution_count": null,
      "outputs": []
    },
    {
      "cell_type": "markdown",
      "metadata": {
        "id": "N5VLoLlAe3f5"
      },
      "source": [
        "#### 6.6 F値を算出して下さい。"
      ]
    },
    {
      "cell_type": "code",
      "metadata": {
        "scrolled": true,
        "id": "DD9UM_5-e3f5"
      },
      "source": [
        ""
      ],
      "execution_count": null,
      "outputs": []
    },
    {
      "cell_type": "markdown",
      "metadata": {
        "id": "gYr9sgZne3f5"
      },
      "source": [
        "#### 6.7 デフォルト設定だとF値があまり良くないです。ランダムフォレストの主要パラメータであるn_estimotrs（木の数）、max_depth（木の深さ）を変更して見ましょう。100から500まで100おきに数値が格納されたn_estimators_listという変数名のリスト、2から5までの数値が格納されたmax_depth_listという変数名のリストを作成してください。"
      ]
    },
    {
      "cell_type": "code",
      "metadata": {
        "id": "rGMLU86pe3f5"
      },
      "source": [
        ""
      ],
      "execution_count": null,
      "outputs": []
    },
    {
      "cell_type": "markdown",
      "metadata": {
        "id": "h2YGso5Le3f5"
      },
      "source": [
        "#### 6.8 ランダムフォレスト分類木のn_estimators引数を「6.7」のn_estimators_list, max_depth引数を「6.7」のmax_depth_listの範囲で探索することによって、f値を指標としたグリッドサーチを行なってください。また、最も性能が良かったモデルを利用して学習データに使用しなかった「目的変数の検証データ（y_test）」に対してf値を算出してください。"
      ]
    },
    {
      "cell_type": "markdown",
      "source": [
        ">用いる分割方法は、層化k分割交差検証法で、random_state引数に0, n_splits引数に5, shuffle引数にTrueを指定してください。"
      ],
      "metadata": {
        "id": "RgYl6H3g8bvv"
      }
    },
    {
      "cell_type": "code",
      "metadata": {
        "scrolled": true,
        "id": "e22Y35KZe3f5"
      },
      "source": [
        ""
      ],
      "execution_count": null,
      "outputs": []
    },
    {
      "cell_type": "markdown",
      "metadata": {
        "id": "ZUGLWbh3e3f6"
      },
      "source": [
        "#### 6.9 目的変数が量的変数の場合（回帰）を確認していきましょう。目的変数を「fare」に変更し、説明変数から削除して下さい。「age」,「sibsp」,「parch」,「sex」から「fare」を予測するモデルを作成することになります。"
      ]
    },
    {
      "cell_type": "code",
      "metadata": {
        "id": "r8OskDUhe3f6"
      },
      "source": [
        ""
      ],
      "execution_count": null,
      "outputs": []
    },
    {
      "cell_type": "markdown",
      "metadata": {
        "id": "XC8bLjlce3f6"
      },
      "source": [
        "#### 6.10 ランダムフォレストには回帰木も存在し、そのモジュール名は『RandomForestRegressor』です。ランダムフォレストの分類木と同様にこれをインポートしてください。"
      ]
    },
    {
      "cell_type": "code",
      "metadata": {
        "id": "Xnc7kmPPe3f7"
      },
      "source": [
        ""
      ],
      "execution_count": null,
      "outputs": []
    },
    {
      "cell_type": "markdown",
      "metadata": {
        "id": "IyIPf6m6e3f7"
      },
      "source": [
        "#### 6.11 ランダムフォレスト回帰木のrandom_state引数に「0」を指定し、random_forestという変数名のインスタンスを生成してください。※random_stateに数字を入れることで、結果を固定することができます。※random_stateに数字を入れることで、結果を固定することができます。"
      ]
    },
    {
      "cell_type": "code",
      "metadata": {
        "scrolled": true,
        "id": "GBBKE60re3f7"
      },
      "source": [
        ""
      ],
      "execution_count": null,
      "outputs": []
    },
    {
      "cell_type": "markdown",
      "metadata": {
        "id": "Nt_PhByge3f7"
      },
      "source": [
        "#### 6.12 fit関数を使い、学習データを使用してランダムフォレストの学習を行って下さい。"
      ]
    },
    {
      "cell_type": "code",
      "metadata": {
        "id": "JUwoNltde3f7"
      },
      "source": [
        ""
      ],
      "execution_count": null,
      "outputs": []
    },
    {
      "cell_type": "markdown",
      "metadata": {
        "id": "4hnAUWxVe3f7"
      },
      "source": [
        "#### 6.13 作成したモデルを用いて、新規データ（X_test）に対する予測値を出力（上から50行）してください。※ここが「予測」と呼ばれる処理になります。"
      ]
    },
    {
      "cell_type": "code",
      "metadata": {
        "scrolled": true,
        "id": "L9o9HW2Xe3f7"
      },
      "source": [
        ""
      ],
      "execution_count": null,
      "outputs": []
    },
    {
      "cell_type": "markdown",
      "metadata": {
        "id": "rMnU4n9De3f8"
      },
      "source": [
        "#### 6.14 実測値と予測値の平均絶対パーセント誤差を出力して下さい。"
      ]
    },
    {
      "cell_type": "code",
      "metadata": {
        "id": "cnBot1Uge3f8"
      },
      "source": [
        ""
      ],
      "execution_count": null,
      "outputs": []
    },
    {
      "cell_type": "markdown",
      "metadata": {
        "id": "ia7JLxsYe3f8"
      },
      "source": [
        "#### 6.15 縦軸に実測値、横軸に予測値をとる散布図を描画して下さい。"
      ]
    },
    {
      "cell_type": "code",
      "metadata": {
        "scrolled": true,
        "id": "OYyaQ91oe3f8"
      },
      "source": [
        ""
      ],
      "execution_count": null,
      "outputs": []
    }
  ]
}