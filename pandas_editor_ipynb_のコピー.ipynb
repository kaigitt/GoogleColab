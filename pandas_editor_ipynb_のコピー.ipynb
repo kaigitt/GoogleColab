{
  "nbformat": 4,
  "nbformat_minor": 0,
  "metadata": {
    "kernelspec": {
      "display_name": "Python 3",
      "language": "python",
      "name": "python3"
    },
    "language_info": {
      "codemirror_mode": {
        "name": "ipython",
        "version": 3
      },
      "file_extension": ".py",
      "mimetype": "text/x-python",
      "name": "python",
      "nbconvert_exporter": "python",
      "pygments_lexer": "ipython3",
      "version": "3.7.6"
    },
    "toc": {
      "base_numbering": 1,
      "nav_menu": {},
      "number_sections": true,
      "sideBar": true,
      "skip_h1_title": false,
      "title_cell": "Table of Contents",
      "title_sidebar": "Contents",
      "toc_cell": false,
      "toc_position": {},
      "toc_section_display": true,
      "toc_window_display": false
    },
    "varInspector": {
      "cols": {
        "lenName": 16,
        "lenType": 16,
        "lenVar": 40
      },
      "kernels_config": {
        "python": {
          "delete_cmd_postfix": "",
          "delete_cmd_prefix": "del ",
          "library": "var_list.py",
          "varRefreshCmd": "print(var_dic_list())"
        },
        "r": {
          "delete_cmd_postfix": ") ",
          "delete_cmd_prefix": "rm(",
          "library": "var_list.r",
          "varRefreshCmd": "cat(var_dic_list()) "
        }
      },
      "types_to_exclude": [
        "module",
        "function",
        "builtin_function_or_method",
        "instance",
        "_Feature"
      ],
      "window_display": false
    },
    "colab": {
      "name": "pandas_editor.ipynb のコピー",
      "provenance": [],
      "collapsed_sections": [],
      "include_colab_link": true
    }
  },
  "cells": [
    {
      "cell_type": "markdown",
      "metadata": {
        "id": "view-in-github",
        "colab_type": "text"
      },
      "source": [
        "<a href=\"https://colab.research.google.com/github/kaigitt/GoogleColab/blob/master/pandas_editor_ipynb_%E3%81%AE%E3%82%B3%E3%83%94%E3%83%BC.ipynb\" target=\"_parent\"><img src=\"https://colab.research.google.com/assets/colab-badge.svg\" alt=\"Open In Colab\"/></a>"
      ]
    },
    {
      "cell_type": "markdown",
      "metadata": {
        "id": "C4nnoFrw2Gzz"
      },
      "source": [
        "# pandas exercises\n",
        "\n",
        "\n",
        "1. データの状態を確認する方法について学習します。 （11問）\n",
        "2. データを参照・取得する方法について学習します。 （13問）\n",
        "3. データを集計・加工する方法について学習します。 (15問)\n",
        "4. テキストデータを加工する方法について学習します。 (9問)\n",
        "5. データの読み込み・書き出しについて学習します。（2問）"
      ]
    },
    {
      "cell_type": "markdown",
      "metadata": {
        "id": "yZifCIf02kD_"
      },
      "source": [
        "### 0. 事前準備"
      ]
    },
    {
      "cell_type": "code",
      "metadata": {
        "id": "TpuxfgCanmSp"
      },
      "source": [
        "# こちらのセルを実行してください。\n",
        "import pandas as pd\n",
        "import numpy as np"
      ],
      "execution_count": null,
      "outputs": []
    },
    {
      "cell_type": "markdown",
      "metadata": {
        "id": "mkWlAH3E3hYM"
      },
      "source": [
        "### 1. データの状態を確認する方法について学習します。（8問）"
      ]
    },
    {
      "cell_type": "code",
      "metadata": {
        "id": "ecHsH-Dk3r-a"
      },
      "source": [
        "# こちらのセルを実行してください。\n",
        "data = pd.DataFrame({'name': ['A', 'B', 'C', 'D'], '数学': [80, 15, 90, 50], '英語': [80, 70, 50, 65],\n",
        "                    '国語': [ 90, 60, 60,  60]})"
      ],
      "execution_count": null,
      "outputs": []
    },
    {
      "cell_type": "markdown",
      "metadata": {
        "id": "SsJonbxg3hYV"
      },
      "source": [
        "#### 1.1 「data変数のデータ形式を表示してください。」"
      ]
    },
    {
      "cell_type": "code",
      "metadata": {
        "scrolled": true,
        "id": "rnZealcO3hYV"
      },
      "source": [
        ""
      ],
      "execution_count": null,
      "outputs": []
    },
    {
      "cell_type": "markdown",
      "metadata": {
        "id": "AwL8fsnQ3hYV"
      },
      "source": [
        "#### 1.2 「pandasでSeries型データを作成して、データ形式を確認してください。※Seriesの中身は何でも良いです。」"
      ]
    },
    {
      "cell_type": "code",
      "metadata": {
        "id": "kg26_p5t3hYV"
      },
      "source": [
        ""
      ],
      "execution_count": null,
      "outputs": []
    },
    {
      "cell_type": "markdown",
      "metadata": {
        "id": "RU8MTTW13hYV"
      },
      "source": [
        "#### 1.3 「pandasでDataFrame型データを作成して、データ形式を確認してください。※DataFrameの中身は何でも良いです。」"
      ]
    },
    {
      "cell_type": "code",
      "metadata": {
        "id": "T-RSmugu3hYW"
      },
      "source": [
        ""
      ],
      "execution_count": null,
      "outputs": []
    },
    {
      "cell_type": "markdown",
      "metadata": {
        "id": "DsVOeT083hYW"
      },
      "source": [
        "#### 1.4 「data変数の行数と列数を表示してください」"
      ]
    },
    {
      "cell_type": "code",
      "metadata": {
        "id": "AuMnRP3R3hYW"
      },
      "source": [
        ""
      ],
      "execution_count": null,
      "outputs": []
    },
    {
      "cell_type": "markdown",
      "metadata": {
        "id": "7TPAeXRF3hYW"
      },
      "source": [
        "#### 1.5 「data変数の上から2行表示してください。」"
      ]
    },
    {
      "cell_type": "code",
      "metadata": {
        "id": "AzaTTTyA3hYW"
      },
      "source": [
        ""
      ],
      "execution_count": null,
      "outputs": []
    },
    {
      "cell_type": "markdown",
      "metadata": {
        "id": "sv-LFlhq3hYW"
      },
      "source": [
        "#### 1.6 「data変数の下から3行表示してください。」"
      ]
    },
    {
      "cell_type": "code",
      "metadata": {
        "id": "naGOx73r3hYW"
      },
      "source": [
        ""
      ],
      "execution_count": null,
      "outputs": []
    },
    {
      "cell_type": "markdown",
      "metadata": {
        "id": "mF3f37bO3hYW"
      },
      "source": [
        "#### 1.7 「data変数のカラムを表示してください。」"
      ]
    },
    {
      "cell_type": "code",
      "metadata": {
        "id": "4BDNe4q73hYW"
      },
      "source": [
        ""
      ],
      "execution_count": null,
      "outputs": []
    },
    {
      "cell_type": "markdown",
      "metadata": {
        "id": "m98vezlV3hYY"
      },
      "source": [
        "#### 1.8 「data変数のインデックスを表示してください。」"
      ]
    },
    {
      "cell_type": "code",
      "metadata": {
        "id": "iWcE0TYl3hYY"
      },
      "source": [
        ""
      ],
      "execution_count": null,
      "outputs": []
    },
    {
      "cell_type": "markdown",
      "metadata": {
        "id": "iZ2FM4OaoNxR"
      },
      "source": [
        "### 2. データを参照・取得する方法について学習します。（13問）"
      ]
    },
    {
      "cell_type": "code",
      "metadata": {
        "id": "I8LN2ohoF_kG"
      },
      "source": [
        "# こちらのセルを実行してください。\n",
        "data = pd.DataFrame({'name': ['A', 'B', 'C', 'D'], '数学': [80, 15, 90, 50], '英語': [80, 70, 50, 65],\n",
        "                    '国語': [ 90, 60, 60,  60]})\n",
        "data"
      ],
      "execution_count": null,
      "outputs": []
    },
    {
      "cell_type": "markdown",
      "metadata": {
        "id": "sLNFIdYdoNxR"
      },
      "source": [
        "#### 2.1 「data変数の上から3行のデータを表示してください。」"
      ]
    },
    {
      "cell_type": "code",
      "metadata": {
        "scrolled": true,
        "id": "sb98npuBoNxR"
      },
      "source": [
        ""
      ],
      "execution_count": null,
      "outputs": []
    },
    {
      "cell_type": "markdown",
      "metadata": {
        "id": "lREB3c5EoNxR"
      },
      "source": [
        "#### 2.2 「data変数の中で国語が70点以上の人を表示してください。」"
      ]
    },
    {
      "cell_type": "code",
      "metadata": {
        "id": "5ohmC2kfoNxS"
      },
      "source": [
        ""
      ],
      "execution_count": null,
      "outputs": []
    },
    {
      "cell_type": "markdown",
      "metadata": {
        "id": "xh_6RNl_oNxS"
      },
      "source": [
        "#### 2.3 「data変数の中で数学が30点未満の人を表示してください。」"
      ]
    },
    {
      "cell_type": "code",
      "metadata": {
        "id": "FUsgcskEoNxS"
      },
      "source": [
        ""
      ],
      "execution_count": null,
      "outputs": []
    },
    {
      "cell_type": "markdown",
      "metadata": {
        "id": "ygLh3BjwJ6qb"
      },
      "source": [
        "#### 2.4 「AさんとBさんは1組、CさんとDさんは2組に所属しています。この組を一つ目のインデックス、今のインデックスを二つ目のインデックスとしてdata_classという変数に代入し、表示してください。」"
      ]
    },
    {
      "cell_type": "code",
      "metadata": {
        "id": "W8wBaPvIMLDQ"
      },
      "source": [
        "# このセルを実行し、data_class変数のインデックスを変更してください。\n",
        "data_class = data.copy()\n",
        "data_class"
      ],
      "execution_count": null,
      "outputs": []
    },
    {
      "cell_type": "code",
      "metadata": {
        "id": "MPgSMFOQJ3lk"
      },
      "source": [
        ""
      ],
      "execution_count": null,
      "outputs": []
    },
    {
      "cell_type": "markdown",
      "metadata": {
        "id": "pvWyQYohKtyo"
      },
      "source": [
        "#### 2.5 「data_classを用いて1組の英語の点数を全て表示してください。」"
      ]
    },
    {
      "cell_type": "code",
      "metadata": {
        "id": "KH4OIaPnK4oK"
      },
      "source": [
        ""
      ],
      "execution_count": null,
      "outputs": []
    },
    {
      "cell_type": "markdown",
      "metadata": {
        "id": "94hq6QDQoNxS"
      },
      "source": [
        "#### 2.6 「data変数の中で国語が60点ピッタリの人が何人いるか表示してください。」"
      ]
    },
    {
      "cell_type": "code",
      "metadata": {
        "id": "mFUGHJ9uoNxS"
      },
      "source": [
        ""
      ],
      "execution_count": null,
      "outputs": []
    },
    {
      "cell_type": "markdown",
      "metadata": {
        "id": "AxN2CmnkoNxS"
      },
      "source": [
        "#### 2.7 「data変数の中で数学が50点以上の人が何人いるか表示してください。」"
      ]
    },
    {
      "cell_type": "code",
      "metadata": {
        "id": "_S4rGuZZoNxS"
      },
      "source": [
        ""
      ],
      "execution_count": null,
      "outputs": []
    },
    {
      "cell_type": "markdown",
      "metadata": {
        "id": "69-NVYJjoNxS"
      },
      "source": [
        "#### 2.8 「data変数の中で国語の点数が1番高い人を表示してください。」"
      ]
    },
    {
      "cell_type": "code",
      "metadata": {
        "id": "F79X8TCVoNxS"
      },
      "source": [
        ""
      ],
      "execution_count": null,
      "outputs": []
    },
    {
      "cell_type": "markdown",
      "metadata": {
        "id": "LdYVbkcMoNxT"
      },
      "source": [
        "#### 2.9 「data変数の中で全ての人の国語の点数を表示してください。」"
      ]
    },
    {
      "cell_type": "code",
      "metadata": {
        "scrolled": true,
        "id": "6pvFuDfvoNxT"
      },
      "source": [
        ""
      ],
      "execution_count": null,
      "outputs": []
    },
    {
      "cell_type": "markdown",
      "metadata": {
        "id": "2tEV_z1aoNxT"
      },
      "source": [
        "#### 2.10 「data変数の中で全ての人の国語と数学の点数を表示してください。」"
      ]
    },
    {
      "cell_type": "code",
      "metadata": {
        "id": "1jRR3PhuoNxT"
      },
      "source": [
        ""
      ],
      "execution_count": null,
      "outputs": []
    },
    {
      "cell_type": "markdown",
      "metadata": {
        "id": "9GTCxgtXoNxT"
      },
      "source": [
        "#### 2.11 「data変数の中で2行目と3行目のみ表示してください。(indexは0番目が1行目であることに注意)」"
      ]
    },
    {
      "cell_type": "code",
      "metadata": {
        "id": "rMUe1ii8oNxT"
      },
      "source": [
        ""
      ],
      "execution_count": null,
      "outputs": []
    },
    {
      "cell_type": "markdown",
      "metadata": {
        "id": "25q3bsFcoNxT"
      },
      "source": [
        "#### 2.12 「data変数の中で2行目と3行目且つ0列目と1列目を表示してください。(indexは0番目が1行目であることに注意)」"
      ]
    },
    {
      "cell_type": "code",
      "metadata": {
        "id": "YZdZiFb8oNxT"
      },
      "source": [
        ""
      ],
      "execution_count": null,
      "outputs": []
    },
    {
      "cell_type": "markdown",
      "metadata": {
        "id": "gD7wHaKzFpY0"
      },
      "source": [
        "#### 2.13 「data変数の中で数学が60点以上の人のname・英語・国語列を表示してください。」"
      ]
    },
    {
      "cell_type": "code",
      "metadata": {
        "id": "OT5bWIMsGY-X"
      },
      "source": [
        ""
      ],
      "execution_count": null,
      "outputs": []
    },
    {
      "cell_type": "markdown",
      "metadata": {
        "id": "l8Js_JOQCnIx"
      },
      "source": [
        "### 3. データを集計・加工する方法について学習します。（15問）"
      ]
    },
    {
      "cell_type": "code",
      "metadata": {
        "id": "HkrthdpQCze8"
      },
      "source": [
        "# こちらのセルを実行してください。\n",
        "data_2 = pd.DataFrame({'name': ['A', 'B', 'C', 'D'], '数学': [80, 15, 90, 50], '英語': [80, 70, 50, 65],\n",
        "                    '国語': [ 90, 60, 60,  60]})\n",
        "\n",
        "e_data = pd.DataFrame({'name':['D', 'E', 'F'],'国語':[60, 30, 45],'数学':[50, 30, 50],'英語':[65, 30, 50], '理科': [np.nan, 50, 60]})"
      ],
      "execution_count": null,
      "outputs": []
    },
    {
      "cell_type": "markdown",
      "metadata": {
        "id": "tIjWtyUdCnIx"
      },
      "source": [
        "#### 3.1 「data_2の下にe_dataを連結させて、data_concatenated変数に代入して表示して下さい。」"
      ]
    },
    {
      "cell_type": "code",
      "metadata": {
        "id": "QR8fw606CnIy"
      },
      "source": [
        ""
      ],
      "execution_count": null,
      "outputs": []
    },
    {
      "cell_type": "markdown",
      "metadata": {
        "id": "oBn2d_2nCnIy"
      },
      "source": [
        "#### 3.2 「data_concatenatedのindexを振り直してください。その際に、元のインデックスを保持する必要はありません。」"
      ]
    },
    {
      "cell_type": "code",
      "metadata": {
        "id": "w0JSSoqOCnIy"
      },
      "source": [
        ""
      ],
      "execution_count": null,
      "outputs": []
    },
    {
      "cell_type": "markdown",
      "metadata": {
        "id": "bad7Qt4BCnIy"
      },
      "source": [
        "#### 3.3 「data_concatenatedの各カラムの合計値を表示して下さい。」"
      ]
    },
    {
      "cell_type": "code",
      "metadata": {
        "id": "DR2eq-fvCnIz"
      },
      "source": [
        ""
      ],
      "execution_count": null,
      "outputs": []
    },
    {
      "cell_type": "markdown",
      "metadata": {
        "id": "zRbI7jtWCnIz"
      },
      "source": [
        "#### 3.4 「data_concatenatedの各行の合計値を表示して下さい。」"
      ]
    },
    {
      "cell_type": "code",
      "metadata": {
        "id": "zNxh8cJ2CnIz"
      },
      "source": [
        ""
      ],
      "execution_count": null,
      "outputs": []
    },
    {
      "cell_type": "markdown",
      "metadata": {
        "id": "0R-2BDNyHM6G"
      },
      "source": [
        "#### 3.5 「3.4で出した各行の合計値を「合計」という列としてdata_concatenatedに追加してください。」"
      ]
    },
    {
      "cell_type": "code",
      "metadata": {
        "id": "zzHR7LydHYcV"
      },
      "source": [
        ""
      ],
      "execution_count": null,
      "outputs": []
    },
    {
      "cell_type": "markdown",
      "metadata": {
        "id": "0mk56uuxCnIz"
      },
      "source": [
        "#### 3.5 「data_concatenatedの英語・数学・国語の平均値を表示して下さい。」"
      ]
    },
    {
      "cell_type": "code",
      "metadata": {
        "id": "vPDAEIzkCnIz"
      },
      "source": [
        ""
      ],
      "execution_count": null,
      "outputs": []
    },
    {
      "cell_type": "markdown",
      "metadata": {
        "id": "7F-r-5eWCnIz"
      },
      "source": [
        "#### 3.6 「data_concatenated変数のカラムの統計量を算出してください。」"
      ]
    },
    {
      "cell_type": "code",
      "metadata": {
        "id": "H4ibOE6fCnIz"
      },
      "source": [
        ""
      ],
      "execution_count": null,
      "outputs": []
    },
    {
      "cell_type": "markdown",
      "metadata": {
        "id": "C6_CgjafTA13"
      },
      "source": [
        "#### 3.7 「data_concatenated変数には欠損値があり、うまく処理ができません。そこで、欠損値がある列を全て削除して表示して下さい。」"
      ]
    },
    {
      "cell_type": "code",
      "metadata": {
        "id": "tUDpMDRiTiRF"
      },
      "source": [
        ""
      ],
      "execution_count": null,
      "outputs": []
    },
    {
      "cell_type": "markdown",
      "metadata": {
        "id": "xn8D__qETrUv"
      },
      "source": [
        "#### 3.8 「data_concatenated変数にはnameの重複があります。重複している行を削除して表示してください。」"
      ]
    },
    {
      "cell_type": "code",
      "metadata": {
        "id": "8K9jwmWETzUv"
      },
      "source": [
        ""
      ],
      "execution_count": null,
      "outputs": []
    },
    {
      "cell_type": "markdown",
      "metadata": {
        "id": "UllFOToMUH2H"
      },
      "source": [
        "#### 3.9 「data_concatenated変数の「合計」列は、理科の点数が混ざっている行があります。そこで、「合計」列を削除して表示してください。」"
      ]
    },
    {
      "cell_type": "code",
      "metadata": {
        "id": "AOEedG-tUfz5"
      },
      "source": [
        ""
      ],
      "execution_count": null,
      "outputs": []
    },
    {
      "cell_type": "markdown",
      "metadata": {
        "id": "74hrSodVV_HS"
      },
      "source": [
        "#### 3.10 「data_concatenated変数の各行の英語・数学・国語の点数の合計を「合計」列に格納してください。」"
      ]
    },
    {
      "cell_type": "code",
      "metadata": {
        "id": "YRniJfkzWRVd"
      },
      "source": [
        ""
      ],
      "execution_count": null,
      "outputs": []
    },
    {
      "cell_type": "markdown",
      "metadata": {
        "id": "elM9MN9DW2CV"
      },
      "source": [
        "#### 3.11 「data_concatenated変数を「合計」列・「数学」列を基準として、降順にソートしてください。」"
      ]
    },
    {
      "cell_type": "code",
      "metadata": {
        "id": "ti-5E6jpWycb"
      },
      "source": [
        ""
      ],
      "execution_count": null,
      "outputs": []
    },
    {
      "cell_type": "markdown",
      "metadata": {
        "id": "tucvr9W6YAHN"
      },
      "source": [
        "#### 3.12 「data_concatenated変数のインデックスを振り直してください。」"
      ]
    },
    {
      "cell_type": "code",
      "metadata": {
        "id": "xDIFGMtvX_XL"
      },
      "source": [
        ""
      ],
      "execution_count": null,
      "outputs": []
    },
    {
      "cell_type": "markdown",
      "metadata": {
        "id": "3bBUv-oSZKkh"
      },
      "source": [
        "#### 3.13  「data_concatenatedの各行の数学・英語・国語の平均を「平均」列に格納してください。」"
      ]
    },
    {
      "cell_type": "code",
      "metadata": {
        "id": "7ArlvgctZdoJ"
      },
      "source": [
        ""
      ],
      "execution_count": null,
      "outputs": []
    },
    {
      "cell_type": "markdown",
      "metadata": {
        "id": "wDXYuYV_X0Mm"
      },
      "source": [
        "#### 3.14 「data_concatenated変数の各カラムに対する統計量を表示してください。」"
      ]
    },
    {
      "cell_type": "code",
      "metadata": {
        "id": "WRWiktaGX1jH"
      },
      "source": [
        ""
      ],
      "execution_count": null,
      "outputs": []
    },
    {
      "cell_type": "markdown",
      "metadata": {
        "id": "h0Ez6FtMZw7E"
      },
      "source": [
        "#### 3.15 「最初のdata_2, e_dataとdata_concatenatedをそれぞれ表示して、加工した結果を見比べてください。」"
      ]
    },
    {
      "cell_type": "code",
      "metadata": {
        "id": "FYvU4pANZv8K"
      },
      "source": [
        ""
      ],
      "execution_count": null,
      "outputs": []
    },
    {
      "cell_type": "markdown",
      "metadata": {
        "id": "MH4KXhsLlX0a"
      },
      "source": [
        "### 4. テキストデータを加工する方法について学習します。 （9問）\n"
      ]
    },
    {
      "cell_type": "code",
      "metadata": {
        "id": "0TOkd2Gqni5-"
      },
      "source": [
        "# こちらのセルを実行してください。\n",
        "data_3 = pd.DataFrame({'name': ['A', 'B', 'C', 'D'],\n",
        "                     '性別': ['男性', '男性', '女性', '男性'],\n",
        "                     '経歴': ['学部卒', '修士卒', '学部卒', '博士卒'],\n",
        "                     '特技': ['ボーリング', '野球', 'サッカー', '野球をやっていた']})"
      ],
      "execution_count": null,
      "outputs": []
    },
    {
      "cell_type": "markdown",
      "metadata": {
        "id": "z1u5EA2ulX0h"
      },
      "source": [
        "#### 4.1 「data_3を確認して下さい。」"
      ]
    },
    {
      "cell_type": "code",
      "metadata": {
        "id": "gDzqteX2lX0h"
      },
      "source": [
        ""
      ],
      "execution_count": null,
      "outputs": []
    },
    {
      "cell_type": "markdown",
      "metadata": {
        "id": "ZR-FgHxdlX0h"
      },
      "source": [
        "#### 4.2 「経歴が、'学部卒'で終わる行を表示して下さい。」"
      ]
    },
    {
      "cell_type": "code",
      "metadata": {
        "id": "eifWryxrlX0i"
      },
      "source": [
        ""
      ],
      "execution_count": null,
      "outputs": []
    },
    {
      "cell_type": "markdown",
      "metadata": {
        "id": "Bk1_o2uVlX0i"
      },
      "source": [
        "#### 4.3 「性別が、'女'から始まる行を表示して下さい。」"
      ]
    },
    {
      "cell_type": "code",
      "metadata": {
        "scrolled": true,
        "id": "tTyyxNVHlX0i"
      },
      "source": [
        ""
      ],
      "execution_count": null,
      "outputs": []
    },
    {
      "cell_type": "markdown",
      "metadata": {
        "id": "7q-56W2YlX0i"
      },
      "source": [
        "#### 4.4 「特技が'野球'を含む行を表示して下さい。」"
      ]
    },
    {
      "cell_type": "code",
      "metadata": {
        "id": "S3ejOelIlX0i"
      },
      "source": [
        ""
      ],
      "execution_count": null,
      "outputs": []
    },
    {
      "cell_type": "markdown",
      "metadata": {
        "id": "hqIdHN_NlX0i"
      },
      "source": [
        "#### 4.5 「経歴の'卒'を削除して下さい。」"
      ]
    },
    {
      "cell_type": "code",
      "metadata": {
        "id": "TUvEdzyMlX0i"
      },
      "source": [
        ""
      ],
      "execution_count": null,
      "outputs": []
    },
    {
      "cell_type": "markdown",
      "metadata": {
        "id": "VL0dRhbtlX0i"
      },
      "source": [
        "#### 4.6 「特技の'野球をやっていた'の「をやっていた」を削除して下さい。」"
      ]
    },
    {
      "cell_type": "code",
      "metadata": {
        "id": "PSI0xocflX0j"
      },
      "source": [
        ""
      ],
      "execution_count": null,
      "outputs": []
    },
    {
      "cell_type": "markdown",
      "metadata": {
        "id": "7yQn-0FPP1wW"
      },
      "source": [
        "#### 4.7 「data_3の「経歴」列の文字列に「_大卒以上」という文字列を追加した、「経歴_枠」列をapplyメソッドによって作成してください。」"
      ]
    },
    {
      "cell_type": "code",
      "metadata": {
        "id": "TZ1P-3DDQd0m"
      },
      "source": [
        ""
      ],
      "execution_count": null,
      "outputs": []
    },
    {
      "cell_type": "markdown",
      "metadata": {
        "id": "7N_-7W0-OSsg"
      },
      "source": [
        "#### 4.8 「男性を1, 女性を0として性別を2値の数値データに変換し、その値を格納した「性別_数値」列を追加してください。」"
      ]
    },
    {
      "cell_type": "code",
      "metadata": {
        "id": "yYRFeBmAlS3V"
      },
      "source": [
        ""
      ],
      "execution_count": null,
      "outputs": []
    },
    {
      "cell_type": "markdown",
      "metadata": {
        "id": "oWpcOA_yPNst"
      },
      "source": [
        "#### 4.9 「4.8によって、性別データを数値として扱うことができるようになりました。そこで「性別_数値」列の合計値を出して、男性の人数を確認してください。」"
      ]
    },
    {
      "cell_type": "code",
      "metadata": {
        "id": "0Gg3JHTbPNXW"
      },
      "source": [
        ""
      ],
      "execution_count": null,
      "outputs": []
    },
    {
      "cell_type": "markdown",
      "metadata": {
        "id": "UdacnPQh2Gz-"
      },
      "source": [
        "### 5. データの読み込み・書き出しについて学習します。（2問）"
      ]
    },
    {
      "cell_type": "markdown",
      "metadata": {
        "id": "LrtjR_0h2Gz-"
      },
      "source": [
        "#### 5.1 「data_3変数を「a.csv」という名前で保存してください。」"
      ]
    },
    {
      "cell_type": "markdown",
      "source": [
        ">その際に、to_csvメソッドのindex引数にFalseを指定してください。"
      ],
      "metadata": {
        "id": "0MjiiURxMwU4"
      }
    },
    {
      "cell_type": "code",
      "metadata": {
        "id": "OPMUs1hE2Gz_"
      },
      "source": [
        ""
      ],
      "execution_count": null,
      "outputs": []
    },
    {
      "cell_type": "markdown",
      "metadata": {
        "id": "Ar6Viz5S2Gz_"
      },
      "source": [
        "#### 5.2「「a.csv」というファイルを読み込み、data_3aという名前の変数に格納して表示してください。」"
      ]
    },
    {
      "cell_type": "code",
      "metadata": {
        "id": "x0KqK4XT2Gz_"
      },
      "source": [
        ""
      ],
      "execution_count": null,
      "outputs": []
    }
  ]
}