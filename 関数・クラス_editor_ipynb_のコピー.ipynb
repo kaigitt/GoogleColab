{
  "nbformat": 4,
  "nbformat_minor": 0,
  "metadata": {
    "colab": {
      "name": "関数・クラス_editor.ipynb のコピー",
      "provenance": [],
      "collapsed_sections": [],
      "include_colab_link": true
    },
    "kernelspec": {
      "name": "python3",
      "display_name": "Python 3"
    },
    "language_info": {
      "name": "python"
    }
  },
  "cells": [
    {
      "cell_type": "markdown",
      "metadata": {
        "id": "view-in-github",
        "colab_type": "text"
      },
      "source": [
        "<a href=\"https://colab.research.google.com/github/kaigitt/GoogleColab/blob/master/%E9%96%A2%E6%95%B0%E3%83%BB%E3%82%AF%E3%83%A9%E3%82%B9_editor_ipynb_%E3%81%AE%E3%82%B3%E3%83%94%E3%83%BC.ipynb\" target=\"_parent\"><img src=\"https://colab.research.google.com/assets/colab-badge.svg\" alt=\"Open In Colab\"/></a>"
      ]
    },
    {
      "cell_type": "markdown",
      "metadata": {
        "id": "S_DoQU-fHO3H"
      },
      "source": [
        "# 関数・クラス exercises\n",
        "\n",
        "\n",
        "1. 組み込み関数について学習します。 （1問）\n",
        "2. 関数について学習します。 (4問)\n",
        "3. クラスについて学習します。　(3問)\n",
        "4. クラスの継承について学習します。　(2問)\n",
        "\n",
        "**解答は参考例なので、コードが完全一致している必要はありません。**"
      ]
    },
    {
      "cell_type": "markdown",
      "metadata": {
        "id": "wcFT_1J5QDzb"
      },
      "source": [
        "## 1. 組み込み関数について学習します。 （1問）"
      ]
    },
    {
      "cell_type": "markdown",
      "metadata": {
        "id": "U6mUNOfiQkk6"
      },
      "source": [
        "### 1.1 「次のn_listの要素数を表示してください。」"
      ]
    },
    {
      "cell_type": "code",
      "source": [
        "# こちらのセルを実行してください。\n",
        "n_list = [1, 6, 2, 6, 9]"
      ],
      "metadata": {
        "id": "QMLZWwjxWDsu"
      },
      "execution_count": null,
      "outputs": []
    },
    {
      "cell_type": "code",
      "source": [
        "n_list = [1, 6, 2, 6, 9]\n",
        "print(len(n_list))"
      ],
      "metadata": {
        "id": "muXn3aFjXORS",
        "colab": {
          "base_uri": "https://localhost:8080/"
        },
        "outputId": "b9d5350e-6c8a-4227-f4a0-61c65ab9b335"
      },
      "execution_count": 4,
      "outputs": [
        {
          "output_type": "stream",
          "name": "stdout",
          "text": [
            "5\n"
          ]
        }
      ]
    },
    {
      "cell_type": "markdown",
      "metadata": {
        "id": "IGA0sd68QOVe"
      },
      "source": [
        "##2. 関数について学習します。 (4問)\n"
      ]
    },
    {
      "cell_type": "markdown",
      "metadata": {
        "id": "koqdiZNQTRp8"
      },
      "source": [
        "### 2.1 「引数や戻り値はなく、『こんにちは！』と表示する関数を定義し、その関数を呼び出してください。」"
      ]
    },
    {
      "cell_type": "code",
      "metadata": {
        "id": "2d_LQVgITaDU",
        "colab": {
          "base_uri": "https://localhost:8080/"
        },
        "outputId": "fe3cb425-d5fe-4d30-e825-9355c886989f"
      },
      "source": [
        "def hello():\n",
        "    print('こんにちは！')\n",
        "\n",
        "print(hello())"
      ],
      "execution_count": 6,
      "outputs": [
        {
          "output_type": "stream",
          "name": "stdout",
          "text": [
            "こんにちは！\n",
            "None\n"
          ]
        }
      ]
    },
    {
      "cell_type": "markdown",
      "metadata": {
        "id": "X29KsoyLd1Po"
      },
      "source": [
        "### 2.2 「文字列型の引数を2つ持ち、引数に与えられた2つの文字列を結合した文字列を表示する関数を定義し、引数に、『こんにちは、』『いい天気ですね』という２つの文字列を代入してその関数を呼び出してください。」"
      ]
    },
    {
      "cell_type": "code",
      "metadata": {
        "id": "UbyPktS_TkWI",
        "colab": {
          "base_uri": "https://localhost:8080/"
        },
        "outputId": "85dd788a-d937-4fe9-fd95-1bfb4023e19d"
      },
      "source": [
        "def words(a, b):\n",
        "  return(f'{a}{b}')\n",
        "\n",
        "print(words('こんにちは', 'いい天気ですね'))"
      ],
      "execution_count": 9,
      "outputs": [
        {
          "output_type": "stream",
          "name": "stdout",
          "text": [
            "None\n"
          ]
        }
      ]
    },
    {
      "cell_type": "markdown",
      "metadata": {
        "id": "ocLGxzOTeiAR"
      },
      "source": [
        "### 2.3 「数字型の引数を2つ持ち、引数に与えられた2つの数字を足した値を戻り値として返す関数を定義し、『17.3』『16.8』という2つの数字を引数に入れた戻り値を変数に代入して、表示してください。」"
      ]
    },
    {
      "cell_type": "code",
      "metadata": {
        "id": "EAQyzSzfe5ts",
        "colab": {
          "base_uri": "https://localhost:8080/"
        },
        "outputId": "e686d1e0-378a-412c-fc44-2e5b85fbce30"
      },
      "source": [
        "def inter(a, b):\n",
        "  return(a + b)\n",
        "\n",
        "num = inter(17.3, 16.8)\n",
        "print(num)"
      ],
      "execution_count": 10,
      "outputs": [
        {
          "output_type": "stream",
          "name": "stdout",
          "text": [
            "34.1\n"
          ]
        }
      ]
    },
    {
      "cell_type": "markdown",
      "metadata": {
        "id": "GlDFeDPVdV_8"
      },
      "source": [
        "### 2.4 「整数型の変数を格納したlist型の変数を1つ引数に持ち、引数の要素の合計を戻り値とするような関数を定義し、list_1の要素の合計を変数に代入して表示してください。」"
      ]
    },
    {
      "cell_type": "code",
      "metadata": {
        "id": "1tPMcvY6deF0"
      },
      "source": [
        "# こちらのセルを実行してください。\n",
        "list_1 = [2, 9, 1, 3, 5, 8, 9]"
      ],
      "execution_count": null,
      "outputs": []
    },
    {
      "cell_type": "code",
      "source": [
        "\n",
        "list_1 = [2, 9, 1, 3, 5, 8, 9]\n",
        "def inter(w):\n",
        "  sum = 0\n",
        "  for i in w:\n",
        "    sum = sum + int(i)\n",
        "  return sum\n",
        "\n",
        "print(inter(list_1))"
      ],
      "metadata": {
        "id": "e7KXkgyyWTb-",
        "colab": {
          "base_uri": "https://localhost:8080/"
        },
        "outputId": "e93a965f-1106-4ce8-9e12-64657cd9fc2a"
      },
      "execution_count": 25,
      "outputs": [
        {
          "output_type": "stream",
          "name": "stdout",
          "text": [
            "37\n"
          ]
        }
      ]
    },
    {
      "cell_type": "markdown",
      "metadata": {
        "id": "aziyHOQsQQqw"
      },
      "source": [
        "\n",
        "## 3. クラスについて学習します。　(3問)"
      ]
    },
    {
      "cell_type": "markdown",
      "metadata": {
        "id": "ujJSty-qQVxZ"
      },
      "source": [
        "### 3.1「name, ageという2つの引数を持ち、それらをコンストラクタで同名のインスタンス変数として定義するようなクラスPersonを定義してください。」"
      ]
    },
    {
      "cell_type": "code",
      "metadata": {
        "id": "UNLFxZl_gPcN",
        "colab": {
          "base_uri": "https://localhost:8080/"
        },
        "outputId": "9777dfd9-85e6-4280-ccd4-90ada4de7e57"
      },
      "source": [
        "class Person:\n",
        "  def __init__(self, name, age):\n",
        "    self.name = name\n",
        "    self.age = age\n",
        "\n",
        "  def hello(self):\n",
        "    print(f'こんにちは、私の名前は{self.name}です！')\n",
        "\n",
        "person = Person('akira', 18)\n",
        "\n",
        "person.hello()"
      ],
      "execution_count": 37,
      "outputs": [
        {
          "output_type": "stream",
          "name": "stdout",
          "text": [
            "こんにちは、私の名前はakiraです！\n"
          ]
        }
      ]
    },
    {
      "cell_type": "code",
      "source": [
        ""
      ],
      "metadata": {
        "id": "ctRSHkBOer5K"
      },
      "execution_count": null,
      "outputs": []
    },
    {
      "cell_type": "markdown",
      "metadata": {
        "id": "zfB5gwm2giNg"
      },
      "source": [
        "### 3.2 「先ほどのPersonクラスに、『こんにちは、私の名前は{self.name}です！』と表示するようなメソッドを追加してください。」"
      ]
    },
    {
      "cell_type": "code",
      "metadata": {
        "id": "zWyALeeHgYDZ"
      },
      "source": [
        ""
      ],
      "execution_count": null,
      "outputs": []
    },
    {
      "cell_type": "markdown",
      "metadata": {
        "id": "iNY_mVnvhHqY"
      },
      "source": [
        "### 3.3 「nameは『あきら』, ageは『18』であるようなPersonクラスのインスタンスを生成し、3.2で定義したメソッドを呼び出してください。」"
      ]
    },
    {
      "cell_type": "code",
      "metadata": {
        "id": "ydesnzyJhdTE"
      },
      "source": [
        ""
      ],
      "execution_count": null,
      "outputs": []
    },
    {
      "cell_type": "markdown",
      "metadata": {
        "id": "8yNH601ylKgg"
      },
      "source": [
        "### 4. クラスの継承について学習します。　(2問)"
      ]
    },
    {
      "cell_type": "markdown",
      "metadata": {
        "id": "8TGanMktlQBh"
      },
      "source": [
        "### 4.1 「次のPersonクラスを継承したParentクラスを定義し、引数にchildという引数を追加して、同名のインスタンス変数として定義してください。」\n",
        "\n"
      ]
    },
    {
      "cell_type": "code",
      "metadata": {
        "id": "6VppM4FQlPRD",
        "colab": {
          "base_uri": "https://localhost:8080/"
        },
        "outputId": "8508b956-b49b-4738-cf0d-7362ec034a03"
      },
      "source": [
        "# こちらのセルを実行してください。\n",
        "class Person:\n",
        "  def __init__(self, name, age):\n",
        "    self.name = name\n",
        "    self.age = age\n",
        "\n",
        "  def greeting(self):\n",
        "    print(f'こんにちは、私の名前は{self.name}です!')\n",
        "\n",
        "class Parent(Person):\n",
        "  def __init__(self, name, age, child):\n",
        "    super().__init__(name, age)\n",
        "    self.child = child\n",
        "\n",
        "  def greeting(self):\n",
        "    super().greeting()\n",
        "    print(f'こんにちは、私の息子は{self.child}です！')\n",
        "\n",
        "\n",
        "person = Parent('一郎', 18, '次郎')\n",
        "      \n",
        "person.greeting()\n",
        "  "
      ],
      "execution_count": 49,
      "outputs": [
        {
          "output_type": "stream",
          "name": "stdout",
          "text": [
            "こんにちは、私の名前は一郎です!\n",
            "こんにちは、私の息子は次郎です！\n"
          ]
        }
      ]
    },
    {
      "cell_type": "code",
      "metadata": {
        "id": "n0LmSZZxa3fT"
      },
      "source": [
        ""
      ],
      "execution_count": null,
      "outputs": []
    },
    {
      "cell_type": "markdown",
      "metadata": {
        "id": "2ig_ECUgbrcl"
      },
      "source": [
        "### 4.2 「先ほどのPersonクラスのgreetingメソッドに、『こんにちは、私の息子は{self.child}です！』と追加で表示するようにオーバーライドしてください。」"
      ]
    },
    {
      "cell_type": "code",
      "metadata": {
        "id": "eRSaHIIRfAV0"
      },
      "source": [
        ""
      ],
      "execution_count": null,
      "outputs": []
    },
    {
      "cell_type": "markdown",
      "metadata": {
        "id": "Qyj_uRxUlS99"
      },
      "source": [
        "### 4.3 「nameは『一郎』, ageは『18』, childは『次郎』であるようなParentクラスのインスタンスを生成し、4.2で定義したメソッドを呼び出してください。」"
      ]
    },
    {
      "cell_type": "code",
      "metadata": {
        "id": "GCNHF3_5cJUb"
      },
      "source": [
        ""
      ],
      "execution_count": null,
      "outputs": []
    }
  ]
}