{
  "nbformat": 4,
  "nbformat_minor": 0,
  "metadata": {
    "colab": {
      "name": "【砂川快斗】教師あり学習の演習_editor.ipynb のコピー",
      "provenance": [],
      "collapsed_sections": [],
      "include_colab_link": true
    },
    "kernelspec": {
      "name": "python3",
      "display_name": "Python 3"
    },
    "language_info": {
      "name": "python"
    }
  },
  "cells": [
    {
      "cell_type": "markdown",
      "metadata": {
        "id": "view-in-github",
        "colab_type": "text"
      },
      "source": [
        "<a href=\"https://colab.research.google.com/github/kaigitt/GoogleColab/blob/master/%E3%80%90%E7%A0%82%E5%B7%9D%E5%BF%AB%E6%96%97%E3%80%91%E6%95%99%E5%B8%AB%E3%81%82%E3%82%8A%E5%AD%A6%E7%BF%92%E3%81%AE%E6%BC%94%E7%BF%92_editor_ipynb_%E3%81%AE%E3%82%B3%E3%83%94%E3%83%BC.ipynb\" target=\"_parent\"><img src=\"https://colab.research.google.com/assets/colab-badge.svg\" alt=\"Open In Colab\"/></a>"
      ]
    },
    {
      "cell_type": "markdown",
      "metadata": {
        "id": "15hONu64Bg3c"
      },
      "source": [
        "# 教師あり学習の演習"
      ]
    },
    {
      "cell_type": "markdown",
      "metadata": {
        "id": "5Vyo39FfBeRC"
      },
      "source": [
        "## 0. 事前準備"
      ]
    },
    {
      "cell_type": "markdown",
      "source": [
        "### 0.1 環境構築"
      ],
      "metadata": {
        "id": "vSf4b8rKYIn3"
      }
    },
    {
      "cell_type": "markdown",
      "source": [
        "まずは次のセルを実行してください。"
      ],
      "metadata": {
        "id": "hAIglT9OXJdK"
      }
    },
    {
      "cell_type": "code",
      "source": [
        "# こちらのセルを実行してください。\n",
        "!pip install openpyxl==3.0.0"
      ],
      "metadata": {
        "id": "-safkgoWbamN",
        "colab": {
          "base_uri": "https://localhost:8080/"
        },
        "outputId": "d6a6a210-373c-4340-998b-ad3cbfc3de55"
      },
      "execution_count": 2,
      "outputs": [
        {
          "output_type": "stream",
          "name": "stdout",
          "text": [
            "Collecting openpyxl==3.0.0\n",
            "  Downloading openpyxl-3.0.0.tar.gz (172 kB)\n",
            "\u001b[?25l\r\u001b[K     |██                              | 10 kB 19.9 MB/s eta 0:00:01\r\u001b[K     |███▉                            | 20 kB 6.7 MB/s eta 0:00:01\r\u001b[K     |█████▊                          | 30 kB 4.3 MB/s eta 0:00:01\r\u001b[K     |███████▋                        | 40 kB 4.0 MB/s eta 0:00:01\r\u001b[K     |█████████▌                      | 51 kB 3.4 MB/s eta 0:00:01\r\u001b[K     |███████████▍                    | 61 kB 4.1 MB/s eta 0:00:01\r\u001b[K     |█████████████▎                  | 71 kB 4.1 MB/s eta 0:00:01\r\u001b[K     |███████████████▏                | 81 kB 4.3 MB/s eta 0:00:01\r\u001b[K     |█████████████████               | 92 kB 4.8 MB/s eta 0:00:01\r\u001b[K     |███████████████████             | 102 kB 4.5 MB/s eta 0:00:01\r\u001b[K     |████████████████████▉           | 112 kB 4.5 MB/s eta 0:00:01\r\u001b[K     |██████████████████████▊         | 122 kB 4.5 MB/s eta 0:00:01\r\u001b[K     |████████████████████████▋       | 133 kB 4.5 MB/s eta 0:00:01\r\u001b[K     |██████████████████████████▌     | 143 kB 4.5 MB/s eta 0:00:01\r\u001b[K     |████████████████████████████▌   | 153 kB 4.5 MB/s eta 0:00:01\r\u001b[K     |██████████████████████████████▍ | 163 kB 4.5 MB/s eta 0:00:01\r\u001b[K     |████████████████████████████████| 172 kB 4.5 MB/s \n",
            "\u001b[?25hCollecting jdcal\n",
            "  Downloading jdcal-1.4.1-py2.py3-none-any.whl (9.5 kB)\n",
            "Requirement already satisfied: et_xmlfile in /usr/local/lib/python3.7/dist-packages (from openpyxl==3.0.0) (1.1.0)\n",
            "Building wheels for collected packages: openpyxl\n",
            "  Building wheel for openpyxl (setup.py) ... \u001b[?25l\u001b[?25hdone\n",
            "  Created wheel for openpyxl: filename=openpyxl-3.0.0-py2.py3-none-any.whl size=241207 sha256=af8ec922c1e4198e5947b7296b2243e3c744c4765e8aa40271d7d7c551d02f2f\n",
            "  Stored in directory: /root/.cache/pip/wheels/c7/64/ff/ce98f6e1d2701ae8e216c875da62feed2839ac8a3cae0ab8af\n",
            "Successfully built openpyxl\n",
            "Installing collected packages: jdcal, openpyxl\n",
            "  Attempting uninstall: openpyxl\n",
            "    Found existing installation: openpyxl 3.0.9\n",
            "    Uninstalling openpyxl-3.0.9:\n",
            "      Successfully uninstalled openpyxl-3.0.9\n",
            "Successfully installed jdcal-1.4.1 openpyxl-3.0.0\n"
          ]
        }
      ]
    },
    {
      "cell_type": "markdown",
      "source": [
        "実行が完了したら、左上のメニューバーから「ランタイム」 $\\rightarrow$ 「ランタイムを再起動」を押してください。\n",
        "\n",
        "ランタイムの再起動が終わったら、次のセルを実行してください。"
      ],
      "metadata": {
        "id": "hhP2nuoobkav"
      }
    },
    {
      "cell_type": "code",
      "source": [
        "# こちらのセルを実行してください。\n",
        "import pandas as pd\n",
        "import matplotlib.pyplot as plt\n",
        "import seaborn as sns"
      ],
      "metadata": {
        "id": "z_Fg6_fvbvTx"
      },
      "execution_count": 3,
      "outputs": []
    },
    {
      "cell_type": "markdown",
      "source": [
        "今回使用するデータをダウンロードします。\n",
        "\n",
        "次のセルを実行してください。"
      ],
      "metadata": {
        "id": "iDJBwBRZXzNY"
      }
    },
    {
      "cell_type": "code",
      "metadata": {
        "colab": {
          "base_uri": "https://localhost:8080/"
        },
        "id": "E3m4zfAPc2eM",
        "outputId": "e1684e73-6159-4d80-d815-21c167e6fdd7"
      },
      "source": [
        "!wget \"https://us.v-cdn.net/6032257/uploads/jive_attachments/6/3/1/63186354tnemhcatta.xlsx\" -O 'cycle_training.xlsx'"
      ],
      "execution_count": 4,
      "outputs": [
        {
          "output_type": "stream",
          "name": "stdout",
          "text": [
            "--2022-04-03 11:14:28--  https://us.v-cdn.net/6032257/uploads/jive_attachments/6/3/1/63186354tnemhcatta.xlsx\n",
            "Resolving us.v-cdn.net (us.v-cdn.net)... 104.18.193.13, 104.18.194.13, 2606:4700::6812:c10d, ...\n",
            "Connecting to us.v-cdn.net (us.v-cdn.net)|104.18.193.13|:443... connected.\n",
            "HTTP request sent, awaiting response... 200 OK\n",
            "Length: 62467 (61K) [application/vnd.openxmlformats-officedocument.spreadsheetml.sheet]\n",
            "Saving to: ‘cycle_training.xlsx’\n",
            "\n",
            "\rcycle_training.xlsx   0%[                    ]       0  --.-KB/s               \rcycle_training.xlsx 100%[===================>]  61.00K  --.-KB/s    in 0.01s   \n",
            "\n",
            "2022-04-03 11:14:28 (5.90 MB/s) - ‘cycle_training.xlsx’ saved [62467/62467]\n",
            "\n"
          ]
        }
      ]
    },
    {
      "cell_type": "markdown",
      "source": [
        "これで、ダウンロードできました。次のセルを実行して、データフレームとして読み込みましょう。"
      ],
      "metadata": {
        "id": "qjjiWw62X6Ql"
      }
    },
    {
      "cell_type": "code",
      "metadata": {
        "id": "qW15oUnNH7qs",
        "colab": {
          "base_uri": "https://localhost:8080/",
          "height": 423
        },
        "outputId": "9953497e-fc9b-473e-a118-09233bd28b11"
      },
      "source": [
        "df_cycle = pd.read_excel('cycle_training.xlsx')\n",
        "df_cycle"
      ],
      "execution_count": 5,
      "outputs": [
        {
          "output_type": "execute_result",
          "data": {
            "text/plain": [
              "    Instant  Season  year     dteday  mnth holiday  weekday WorkingDay  \\\n",
              "0      ID-1  Spring  2011 2011-01-01     1      No        6         No   \n",
              "1      ID-2  Spring  2011 2011-01-02     1      No        0         No   \n",
              "2      ID-3  Spring  2011 2011-01-03     1      No        1        Yes   \n",
              "3      ID-4  Spring  2011 2011-01-04     1      No        2        Yes   \n",
              "4      ID-5  Spring  2011 2011-01-05     1      No        3        Yes   \n",
              "..      ...     ...   ...        ...   ...     ...      ...        ...   \n",
              "525  ID-526  Summer  2012 2012-06-09     6      No        6         No   \n",
              "526  ID-527  Summer  2012 2012-06-10     6      No        0         No   \n",
              "527  ID-528  Summer  2012 2012-06-11     6      No        1        Yes   \n",
              "528  ID-529  Summer  2012 2012-06-12     6      No        2        Yes   \n",
              "529  ID-530  Summer  2012 2012-06-13     6      No        3        Yes   \n",
              "\n",
              "    weathersit      temp     atemp       hum  windspeed  count  \n",
              "0       Cloudy  0.344167  0.363625  0.805833   0.160446    985  \n",
              "1       Cloudy  0.363478  0.353739  0.696087   0.248539    801  \n",
              "2        Clear  0.196364  0.189405  0.437273   0.248309   1349  \n",
              "3        Clear  0.200000  0.212122  0.590435   0.160296   1562  \n",
              "4        Clear  0.226957  0.229270  0.436957   0.186900   1600  \n",
              "..         ...       ...       ...       ...        ...    ...  \n",
              "525      Clear  0.710833  0.648367  0.437083   0.144287   7498  \n",
              "526      Clear  0.726667  0.663517  0.538333   0.133721   6598  \n",
              "527     Cloudy  0.720833  0.659721  0.587917   0.207713   6664  \n",
              "528     Cloudy  0.653333  0.597875  0.833333   0.214546   4972  \n",
              "529      Clear  0.655833  0.611117  0.582083   0.343279   7421  \n",
              "\n",
              "[530 rows x 14 columns]"
            ],
            "text/html": [
              "\n",
              "  <div id=\"df-81d79bb7-ab9c-4a4a-945a-32dd238bf167\">\n",
              "    <div class=\"colab-df-container\">\n",
              "      <div>\n",
              "<style scoped>\n",
              "    .dataframe tbody tr th:only-of-type {\n",
              "        vertical-align: middle;\n",
              "    }\n",
              "\n",
              "    .dataframe tbody tr th {\n",
              "        vertical-align: top;\n",
              "    }\n",
              "\n",
              "    .dataframe thead th {\n",
              "        text-align: right;\n",
              "    }\n",
              "</style>\n",
              "<table border=\"1\" class=\"dataframe\">\n",
              "  <thead>\n",
              "    <tr style=\"text-align: right;\">\n",
              "      <th></th>\n",
              "      <th>Instant</th>\n",
              "      <th>Season</th>\n",
              "      <th>year</th>\n",
              "      <th>dteday</th>\n",
              "      <th>mnth</th>\n",
              "      <th>holiday</th>\n",
              "      <th>weekday</th>\n",
              "      <th>WorkingDay</th>\n",
              "      <th>weathersit</th>\n",
              "      <th>temp</th>\n",
              "      <th>atemp</th>\n",
              "      <th>hum</th>\n",
              "      <th>windspeed</th>\n",
              "      <th>count</th>\n",
              "    </tr>\n",
              "  </thead>\n",
              "  <tbody>\n",
              "    <tr>\n",
              "      <th>0</th>\n",
              "      <td>ID-1</td>\n",
              "      <td>Spring</td>\n",
              "      <td>2011</td>\n",
              "      <td>2011-01-01</td>\n",
              "      <td>1</td>\n",
              "      <td>No</td>\n",
              "      <td>6</td>\n",
              "      <td>No</td>\n",
              "      <td>Cloudy</td>\n",
              "      <td>0.344167</td>\n",
              "      <td>0.363625</td>\n",
              "      <td>0.805833</td>\n",
              "      <td>0.160446</td>\n",
              "      <td>985</td>\n",
              "    </tr>\n",
              "    <tr>\n",
              "      <th>1</th>\n",
              "      <td>ID-2</td>\n",
              "      <td>Spring</td>\n",
              "      <td>2011</td>\n",
              "      <td>2011-01-02</td>\n",
              "      <td>1</td>\n",
              "      <td>No</td>\n",
              "      <td>0</td>\n",
              "      <td>No</td>\n",
              "      <td>Cloudy</td>\n",
              "      <td>0.363478</td>\n",
              "      <td>0.353739</td>\n",
              "      <td>0.696087</td>\n",
              "      <td>0.248539</td>\n",
              "      <td>801</td>\n",
              "    </tr>\n",
              "    <tr>\n",
              "      <th>2</th>\n",
              "      <td>ID-3</td>\n",
              "      <td>Spring</td>\n",
              "      <td>2011</td>\n",
              "      <td>2011-01-03</td>\n",
              "      <td>1</td>\n",
              "      <td>No</td>\n",
              "      <td>1</td>\n",
              "      <td>Yes</td>\n",
              "      <td>Clear</td>\n",
              "      <td>0.196364</td>\n",
              "      <td>0.189405</td>\n",
              "      <td>0.437273</td>\n",
              "      <td>0.248309</td>\n",
              "      <td>1349</td>\n",
              "    </tr>\n",
              "    <tr>\n",
              "      <th>3</th>\n",
              "      <td>ID-4</td>\n",
              "      <td>Spring</td>\n",
              "      <td>2011</td>\n",
              "      <td>2011-01-04</td>\n",
              "      <td>1</td>\n",
              "      <td>No</td>\n",
              "      <td>2</td>\n",
              "      <td>Yes</td>\n",
              "      <td>Clear</td>\n",
              "      <td>0.200000</td>\n",
              "      <td>0.212122</td>\n",
              "      <td>0.590435</td>\n",
              "      <td>0.160296</td>\n",
              "      <td>1562</td>\n",
              "    </tr>\n",
              "    <tr>\n",
              "      <th>4</th>\n",
              "      <td>ID-5</td>\n",
              "      <td>Spring</td>\n",
              "      <td>2011</td>\n",
              "      <td>2011-01-05</td>\n",
              "      <td>1</td>\n",
              "      <td>No</td>\n",
              "      <td>3</td>\n",
              "      <td>Yes</td>\n",
              "      <td>Clear</td>\n",
              "      <td>0.226957</td>\n",
              "      <td>0.229270</td>\n",
              "      <td>0.436957</td>\n",
              "      <td>0.186900</td>\n",
              "      <td>1600</td>\n",
              "    </tr>\n",
              "    <tr>\n",
              "      <th>...</th>\n",
              "      <td>...</td>\n",
              "      <td>...</td>\n",
              "      <td>...</td>\n",
              "      <td>...</td>\n",
              "      <td>...</td>\n",
              "      <td>...</td>\n",
              "      <td>...</td>\n",
              "      <td>...</td>\n",
              "      <td>...</td>\n",
              "      <td>...</td>\n",
              "      <td>...</td>\n",
              "      <td>...</td>\n",
              "      <td>...</td>\n",
              "      <td>...</td>\n",
              "    </tr>\n",
              "    <tr>\n",
              "      <th>525</th>\n",
              "      <td>ID-526</td>\n",
              "      <td>Summer</td>\n",
              "      <td>2012</td>\n",
              "      <td>2012-06-09</td>\n",
              "      <td>6</td>\n",
              "      <td>No</td>\n",
              "      <td>6</td>\n",
              "      <td>No</td>\n",
              "      <td>Clear</td>\n",
              "      <td>0.710833</td>\n",
              "      <td>0.648367</td>\n",
              "      <td>0.437083</td>\n",
              "      <td>0.144287</td>\n",
              "      <td>7498</td>\n",
              "    </tr>\n",
              "    <tr>\n",
              "      <th>526</th>\n",
              "      <td>ID-527</td>\n",
              "      <td>Summer</td>\n",
              "      <td>2012</td>\n",
              "      <td>2012-06-10</td>\n",
              "      <td>6</td>\n",
              "      <td>No</td>\n",
              "      <td>0</td>\n",
              "      <td>No</td>\n",
              "      <td>Clear</td>\n",
              "      <td>0.726667</td>\n",
              "      <td>0.663517</td>\n",
              "      <td>0.538333</td>\n",
              "      <td>0.133721</td>\n",
              "      <td>6598</td>\n",
              "    </tr>\n",
              "    <tr>\n",
              "      <th>527</th>\n",
              "      <td>ID-528</td>\n",
              "      <td>Summer</td>\n",
              "      <td>2012</td>\n",
              "      <td>2012-06-11</td>\n",
              "      <td>6</td>\n",
              "      <td>No</td>\n",
              "      <td>1</td>\n",
              "      <td>Yes</td>\n",
              "      <td>Cloudy</td>\n",
              "      <td>0.720833</td>\n",
              "      <td>0.659721</td>\n",
              "      <td>0.587917</td>\n",
              "      <td>0.207713</td>\n",
              "      <td>6664</td>\n",
              "    </tr>\n",
              "    <tr>\n",
              "      <th>528</th>\n",
              "      <td>ID-529</td>\n",
              "      <td>Summer</td>\n",
              "      <td>2012</td>\n",
              "      <td>2012-06-12</td>\n",
              "      <td>6</td>\n",
              "      <td>No</td>\n",
              "      <td>2</td>\n",
              "      <td>Yes</td>\n",
              "      <td>Cloudy</td>\n",
              "      <td>0.653333</td>\n",
              "      <td>0.597875</td>\n",
              "      <td>0.833333</td>\n",
              "      <td>0.214546</td>\n",
              "      <td>4972</td>\n",
              "    </tr>\n",
              "    <tr>\n",
              "      <th>529</th>\n",
              "      <td>ID-530</td>\n",
              "      <td>Summer</td>\n",
              "      <td>2012</td>\n",
              "      <td>2012-06-13</td>\n",
              "      <td>6</td>\n",
              "      <td>No</td>\n",
              "      <td>3</td>\n",
              "      <td>Yes</td>\n",
              "      <td>Clear</td>\n",
              "      <td>0.655833</td>\n",
              "      <td>0.611117</td>\n",
              "      <td>0.582083</td>\n",
              "      <td>0.343279</td>\n",
              "      <td>7421</td>\n",
              "    </tr>\n",
              "  </tbody>\n",
              "</table>\n",
              "<p>530 rows × 14 columns</p>\n",
              "</div>\n",
              "      <button class=\"colab-df-convert\" onclick=\"convertToInteractive('df-81d79bb7-ab9c-4a4a-945a-32dd238bf167')\"\n",
              "              title=\"Convert this dataframe to an interactive table.\"\n",
              "              style=\"display:none;\">\n",
              "        \n",
              "  <svg xmlns=\"http://www.w3.org/2000/svg\" height=\"24px\"viewBox=\"0 0 24 24\"\n",
              "       width=\"24px\">\n",
              "    <path d=\"M0 0h24v24H0V0z\" fill=\"none\"/>\n",
              "    <path d=\"M18.56 5.44l.94 2.06.94-2.06 2.06-.94-2.06-.94-.94-2.06-.94 2.06-2.06.94zm-11 1L8.5 8.5l.94-2.06 2.06-.94-2.06-.94L8.5 2.5l-.94 2.06-2.06.94zm10 10l.94 2.06.94-2.06 2.06-.94-2.06-.94-.94-2.06-.94 2.06-2.06.94z\"/><path d=\"M17.41 7.96l-1.37-1.37c-.4-.4-.92-.59-1.43-.59-.52 0-1.04.2-1.43.59L10.3 9.45l-7.72 7.72c-.78.78-.78 2.05 0 2.83L4 21.41c.39.39.9.59 1.41.59.51 0 1.02-.2 1.41-.59l7.78-7.78 2.81-2.81c.8-.78.8-2.07 0-2.86zM5.41 20L4 18.59l7.72-7.72 1.47 1.35L5.41 20z\"/>\n",
              "  </svg>\n",
              "      </button>\n",
              "      \n",
              "  <style>\n",
              "    .colab-df-container {\n",
              "      display:flex;\n",
              "      flex-wrap:wrap;\n",
              "      gap: 12px;\n",
              "    }\n",
              "\n",
              "    .colab-df-convert {\n",
              "      background-color: #E8F0FE;\n",
              "      border: none;\n",
              "      border-radius: 50%;\n",
              "      cursor: pointer;\n",
              "      display: none;\n",
              "      fill: #1967D2;\n",
              "      height: 32px;\n",
              "      padding: 0 0 0 0;\n",
              "      width: 32px;\n",
              "    }\n",
              "\n",
              "    .colab-df-convert:hover {\n",
              "      background-color: #E2EBFA;\n",
              "      box-shadow: 0px 1px 2px rgba(60, 64, 67, 0.3), 0px 1px 3px 1px rgba(60, 64, 67, 0.15);\n",
              "      fill: #174EA6;\n",
              "    }\n",
              "\n",
              "    [theme=dark] .colab-df-convert {\n",
              "      background-color: #3B4455;\n",
              "      fill: #D2E3FC;\n",
              "    }\n",
              "\n",
              "    [theme=dark] .colab-df-convert:hover {\n",
              "      background-color: #434B5C;\n",
              "      box-shadow: 0px 1px 3px 1px rgba(0, 0, 0, 0.15);\n",
              "      filter: drop-shadow(0px 1px 2px rgba(0, 0, 0, 0.3));\n",
              "      fill: #FFFFFF;\n",
              "    }\n",
              "  </style>\n",
              "\n",
              "      <script>\n",
              "        const buttonEl =\n",
              "          document.querySelector('#df-81d79bb7-ab9c-4a4a-945a-32dd238bf167 button.colab-df-convert');\n",
              "        buttonEl.style.display =\n",
              "          google.colab.kernel.accessAllowed ? 'block' : 'none';\n",
              "\n",
              "        async function convertToInteractive(key) {\n",
              "          const element = document.querySelector('#df-81d79bb7-ab9c-4a4a-945a-32dd238bf167');\n",
              "          const dataTable =\n",
              "            await google.colab.kernel.invokeFunction('convertToInteractive',\n",
              "                                                     [key], {});\n",
              "          if (!dataTable) return;\n",
              "\n",
              "          const docLinkHtml = 'Like what you see? Visit the ' +\n",
              "            '<a target=\"_blank\" href=https://colab.research.google.com/notebooks/data_table.ipynb>data table notebook</a>'\n",
              "            + ' to learn more about interactive tables.';\n",
              "          element.innerHTML = '';\n",
              "          dataTable['output_type'] = 'display_data';\n",
              "          await google.colab.output.renderOutput(dataTable, element);\n",
              "          const docLink = document.createElement('div');\n",
              "          docLink.innerHTML = docLinkHtml;\n",
              "          element.appendChild(docLink);\n",
              "        }\n",
              "      </script>\n",
              "    </div>\n",
              "  </div>\n",
              "  "
            ]
          },
          "metadata": {},
          "execution_count": 5
        }
      ]
    },
    {
      "cell_type": "markdown",
      "source": [
        "これでデータのダウンロードができました。"
      ],
      "metadata": {
        "id": "WCGPsoYQYES_"
      }
    },
    {
      "cell_type": "markdown",
      "source": [
        "### 0.2 データ・演習についての説明"
      ],
      "metadata": {
        "id": "ghej73n_YMlT"
      }
    },
    {
      "cell_type": "markdown",
      "source": [
        "今回は天気や日時に関するデータから、レンタサイクルのレンタル数(df_cycleの'count'列)について予測するモデルを作っていただきます。\n",
        "\n",
        "各列の意味は次のようになっています。\n",
        "- Instant: 日時固有のID\n",
        "- Season: 季節\t\n",
        "- year: 年\n",
        "- dteday: 年月日\n",
        "- mnth: 月\n",
        "- holiday: 祝日か否か\n",
        "- weekday: 曜日\n",
        "- WorkingDay: 営業日か否か\n",
        "- weathersit: 天候\n",
        "- temp: 気温\n",
        "- atemp: 体感気温\n",
        "- hum: 湿度\n",
        "- windspeed: 風速\n",
        "- count: レンタル数\n",
        "\n"
      ],
      "metadata": {
        "id": "ovO2eSiiYR43"
      }
    },
    {
      "cell_type": "markdown",
      "source": [
        "これらを用いて2011年のデータを学習させ、2012年のcountを予測するモデルを作成してください。"
      ],
      "metadata": {
        "id": "Gc81O8pptV6p"
      }
    },
    {
      "cell_type": "markdown",
      "source": [
        "*タイタニックデータと同様に、まずはデータの確認及び可視化を行って、データの外観を理解した上で必要な前処理を実施してください。\n",
        "その上で適切なモデルを作成し、精度評価を実行するという流れで行ってください。\n",
        "\n",
        "(こちらはは自由記述課題になります。)"
      ],
      "metadata": {
        "id": "Uc4CaYu9TxiD"
      }
    },
    {
      "cell_type": "markdown",
      "source": [
        ""
      ],
      "metadata": {
        "id": "pabdedHe9dt_"
      }
    },
    {
      "cell_type": "markdown",
      "source": [
        "#データの確認"
      ],
      "metadata": {
        "id": "Zuox9Mgz9YZ7"
      }
    },
    {
      "cell_type": "code",
      "source": [
        "#レコード数確認\n",
        "len(df_cycle)"
      ],
      "metadata": {
        "id": "Ky9B716M75QW"
      },
      "execution_count": null,
      "outputs": []
    },
    {
      "cell_type": "code",
      "source": [
        "#カラム数確認\n",
        "len(df_cycle.columns)"
      ],
      "metadata": {
        "id": "9ya2uF4Y8dG2"
      },
      "execution_count": null,
      "outputs": []
    },
    {
      "cell_type": "code",
      "source": [
        "df_cycle.head()"
      ],
      "metadata": {
        "id": "nZPx4YEk8rr9"
      },
      "execution_count": null,
      "outputs": []
    },
    {
      "cell_type": "code",
      "source": [
        "#データ型確認\n",
        "df_cycle.dtypes"
      ],
      "metadata": {
        "id": "mHCN7jUy833j",
        "colab": {
          "base_uri": "https://localhost:8080/"
        },
        "outputId": "77e2d8c1-92c0-42a1-c756-2ea4cfe9bc4e"
      },
      "execution_count": 9,
      "outputs": [
        {
          "output_type": "execute_result",
          "data": {
            "text/plain": [
              "Instant               object\n",
              "Season                object\n",
              "year                   int64\n",
              "dteday        datetime64[ns]\n",
              "mnth                   int64\n",
              "holiday               object\n",
              "weekday                int64\n",
              "WorkingDay            object\n",
              "weathersit            object\n",
              "temp                 float64\n",
              "atemp                float64\n",
              "hum                  float64\n",
              "windspeed            float64\n",
              "count                  int64\n",
              "dtype: object"
            ]
          },
          "metadata": {},
          "execution_count": 9
        }
      ]
    },
    {
      "cell_type": "code",
      "source": [
        "#各カラムの統計量算出\n",
        "df_cycle.describe().round(3)"
      ],
      "metadata": {
        "id": "5niXW7nL8-Ys",
        "colab": {
          "base_uri": "https://localhost:8080/",
          "height": 300
        },
        "outputId": "ce15a5a3-e57f-40c7-ecd7-a689c00269ea"
      },
      "execution_count": 10,
      "outputs": [
        {
          "output_type": "execute_result",
          "data": {
            "text/plain": [
              "           year     mnth  weekday     temp    atemp      hum  windspeed  \\\n",
              "count   530.000  530.000  530.000  530.000  530.000  530.000    530.000   \n",
              "mean   2011.311    5.504    2.994    0.473    0.455    0.626      0.196   \n",
              "std       0.463    3.362    2.003    0.179    0.160    0.151      0.078   \n",
              "min    2011.000    1.000    0.000    0.059    0.079    0.000      0.022   \n",
              "25%    2011.000    3.000    1.000    0.324    0.322    0.507      0.139   \n",
              "50%    2011.000    5.000    3.000    0.464    0.457    0.626      0.189   \n",
              "75%    2012.000    8.000    5.000    0.628    0.585    0.738      0.238   \n",
              "max    2012.000   12.000    6.000    0.849    0.841    0.972      0.507   \n",
              "\n",
              "          count  \n",
              "count   530.000  \n",
              "mean   3900.515  \n",
              "std    1662.359  \n",
              "min     431.000  \n",
              "25%    2603.750  \n",
              "50%    4062.000  \n",
              "75%    4888.500  \n",
              "max    8362.000  "
            ],
            "text/html": [
              "\n",
              "  <div id=\"df-353228c0-a0b9-43af-95d4-326358404a62\">\n",
              "    <div class=\"colab-df-container\">\n",
              "      <div>\n",
              "<style scoped>\n",
              "    .dataframe tbody tr th:only-of-type {\n",
              "        vertical-align: middle;\n",
              "    }\n",
              "\n",
              "    .dataframe tbody tr th {\n",
              "        vertical-align: top;\n",
              "    }\n",
              "\n",
              "    .dataframe thead th {\n",
              "        text-align: right;\n",
              "    }\n",
              "</style>\n",
              "<table border=\"1\" class=\"dataframe\">\n",
              "  <thead>\n",
              "    <tr style=\"text-align: right;\">\n",
              "      <th></th>\n",
              "      <th>year</th>\n",
              "      <th>mnth</th>\n",
              "      <th>weekday</th>\n",
              "      <th>temp</th>\n",
              "      <th>atemp</th>\n",
              "      <th>hum</th>\n",
              "      <th>windspeed</th>\n",
              "      <th>count</th>\n",
              "    </tr>\n",
              "  </thead>\n",
              "  <tbody>\n",
              "    <tr>\n",
              "      <th>count</th>\n",
              "      <td>530.000</td>\n",
              "      <td>530.000</td>\n",
              "      <td>530.000</td>\n",
              "      <td>530.000</td>\n",
              "      <td>530.000</td>\n",
              "      <td>530.000</td>\n",
              "      <td>530.000</td>\n",
              "      <td>530.000</td>\n",
              "    </tr>\n",
              "    <tr>\n",
              "      <th>mean</th>\n",
              "      <td>2011.311</td>\n",
              "      <td>5.504</td>\n",
              "      <td>2.994</td>\n",
              "      <td>0.473</td>\n",
              "      <td>0.455</td>\n",
              "      <td>0.626</td>\n",
              "      <td>0.196</td>\n",
              "      <td>3900.515</td>\n",
              "    </tr>\n",
              "    <tr>\n",
              "      <th>std</th>\n",
              "      <td>0.463</td>\n",
              "      <td>3.362</td>\n",
              "      <td>2.003</td>\n",
              "      <td>0.179</td>\n",
              "      <td>0.160</td>\n",
              "      <td>0.151</td>\n",
              "      <td>0.078</td>\n",
              "      <td>1662.359</td>\n",
              "    </tr>\n",
              "    <tr>\n",
              "      <th>min</th>\n",
              "      <td>2011.000</td>\n",
              "      <td>1.000</td>\n",
              "      <td>0.000</td>\n",
              "      <td>0.059</td>\n",
              "      <td>0.079</td>\n",
              "      <td>0.000</td>\n",
              "      <td>0.022</td>\n",
              "      <td>431.000</td>\n",
              "    </tr>\n",
              "    <tr>\n",
              "      <th>25%</th>\n",
              "      <td>2011.000</td>\n",
              "      <td>3.000</td>\n",
              "      <td>1.000</td>\n",
              "      <td>0.324</td>\n",
              "      <td>0.322</td>\n",
              "      <td>0.507</td>\n",
              "      <td>0.139</td>\n",
              "      <td>2603.750</td>\n",
              "    </tr>\n",
              "    <tr>\n",
              "      <th>50%</th>\n",
              "      <td>2011.000</td>\n",
              "      <td>5.000</td>\n",
              "      <td>3.000</td>\n",
              "      <td>0.464</td>\n",
              "      <td>0.457</td>\n",
              "      <td>0.626</td>\n",
              "      <td>0.189</td>\n",
              "      <td>4062.000</td>\n",
              "    </tr>\n",
              "    <tr>\n",
              "      <th>75%</th>\n",
              "      <td>2012.000</td>\n",
              "      <td>8.000</td>\n",
              "      <td>5.000</td>\n",
              "      <td>0.628</td>\n",
              "      <td>0.585</td>\n",
              "      <td>0.738</td>\n",
              "      <td>0.238</td>\n",
              "      <td>4888.500</td>\n",
              "    </tr>\n",
              "    <tr>\n",
              "      <th>max</th>\n",
              "      <td>2012.000</td>\n",
              "      <td>12.000</td>\n",
              "      <td>6.000</td>\n",
              "      <td>0.849</td>\n",
              "      <td>0.841</td>\n",
              "      <td>0.972</td>\n",
              "      <td>0.507</td>\n",
              "      <td>8362.000</td>\n",
              "    </tr>\n",
              "  </tbody>\n",
              "</table>\n",
              "</div>\n",
              "      <button class=\"colab-df-convert\" onclick=\"convertToInteractive('df-353228c0-a0b9-43af-95d4-326358404a62')\"\n",
              "              title=\"Convert this dataframe to an interactive table.\"\n",
              "              style=\"display:none;\">\n",
              "        \n",
              "  <svg xmlns=\"http://www.w3.org/2000/svg\" height=\"24px\"viewBox=\"0 0 24 24\"\n",
              "       width=\"24px\">\n",
              "    <path d=\"M0 0h24v24H0V0z\" fill=\"none\"/>\n",
              "    <path d=\"M18.56 5.44l.94 2.06.94-2.06 2.06-.94-2.06-.94-.94-2.06-.94 2.06-2.06.94zm-11 1L8.5 8.5l.94-2.06 2.06-.94-2.06-.94L8.5 2.5l-.94 2.06-2.06.94zm10 10l.94 2.06.94-2.06 2.06-.94-2.06-.94-.94-2.06-.94 2.06-2.06.94z\"/><path d=\"M17.41 7.96l-1.37-1.37c-.4-.4-.92-.59-1.43-.59-.52 0-1.04.2-1.43.59L10.3 9.45l-7.72 7.72c-.78.78-.78 2.05 0 2.83L4 21.41c.39.39.9.59 1.41.59.51 0 1.02-.2 1.41-.59l7.78-7.78 2.81-2.81c.8-.78.8-2.07 0-2.86zM5.41 20L4 18.59l7.72-7.72 1.47 1.35L5.41 20z\"/>\n",
              "  </svg>\n",
              "      </button>\n",
              "      \n",
              "  <style>\n",
              "    .colab-df-container {\n",
              "      display:flex;\n",
              "      flex-wrap:wrap;\n",
              "      gap: 12px;\n",
              "    }\n",
              "\n",
              "    .colab-df-convert {\n",
              "      background-color: #E8F0FE;\n",
              "      border: none;\n",
              "      border-radius: 50%;\n",
              "      cursor: pointer;\n",
              "      display: none;\n",
              "      fill: #1967D2;\n",
              "      height: 32px;\n",
              "      padding: 0 0 0 0;\n",
              "      width: 32px;\n",
              "    }\n",
              "\n",
              "    .colab-df-convert:hover {\n",
              "      background-color: #E2EBFA;\n",
              "      box-shadow: 0px 1px 2px rgba(60, 64, 67, 0.3), 0px 1px 3px 1px rgba(60, 64, 67, 0.15);\n",
              "      fill: #174EA6;\n",
              "    }\n",
              "\n",
              "    [theme=dark] .colab-df-convert {\n",
              "      background-color: #3B4455;\n",
              "      fill: #D2E3FC;\n",
              "    }\n",
              "\n",
              "    [theme=dark] .colab-df-convert:hover {\n",
              "      background-color: #434B5C;\n",
              "      box-shadow: 0px 1px 3px 1px rgba(0, 0, 0, 0.15);\n",
              "      filter: drop-shadow(0px 1px 2px rgba(0, 0, 0, 0.3));\n",
              "      fill: #FFFFFF;\n",
              "    }\n",
              "  </style>\n",
              "\n",
              "      <script>\n",
              "        const buttonEl =\n",
              "          document.querySelector('#df-353228c0-a0b9-43af-95d4-326358404a62 button.colab-df-convert');\n",
              "        buttonEl.style.display =\n",
              "          google.colab.kernel.accessAllowed ? 'block' : 'none';\n",
              "\n",
              "        async function convertToInteractive(key) {\n",
              "          const element = document.querySelector('#df-353228c0-a0b9-43af-95d4-326358404a62');\n",
              "          const dataTable =\n",
              "            await google.colab.kernel.invokeFunction('convertToInteractive',\n",
              "                                                     [key], {});\n",
              "          if (!dataTable) return;\n",
              "\n",
              "          const docLinkHtml = 'Like what you see? Visit the ' +\n",
              "            '<a target=\"_blank\" href=https://colab.research.google.com/notebooks/data_table.ipynb>data table notebook</a>'\n",
              "            + ' to learn more about interactive tables.';\n",
              "          element.innerHTML = '';\n",
              "          dataTable['output_type'] = 'display_data';\n",
              "          await google.colab.output.renderOutput(dataTable, element);\n",
              "          const docLink = document.createElement('div');\n",
              "          docLink.innerHTML = docLinkHtml;\n",
              "          element.appendChild(docLink);\n",
              "        }\n",
              "      </script>\n",
              "    </div>\n",
              "  </div>\n",
              "  "
            ]
          },
          "metadata": {},
          "execution_count": 10
        }
      ]
    },
    {
      "cell_type": "markdown",
      "source": [
        "#データ加工"
      ],
      "metadata": {
        "id": "le6rgD_u9Kg3"
      }
    },
    {
      "cell_type": "code",
      "source": [
        "df_cycle_except_object = df_cycle[['count', 'dteday', 'year', 'mnth', 'weekday', 'Season', 'holiday', 'WorkingDay', 'weathersit', 'temp', 'atemp', 'hum', 'windspeed']]\n",
        "df_cycle_except_object"
      ],
      "metadata": {
        "id": "VBu9_dvH9O1c"
      },
      "execution_count": null,
      "outputs": []
    },
    {
      "cell_type": "code",
      "source": [
        "df_cycle_2012 = df_cycle_except_object[df_cycle_except_object['year'] == 2012]\n",
        "df_cycle_2012"
      ],
      "metadata": {
        "id": "e_lO6RKgQeBq"
      },
      "execution_count": null,
      "outputs": []
    },
    {
      "cell_type": "code",
      "source": [
        "df_cycle_except_object = df_cycle_except_object[df_cycle_except_object['year'] == 2011]\n",
        "df_cycle_except_object"
      ],
      "metadata": {
        "id": "yWZteCcSNAEy"
      },
      "execution_count": null,
      "outputs": []
    },
    {
      "cell_type": "code",
      "source": [
        "df_cycle_except_object.dtypes"
      ],
      "metadata": {
        "id": "lcS6IVwBw3PP"
      },
      "execution_count": null,
      "outputs": []
    },
    {
      "cell_type": "markdown",
      "source": [
        "#データの可視化により関連性調査"
      ],
      "metadata": {
        "id": "_Nkzzg9m_T0t"
      }
    },
    {
      "cell_type": "code",
      "source": [
        "#レンタル数推移\n",
        "plt.figure()\n",
        "plt.plot(df_cycle_except_object['dteday'], df_cycle_except_object['count'])\n",
        "plt.show()"
      ],
      "metadata": {
        "colab": {
          "base_uri": "https://localhost:8080/",
          "height": 265
        },
        "id": "YvBqD_JcmjfO",
        "outputId": "7e590d08-67ff-4327-a82f-41751566945c"
      },
      "execution_count": 84,
      "outputs": [
        {
          "output_type": "display_data",
          "data": {
            "text/plain": [
              "<Figure size 432x288 with 1 Axes>"
            ],
            "image/png": "[encoded data removed]"
          },
          "metadata": {
            "needs_background": "light"
          }
        }
      ]
    },
    {
      "cell_type": "code",
      "source": [
        "#月ごとのレンタル数\n",
        "plt.figure()\n",
        "sns.boxplot(x=df_cycle_except_object['mnth'], y=df_cycle_except_object['count'])\n",
        "plt.show()"
      ],
      "metadata": {
        "id": "Kpov4VkC8ciB",
        "colab": {
          "base_uri": "https://localhost:8080/",
          "height": 279
        },
        "outputId": "54f7e777-226b-4699-c287-66cdfb525eeb"
      },
      "execution_count": 78,
      "outputs": [
        {
          "output_type": "display_data",
          "data": {
            "text/plain": [
              "<Figure size 432x288 with 1 Axes>"
            ],
            "image/png": "[encoded data removed]"
          },
          "metadata": {
            "needs_background": "light"
          }
        }
      ]
    },
    {
      "cell_type": "code",
      "source": [
        "#週単位でのレンタル数\n",
        "plt.figure()\n",
        "sns.boxplot(x=df_cycle_except_object['weekday'], y=df_cycle_except_object['count'])\n",
        "plt.show()"
      ],
      "metadata": {
        "id": "FDIC6fHK-OW-",
        "colab": {
          "base_uri": "https://localhost:8080/",
          "height": 279
        },
        "outputId": "7ccd82f0-7e52-42a5-cefc-c477bece5a31"
      },
      "execution_count": 17,
      "outputs": [
        {
          "output_type": "display_data",
          "data": {
            "text/plain": [
              "<Figure size 432x288 with 1 Axes>"
            ],
            "image/png": "[encoded data removed]"
          },
          "metadata": {
            "needs_background": "light"
          }
        }
      ]
    },
    {
      "cell_type": "code",
      "source": [
        "#季節ごとのレンタル数\n",
        "plt.figure()\n",
        "sns.boxplot(x=df_cycle_except_object['Season'], y=df_cycle_except_object['count'])\n",
        "plt.show()"
      ],
      "metadata": {
        "id": "8itNYrQuiRAP",
        "colab": {
          "base_uri": "https://localhost:8080/",
          "height": 279
        },
        "outputId": "ec4f9448-f88a-4803-c87e-b208486845f6"
      },
      "execution_count": 18,
      "outputs": [
        {
          "output_type": "display_data",
          "data": {
            "text/plain": [
              "<Figure size 432x288 with 1 Axes>"
            ],
            "image/png": "[encoded data removed]"
          },
          "metadata": {
            "needs_background": "light"
          }
        }
      ]
    },
    {
      "cell_type": "code",
      "source": [
        "#天候ごとのレンタル数\n",
        "plt.figure()\n",
        "sns.boxplot(x=df_cycle_except_object['weathersit'], y=df_cycle_except_object['count'])\n",
        "plt.show()"
      ],
      "metadata": {
        "id": "_32eWQiAmFxJ"
      },
      "execution_count": null,
      "outputs": []
    },
    {
      "cell_type": "code",
      "source": [
        "#体感気温と気温の相関\n",
        "plt.figure()\n",
        "plt.scatter(df_cycle_except_object['atemp'], df_cycle_except_object['temp'])\n",
        "plt.show()"
      ],
      "metadata": {
        "id": "uzlzDGEhoCkz"
      },
      "execution_count": null,
      "outputs": []
    },
    {
      "cell_type": "code",
      "source": [
        "#体感気温,気温とレンタル数\n",
        "plt.figure()\n",
        "plt.scatter(df_cycle_except_object['atemp'], df_cycle_except_object['count'])\n",
        "plt.scatter(df_cycle_except_object['temp'], df_cycle_except_object['count'])\n",
        "plt.show()"
      ],
      "metadata": {
        "id": "M2LKESHGoxv1"
      },
      "execution_count": null,
      "outputs": []
    },
    {
      "cell_type": "markdown",
      "source": [
        "体感気温と実際の気温はほとんど同じ推移であり\n",
        "各々レンタル数との相関もほとんど同じため、体感気温はデータから削除し実際の気温のみ分析に用いる"
      ],
      "metadata": {
        "id": "inxSmfZapA1E"
      }
    },
    {
      "cell_type": "code",
      "source": [
        "#量的変数のみ散布図行列で確認\n",
        "df_cycle_countable = df_cycle_except_object[['temp', 'hum','windspeed']]\n",
        "\n",
        "sns.pairplot(data=df_cycle_countable)"
      ],
      "metadata": {
        "colab": {
          "base_uri": "https://localhost:8080/",
          "height": 568
        },
        "id": "61aNOUxSsGoR",
        "outputId": "6ff2ed14-6a84-47ac-bd18-40a2fffdfc45"
      },
      "execution_count": 23,
      "outputs": [
        {
          "output_type": "execute_result",
          "data": {
            "text/plain": [
              "<seaborn.axisgrid.PairGrid at 0x7f85acd1fb50>"
            ]
          },
          "metadata": {},
          "execution_count": 23
        },
        {
          "output_type": "display_data",
          "data": {
            "text/plain": [
              "<Figure size 540x540 with 12 Axes>"
            ],
            "image/png": "[encoded data removed]"
          },
          "metadata": {
            "needs_background": "light"
          }
        }
      ]
    },
    {
      "cell_type": "code",
      "source": [
        "#各変数間の相関係数確認\n",
        "df_cycle_except_object.corr()"
      ],
      "metadata": {
        "id": "woqWVRDm_Tkh"
      },
      "execution_count": null,
      "outputs": []
    },
    {
      "cell_type": "code",
      "source": [
        "#予測・学習のために定性的な変数をダミー変数化\n",
        "df_cycle_except_object = pd.get_dummies(df_cycle[['count', 'year', 'mnth', 'weekday', 'temp', 'hum', 'windspeed', 'Season', 'holiday', 'WorkingDay', 'weathersit']])\n"
      ],
      "metadata": {
        "id": "umaIFjiktd2y"
      },
      "execution_count": 53,
      "outputs": []
    },
    {
      "cell_type": "code",
      "source": [
        "df_cycle_except_object = df_cycle_except_object[df_cycle_except_object['year'] == 2011]\n",
        "df_cycle_except_object"
      ],
      "metadata": {
        "id": "NGBiF1f2IxlE"
      },
      "execution_count": null,
      "outputs": []
    },
    {
      "cell_type": "code",
      "source": [
        ""
      ],
      "metadata": {
        "colab": {
          "base_uri": "https://localhost:8080/",
          "height": 49
        },
        "id": "SFyQwJNCQKv5",
        "outputId": "346d5e35-7df3-4b3a-c83c-4609628dfd3f"
      },
      "execution_count": 102,
      "outputs": [
        {
          "output_type": "execute_result",
          "data": {
            "text/plain": [
              "Empty DataFrame\n",
              "Columns: [count, dteday, year, mnth, weekday, Season, holiday, WorkingDay, weathersit, temp, atemp, hum, windspeed]\n",
              "Index: []"
            ],
            "text/html": [
              "\n",
              "  <div id=\"df-14f363ea-79f5-4fb2-a929-21c1b45bf8b6\">\n",
              "    <div class=\"colab-df-container\">\n",
              "      <div>\n",
              "<style scoped>\n",
              "    .dataframe tbody tr th:only-of-type {\n",
              "        vertical-align: middle;\n",
              "    }\n",
              "\n",
              "    .dataframe tbody tr th {\n",
              "        vertical-align: top;\n",
              "    }\n",
              "\n",
              "    .dataframe thead th {\n",
              "        text-align: right;\n",
              "    }\n",
              "</style>\n",
              "<table border=\"1\" class=\"dataframe\">\n",
              "  <thead>\n",
              "    <tr style=\"text-align: right;\">\n",
              "      <th></th>\n",
              "      <th>count</th>\n",
              "      <th>dteday</th>\n",
              "      <th>year</th>\n",
              "      <th>mnth</th>\n",
              "      <th>weekday</th>\n",
              "      <th>Season</th>\n",
              "      <th>holiday</th>\n",
              "      <th>WorkingDay</th>\n",
              "      <th>weathersit</th>\n",
              "      <th>temp</th>\n",
              "      <th>atemp</th>\n",
              "      <th>hum</th>\n",
              "      <th>windspeed</th>\n",
              "    </tr>\n",
              "  </thead>\n",
              "  <tbody>\n",
              "  </tbody>\n",
              "</table>\n",
              "</div>\n",
              "      <button class=\"colab-df-convert\" onclick=\"convertToInteractive('df-14f363ea-79f5-4fb2-a929-21c1b45bf8b6')\"\n",
              "              title=\"Convert this dataframe to an interactive table.\"\n",
              "              style=\"display:none;\">\n",
              "        \n",
              "  <svg xmlns=\"http://www.w3.org/2000/svg\" height=\"24px\"viewBox=\"0 0 24 24\"\n",
              "       width=\"24px\">\n",
              "    <path d=\"M0 0h24v24H0V0z\" fill=\"none\"/>\n",
              "    <path d=\"M18.56 5.44l.94 2.06.94-2.06 2.06-.94-2.06-.94-.94-2.06-.94 2.06-2.06.94zm-11 1L8.5 8.5l.94-2.06 2.06-.94-2.06-.94L8.5 2.5l-.94 2.06-2.06.94zm10 10l.94 2.06.94-2.06 2.06-.94-2.06-.94-.94-2.06-.94 2.06-2.06.94z\"/><path d=\"M17.41 7.96l-1.37-1.37c-.4-.4-.92-.59-1.43-.59-.52 0-1.04.2-1.43.59L10.3 9.45l-7.72 7.72c-.78.78-.78 2.05 0 2.83L4 21.41c.39.39.9.59 1.41.59.51 0 1.02-.2 1.41-.59l7.78-7.78 2.81-2.81c.8-.78.8-2.07 0-2.86zM5.41 20L4 18.59l7.72-7.72 1.47 1.35L5.41 20z\"/>\n",
              "  </svg>\n",
              "      </button>\n",
              "      \n",
              "  <style>\n",
              "    .colab-df-container {\n",
              "      display:flex;\n",
              "      flex-wrap:wrap;\n",
              "      gap: 12px;\n",
              "    }\n",
              "\n",
              "    .colab-df-convert {\n",
              "      background-color: #E8F0FE;\n",
              "      border: none;\n",
              "      border-radius: 50%;\n",
              "      cursor: pointer;\n",
              "      display: none;\n",
              "      fill: #1967D2;\n",
              "      height: 32px;\n",
              "      padding: 0 0 0 0;\n",
              "      width: 32px;\n",
              "    }\n",
              "\n",
              "    .colab-df-convert:hover {\n",
              "      background-color: #E2EBFA;\n",
              "      box-shadow: 0px 1px 2px rgba(60, 64, 67, 0.3), 0px 1px 3px 1px rgba(60, 64, 67, 0.15);\n",
              "      fill: #174EA6;\n",
              "    }\n",
              "\n",
              "    [theme=dark] .colab-df-convert {\n",
              "      background-color: #3B4455;\n",
              "      fill: #D2E3FC;\n",
              "    }\n",
              "\n",
              "    [theme=dark] .colab-df-convert:hover {\n",
              "      background-color: #434B5C;\n",
              "      box-shadow: 0px 1px 3px 1px rgba(0, 0, 0, 0.15);\n",
              "      filter: drop-shadow(0px 1px 2px rgba(0, 0, 0, 0.3));\n",
              "      fill: #FFFFFF;\n",
              "    }\n",
              "  </style>\n",
              "\n",
              "      <script>\n",
              "        const buttonEl =\n",
              "          document.querySelector('#df-14f363ea-79f5-4fb2-a929-21c1b45bf8b6 button.colab-df-convert');\n",
              "        buttonEl.style.display =\n",
              "          google.colab.kernel.accessAllowed ? 'block' : 'none';\n",
              "\n",
              "        async function convertToInteractive(key) {\n",
              "          const element = document.querySelector('#df-14f363ea-79f5-4fb2-a929-21c1b45bf8b6');\n",
              "          const dataTable =\n",
              "            await google.colab.kernel.invokeFunction('convertToInteractive',\n",
              "                                                     [key], {});\n",
              "          if (!dataTable) return;\n",
              "\n",
              "          const docLinkHtml = 'Like what you see? Visit the ' +\n",
              "            '<a target=\"_blank\" href=https://colab.research.google.com/notebooks/data_table.ipynb>data table notebook</a>'\n",
              "            + ' to learn more about interactive tables.';\n",
              "          element.innerHTML = '';\n",
              "          dataTable['output_type'] = 'display_data';\n",
              "          await google.colab.output.renderOutput(dataTable, element);\n",
              "          const docLink = document.createElement('div');\n",
              "          docLink.innerHTML = docLinkHtml;\n",
              "          element.appendChild(docLink);\n",
              "        }\n",
              "      </script>\n",
              "    </div>\n",
              "  </div>\n",
              "  "
            ]
          },
          "metadata": {},
          "execution_count": 102
        }
      ]
    },
    {
      "cell_type": "markdown",
      "source": [
        "#学習データ、検証データ分割"
      ],
      "metadata": {
        "id": "jl-JGpzzCzvJ"
      }
    },
    {
      "cell_type": "code",
      "source": [
        "from sklearn.tree import DecisionTreeClassifier\n",
        "from sklearn.model_selection import train_test_split\n",
        "from sklearn.metrics import confusion_matrix, accuracy_score"
      ],
      "metadata": {
        "id": "gM2grddAC6vj"
      },
      "execution_count": 45,
      "outputs": []
    },
    {
      "cell_type": "code",
      "source": [
        "X = df_cycle_except_object.drop('count', axis=1)\n",
        "y = df_cycle_except_object['count']\n",
        "print(X.shape)\n",
        "print(y.shape)"
      ],
      "metadata": {
        "id": "Bgl18r4PDBMC",
        "colab": {
          "base_uri": "https://localhost:8080/"
        },
        "outputId": "a7b21ce1-8dcd-42bc-d76a-d0dc8ae31073"
      },
      "execution_count": 55,
      "outputs": [
        {
          "output_type": "stream",
          "name": "stdout",
          "text": [
            "(365, 17)\n",
            "(365,)\n"
          ]
        }
      ]
    },
    {
      "cell_type": "code",
      "source": [
        "X_train, X_test, y_train, y_test = train_test_split(X, y, test_size=0.3, shuffle=False, random_state=0)\n",
        "print(X_train.head())\n",
        "print(X_test.head())\n",
        "print(y_train.head())\n",
        "print(y_test.head())"
      ],
      "metadata": {
        "id": "Hqr4LqR2Djjj",
        "colab": {
          "base_uri": "https://localhost:8080/"
        },
        "outputId": "b23f5635-9143-4625-c4d3-28067d655643"
      },
      "execution_count": 125,
      "outputs": [
        {
          "output_type": "stream",
          "name": "stdout",
          "text": [
            "   year  mnth  weekday      temp       hum  windspeed  Season_Fall  \\\n",
            "0  2011     1        6  0.344167  0.805833   0.160446            0   \n",
            "1  2011     1        0  0.363478  0.696087   0.248539            0   \n",
            "2  2011     1        1  0.196364  0.437273   0.248309            0   \n",
            "3  2011     1        2  0.200000  0.590435   0.160296            0   \n",
            "4  2011     1        3  0.226957  0.436957   0.186900            0   \n",
            "\n",
            "   Season_Spring  Season_Summer  Season_Winter  holiday_No  holiday_Yes  \\\n",
            "0              1              0              0           1            0   \n",
            "1              1              0              0           1            0   \n",
            "2              1              0              0           1            0   \n",
            "3              1              0              0           1            0   \n",
            "4              1              0              0           1            0   \n",
            "\n",
            "   WorkingDay_No  WorkingDay_Yes  weathersit_Clear  weathersit_Cloudy  \\\n",
            "0              1               0                 0                  1   \n",
            "1              1               0                 0                  1   \n",
            "2              0               1                 1                  0   \n",
            "3              0               1                 1                  0   \n",
            "4              0               1                 1                  0   \n",
            "\n",
            "   weathersit_Light Rain  \n",
            "0                      0  \n",
            "1                      0  \n",
            "2                      0  \n",
            "3                      0  \n",
            "4                      0  \n",
            "     year  mnth  weekday      temp       hum  windspeed  Season_Fall  \\\n",
            "255  2011     9        2  0.650833  0.712500   0.141804            1   \n",
            "256  2011     9        3  0.673333  0.697083   0.167300            1   \n",
            "257  2011     9        4  0.577500  0.709167   0.271146            1   \n",
            "258  2011     9        5  0.469167  0.590417   0.164183            1   \n",
            "259  2011     9        6  0.491667  0.718333   0.189675            1   \n",
            "\n",
            "     Season_Spring  Season_Summer  Season_Winter  holiday_No  holiday_Yes  \\\n",
            "255              0              0              0           1            0   \n",
            "256              0              0              0           1            0   \n",
            "257              0              0              0           1            0   \n",
            "258              0              0              0           1            0   \n",
            "259              0              0              0           1            0   \n",
            "\n",
            "     WorkingDay_No  WorkingDay_Yes  weathersit_Clear  weathersit_Cloudy  \\\n",
            "255              0               1                 1                  0   \n",
            "256              0               1                 1                  0   \n",
            "257              0               1                 0                  1   \n",
            "258              0               1                 0                  1   \n",
            "259              1               0                 0                  1   \n",
            "\n",
            "     weathersit_Light Rain  \n",
            "255                      0  \n",
            "256                      0  \n",
            "257                      0  \n",
            "258                      0  \n",
            "259                      0  \n",
            "0     985\n",
            "1     801\n",
            "2    1349\n",
            "3    1562\n",
            "4    1600\n",
            "Name: count, dtype: int64\n",
            "255    4763\n",
            "256    4785\n",
            "257    3659\n",
            "258    4760\n",
            "259    4511\n",
            "Name: count, dtype: int64\n"
          ]
        }
      ]
    },
    {
      "cell_type": "markdown",
      "source": [
        "#モデリング"
      ],
      "metadata": {
        "id": "47pWZtOFD5_D"
      }
    },
    {
      "cell_type": "markdown",
      "source": [
        "RandomForestRegressorのモデル使用"
      ],
      "metadata": {
        "id": "UTRhIKnz7Zcn"
      }
    },
    {
      "cell_type": "code",
      "source": [
        "from sklearn.ensemble import RandomForestRegressor"
      ],
      "metadata": {
        "id": "FJ9kWX8W1pMW"
      },
      "execution_count": 50,
      "outputs": []
    },
    {
      "cell_type": "code",
      "source": [
        "RF = RandomForestRegressor(random_state=0)"
      ],
      "metadata": {
        "id": "OPzuX3H414Bs"
      },
      "execution_count": 119,
      "outputs": []
    },
    {
      "cell_type": "code",
      "source": [
        "random_forest = RF.fit(X_train,y_train)"
      ],
      "metadata": {
        "id": "bPFJ5XT619Y4"
      },
      "execution_count": 126,
      "outputs": []
    },
    {
      "cell_type": "code",
      "source": [
        "y_pred = random_forest.predict(X_test)\n",
        "y_pred"
      ],
      "metadata": {
        "id": "OKtuy6Hw1_zB"
      },
      "execution_count": null,
      "outputs": []
    },
    {
      "cell_type": "code",
      "source": [
        "plt.scatter(y_pred,y_test)\n",
        "plt.title('Scatter Plot of Predict vs Test')    \n",
        "plt.xlabel('予測値') \n",
        "plt.ylabel('実測値')    \n",
        "plt.grid()                                 \n",
        "plt.show()  "
      ],
      "metadata": {
        "id": "7YdcTNnJTD1h"
      },
      "execution_count": null,
      "outputs": []
    },
    {
      "cell_type": "code",
      "source": [
        "plt.figure()\n",
        "#予測値\n",
        "plt.plot(y_test.reset_index())\n",
        "#実測値\n",
        "plt.plot(y_pred)\n",
        "plt.show()"
      ],
      "metadata": {
        "id": "2tPhWI2gJsJn"
      },
      "execution_count": null,
      "outputs": []
    },
    {
      "cell_type": "code",
      "source": [
        "#MAPEでの評価\n",
        "from sklearn.metrics import mean_absolute_percentage_error\n",
        "mean_absolute_percentage_error(y_pred,y_test)"
      ],
      "metadata": {
        "id": "Av-NhFpVKSTv"
      },
      "execution_count": null,
      "outputs": []
    },
    {
      "cell_type": "code",
      "source": [
        "#決定係数での評価\n",
        "from sklearn.metrics import r2_score\n",
        "r2_score(y_pred,y_test)"
      ],
      "metadata": {
        "id": "C5uoSZvA-h8k"
      },
      "execution_count": null,
      "outputs": []
    },
    {
      "cell_type": "markdown",
      "source": [
        "#2012年レンタル数の予測"
      ],
      "metadata": {
        "id": "Vuw_Pi7cTwYb"
      }
    },
    {
      "cell_type": "code",
      "source": [
        ""
      ],
      "metadata": {
        "id": "NTH-o_mZT2HI"
      },
      "execution_count": null,
      "outputs": []
    }
  ]
}