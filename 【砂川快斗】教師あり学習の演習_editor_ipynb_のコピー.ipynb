{
  "nbformat": 4,
  "nbformat_minor": 0,
  "metadata": {
    "colab": {
      "name": "【砂川快斗】教師あり学習の演習_editor.ipynb のコピー",
      "provenance": [],
      "collapsed_sections": [],
      "include_colab_link": true
    },
    "kernelspec": {
      "name": "python3",
      "display_name": "Python 3"
    },
    "language_info": {
      "name": "python"
    }
  },
  "cells": [
    {
      "cell_type": "markdown",
      "metadata": {
        "id": "view-in-github",
        "colab_type": "text"
      },
      "source": [
        "<a href=\"https://colab.research.google.com/github/kaigitt/GoogleColab/blob/master/%E3%80%90%E7%A0%82%E5%B7%9D%E5%BF%AB%E6%96%97%E3%80%91%E6%95%99%E5%B8%AB%E3%81%82%E3%82%8A%E5%AD%A6%E7%BF%92%E3%81%AE%E6%BC%94%E7%BF%92_editor_ipynb_%E3%81%AE%E3%82%B3%E3%83%94%E3%83%BC.ipynb\" target=\"_parent\"><img src=\"https://colab.research.google.com/assets/colab-badge.svg\" alt=\"Open In Colab\"/></a>"
      ]
    },
    {
      "cell_type": "markdown",
      "metadata": {
        "id": "15hONu64Bg3c"
      },
      "source": [
        "# 教師あり学習の演習"
      ]
    },
    {
      "cell_type": "markdown",
      "metadata": {
        "id": "5Vyo39FfBeRC"
      },
      "source": [
        "## 0. 事前準備"
      ]
    },
    {
      "cell_type": "markdown",
      "source": [
        "### 0.1 環境構築"
      ],
      "metadata": {
        "id": "vSf4b8rKYIn3"
      }
    },
    {
      "cell_type": "markdown",
      "source": [
        "まずは次のセルを実行してください。"
      ],
      "metadata": {
        "id": "hAIglT9OXJdK"
      }
    },
    {
      "cell_type": "code",
      "source": [
        "# こちらのセルを実行してください。\n",
        "!pip install openpyxl==3.0.0"
      ],
      "metadata": {
        "id": "-safkgoWbamN",
        "colab": {
          "base_uri": "https://localhost:8080/"
        },
        "outputId": "4aec9190-36f0-4155-902e-7c93a40cce32"
      },
      "execution_count": 81,
      "outputs": [
        {
          "output_type": "stream",
          "name": "stdout",
          "text": [
            "Requirement already satisfied: openpyxl==3.0.0 in /usr/local/lib/python3.7/dist-packages (3.0.0)\n",
            "Requirement already satisfied: et-xmlfile in /usr/local/lib/python3.7/dist-packages (from openpyxl==3.0.0) (1.1.0)\n",
            "Requirement already satisfied: jdcal in /usr/local/lib/python3.7/dist-packages (from openpyxl==3.0.0) (1.4.1)\n"
          ]
        }
      ]
    },
    {
      "cell_type": "markdown",
      "source": [
        "実行が完了したら、左上のメニューバーから「ランタイム」 $\\rightarrow$ 「ランタイムを再起動」を押してください。\n",
        "\n",
        "ランタイムの再起動が終わったら、次のセルを実行してください。"
      ],
      "metadata": {
        "id": "hhP2nuoobkav"
      }
    },
    {
      "cell_type": "code",
      "source": [
        "# こちらのセルを実行してください。\n",
        "import pandas as pd\n",
        "import matplotlib.pyplot as plt\n",
        "import seaborn as sns"
      ],
      "metadata": {
        "id": "z_Fg6_fvbvTx"
      },
      "execution_count": 82,
      "outputs": []
    },
    {
      "cell_type": "markdown",
      "source": [
        "今回使用するデータをダウンロードします。\n",
        "\n",
        "次のセルを実行してください。"
      ],
      "metadata": {
        "id": "iDJBwBRZXzNY"
      }
    },
    {
      "cell_type": "code",
      "metadata": {
        "colab": {
          "base_uri": "https://localhost:8080/"
        },
        "id": "E3m4zfAPc2eM",
        "outputId": "440a66d2-95fa-4b0a-a7c7-68112d783fe6"
      },
      "source": [
        "!wget \"https://us.v-cdn.net/6032257/uploads/jive_attachments/6/3/1/63186354tnemhcatta.xlsx\" -O 'cycle_training.xlsx'"
      ],
      "execution_count": 83,
      "outputs": [
        {
          "output_type": "stream",
          "name": "stdout",
          "text": [
            "--2022-04-01 14:57:29--  https://us.v-cdn.net/6032257/uploads/jive_attachments/6/3/1/63186354tnemhcatta.xlsx\n",
            "Resolving us.v-cdn.net (us.v-cdn.net)... 104.18.193.13, 104.18.194.13, 2606:4700::6812:c20d, ...\n",
            "Connecting to us.v-cdn.net (us.v-cdn.net)|104.18.193.13|:443... connected.\n",
            "HTTP request sent, awaiting response... 200 OK\n",
            "Length: 62467 (61K) [application/vnd.openxmlformats-officedocument.spreadsheetml.sheet]\n",
            "Saving to: ‘cycle_training.xlsx’\n",
            "\n",
            "\rcycle_training.xlsx   0%[                    ]       0  --.-KB/s               \rcycle_training.xlsx 100%[===================>]  61.00K  --.-KB/s    in 0.007s  \n",
            "\n",
            "2022-04-01 14:57:29 (8.42 MB/s) - ‘cycle_training.xlsx’ saved [62467/62467]\n",
            "\n"
          ]
        }
      ]
    },
    {
      "cell_type": "code",
      "source": [
        ""
      ],
      "metadata": {
        "id": "NJZ8kxc-DPbS"
      },
      "execution_count": 83,
      "outputs": []
    },
    {
      "cell_type": "markdown",
      "source": [
        "これで、ダウンロードできました。次のセルを実行して、データフレームとして読み込みましょう。"
      ],
      "metadata": {
        "id": "qjjiWw62X6Ql"
      }
    },
    {
      "cell_type": "code",
      "metadata": {
        "id": "qW15oUnNH7qs",
        "colab": {
          "base_uri": "https://localhost:8080/",
          "height": 661
        },
        "outputId": "a1a35351-8540-47ba-ba17-6c5d455090f8"
      },
      "source": [
        "df_cycle = pd.read_excel('cycle_training.xlsx')\n",
        "df_cycle"
      ],
      "execution_count": 84,
      "outputs": [
        {
          "output_type": "execute_result",
          "data": {
            "text/plain": [
              "    Instant  Season  year     dteday  mnth holiday  weekday WorkingDay  \\\n",
              "0      ID-1  Spring  2011 2011-01-01     1      No        6         No   \n",
              "1      ID-2  Spring  2011 2011-01-02     1      No        0         No   \n",
              "2      ID-3  Spring  2011 2011-01-03     1      No        1        Yes   \n",
              "3      ID-4  Spring  2011 2011-01-04     1      No        2        Yes   \n",
              "4      ID-5  Spring  2011 2011-01-05     1      No        3        Yes   \n",
              "..      ...     ...   ...        ...   ...     ...      ...        ...   \n",
              "525  ID-526  Summer  2012 2012-06-09     6      No        6         No   \n",
              "526  ID-527  Summer  2012 2012-06-10     6      No        0         No   \n",
              "527  ID-528  Summer  2012 2012-06-11     6      No        1        Yes   \n",
              "528  ID-529  Summer  2012 2012-06-12     6      No        2        Yes   \n",
              "529  ID-530  Summer  2012 2012-06-13     6      No        3        Yes   \n",
              "\n",
              "    weathersit      temp     atemp       hum  windspeed  count  \n",
              "0       Cloudy  0.344167  0.363625  0.805833   0.160446    985  \n",
              "1       Cloudy  0.363478  0.353739  0.696087   0.248539    801  \n",
              "2        Clear  0.196364  0.189405  0.437273   0.248309   1349  \n",
              "3        Clear  0.200000  0.212122  0.590435   0.160296   1562  \n",
              "4        Clear  0.226957  0.229270  0.436957   0.186900   1600  \n",
              "..         ...       ...       ...       ...        ...    ...  \n",
              "525      Clear  0.710833  0.648367  0.437083   0.144287   7498  \n",
              "526      Clear  0.726667  0.663517  0.538333   0.133721   6598  \n",
              "527     Cloudy  0.720833  0.659721  0.587917   0.207713   6664  \n",
              "528     Cloudy  0.653333  0.597875  0.833333   0.214546   4972  \n",
              "529      Clear  0.655833  0.611117  0.582083   0.343279   7421  \n",
              "\n",
              "[530 rows x 14 columns]"
            ],
            "text/html": [
              "\n",
              "  <div id=\"df-a5d57a06-54f3-402e-a75f-7c6d659f08b3\">\n",
              "    <div class=\"colab-df-container\">\n",
              "      <div>\n",
              "<style scoped>\n",
              "    .dataframe tbody tr th:only-of-type {\n",
              "        vertical-align: middle;\n",
              "    }\n",
              "\n",
              "    .dataframe tbody tr th {\n",
              "        vertical-align: top;\n",
              "    }\n",
              "\n",
              "    .dataframe thead th {\n",
              "        text-align: right;\n",
              "    }\n",
              "</style>\n",
              "<table border=\"1\" class=\"dataframe\">\n",
              "  <thead>\n",
              "    <tr style=\"text-align: right;\">\n",
              "      <th></th>\n",
              "      <th>Instant</th>\n",
              "      <th>Season</th>\n",
              "      <th>year</th>\n",
              "      <th>dteday</th>\n",
              "      <th>mnth</th>\n",
              "      <th>holiday</th>\n",
              "      <th>weekday</th>\n",
              "      <th>WorkingDay</th>\n",
              "      <th>weathersit</th>\n",
              "      <th>temp</th>\n",
              "      <th>atemp</th>\n",
              "      <th>hum</th>\n",
              "      <th>windspeed</th>\n",
              "      <th>count</th>\n",
              "    </tr>\n",
              "  </thead>\n",
              "  <tbody>\n",
              "    <tr>\n",
              "      <th>0</th>\n",
              "      <td>ID-1</td>\n",
              "      <td>Spring</td>\n",
              "      <td>2011</td>\n",
              "      <td>2011-01-01</td>\n",
              "      <td>1</td>\n",
              "      <td>No</td>\n",
              "      <td>6</td>\n",
              "      <td>No</td>\n",
              "      <td>Cloudy</td>\n",
              "      <td>0.344167</td>\n",
              "      <td>0.363625</td>\n",
              "      <td>0.805833</td>\n",
              "      <td>0.160446</td>\n",
              "      <td>985</td>\n",
              "    </tr>\n",
              "    <tr>\n",
              "      <th>1</th>\n",
              "      <td>ID-2</td>\n",
              "      <td>Spring</td>\n",
              "      <td>2011</td>\n",
              "      <td>2011-01-02</td>\n",
              "      <td>1</td>\n",
              "      <td>No</td>\n",
              "      <td>0</td>\n",
              "      <td>No</td>\n",
              "      <td>Cloudy</td>\n",
              "      <td>0.363478</td>\n",
              "      <td>0.353739</td>\n",
              "      <td>0.696087</td>\n",
              "      <td>0.248539</td>\n",
              "      <td>801</td>\n",
              "    </tr>\n",
              "    <tr>\n",
              "      <th>2</th>\n",
              "      <td>ID-3</td>\n",
              "      <td>Spring</td>\n",
              "      <td>2011</td>\n",
              "      <td>2011-01-03</td>\n",
              "      <td>1</td>\n",
              "      <td>No</td>\n",
              "      <td>1</td>\n",
              "      <td>Yes</td>\n",
              "      <td>Clear</td>\n",
              "      <td>0.196364</td>\n",
              "      <td>0.189405</td>\n",
              "      <td>0.437273</td>\n",
              "      <td>0.248309</td>\n",
              "      <td>1349</td>\n",
              "    </tr>\n",
              "    <tr>\n",
              "      <th>3</th>\n",
              "      <td>ID-4</td>\n",
              "      <td>Spring</td>\n",
              "      <td>2011</td>\n",
              "      <td>2011-01-04</td>\n",
              "      <td>1</td>\n",
              "      <td>No</td>\n",
              "      <td>2</td>\n",
              "      <td>Yes</td>\n",
              "      <td>Clear</td>\n",
              "      <td>0.200000</td>\n",
              "      <td>0.212122</td>\n",
              "      <td>0.590435</td>\n",
              "      <td>0.160296</td>\n",
              "      <td>1562</td>\n",
              "    </tr>\n",
              "    <tr>\n",
              "      <th>4</th>\n",
              "      <td>ID-5</td>\n",
              "      <td>Spring</td>\n",
              "      <td>2011</td>\n",
              "      <td>2011-01-05</td>\n",
              "      <td>1</td>\n",
              "      <td>No</td>\n",
              "      <td>3</td>\n",
              "      <td>Yes</td>\n",
              "      <td>Clear</td>\n",
              "      <td>0.226957</td>\n",
              "      <td>0.229270</td>\n",
              "      <td>0.436957</td>\n",
              "      <td>0.186900</td>\n",
              "      <td>1600</td>\n",
              "    </tr>\n",
              "    <tr>\n",
              "      <th>...</th>\n",
              "      <td>...</td>\n",
              "      <td>...</td>\n",
              "      <td>...</td>\n",
              "      <td>...</td>\n",
              "      <td>...</td>\n",
              "      <td>...</td>\n",
              "      <td>...</td>\n",
              "      <td>...</td>\n",
              "      <td>...</td>\n",
              "      <td>...</td>\n",
              "      <td>...</td>\n",
              "      <td>...</td>\n",
              "      <td>...</td>\n",
              "      <td>...</td>\n",
              "    </tr>\n",
              "    <tr>\n",
              "      <th>525</th>\n",
              "      <td>ID-526</td>\n",
              "      <td>Summer</td>\n",
              "      <td>2012</td>\n",
              "      <td>2012-06-09</td>\n",
              "      <td>6</td>\n",
              "      <td>No</td>\n",
              "      <td>6</td>\n",
              "      <td>No</td>\n",
              "      <td>Clear</td>\n",
              "      <td>0.710833</td>\n",
              "      <td>0.648367</td>\n",
              "      <td>0.437083</td>\n",
              "      <td>0.144287</td>\n",
              "      <td>7498</td>\n",
              "    </tr>\n",
              "    <tr>\n",
              "      <th>526</th>\n",
              "      <td>ID-527</td>\n",
              "      <td>Summer</td>\n",
              "      <td>2012</td>\n",
              "      <td>2012-06-10</td>\n",
              "      <td>6</td>\n",
              "      <td>No</td>\n",
              "      <td>0</td>\n",
              "      <td>No</td>\n",
              "      <td>Clear</td>\n",
              "      <td>0.726667</td>\n",
              "      <td>0.663517</td>\n",
              "      <td>0.538333</td>\n",
              "      <td>0.133721</td>\n",
              "      <td>6598</td>\n",
              "    </tr>\n",
              "    <tr>\n",
              "      <th>527</th>\n",
              "      <td>ID-528</td>\n",
              "      <td>Summer</td>\n",
              "      <td>2012</td>\n",
              "      <td>2012-06-11</td>\n",
              "      <td>6</td>\n",
              "      <td>No</td>\n",
              "      <td>1</td>\n",
              "      <td>Yes</td>\n",
              "      <td>Cloudy</td>\n",
              "      <td>0.720833</td>\n",
              "      <td>0.659721</td>\n",
              "      <td>0.587917</td>\n",
              "      <td>0.207713</td>\n",
              "      <td>6664</td>\n",
              "    </tr>\n",
              "    <tr>\n",
              "      <th>528</th>\n",
              "      <td>ID-529</td>\n",
              "      <td>Summer</td>\n",
              "      <td>2012</td>\n",
              "      <td>2012-06-12</td>\n",
              "      <td>6</td>\n",
              "      <td>No</td>\n",
              "      <td>2</td>\n",
              "      <td>Yes</td>\n",
              "      <td>Cloudy</td>\n",
              "      <td>0.653333</td>\n",
              "      <td>0.597875</td>\n",
              "      <td>0.833333</td>\n",
              "      <td>0.214546</td>\n",
              "      <td>4972</td>\n",
              "    </tr>\n",
              "    <tr>\n",
              "      <th>529</th>\n",
              "      <td>ID-530</td>\n",
              "      <td>Summer</td>\n",
              "      <td>2012</td>\n",
              "      <td>2012-06-13</td>\n",
              "      <td>6</td>\n",
              "      <td>No</td>\n",
              "      <td>3</td>\n",
              "      <td>Yes</td>\n",
              "      <td>Clear</td>\n",
              "      <td>0.655833</td>\n",
              "      <td>0.611117</td>\n",
              "      <td>0.582083</td>\n",
              "      <td>0.343279</td>\n",
              "      <td>7421</td>\n",
              "    </tr>\n",
              "  </tbody>\n",
              "</table>\n",
              "<p>530 rows × 14 columns</p>\n",
              "</div>\n",
              "      <button class=\"colab-df-convert\" onclick=\"convertToInteractive('df-a5d57a06-54f3-402e-a75f-7c6d659f08b3')\"\n",
              "              title=\"Convert this dataframe to an interactive table.\"\n",
              "              style=\"display:none;\">\n",
              "        \n",
              "  <svg xmlns=\"http://www.w3.org/2000/svg\" height=\"24px\"viewBox=\"0 0 24 24\"\n",
              "       width=\"24px\">\n",
              "    <path d=\"M0 0h24v24H0V0z\" fill=\"none\"/>\n",
              "    <path d=\"M18.56 5.44l.94 2.06.94-2.06 2.06-.94-2.06-.94-.94-2.06-.94 2.06-2.06.94zm-11 1L8.5 8.5l.94-2.06 2.06-.94-2.06-.94L8.5 2.5l-.94 2.06-2.06.94zm10 10l.94 2.06.94-2.06 2.06-.94-2.06-.94-.94-2.06-.94 2.06-2.06.94z\"/><path d=\"M17.41 7.96l-1.37-1.37c-.4-.4-.92-.59-1.43-.59-.52 0-1.04.2-1.43.59L10.3 9.45l-7.72 7.72c-.78.78-.78 2.05 0 2.83L4 21.41c.39.39.9.59 1.41.59.51 0 1.02-.2 1.41-.59l7.78-7.78 2.81-2.81c.8-.78.8-2.07 0-2.86zM5.41 20L4 18.59l7.72-7.72 1.47 1.35L5.41 20z\"/>\n",
              "  </svg>\n",
              "      </button>\n",
              "      \n",
              "  <style>\n",
              "    .colab-df-container {\n",
              "      display:flex;\n",
              "      flex-wrap:wrap;\n",
              "      gap: 12px;\n",
              "    }\n",
              "\n",
              "    .colab-df-convert {\n",
              "      background-color: #E8F0FE;\n",
              "      border: none;\n",
              "      border-radius: 50%;\n",
              "      cursor: pointer;\n",
              "      display: none;\n",
              "      fill: #1967D2;\n",
              "      height: 32px;\n",
              "      padding: 0 0 0 0;\n",
              "      width: 32px;\n",
              "    }\n",
              "\n",
              "    .colab-df-convert:hover {\n",
              "      background-color: #E2EBFA;\n",
              "      box-shadow: 0px 1px 2px rgba(60, 64, 67, 0.3), 0px 1px 3px 1px rgba(60, 64, 67, 0.15);\n",
              "      fill: #174EA6;\n",
              "    }\n",
              "\n",
              "    [theme=dark] .colab-df-convert {\n",
              "      background-color: #3B4455;\n",
              "      fill: #D2E3FC;\n",
              "    }\n",
              "\n",
              "    [theme=dark] .colab-df-convert:hover {\n",
              "      background-color: #434B5C;\n",
              "      box-shadow: 0px 1px 3px 1px rgba(0, 0, 0, 0.15);\n",
              "      filter: drop-shadow(0px 1px 2px rgba(0, 0, 0, 0.3));\n",
              "      fill: #FFFFFF;\n",
              "    }\n",
              "  </style>\n",
              "\n",
              "      <script>\n",
              "        const buttonEl =\n",
              "          document.querySelector('#df-a5d57a06-54f3-402e-a75f-7c6d659f08b3 button.colab-df-convert');\n",
              "        buttonEl.style.display =\n",
              "          google.colab.kernel.accessAllowed ? 'block' : 'none';\n",
              "\n",
              "        async function convertToInteractive(key) {\n",
              "          const element = document.querySelector('#df-a5d57a06-54f3-402e-a75f-7c6d659f08b3');\n",
              "          const dataTable =\n",
              "            await google.colab.kernel.invokeFunction('convertToInteractive',\n",
              "                                                     [key], {});\n",
              "          if (!dataTable) return;\n",
              "\n",
              "          const docLinkHtml = 'Like what you see? Visit the ' +\n",
              "            '<a target=\"_blank\" href=https://colab.research.google.com/notebooks/data_table.ipynb>data table notebook</a>'\n",
              "            + ' to learn more about interactive tables.';\n",
              "          element.innerHTML = '';\n",
              "          dataTable['output_type'] = 'display_data';\n",
              "          await google.colab.output.renderOutput(dataTable, element);\n",
              "          const docLink = document.createElement('div');\n",
              "          docLink.innerHTML = docLinkHtml;\n",
              "          element.appendChild(docLink);\n",
              "        }\n",
              "      </script>\n",
              "    </div>\n",
              "  </div>\n",
              "  "
            ]
          },
          "metadata": {},
          "execution_count": 84
        }
      ]
    },
    {
      "cell_type": "markdown",
      "source": [
        "これでデータのダウンロードができました。"
      ],
      "metadata": {
        "id": "WCGPsoYQYES_"
      }
    },
    {
      "cell_type": "markdown",
      "source": [
        "### 0.2 データ・演習についての説明"
      ],
      "metadata": {
        "id": "ghej73n_YMlT"
      }
    },
    {
      "cell_type": "markdown",
      "source": [
        "今回は天気や日時に関するデータから、レンタサイクルのレンタル数(df_cycleの'count'列)について予測するモデルを作っていただきます。\n",
        "\n",
        "各列の意味は次のようになっています。\n",
        "- Instant: 日時固有のID\n",
        "- Season: 季節\t\n",
        "- year: 年\n",
        "- dteday: 年月日\n",
        "- mnth: 月\n",
        "- holiday: 祝日か否か\n",
        "- weekday: 曜日\n",
        "- WorkingDay: 営業日か否か\n",
        "- weathersit: 天候\n",
        "- temp: 気温\n",
        "- atemp: 体感気温\n",
        "- hum: 湿度\n",
        "- windspeed: 風速\n",
        "- count: レンタル数\n",
        "\n"
      ],
      "metadata": {
        "id": "ovO2eSiiYR43"
      }
    },
    {
      "cell_type": "markdown",
      "source": [
        "これらを用いて2011年のデータを学習させ、2012年のcountを予測するモデルを作成してください。"
      ],
      "metadata": {
        "id": "Gc81O8pptV6p"
      }
    },
    {
      "cell_type": "markdown",
      "source": [
        "*タイタニックデータと同様に、まずはデータの確認及び可視化を行って、データの外観を理解した上で必要な前処理を実施してください。\n",
        "その上で適切なモデルを作成し、精度評価を実行するという流れで行ってください。\n",
        "\n",
        "(こちらはは自由記述課題になります。)"
      ],
      "metadata": {
        "id": "Uc4CaYu9TxiD"
      }
    },
    {
      "cell_type": "markdown",
      "source": [
        ""
      ],
      "metadata": {
        "id": "pabdedHe9dt_"
      }
    },
    {
      "cell_type": "markdown",
      "source": [
        "#データの確認"
      ],
      "metadata": {
        "id": "Zuox9Mgz9YZ7"
      }
    },
    {
      "cell_type": "code",
      "source": [
        "#レコード数確認\n",
        "len(df_cycle)"
      ],
      "metadata": {
        "id": "Ky9B716M75QW",
        "colab": {
          "base_uri": "https://localhost:8080/"
        },
        "outputId": "fd3b7776-8d4b-4d6f-8388-c44d885c2881"
      },
      "execution_count": 85,
      "outputs": [
        {
          "output_type": "execute_result",
          "data": {
            "text/plain": [
              "530"
            ]
          },
          "metadata": {},
          "execution_count": 85
        }
      ]
    },
    {
      "cell_type": "code",
      "source": [
        "#カラム数確認\n",
        "len(df_cycle.columns)"
      ],
      "metadata": {
        "id": "9ya2uF4Y8dG2",
        "colab": {
          "base_uri": "https://localhost:8080/"
        },
        "outputId": "6eb156ba-85e3-41e5-cbb9-d2b4de37d5e4"
      },
      "execution_count": 86,
      "outputs": [
        {
          "output_type": "execute_result",
          "data": {
            "text/plain": [
              "14"
            ]
          },
          "metadata": {},
          "execution_count": 86
        }
      ]
    },
    {
      "cell_type": "code",
      "source": [
        "df_cycle.head()"
      ],
      "metadata": {
        "colab": {
          "base_uri": "https://localhost:8080/",
          "height": 357
        },
        "id": "nZPx4YEk8rr9",
        "outputId": "40e39b85-7de0-4c83-c446-9058d4babc5a"
      },
      "execution_count": 87,
      "outputs": [
        {
          "output_type": "execute_result",
          "data": {
            "text/plain": [
              "  Instant  Season  year     dteday  mnth holiday  weekday WorkingDay  \\\n",
              "0    ID-1  Spring  2011 2011-01-01     1      No        6         No   \n",
              "1    ID-2  Spring  2011 2011-01-02     1      No        0         No   \n",
              "2    ID-3  Spring  2011 2011-01-03     1      No        1        Yes   \n",
              "3    ID-4  Spring  2011 2011-01-04     1      No        2        Yes   \n",
              "4    ID-5  Spring  2011 2011-01-05     1      No        3        Yes   \n",
              "\n",
              "  weathersit      temp     atemp       hum  windspeed  count  \n",
              "0     Cloudy  0.344167  0.363625  0.805833   0.160446    985  \n",
              "1     Cloudy  0.363478  0.353739  0.696087   0.248539    801  \n",
              "2      Clear  0.196364  0.189405  0.437273   0.248309   1349  \n",
              "3      Clear  0.200000  0.212122  0.590435   0.160296   1562  \n",
              "4      Clear  0.226957  0.229270  0.436957   0.186900   1600  "
            ],
            "text/html": [
              "\n",
              "  <div id=\"df-c330bef7-844e-4603-a29f-e5a10fd8a0f3\">\n",
              "    <div class=\"colab-df-container\">\n",
              "      <div>\n",
              "<style scoped>\n",
              "    .dataframe tbody tr th:only-of-type {\n",
              "        vertical-align: middle;\n",
              "    }\n",
              "\n",
              "    .dataframe tbody tr th {\n",
              "        vertical-align: top;\n",
              "    }\n",
              "\n",
              "    .dataframe thead th {\n",
              "        text-align: right;\n",
              "    }\n",
              "</style>\n",
              "<table border=\"1\" class=\"dataframe\">\n",
              "  <thead>\n",
              "    <tr style=\"text-align: right;\">\n",
              "      <th></th>\n",
              "      <th>Instant</th>\n",
              "      <th>Season</th>\n",
              "      <th>year</th>\n",
              "      <th>dteday</th>\n",
              "      <th>mnth</th>\n",
              "      <th>holiday</th>\n",
              "      <th>weekday</th>\n",
              "      <th>WorkingDay</th>\n",
              "      <th>weathersit</th>\n",
              "      <th>temp</th>\n",
              "      <th>atemp</th>\n",
              "      <th>hum</th>\n",
              "      <th>windspeed</th>\n",
              "      <th>count</th>\n",
              "    </tr>\n",
              "  </thead>\n",
              "  <tbody>\n",
              "    <tr>\n",
              "      <th>0</th>\n",
              "      <td>ID-1</td>\n",
              "      <td>Spring</td>\n",
              "      <td>2011</td>\n",
              "      <td>2011-01-01</td>\n",
              "      <td>1</td>\n",
              "      <td>No</td>\n",
              "      <td>6</td>\n",
              "      <td>No</td>\n",
              "      <td>Cloudy</td>\n",
              "      <td>0.344167</td>\n",
              "      <td>0.363625</td>\n",
              "      <td>0.805833</td>\n",
              "      <td>0.160446</td>\n",
              "      <td>985</td>\n",
              "    </tr>\n",
              "    <tr>\n",
              "      <th>1</th>\n",
              "      <td>ID-2</td>\n",
              "      <td>Spring</td>\n",
              "      <td>2011</td>\n",
              "      <td>2011-01-02</td>\n",
              "      <td>1</td>\n",
              "      <td>No</td>\n",
              "      <td>0</td>\n",
              "      <td>No</td>\n",
              "      <td>Cloudy</td>\n",
              "      <td>0.363478</td>\n",
              "      <td>0.353739</td>\n",
              "      <td>0.696087</td>\n",
              "      <td>0.248539</td>\n",
              "      <td>801</td>\n",
              "    </tr>\n",
              "    <tr>\n",
              "      <th>2</th>\n",
              "      <td>ID-3</td>\n",
              "      <td>Spring</td>\n",
              "      <td>2011</td>\n",
              "      <td>2011-01-03</td>\n",
              "      <td>1</td>\n",
              "      <td>No</td>\n",
              "      <td>1</td>\n",
              "      <td>Yes</td>\n",
              "      <td>Clear</td>\n",
              "      <td>0.196364</td>\n",
              "      <td>0.189405</td>\n",
              "      <td>0.437273</td>\n",
              "      <td>0.248309</td>\n",
              "      <td>1349</td>\n",
              "    </tr>\n",
              "    <tr>\n",
              "      <th>3</th>\n",
              "      <td>ID-4</td>\n",
              "      <td>Spring</td>\n",
              "      <td>2011</td>\n",
              "      <td>2011-01-04</td>\n",
              "      <td>1</td>\n",
              "      <td>No</td>\n",
              "      <td>2</td>\n",
              "      <td>Yes</td>\n",
              "      <td>Clear</td>\n",
              "      <td>0.200000</td>\n",
              "      <td>0.212122</td>\n",
              "      <td>0.590435</td>\n",
              "      <td>0.160296</td>\n",
              "      <td>1562</td>\n",
              "    </tr>\n",
              "    <tr>\n",
              "      <th>4</th>\n",
              "      <td>ID-5</td>\n",
              "      <td>Spring</td>\n",
              "      <td>2011</td>\n",
              "      <td>2011-01-05</td>\n",
              "      <td>1</td>\n",
              "      <td>No</td>\n",
              "      <td>3</td>\n",
              "      <td>Yes</td>\n",
              "      <td>Clear</td>\n",
              "      <td>0.226957</td>\n",
              "      <td>0.229270</td>\n",
              "      <td>0.436957</td>\n",
              "      <td>0.186900</td>\n",
              "      <td>1600</td>\n",
              "    </tr>\n",
              "  </tbody>\n",
              "</table>\n",
              "</div>\n",
              "      <button class=\"colab-df-convert\" onclick=\"convertToInteractive('df-c330bef7-844e-4603-a29f-e5a10fd8a0f3')\"\n",
              "              title=\"Convert this dataframe to an interactive table.\"\n",
              "              style=\"display:none;\">\n",
              "        \n",
              "  <svg xmlns=\"http://www.w3.org/2000/svg\" height=\"24px\"viewBox=\"0 0 24 24\"\n",
              "       width=\"24px\">\n",
              "    <path d=\"M0 0h24v24H0V0z\" fill=\"none\"/>\n",
              "    <path d=\"M18.56 5.44l.94 2.06.94-2.06 2.06-.94-2.06-.94-.94-2.06-.94 2.06-2.06.94zm-11 1L8.5 8.5l.94-2.06 2.06-.94-2.06-.94L8.5 2.5l-.94 2.06-2.06.94zm10 10l.94 2.06.94-2.06 2.06-.94-2.06-.94-.94-2.06-.94 2.06-2.06.94z\"/><path d=\"M17.41 7.96l-1.37-1.37c-.4-.4-.92-.59-1.43-.59-.52 0-1.04.2-1.43.59L10.3 9.45l-7.72 7.72c-.78.78-.78 2.05 0 2.83L4 21.41c.39.39.9.59 1.41.59.51 0 1.02-.2 1.41-.59l7.78-7.78 2.81-2.81c.8-.78.8-2.07 0-2.86zM5.41 20L4 18.59l7.72-7.72 1.47 1.35L5.41 20z\"/>\n",
              "  </svg>\n",
              "      </button>\n",
              "      \n",
              "  <style>\n",
              "    .colab-df-container {\n",
              "      display:flex;\n",
              "      flex-wrap:wrap;\n",
              "      gap: 12px;\n",
              "    }\n",
              "\n",
              "    .colab-df-convert {\n",
              "      background-color: #E8F0FE;\n",
              "      border: none;\n",
              "      border-radius: 50%;\n",
              "      cursor: pointer;\n",
              "      display: none;\n",
              "      fill: #1967D2;\n",
              "      height: 32px;\n",
              "      padding: 0 0 0 0;\n",
              "      width: 32px;\n",
              "    }\n",
              "\n",
              "    .colab-df-convert:hover {\n",
              "      background-color: #E2EBFA;\n",
              "      box-shadow: 0px 1px 2px rgba(60, 64, 67, 0.3), 0px 1px 3px 1px rgba(60, 64, 67, 0.15);\n",
              "      fill: #174EA6;\n",
              "    }\n",
              "\n",
              "    [theme=dark] .colab-df-convert {\n",
              "      background-color: #3B4455;\n",
              "      fill: #D2E3FC;\n",
              "    }\n",
              "\n",
              "    [theme=dark] .colab-df-convert:hover {\n",
              "      background-color: #434B5C;\n",
              "      box-shadow: 0px 1px 3px 1px rgba(0, 0, 0, 0.15);\n",
              "      filter: drop-shadow(0px 1px 2px rgba(0, 0, 0, 0.3));\n",
              "      fill: #FFFFFF;\n",
              "    }\n",
              "  </style>\n",
              "\n",
              "      <script>\n",
              "        const buttonEl =\n",
              "          document.querySelector('#df-c330bef7-844e-4603-a29f-e5a10fd8a0f3 button.colab-df-convert');\n",
              "        buttonEl.style.display =\n",
              "          google.colab.kernel.accessAllowed ? 'block' : 'none';\n",
              "\n",
              "        async function convertToInteractive(key) {\n",
              "          const element = document.querySelector('#df-c330bef7-844e-4603-a29f-e5a10fd8a0f3');\n",
              "          const dataTable =\n",
              "            await google.colab.kernel.invokeFunction('convertToInteractive',\n",
              "                                                     [key], {});\n",
              "          if (!dataTable) return;\n",
              "\n",
              "          const docLinkHtml = 'Like what you see? Visit the ' +\n",
              "            '<a target=\"_blank\" href=https://colab.research.google.com/notebooks/data_table.ipynb>data table notebook</a>'\n",
              "            + ' to learn more about interactive tables.';\n",
              "          element.innerHTML = '';\n",
              "          dataTable['output_type'] = 'display_data';\n",
              "          await google.colab.output.renderOutput(dataTable, element);\n",
              "          const docLink = document.createElement('div');\n",
              "          docLink.innerHTML = docLinkHtml;\n",
              "          element.appendChild(docLink);\n",
              "        }\n",
              "      </script>\n",
              "    </div>\n",
              "  </div>\n",
              "  "
            ]
          },
          "metadata": {},
          "execution_count": 87
        }
      ]
    },
    {
      "cell_type": "code",
      "source": [
        "#データ型確認\n",
        "df_cycle.dtypes"
      ],
      "metadata": {
        "id": "mHCN7jUy833j",
        "colab": {
          "base_uri": "https://localhost:8080/"
        },
        "outputId": "1bbd2212-f3db-450e-f8d8-711454f37cc1"
      },
      "execution_count": 88,
      "outputs": [
        {
          "output_type": "execute_result",
          "data": {
            "text/plain": [
              "Instant               object\n",
              "Season                object\n",
              "year                   int64\n",
              "dteday        datetime64[ns]\n",
              "mnth                   int64\n",
              "holiday               object\n",
              "weekday                int64\n",
              "WorkingDay            object\n",
              "weathersit            object\n",
              "temp                 float64\n",
              "atemp                float64\n",
              "hum                  float64\n",
              "windspeed            float64\n",
              "count                  int64\n",
              "dtype: object"
            ]
          },
          "metadata": {},
          "execution_count": 88
        }
      ]
    },
    {
      "cell_type": "code",
      "source": [
        "#各カラムの統計量算出\n",
        "df_cycle.describe().round(3)"
      ],
      "metadata": {
        "id": "5niXW7nL8-Ys",
        "colab": {
          "base_uri": "https://localhost:8080/",
          "height": 364
        },
        "outputId": "0b5c1891-251e-465d-af2f-2ba176e36c5b"
      },
      "execution_count": 89,
      "outputs": [
        {
          "output_type": "execute_result",
          "data": {
            "text/plain": [
              "           year     mnth  weekday     temp    atemp      hum  windspeed  \\\n",
              "count   530.000  530.000  530.000  530.000  530.000  530.000    530.000   \n",
              "mean   2011.311    5.504    2.994    0.473    0.455    0.626      0.196   \n",
              "std       0.463    3.362    2.003    0.179    0.160    0.151      0.078   \n",
              "min    2011.000    1.000    0.000    0.059    0.079    0.000      0.022   \n",
              "25%    2011.000    3.000    1.000    0.324    0.322    0.507      0.139   \n",
              "50%    2011.000    5.000    3.000    0.464    0.457    0.626      0.189   \n",
              "75%    2012.000    8.000    5.000    0.628    0.585    0.738      0.238   \n",
              "max    2012.000   12.000    6.000    0.849    0.841    0.972      0.507   \n",
              "\n",
              "          count  \n",
              "count   530.000  \n",
              "mean   3900.515  \n",
              "std    1662.359  \n",
              "min     431.000  \n",
              "25%    2603.750  \n",
              "50%    4062.000  \n",
              "75%    4888.500  \n",
              "max    8362.000  "
            ],
            "text/html": [
              "\n",
              "  <div id=\"df-11c9498d-2f65-4399-90e2-ddcafcd447ea\">\n",
              "    <div class=\"colab-df-container\">\n",
              "      <div>\n",
              "<style scoped>\n",
              "    .dataframe tbody tr th:only-of-type {\n",
              "        vertical-align: middle;\n",
              "    }\n",
              "\n",
              "    .dataframe tbody tr th {\n",
              "        vertical-align: top;\n",
              "    }\n",
              "\n",
              "    .dataframe thead th {\n",
              "        text-align: right;\n",
              "    }\n",
              "</style>\n",
              "<table border=\"1\" class=\"dataframe\">\n",
              "  <thead>\n",
              "    <tr style=\"text-align: right;\">\n",
              "      <th></th>\n",
              "      <th>year</th>\n",
              "      <th>mnth</th>\n",
              "      <th>weekday</th>\n",
              "      <th>temp</th>\n",
              "      <th>atemp</th>\n",
              "      <th>hum</th>\n",
              "      <th>windspeed</th>\n",
              "      <th>count</th>\n",
              "    </tr>\n",
              "  </thead>\n",
              "  <tbody>\n",
              "    <tr>\n",
              "      <th>count</th>\n",
              "      <td>530.000</td>\n",
              "      <td>530.000</td>\n",
              "      <td>530.000</td>\n",
              "      <td>530.000</td>\n",
              "      <td>530.000</td>\n",
              "      <td>530.000</td>\n",
              "      <td>530.000</td>\n",
              "      <td>530.000</td>\n",
              "    </tr>\n",
              "    <tr>\n",
              "      <th>mean</th>\n",
              "      <td>2011.311</td>\n",
              "      <td>5.504</td>\n",
              "      <td>2.994</td>\n",
              "      <td>0.473</td>\n",
              "      <td>0.455</td>\n",
              "      <td>0.626</td>\n",
              "      <td>0.196</td>\n",
              "      <td>3900.515</td>\n",
              "    </tr>\n",
              "    <tr>\n",
              "      <th>std</th>\n",
              "      <td>0.463</td>\n",
              "      <td>3.362</td>\n",
              "      <td>2.003</td>\n",
              "      <td>0.179</td>\n",
              "      <td>0.160</td>\n",
              "      <td>0.151</td>\n",
              "      <td>0.078</td>\n",
              "      <td>1662.359</td>\n",
              "    </tr>\n",
              "    <tr>\n",
              "      <th>min</th>\n",
              "      <td>2011.000</td>\n",
              "      <td>1.000</td>\n",
              "      <td>0.000</td>\n",
              "      <td>0.059</td>\n",
              "      <td>0.079</td>\n",
              "      <td>0.000</td>\n",
              "      <td>0.022</td>\n",
              "      <td>431.000</td>\n",
              "    </tr>\n",
              "    <tr>\n",
              "      <th>25%</th>\n",
              "      <td>2011.000</td>\n",
              "      <td>3.000</td>\n",
              "      <td>1.000</td>\n",
              "      <td>0.324</td>\n",
              "      <td>0.322</td>\n",
              "      <td>0.507</td>\n",
              "      <td>0.139</td>\n",
              "      <td>2603.750</td>\n",
              "    </tr>\n",
              "    <tr>\n",
              "      <th>50%</th>\n",
              "      <td>2011.000</td>\n",
              "      <td>5.000</td>\n",
              "      <td>3.000</td>\n",
              "      <td>0.464</td>\n",
              "      <td>0.457</td>\n",
              "      <td>0.626</td>\n",
              "      <td>0.189</td>\n",
              "      <td>4062.000</td>\n",
              "    </tr>\n",
              "    <tr>\n",
              "      <th>75%</th>\n",
              "      <td>2012.000</td>\n",
              "      <td>8.000</td>\n",
              "      <td>5.000</td>\n",
              "      <td>0.628</td>\n",
              "      <td>0.585</td>\n",
              "      <td>0.738</td>\n",
              "      <td>0.238</td>\n",
              "      <td>4888.500</td>\n",
              "    </tr>\n",
              "    <tr>\n",
              "      <th>max</th>\n",
              "      <td>2012.000</td>\n",
              "      <td>12.000</td>\n",
              "      <td>6.000</td>\n",
              "      <td>0.849</td>\n",
              "      <td>0.841</td>\n",
              "      <td>0.972</td>\n",
              "      <td>0.507</td>\n",
              "      <td>8362.000</td>\n",
              "    </tr>\n",
              "  </tbody>\n",
              "</table>\n",
              "</div>\n",
              "      <button class=\"colab-df-convert\" onclick=\"convertToInteractive('df-11c9498d-2f65-4399-90e2-ddcafcd447ea')\"\n",
              "              title=\"Convert this dataframe to an interactive table.\"\n",
              "              style=\"display:none;\">\n",
              "        \n",
              "  <svg xmlns=\"http://www.w3.org/2000/svg\" height=\"24px\"viewBox=\"0 0 24 24\"\n",
              "       width=\"24px\">\n",
              "    <path d=\"M0 0h24v24H0V0z\" fill=\"none\"/>\n",
              "    <path d=\"M18.56 5.44l.94 2.06.94-2.06 2.06-.94-2.06-.94-.94-2.06-.94 2.06-2.06.94zm-11 1L8.5 8.5l.94-2.06 2.06-.94-2.06-.94L8.5 2.5l-.94 2.06-2.06.94zm10 10l.94 2.06.94-2.06 2.06-.94-2.06-.94-.94-2.06-.94 2.06-2.06.94z\"/><path d=\"M17.41 7.96l-1.37-1.37c-.4-.4-.92-.59-1.43-.59-.52 0-1.04.2-1.43.59L10.3 9.45l-7.72 7.72c-.78.78-.78 2.05 0 2.83L4 21.41c.39.39.9.59 1.41.59.51 0 1.02-.2 1.41-.59l7.78-7.78 2.81-2.81c.8-.78.8-2.07 0-2.86zM5.41 20L4 18.59l7.72-7.72 1.47 1.35L5.41 20z\"/>\n",
              "  </svg>\n",
              "      </button>\n",
              "      \n",
              "  <style>\n",
              "    .colab-df-container {\n",
              "      display:flex;\n",
              "      flex-wrap:wrap;\n",
              "      gap: 12px;\n",
              "    }\n",
              "\n",
              "    .colab-df-convert {\n",
              "      background-color: #E8F0FE;\n",
              "      border: none;\n",
              "      border-radius: 50%;\n",
              "      cursor: pointer;\n",
              "      display: none;\n",
              "      fill: #1967D2;\n",
              "      height: 32px;\n",
              "      padding: 0 0 0 0;\n",
              "      width: 32px;\n",
              "    }\n",
              "\n",
              "    .colab-df-convert:hover {\n",
              "      background-color: #E2EBFA;\n",
              "      box-shadow: 0px 1px 2px rgba(60, 64, 67, 0.3), 0px 1px 3px 1px rgba(60, 64, 67, 0.15);\n",
              "      fill: #174EA6;\n",
              "    }\n",
              "\n",
              "    [theme=dark] .colab-df-convert {\n",
              "      background-color: #3B4455;\n",
              "      fill: #D2E3FC;\n",
              "    }\n",
              "\n",
              "    [theme=dark] .colab-df-convert:hover {\n",
              "      background-color: #434B5C;\n",
              "      box-shadow: 0px 1px 3px 1px rgba(0, 0, 0, 0.15);\n",
              "      filter: drop-shadow(0px 1px 2px rgba(0, 0, 0, 0.3));\n",
              "      fill: #FFFFFF;\n",
              "    }\n",
              "  </style>\n",
              "\n",
              "      <script>\n",
              "        const buttonEl =\n",
              "          document.querySelector('#df-11c9498d-2f65-4399-90e2-ddcafcd447ea button.colab-df-convert');\n",
              "        buttonEl.style.display =\n",
              "          google.colab.kernel.accessAllowed ? 'block' : 'none';\n",
              "\n",
              "        async function convertToInteractive(key) {\n",
              "          const element = document.querySelector('#df-11c9498d-2f65-4399-90e2-ddcafcd447ea');\n",
              "          const dataTable =\n",
              "            await google.colab.kernel.invokeFunction('convertToInteractive',\n",
              "                                                     [key], {});\n",
              "          if (!dataTable) return;\n",
              "\n",
              "          const docLinkHtml = 'Like what you see? Visit the ' +\n",
              "            '<a target=\"_blank\" href=https://colab.research.google.com/notebooks/data_table.ipynb>data table notebook</a>'\n",
              "            + ' to learn more about interactive tables.';\n",
              "          element.innerHTML = '';\n",
              "          dataTable['output_type'] = 'display_data';\n",
              "          await google.colab.output.renderOutput(dataTable, element);\n",
              "          const docLink = document.createElement('div');\n",
              "          docLink.innerHTML = docLinkHtml;\n",
              "          element.appendChild(docLink);\n",
              "        }\n",
              "      </script>\n",
              "    </div>\n",
              "  </div>\n",
              "  "
            ]
          },
          "metadata": {},
          "execution_count": 89
        }
      ]
    },
    {
      "cell_type": "markdown",
      "source": [
        "#データ加工"
      ],
      "metadata": {
        "id": "le6rgD_u9Kg3"
      }
    },
    {
      "cell_type": "markdown",
      "source": [
        "- year: 年\n",
        "- mnth: 月\n",
        "- weekday: 曜日\n",
        "- weathersit: 天候\n",
        "- temp: 気温\n",
        "- atemp: 体感気温\n",
        "- hum: 湿度\n",
        "- windspeed: 風速\n",
        "- count: レンタル数\n",
        "\n",
        "　はそのままで\n",
        "\n",
        "\n",
        "* Season: 季節\n",
        "* holiday: 祝日か否か\n",
        "* WorkingDay: 営業日か否か\n",
        "* weathersit: 天候\n",
        "\n",
        "についてはダミー変数加工"
      ],
      "metadata": {
        "id": "ELXnE98l8fnf"
      }
    },
    {
      "cell_type": "code",
      "source": [
        "#ダミー変数化\n",
        "df_cycle_except_object = pd.get_dummies(df_cycle[['year', 'mnth', 'weekday', 'temp', 'atemp', 'hum', 'windspeed', 'count', 'Season', 'holiday', 'WorkingDay', 'weathersit']])\n",
        "df_cycle_except_object"
      ],
      "metadata": {
        "id": "VBu9_dvH9O1c",
        "colab": {
          "base_uri": "https://localhost:8080/",
          "height": 505
        },
        "outputId": "b3199b13-36a2-43ca-d481-390653b312d2"
      },
      "execution_count": 90,
      "outputs": [
        {
          "output_type": "execute_result",
          "data": {
            "text/plain": [
              "     year  mnth  weekday      temp     atemp       hum  windspeed  count  \\\n",
              "0    2011     1        6  0.344167  0.363625  0.805833   0.160446    985   \n",
              "1    2011     1        0  0.363478  0.353739  0.696087   0.248539    801   \n",
              "2    2011     1        1  0.196364  0.189405  0.437273   0.248309   1349   \n",
              "3    2011     1        2  0.200000  0.212122  0.590435   0.160296   1562   \n",
              "4    2011     1        3  0.226957  0.229270  0.436957   0.186900   1600   \n",
              "..    ...   ...      ...       ...       ...       ...        ...    ...   \n",
              "525  2012     6        6  0.710833  0.648367  0.437083   0.144287   7498   \n",
              "526  2012     6        0  0.726667  0.663517  0.538333   0.133721   6598   \n",
              "527  2012     6        1  0.720833  0.659721  0.587917   0.207713   6664   \n",
              "528  2012     6        2  0.653333  0.597875  0.833333   0.214546   4972   \n",
              "529  2012     6        3  0.655833  0.611117  0.582083   0.343279   7421   \n",
              "\n",
              "     Season_Fall  Season_Spring  Season_Summer  Season_Winter  holiday_No  \\\n",
              "0              0              1              0              0           1   \n",
              "1              0              1              0              0           1   \n",
              "2              0              1              0              0           1   \n",
              "3              0              1              0              0           1   \n",
              "4              0              1              0              0           1   \n",
              "..           ...            ...            ...            ...         ...   \n",
              "525            0              0              1              0           1   \n",
              "526            0              0              1              0           1   \n",
              "527            0              0              1              0           1   \n",
              "528            0              0              1              0           1   \n",
              "529            0              0              1              0           1   \n",
              "\n",
              "     holiday_Yes  WorkingDay_No  WorkingDay_Yes  weathersit_Clear  \\\n",
              "0              0              1               0                 0   \n",
              "1              0              1               0                 0   \n",
              "2              0              0               1                 1   \n",
              "3              0              0               1                 1   \n",
              "4              0              0               1                 1   \n",
              "..           ...            ...             ...               ...   \n",
              "525            0              1               0                 1   \n",
              "526            0              1               0                 1   \n",
              "527            0              0               1                 0   \n",
              "528            0              0               1                 0   \n",
              "529            0              0               1                 1   \n",
              "\n",
              "     weathersit_Cloudy  weathersit_Light Rain  \n",
              "0                    1                      0  \n",
              "1                    1                      0  \n",
              "2                    0                      0  \n",
              "3                    0                      0  \n",
              "4                    0                      0  \n",
              "..                 ...                    ...  \n",
              "525                  0                      0  \n",
              "526                  0                      0  \n",
              "527                  1                      0  \n",
              "528                  1                      0  \n",
              "529                  0                      0  \n",
              "\n",
              "[530 rows x 19 columns]"
            ],
            "text/html": [
              "\n",
              "  <div id=\"df-8b49cfbd-188f-4232-8f34-f3146d261448\">\n",
              "    <div class=\"colab-df-container\">\n",
              "      <div>\n",
              "<style scoped>\n",
              "    .dataframe tbody tr th:only-of-type {\n",
              "        vertical-align: middle;\n",
              "    }\n",
              "\n",
              "    .dataframe tbody tr th {\n",
              "        vertical-align: top;\n",
              "    }\n",
              "\n",
              "    .dataframe thead th {\n",
              "        text-align: right;\n",
              "    }\n",
              "</style>\n",
              "<table border=\"1\" class=\"dataframe\">\n",
              "  <thead>\n",
              "    <tr style=\"text-align: right;\">\n",
              "      <th></th>\n",
              "      <th>year</th>\n",
              "      <th>mnth</th>\n",
              "      <th>weekday</th>\n",
              "      <th>temp</th>\n",
              "      <th>atemp</th>\n",
              "      <th>hum</th>\n",
              "      <th>windspeed</th>\n",
              "      <th>count</th>\n",
              "      <th>Season_Fall</th>\n",
              "      <th>Season_Spring</th>\n",
              "      <th>Season_Summer</th>\n",
              "      <th>Season_Winter</th>\n",
              "      <th>holiday_No</th>\n",
              "      <th>holiday_Yes</th>\n",
              "      <th>WorkingDay_No</th>\n",
              "      <th>WorkingDay_Yes</th>\n",
              "      <th>weathersit_Clear</th>\n",
              "      <th>weathersit_Cloudy</th>\n",
              "      <th>weathersit_Light Rain</th>\n",
              "    </tr>\n",
              "  </thead>\n",
              "  <tbody>\n",
              "    <tr>\n",
              "      <th>0</th>\n",
              "      <td>2011</td>\n",
              "      <td>1</td>\n",
              "      <td>6</td>\n",
              "      <td>0.344167</td>\n",
              "      <td>0.363625</td>\n",
              "      <td>0.805833</td>\n",
              "      <td>0.160446</td>\n",
              "      <td>985</td>\n",
              "      <td>0</td>\n",
              "      <td>1</td>\n",
              "      <td>0</td>\n",
              "      <td>0</td>\n",
              "      <td>1</td>\n",
              "      <td>0</td>\n",
              "      <td>1</td>\n",
              "      <td>0</td>\n",
              "      <td>0</td>\n",
              "      <td>1</td>\n",
              "      <td>0</td>\n",
              "    </tr>\n",
              "    <tr>\n",
              "      <th>1</th>\n",
              "      <td>2011</td>\n",
              "      <td>1</td>\n",
              "      <td>0</td>\n",
              "      <td>0.363478</td>\n",
              "      <td>0.353739</td>\n",
              "      <td>0.696087</td>\n",
              "      <td>0.248539</td>\n",
              "      <td>801</td>\n",
              "      <td>0</td>\n",
              "      <td>1</td>\n",
              "      <td>0</td>\n",
              "      <td>0</td>\n",
              "      <td>1</td>\n",
              "      <td>0</td>\n",
              "      <td>1</td>\n",
              "      <td>0</td>\n",
              "      <td>0</td>\n",
              "      <td>1</td>\n",
              "      <td>0</td>\n",
              "    </tr>\n",
              "    <tr>\n",
              "      <th>2</th>\n",
              "      <td>2011</td>\n",
              "      <td>1</td>\n",
              "      <td>1</td>\n",
              "      <td>0.196364</td>\n",
              "      <td>0.189405</td>\n",
              "      <td>0.437273</td>\n",
              "      <td>0.248309</td>\n",
              "      <td>1349</td>\n",
              "      <td>0</td>\n",
              "      <td>1</td>\n",
              "      <td>0</td>\n",
              "      <td>0</td>\n",
              "      <td>1</td>\n",
              "      <td>0</td>\n",
              "      <td>0</td>\n",
              "      <td>1</td>\n",
              "      <td>1</td>\n",
              "      <td>0</td>\n",
              "      <td>0</td>\n",
              "    </tr>\n",
              "    <tr>\n",
              "      <th>3</th>\n",
              "      <td>2011</td>\n",
              "      <td>1</td>\n",
              "      <td>2</td>\n",
              "      <td>0.200000</td>\n",
              "      <td>0.212122</td>\n",
              "      <td>0.590435</td>\n",
              "      <td>0.160296</td>\n",
              "      <td>1562</td>\n",
              "      <td>0</td>\n",
              "      <td>1</td>\n",
              "      <td>0</td>\n",
              "      <td>0</td>\n",
              "      <td>1</td>\n",
              "      <td>0</td>\n",
              "      <td>0</td>\n",
              "      <td>1</td>\n",
              "      <td>1</td>\n",
              "      <td>0</td>\n",
              "      <td>0</td>\n",
              "    </tr>\n",
              "    <tr>\n",
              "      <th>4</th>\n",
              "      <td>2011</td>\n",
              "      <td>1</td>\n",
              "      <td>3</td>\n",
              "      <td>0.226957</td>\n",
              "      <td>0.229270</td>\n",
              "      <td>0.436957</td>\n",
              "      <td>0.186900</td>\n",
              "      <td>1600</td>\n",
              "      <td>0</td>\n",
              "      <td>1</td>\n",
              "      <td>0</td>\n",
              "      <td>0</td>\n",
              "      <td>1</td>\n",
              "      <td>0</td>\n",
              "      <td>0</td>\n",
              "      <td>1</td>\n",
              "      <td>1</td>\n",
              "      <td>0</td>\n",
              "      <td>0</td>\n",
              "    </tr>\n",
              "    <tr>\n",
              "      <th>...</th>\n",
              "      <td>...</td>\n",
              "      <td>...</td>\n",
              "      <td>...</td>\n",
              "      <td>...</td>\n",
              "      <td>...</td>\n",
              "      <td>...</td>\n",
              "      <td>...</td>\n",
              "      <td>...</td>\n",
              "      <td>...</td>\n",
              "      <td>...</td>\n",
              "      <td>...</td>\n",
              "      <td>...</td>\n",
              "      <td>...</td>\n",
              "      <td>...</td>\n",
              "      <td>...</td>\n",
              "      <td>...</td>\n",
              "      <td>...</td>\n",
              "      <td>...</td>\n",
              "      <td>...</td>\n",
              "    </tr>\n",
              "    <tr>\n",
              "      <th>525</th>\n",
              "      <td>2012</td>\n",
              "      <td>6</td>\n",
              "      <td>6</td>\n",
              "      <td>0.710833</td>\n",
              "      <td>0.648367</td>\n",
              "      <td>0.437083</td>\n",
              "      <td>0.144287</td>\n",
              "      <td>7498</td>\n",
              "      <td>0</td>\n",
              "      <td>0</td>\n",
              "      <td>1</td>\n",
              "      <td>0</td>\n",
              "      <td>1</td>\n",
              "      <td>0</td>\n",
              "      <td>1</td>\n",
              "      <td>0</td>\n",
              "      <td>1</td>\n",
              "      <td>0</td>\n",
              "      <td>0</td>\n",
              "    </tr>\n",
              "    <tr>\n",
              "      <th>526</th>\n",
              "      <td>2012</td>\n",
              "      <td>6</td>\n",
              "      <td>0</td>\n",
              "      <td>0.726667</td>\n",
              "      <td>0.663517</td>\n",
              "      <td>0.538333</td>\n",
              "      <td>0.133721</td>\n",
              "      <td>6598</td>\n",
              "      <td>0</td>\n",
              "      <td>0</td>\n",
              "      <td>1</td>\n",
              "      <td>0</td>\n",
              "      <td>1</td>\n",
              "      <td>0</td>\n",
              "      <td>1</td>\n",
              "      <td>0</td>\n",
              "      <td>1</td>\n",
              "      <td>0</td>\n",
              "      <td>0</td>\n",
              "    </tr>\n",
              "    <tr>\n",
              "      <th>527</th>\n",
              "      <td>2012</td>\n",
              "      <td>6</td>\n",
              "      <td>1</td>\n",
              "      <td>0.720833</td>\n",
              "      <td>0.659721</td>\n",
              "      <td>0.587917</td>\n",
              "      <td>0.207713</td>\n",
              "      <td>6664</td>\n",
              "      <td>0</td>\n",
              "      <td>0</td>\n",
              "      <td>1</td>\n",
              "      <td>0</td>\n",
              "      <td>1</td>\n",
              "      <td>0</td>\n",
              "      <td>0</td>\n",
              "      <td>1</td>\n",
              "      <td>0</td>\n",
              "      <td>1</td>\n",
              "      <td>0</td>\n",
              "    </tr>\n",
              "    <tr>\n",
              "      <th>528</th>\n",
              "      <td>2012</td>\n",
              "      <td>6</td>\n",
              "      <td>2</td>\n",
              "      <td>0.653333</td>\n",
              "      <td>0.597875</td>\n",
              "      <td>0.833333</td>\n",
              "      <td>0.214546</td>\n",
              "      <td>4972</td>\n",
              "      <td>0</td>\n",
              "      <td>0</td>\n",
              "      <td>1</td>\n",
              "      <td>0</td>\n",
              "      <td>1</td>\n",
              "      <td>0</td>\n",
              "      <td>0</td>\n",
              "      <td>1</td>\n",
              "      <td>0</td>\n",
              "      <td>1</td>\n",
              "      <td>0</td>\n",
              "    </tr>\n",
              "    <tr>\n",
              "      <th>529</th>\n",
              "      <td>2012</td>\n",
              "      <td>6</td>\n",
              "      <td>3</td>\n",
              "      <td>0.655833</td>\n",
              "      <td>0.611117</td>\n",
              "      <td>0.582083</td>\n",
              "      <td>0.343279</td>\n",
              "      <td>7421</td>\n",
              "      <td>0</td>\n",
              "      <td>0</td>\n",
              "      <td>1</td>\n",
              "      <td>0</td>\n",
              "      <td>1</td>\n",
              "      <td>0</td>\n",
              "      <td>0</td>\n",
              "      <td>1</td>\n",
              "      <td>1</td>\n",
              "      <td>0</td>\n",
              "      <td>0</td>\n",
              "    </tr>\n",
              "  </tbody>\n",
              "</table>\n",
              "<p>530 rows × 19 columns</p>\n",
              "</div>\n",
              "      <button class=\"colab-df-convert\" onclick=\"convertToInteractive('df-8b49cfbd-188f-4232-8f34-f3146d261448')\"\n",
              "              title=\"Convert this dataframe to an interactive table.\"\n",
              "              style=\"display:none;\">\n",
              "        \n",
              "  <svg xmlns=\"http://www.w3.org/2000/svg\" height=\"24px\"viewBox=\"0 0 24 24\"\n",
              "       width=\"24px\">\n",
              "    <path d=\"M0 0h24v24H0V0z\" fill=\"none\"/>\n",
              "    <path d=\"M18.56 5.44l.94 2.06.94-2.06 2.06-.94-2.06-.94-.94-2.06-.94 2.06-2.06.94zm-11 1L8.5 8.5l.94-2.06 2.06-.94-2.06-.94L8.5 2.5l-.94 2.06-2.06.94zm10 10l.94 2.06.94-2.06 2.06-.94-2.06-.94-.94-2.06-.94 2.06-2.06.94z\"/><path d=\"M17.41 7.96l-1.37-1.37c-.4-.4-.92-.59-1.43-.59-.52 0-1.04.2-1.43.59L10.3 9.45l-7.72 7.72c-.78.78-.78 2.05 0 2.83L4 21.41c.39.39.9.59 1.41.59.51 0 1.02-.2 1.41-.59l7.78-7.78 2.81-2.81c.8-.78.8-2.07 0-2.86zM5.41 20L4 18.59l7.72-7.72 1.47 1.35L5.41 20z\"/>\n",
              "  </svg>\n",
              "      </button>\n",
              "      \n",
              "  <style>\n",
              "    .colab-df-container {\n",
              "      display:flex;\n",
              "      flex-wrap:wrap;\n",
              "      gap: 12px;\n",
              "    }\n",
              "\n",
              "    .colab-df-convert {\n",
              "      background-color: #E8F0FE;\n",
              "      border: none;\n",
              "      border-radius: 50%;\n",
              "      cursor: pointer;\n",
              "      display: none;\n",
              "      fill: #1967D2;\n",
              "      height: 32px;\n",
              "      padding: 0 0 0 0;\n",
              "      width: 32px;\n",
              "    }\n",
              "\n",
              "    .colab-df-convert:hover {\n",
              "      background-color: #E2EBFA;\n",
              "      box-shadow: 0px 1px 2px rgba(60, 64, 67, 0.3), 0px 1px 3px 1px rgba(60, 64, 67, 0.15);\n",
              "      fill: #174EA6;\n",
              "    }\n",
              "\n",
              "    [theme=dark] .colab-df-convert {\n",
              "      background-color: #3B4455;\n",
              "      fill: #D2E3FC;\n",
              "    }\n",
              "\n",
              "    [theme=dark] .colab-df-convert:hover {\n",
              "      background-color: #434B5C;\n",
              "      box-shadow: 0px 1px 3px 1px rgba(0, 0, 0, 0.15);\n",
              "      filter: drop-shadow(0px 1px 2px rgba(0, 0, 0, 0.3));\n",
              "      fill: #FFFFFF;\n",
              "    }\n",
              "  </style>\n",
              "\n",
              "      <script>\n",
              "        const buttonEl =\n",
              "          document.querySelector('#df-8b49cfbd-188f-4232-8f34-f3146d261448 button.colab-df-convert');\n",
              "        buttonEl.style.display =\n",
              "          google.colab.kernel.accessAllowed ? 'block' : 'none';\n",
              "\n",
              "        async function convertToInteractive(key) {\n",
              "          const element = document.querySelector('#df-8b49cfbd-188f-4232-8f34-f3146d261448');\n",
              "          const dataTable =\n",
              "            await google.colab.kernel.invokeFunction('convertToInteractive',\n",
              "                                                     [key], {});\n",
              "          if (!dataTable) return;\n",
              "\n",
              "          const docLinkHtml = 'Like what you see? Visit the ' +\n",
              "            '<a target=\"_blank\" href=https://colab.research.google.com/notebooks/data_table.ipynb>data table notebook</a>'\n",
              "            + ' to learn more about interactive tables.';\n",
              "          element.innerHTML = '';\n",
              "          dataTable['output_type'] = 'display_data';\n",
              "          await google.colab.output.renderOutput(dataTable, element);\n",
              "          const docLink = document.createElement('div');\n",
              "          docLink.innerHTML = docLinkHtml;\n",
              "          element.appendChild(docLink);\n",
              "        }\n",
              "      </script>\n",
              "    </div>\n",
              "  </div>\n",
              "  "
            ]
          },
          "metadata": {},
          "execution_count": 90
        }
      ]
    },
    {
      "cell_type": "markdown",
      "source": [
        "2011年のデータのみに加工"
      ],
      "metadata": {
        "id": "nakkj-tFkkha"
      }
    },
    {
      "cell_type": "code",
      "source": [
        "df_cycle_except_object = df_cycle_except_object[df_cycle_except_object['year'] == 2011]"
      ],
      "metadata": {
        "id": "7ZJ2xPv0j7PN"
      },
      "execution_count": 91,
      "outputs": []
    },
    {
      "cell_type": "markdown",
      "source": [
        "#データの可視化により関連性調査"
      ],
      "metadata": {
        "id": "_Nkzzg9m_T0t"
      }
    },
    {
      "cell_type": "markdown",
      "source": [
        "量的データの可視化"
      ],
      "metadata": {
        "id": "6YpuouBRBNoH"
      }
    },
    {
      "cell_type": "code",
      "source": [
        "#yearごとのレンタル数\n",
        "df_cycle_except_object.groupby('year').mean()['count'].round(3)"
      ],
      "metadata": {
        "id": "VCvK1uL88Pnt",
        "colab": {
          "base_uri": "https://localhost:8080/"
        },
        "outputId": "a3382f07-3fb4-416b-935c-a1431df27799"
      },
      "execution_count": 92,
      "outputs": [
        {
          "output_type": "execute_result",
          "data": {
            "text/plain": [
              "year\n",
              "2011    3405.762\n",
              "Name: count, dtype: float64"
            ]
          },
          "metadata": {},
          "execution_count": 92
        }
      ]
    },
    {
      "cell_type": "code",
      "source": [
        "#mnthごとのレンタル数\n",
        "df_cycle_except_object.groupby('mnth').mean()['count'].round(3)"
      ],
      "metadata": {
        "id": "G9XIsFtZ7Kl4",
        "colab": {
          "base_uri": "https://localhost:8080/"
        },
        "outputId": "1a308970-9ff4-4b57-dfa6-9045500d3ad1"
      },
      "execution_count": 93,
      "outputs": [
        {
          "output_type": "execute_result",
          "data": {
            "text/plain": [
              "mnth\n",
              "1     1231.903\n",
              "2     1721.964\n",
              "3     2065.968\n",
              "4     3162.333\n",
              "5     4381.323\n",
              "6     4783.733\n",
              "7     4559.387\n",
              "8     4409.387\n",
              "9     4247.267\n",
              "10    3984.226\n",
              "11    3405.567\n",
              "12    2816.871\n",
              "Name: count, dtype: float64"
            ]
          },
          "metadata": {},
          "execution_count": 93
        }
      ]
    },
    {
      "cell_type": "code",
      "source": [
        "#棒グラフで描画\n",
        "plt.figure()\n",
        "plt.bar(df_cycle_except_object['mnth'], df_cycle_except_object['count'])\n",
        "plt.show()"
      ],
      "metadata": {
        "id": "Kpov4VkC8ciB",
        "colab": {
          "base_uri": "https://localhost:8080/",
          "height": 265
        },
        "outputId": "82c256d0-cd7b-4aa4-df65-dee92564379f"
      },
      "execution_count": 94,
      "outputs": [
        {
          "output_type": "display_data",
          "data": {
            "text/plain": [
              "<Figure size 432x288 with 1 Axes>"
            ],
            "image/png": "[encoded data removed]"
          },
          "metadata": {
            "needs_background": "light"
          }
        }
      ]
    },
    {
      "cell_type": "code",
      "source": [
        "#weekdayごとのレンタル数\n",
        "df_cycle_except_object.groupby('weekday').mean()['count'].round(3)"
      ],
      "metadata": {
        "id": "3bAYuHqP7-Rw",
        "colab": {
          "base_uri": "https://localhost:8080/"
        },
        "outputId": "f9630920-a571-4bb0-9be1-028135192075"
      },
      "execution_count": 95,
      "outputs": [
        {
          "output_type": "execute_result",
          "data": {
            "text/plain": [
              "weekday\n",
              "0    3405.269\n",
              "1    3465.788\n",
              "2    3468.038\n",
              "3    3253.250\n",
              "4    3356.769\n",
              "5    3500.115\n",
              "6    3391.377\n",
              "Name: count, dtype: float64"
            ]
          },
          "metadata": {},
          "execution_count": 95
        }
      ]
    },
    {
      "cell_type": "code",
      "source": [
        "#棒グラフで描画\n",
        "plt.figure()\n",
        "plt.bar(df_cycle_except_object['weekday'], df_cycle_except_object['count'])\n",
        "plt.show()"
      ],
      "metadata": {
        "id": "FDIC6fHK-OW-",
        "colab": {
          "base_uri": "https://localhost:8080/",
          "height": 265
        },
        "outputId": "e07f2836-c900-4fe5-b95d-a523dfd09938"
      },
      "execution_count": 120,
      "outputs": [
        {
          "output_type": "display_data",
          "data": {
            "text/plain": [
              "<Figure size 432x288 with 1 Axes>"
            ],
            "image/png": "[encoded data removed]"
          },
          "metadata": {
            "needs_background": "light"
          }
        }
      ]
    },
    {
      "cell_type": "markdown",
      "source": [
        "質的データの可視化"
      ],
      "metadata": {
        "id": "KXW_MA-Yhkq5"
      }
    },
    {
      "cell_type": "code",
      "source": [
        ""
      ],
      "metadata": {
        "id": "8itNYrQuiRAP"
      },
      "execution_count": null,
      "outputs": []
    },
    {
      "cell_type": "code",
      "source": [
        "#各変数間の相関係数確認\n",
        "df_cycle_except_object.corr()"
      ],
      "metadata": {
        "id": "woqWVRDm_Tkh",
        "colab": {
          "base_uri": "https://localhost:8080/",
          "height": 744
        },
        "outputId": "e7ca68ad-4be2-4448-a921-0d16ae2a2d9b"
      },
      "execution_count": 98,
      "outputs": [
        {
          "output_type": "execute_result",
          "data": {
            "text/plain": [
              "                       year      mnth   weekday      temp     atemp       hum  \\\n",
              "year                    NaN       NaN       NaN       NaN       NaN       NaN   \n",
              "mnth                    NaN  1.000000  0.012860  0.288663  0.301920  0.242533   \n",
              "weekday                 NaN  0.012860  1.000000 -0.039292 -0.042810 -0.065932   \n",
              "temp                    NaN  0.288663 -0.039292  1.000000  0.996458  0.145776   \n",
              "atemp                   NaN  0.301920 -0.042810  0.996458  1.000000  0.155812   \n",
              "hum                     NaN  0.242533 -0.065932  0.145776  0.155812  1.000000   \n",
              "windspeed               NaN -0.242443  0.061525 -0.114200 -0.136544 -0.215718   \n",
              "count                   NaN  0.444607 -0.004396  0.771214  0.775294  0.001898   \n",
              "Season_Fall             NaN  0.199081 -0.002416  0.667255  0.653619  0.004013   \n",
              "Season_Spring           NaN -0.568456  0.016690 -0.643992 -0.649430 -0.253585   \n",
              "Season_Summer           NaN -0.315500 -0.008681  0.145907  0.148616  0.056884   \n",
              "Season_Winter           NaN  0.686895 -0.005514 -0.180615 -0.164009  0.192937   \n",
              "holiday_No              NaN -0.032808  0.076087  0.019272  0.026448  0.030896   \n",
              "holiday_Yes             NaN  0.032808 -0.076087 -0.019272 -0.026448 -0.030896   \n",
              "WorkingDay_No           NaN  0.004288 -0.020445 -0.046799 -0.046158 -0.034250   \n",
              "WorkingDay_Yes          NaN -0.004288  0.020445  0.046799  0.046158  0.034250   \n",
              "weathersit_Clear        NaN  0.032921 -0.044659  0.086702  0.091173 -0.563619   \n",
              "weathersit_Cloudy       NaN -0.079237  0.034594 -0.067856 -0.070129  0.454639   \n",
              "weathersit_Light Rain   NaN  0.108516  0.026706 -0.050192 -0.055706  0.294002   \n",
              "\n",
              "                       windspeed     count  Season_Fall  Season_Spring  \\\n",
              "year                         NaN       NaN          NaN            NaN   \n",
              "mnth                   -0.242443  0.444607     0.199081      -0.568456   \n",
              "weekday                 0.061525 -0.004396    -0.002416       0.016690   \n",
              "temp                   -0.114200  0.771214     0.667255      -0.643992   \n",
              "atemp                  -0.136544  0.775294     0.653619      -0.649430   \n",
              "hum                    -0.215718  0.001898     0.004013      -0.253585   \n",
              "windspeed               1.000000 -0.278000    -0.108109       0.171647   \n",
              "count                  -0.278000  1.000000     0.452814      -0.722582   \n",
              "Season_Fall            -0.108109  0.452814     1.000000      -0.336926   \n",
              "Season_Spring           0.171647 -0.722582    -0.336926       1.000000   \n",
              "Season_Summer           0.108679  0.155752    -0.341894      -0.332099   \n",
              "Season_Winter          -0.172096  0.106695    -0.334441      -0.324859   \n",
              "holiday_No             -0.000734  0.049193     0.022083      -0.020803   \n",
              "holiday_Yes             0.000734 -0.049193    -0.022083       0.020803   \n",
              "WorkingDay_No          -0.011955 -0.020661    -0.021801       0.022493   \n",
              "WorkingDay_Yes          0.011955  0.020661     0.021801      -0.022493   \n",
              "weathersit_Clear       -0.083567  0.267850     0.100606       0.003586   \n",
              "weathersit_Cloudy       0.039563 -0.165493    -0.091733       0.019120   \n",
              "weathersit_Light Rain   0.110027 -0.260361    -0.027238      -0.054391   \n",
              "\n",
              "                       Season_Summer  Season_Winter  holiday_No  holiday_Yes  \\\n",
              "year                             NaN            NaN         NaN          NaN   \n",
              "mnth                       -0.315500       0.686895   -0.032808     0.032808   \n",
              "weekday                    -0.008681      -0.005514    0.076087    -0.076087   \n",
              "temp                        0.145907      -0.180615    0.019272    -0.019272   \n",
              "atemp                       0.148616      -0.164009    0.026448    -0.026448   \n",
              "hum                         0.056884       0.192937    0.030896    -0.030896   \n",
              "windspeed                   0.108679      -0.172096   -0.000734     0.000734   \n",
              "count                       0.155752       0.106695    0.049193    -0.049193   \n",
              "Season_Fall                -0.341894      -0.334441    0.022083    -0.022083   \n",
              "Season_Spring              -0.332099      -0.324859   -0.020803     0.020803   \n",
              "Season_Summer               1.000000      -0.329650    0.020122    -0.020122   \n",
              "Season_Winter              -0.329650       1.000000   -0.021953     0.021953   \n",
              "holiday_No                  0.020122      -0.021953    1.000000    -1.000000   \n",
              "holiday_Yes                -0.020122       0.021953   -1.000000     1.000000   \n",
              "WorkingDay_No              -0.013397       0.013170   -0.247461     0.247461   \n",
              "WorkingDay_Yes              0.013397      -0.013170    0.247461    -0.247461   \n",
              "weathersit_Clear           -0.064509      -0.040823    0.006629    -0.006629   \n",
              "weathersit_Cloudy           0.089866      -0.016646   -0.021359     0.021359   \n",
              "weathersit_Light Rain      -0.056605       0.139573    0.034745    -0.034745   \n",
              "\n",
              "                       WorkingDay_No  WorkingDay_Yes  weathersit_Clear  \\\n",
              "year                             NaN             NaN               NaN   \n",
              "mnth                        0.004288       -0.004288          0.032921   \n",
              "weekday                    -0.020445        0.020445         -0.044659   \n",
              "temp                       -0.046799        0.046799          0.086702   \n",
              "atemp                      -0.046158        0.046158          0.091173   \n",
              "hum                        -0.034250        0.034250         -0.563619   \n",
              "windspeed                  -0.011955        0.011955         -0.083567   \n",
              "count                      -0.020661        0.020661          0.267850   \n",
              "Season_Fall                -0.021801        0.021801          0.100606   \n",
              "Season_Spring               0.022493       -0.022493          0.003586   \n",
              "Season_Summer              -0.013397        0.013397         -0.064509   \n",
              "Season_Winter               0.013170       -0.013170         -0.040823   \n",
              "holiday_No                 -0.247461        0.247461          0.006629   \n",
              "holiday_Yes                 0.247461       -0.247461         -0.006629   \n",
              "WorkingDay_No               1.000000       -1.000000          0.094668   \n",
              "WorkingDay_Yes             -1.000000        1.000000         -0.094668   \n",
              "weathersit_Clear            0.094668       -0.094668          1.000000   \n",
              "weathersit_Cloudy          -0.063115        0.063115         -0.914638   \n",
              "weathersit_Light Rain      -0.080989        0.080989         -0.263972   \n",
              "\n",
              "                       weathersit_Cloudy  weathersit_Light Rain  \n",
              "year                                 NaN                    NaN  \n",
              "mnth                           -0.079237               0.108516  \n",
              "weekday                         0.034594               0.026706  \n",
              "temp                           -0.067856              -0.050192  \n",
              "atemp                          -0.070129              -0.055706  \n",
              "hum                             0.454639               0.294002  \n",
              "windspeed                       0.039563               0.110027  \n",
              "count                          -0.165493              -0.260361  \n",
              "Season_Fall                    -0.091733              -0.027238  \n",
              "Season_Spring                   0.019120              -0.054391  \n",
              "Season_Summer                   0.089866              -0.056605  \n",
              "Season_Winter                  -0.016646               0.139573  \n",
              "holiday_No                     -0.021359               0.034745  \n",
              "holiday_Yes                     0.021359              -0.034745  \n",
              "WorkingDay_No                  -0.063115              -0.080989  \n",
              "WorkingDay_Yes                  0.063115               0.080989  \n",
              "weathersit_Clear               -0.914638              -0.263972  \n",
              "weathersit_Cloudy               1.000000              -0.148496  \n",
              "weathersit_Light Rain          -0.148496               1.000000  "
            ],
            "text/html": [
              "\n",
              "  <div id=\"df-bda0eb08-8cef-4204-8c23-14cd5c12e358\">\n",
              "    <div class=\"colab-df-container\">\n",
              "      <div>\n",
              "<style scoped>\n",
              "    .dataframe tbody tr th:only-of-type {\n",
              "        vertical-align: middle;\n",
              "    }\n",
              "\n",
              "    .dataframe tbody tr th {\n",
              "        vertical-align: top;\n",
              "    }\n",
              "\n",
              "    .dataframe thead th {\n",
              "        text-align: right;\n",
              "    }\n",
              "</style>\n",
              "<table border=\"1\" class=\"dataframe\">\n",
              "  <thead>\n",
              "    <tr style=\"text-align: right;\">\n",
              "      <th></th>\n",
              "      <th>year</th>\n",
              "      <th>mnth</th>\n",
              "      <th>weekday</th>\n",
              "      <th>temp</th>\n",
              "      <th>atemp</th>\n",
              "      <th>hum</th>\n",
              "      <th>windspeed</th>\n",
              "      <th>count</th>\n",
              "      <th>Season_Fall</th>\n",
              "      <th>Season_Spring</th>\n",
              "      <th>Season_Summer</th>\n",
              "      <th>Season_Winter</th>\n",
              "      <th>holiday_No</th>\n",
              "      <th>holiday_Yes</th>\n",
              "      <th>WorkingDay_No</th>\n",
              "      <th>WorkingDay_Yes</th>\n",
              "      <th>weathersit_Clear</th>\n",
              "      <th>weathersit_Cloudy</th>\n",
              "      <th>weathersit_Light Rain</th>\n",
              "    </tr>\n",
              "  </thead>\n",
              "  <tbody>\n",
              "    <tr>\n",
              "      <th>year</th>\n",
              "      <td>NaN</td>\n",
              "      <td>NaN</td>\n",
              "      <td>NaN</td>\n",
              "      <td>NaN</td>\n",
              "      <td>NaN</td>\n",
              "      <td>NaN</td>\n",
              "      <td>NaN</td>\n",
              "      <td>NaN</td>\n",
              "      <td>NaN</td>\n",
              "      <td>NaN</td>\n",
              "      <td>NaN</td>\n",
              "      <td>NaN</td>\n",
              "      <td>NaN</td>\n",
              "      <td>NaN</td>\n",
              "      <td>NaN</td>\n",
              "      <td>NaN</td>\n",
              "      <td>NaN</td>\n",
              "      <td>NaN</td>\n",
              "      <td>NaN</td>\n",
              "    </tr>\n",
              "    <tr>\n",
              "      <th>mnth</th>\n",
              "      <td>NaN</td>\n",
              "      <td>1.000000</td>\n",
              "      <td>0.012860</td>\n",
              "      <td>0.288663</td>\n",
              "      <td>0.301920</td>\n",
              "      <td>0.242533</td>\n",
              "      <td>-0.242443</td>\n",
              "      <td>0.444607</td>\n",
              "      <td>0.199081</td>\n",
              "      <td>-0.568456</td>\n",
              "      <td>-0.315500</td>\n",
              "      <td>0.686895</td>\n",
              "      <td>-0.032808</td>\n",
              "      <td>0.032808</td>\n",
              "      <td>0.004288</td>\n",
              "      <td>-0.004288</td>\n",
              "      <td>0.032921</td>\n",
              "      <td>-0.079237</td>\n",
              "      <td>0.108516</td>\n",
              "    </tr>\n",
              "    <tr>\n",
              "      <th>weekday</th>\n",
              "      <td>NaN</td>\n",
              "      <td>0.012860</td>\n",
              "      <td>1.000000</td>\n",
              "      <td>-0.039292</td>\n",
              "      <td>-0.042810</td>\n",
              "      <td>-0.065932</td>\n",
              "      <td>0.061525</td>\n",
              "      <td>-0.004396</td>\n",
              "      <td>-0.002416</td>\n",
              "      <td>0.016690</td>\n",
              "      <td>-0.008681</td>\n",
              "      <td>-0.005514</td>\n",
              "      <td>0.076087</td>\n",
              "      <td>-0.076087</td>\n",
              "      <td>-0.020445</td>\n",
              "      <td>0.020445</td>\n",
              "      <td>-0.044659</td>\n",
              "      <td>0.034594</td>\n",
              "      <td>0.026706</td>\n",
              "    </tr>\n",
              "    <tr>\n",
              "      <th>temp</th>\n",
              "      <td>NaN</td>\n",
              "      <td>0.288663</td>\n",
              "      <td>-0.039292</td>\n",
              "      <td>1.000000</td>\n",
              "      <td>0.996458</td>\n",
              "      <td>0.145776</td>\n",
              "      <td>-0.114200</td>\n",
              "      <td>0.771214</td>\n",
              "      <td>0.667255</td>\n",
              "      <td>-0.643992</td>\n",
              "      <td>0.145907</td>\n",
              "      <td>-0.180615</td>\n",
              "      <td>0.019272</td>\n",
              "      <td>-0.019272</td>\n",
              "      <td>-0.046799</td>\n",
              "      <td>0.046799</td>\n",
              "      <td>0.086702</td>\n",
              "      <td>-0.067856</td>\n",
              "      <td>-0.050192</td>\n",
              "    </tr>\n",
              "    <tr>\n",
              "      <th>atemp</th>\n",
              "      <td>NaN</td>\n",
              "      <td>0.301920</td>\n",
              "      <td>-0.042810</td>\n",
              "      <td>0.996458</td>\n",
              "      <td>1.000000</td>\n",
              "      <td>0.155812</td>\n",
              "      <td>-0.136544</td>\n",
              "      <td>0.775294</td>\n",
              "      <td>0.653619</td>\n",
              "      <td>-0.649430</td>\n",
              "      <td>0.148616</td>\n",
              "      <td>-0.164009</td>\n",
              "      <td>0.026448</td>\n",
              "      <td>-0.026448</td>\n",
              "      <td>-0.046158</td>\n",
              "      <td>0.046158</td>\n",
              "      <td>0.091173</td>\n",
              "      <td>-0.070129</td>\n",
              "      <td>-0.055706</td>\n",
              "    </tr>\n",
              "    <tr>\n",
              "      <th>hum</th>\n",
              "      <td>NaN</td>\n",
              "      <td>0.242533</td>\n",
              "      <td>-0.065932</td>\n",
              "      <td>0.145776</td>\n",
              "      <td>0.155812</td>\n",
              "      <td>1.000000</td>\n",
              "      <td>-0.215718</td>\n",
              "      <td>0.001898</td>\n",
              "      <td>0.004013</td>\n",
              "      <td>-0.253585</td>\n",
              "      <td>0.056884</td>\n",
              "      <td>0.192937</td>\n",
              "      <td>0.030896</td>\n",
              "      <td>-0.030896</td>\n",
              "      <td>-0.034250</td>\n",
              "      <td>0.034250</td>\n",
              "      <td>-0.563619</td>\n",
              "      <td>0.454639</td>\n",
              "      <td>0.294002</td>\n",
              "    </tr>\n",
              "    <tr>\n",
              "      <th>windspeed</th>\n",
              "      <td>NaN</td>\n",
              "      <td>-0.242443</td>\n",
              "      <td>0.061525</td>\n",
              "      <td>-0.114200</td>\n",
              "      <td>-0.136544</td>\n",
              "      <td>-0.215718</td>\n",
              "      <td>1.000000</td>\n",
              "      <td>-0.278000</td>\n",
              "      <td>-0.108109</td>\n",
              "      <td>0.171647</td>\n",
              "      <td>0.108679</td>\n",
              "      <td>-0.172096</td>\n",
              "      <td>-0.000734</td>\n",
              "      <td>0.000734</td>\n",
              "      <td>-0.011955</td>\n",
              "      <td>0.011955</td>\n",
              "      <td>-0.083567</td>\n",
              "      <td>0.039563</td>\n",
              "      <td>0.110027</td>\n",
              "    </tr>\n",
              "    <tr>\n",
              "      <th>count</th>\n",
              "      <td>NaN</td>\n",
              "      <td>0.444607</td>\n",
              "      <td>-0.004396</td>\n",
              "      <td>0.771214</td>\n",
              "      <td>0.775294</td>\n",
              "      <td>0.001898</td>\n",
              "      <td>-0.278000</td>\n",
              "      <td>1.000000</td>\n",
              "      <td>0.452814</td>\n",
              "      <td>-0.722582</td>\n",
              "      <td>0.155752</td>\n",
              "      <td>0.106695</td>\n",
              "      <td>0.049193</td>\n",
              "      <td>-0.049193</td>\n",
              "      <td>-0.020661</td>\n",
              "      <td>0.020661</td>\n",
              "      <td>0.267850</td>\n",
              "      <td>-0.165493</td>\n",
              "      <td>-0.260361</td>\n",
              "    </tr>\n",
              "    <tr>\n",
              "      <th>Season_Fall</th>\n",
              "      <td>NaN</td>\n",
              "      <td>0.199081</td>\n",
              "      <td>-0.002416</td>\n",
              "      <td>0.667255</td>\n",
              "      <td>0.653619</td>\n",
              "      <td>0.004013</td>\n",
              "      <td>-0.108109</td>\n",
              "      <td>0.452814</td>\n",
              "      <td>1.000000</td>\n",
              "      <td>-0.336926</td>\n",
              "      <td>-0.341894</td>\n",
              "      <td>-0.334441</td>\n",
              "      <td>0.022083</td>\n",
              "      <td>-0.022083</td>\n",
              "      <td>-0.021801</td>\n",
              "      <td>0.021801</td>\n",
              "      <td>0.100606</td>\n",
              "      <td>-0.091733</td>\n",
              "      <td>-0.027238</td>\n",
              "    </tr>\n",
              "    <tr>\n",
              "      <th>Season_Spring</th>\n",
              "      <td>NaN</td>\n",
              "      <td>-0.568456</td>\n",
              "      <td>0.016690</td>\n",
              "      <td>-0.643992</td>\n",
              "      <td>-0.649430</td>\n",
              "      <td>-0.253585</td>\n",
              "      <td>0.171647</td>\n",
              "      <td>-0.722582</td>\n",
              "      <td>-0.336926</td>\n",
              "      <td>1.000000</td>\n",
              "      <td>-0.332099</td>\n",
              "      <td>-0.324859</td>\n",
              "      <td>-0.020803</td>\n",
              "      <td>0.020803</td>\n",
              "      <td>0.022493</td>\n",
              "      <td>-0.022493</td>\n",
              "      <td>0.003586</td>\n",
              "      <td>0.019120</td>\n",
              "      <td>-0.054391</td>\n",
              "    </tr>\n",
              "    <tr>\n",
              "      <th>Season_Summer</th>\n",
              "      <td>NaN</td>\n",
              "      <td>-0.315500</td>\n",
              "      <td>-0.008681</td>\n",
              "      <td>0.145907</td>\n",
              "      <td>0.148616</td>\n",
              "      <td>0.056884</td>\n",
              "      <td>0.108679</td>\n",
              "      <td>0.155752</td>\n",
              "      <td>-0.341894</td>\n",
              "      <td>-0.332099</td>\n",
              "      <td>1.000000</td>\n",
              "      <td>-0.329650</td>\n",
              "      <td>0.020122</td>\n",
              "      <td>-0.020122</td>\n",
              "      <td>-0.013397</td>\n",
              "      <td>0.013397</td>\n",
              "      <td>-0.064509</td>\n",
              "      <td>0.089866</td>\n",
              "      <td>-0.056605</td>\n",
              "    </tr>\n",
              "    <tr>\n",
              "      <th>Season_Winter</th>\n",
              "      <td>NaN</td>\n",
              "      <td>0.686895</td>\n",
              "      <td>-0.005514</td>\n",
              "      <td>-0.180615</td>\n",
              "      <td>-0.164009</td>\n",
              "      <td>0.192937</td>\n",
              "      <td>-0.172096</td>\n",
              "      <td>0.106695</td>\n",
              "      <td>-0.334441</td>\n",
              "      <td>-0.324859</td>\n",
              "      <td>-0.329650</td>\n",
              "      <td>1.000000</td>\n",
              "      <td>-0.021953</td>\n",
              "      <td>0.021953</td>\n",
              "      <td>0.013170</td>\n",
              "      <td>-0.013170</td>\n",
              "      <td>-0.040823</td>\n",
              "      <td>-0.016646</td>\n",
              "      <td>0.139573</td>\n",
              "    </tr>\n",
              "    <tr>\n",
              "      <th>holiday_No</th>\n",
              "      <td>NaN</td>\n",
              "      <td>-0.032808</td>\n",
              "      <td>0.076087</td>\n",
              "      <td>0.019272</td>\n",
              "      <td>0.026448</td>\n",
              "      <td>0.030896</td>\n",
              "      <td>-0.000734</td>\n",
              "      <td>0.049193</td>\n",
              "      <td>0.022083</td>\n",
              "      <td>-0.020803</td>\n",
              "      <td>0.020122</td>\n",
              "      <td>-0.021953</td>\n",
              "      <td>1.000000</td>\n",
              "      <td>-1.000000</td>\n",
              "      <td>-0.247461</td>\n",
              "      <td>0.247461</td>\n",
              "      <td>0.006629</td>\n",
              "      <td>-0.021359</td>\n",
              "      <td>0.034745</td>\n",
              "    </tr>\n",
              "    <tr>\n",
              "      <th>holiday_Yes</th>\n",
              "      <td>NaN</td>\n",
              "      <td>0.032808</td>\n",
              "      <td>-0.076087</td>\n",
              "      <td>-0.019272</td>\n",
              "      <td>-0.026448</td>\n",
              "      <td>-0.030896</td>\n",
              "      <td>0.000734</td>\n",
              "      <td>-0.049193</td>\n",
              "      <td>-0.022083</td>\n",
              "      <td>0.020803</td>\n",
              "      <td>-0.020122</td>\n",
              "      <td>0.021953</td>\n",
              "      <td>-1.000000</td>\n",
              "      <td>1.000000</td>\n",
              "      <td>0.247461</td>\n",
              "      <td>-0.247461</td>\n",
              "      <td>-0.006629</td>\n",
              "      <td>0.021359</td>\n",
              "      <td>-0.034745</td>\n",
              "    </tr>\n",
              "    <tr>\n",
              "      <th>WorkingDay_No</th>\n",
              "      <td>NaN</td>\n",
              "      <td>0.004288</td>\n",
              "      <td>-0.020445</td>\n",
              "      <td>-0.046799</td>\n",
              "      <td>-0.046158</td>\n",
              "      <td>-0.034250</td>\n",
              "      <td>-0.011955</td>\n",
              "      <td>-0.020661</td>\n",
              "      <td>-0.021801</td>\n",
              "      <td>0.022493</td>\n",
              "      <td>-0.013397</td>\n",
              "      <td>0.013170</td>\n",
              "      <td>-0.247461</td>\n",
              "      <td>0.247461</td>\n",
              "      <td>1.000000</td>\n",
              "      <td>-1.000000</td>\n",
              "      <td>0.094668</td>\n",
              "      <td>-0.063115</td>\n",
              "      <td>-0.080989</td>\n",
              "    </tr>\n",
              "    <tr>\n",
              "      <th>WorkingDay_Yes</th>\n",
              "      <td>NaN</td>\n",
              "      <td>-0.004288</td>\n",
              "      <td>0.020445</td>\n",
              "      <td>0.046799</td>\n",
              "      <td>0.046158</td>\n",
              "      <td>0.034250</td>\n",
              "      <td>0.011955</td>\n",
              "      <td>0.020661</td>\n",
              "      <td>0.021801</td>\n",
              "      <td>-0.022493</td>\n",
              "      <td>0.013397</td>\n",
              "      <td>-0.013170</td>\n",
              "      <td>0.247461</td>\n",
              "      <td>-0.247461</td>\n",
              "      <td>-1.000000</td>\n",
              "      <td>1.000000</td>\n",
              "      <td>-0.094668</td>\n",
              "      <td>0.063115</td>\n",
              "      <td>0.080989</td>\n",
              "    </tr>\n",
              "    <tr>\n",
              "      <th>weathersit_Clear</th>\n",
              "      <td>NaN</td>\n",
              "      <td>0.032921</td>\n",
              "      <td>-0.044659</td>\n",
              "      <td>0.086702</td>\n",
              "      <td>0.091173</td>\n",
              "      <td>-0.563619</td>\n",
              "      <td>-0.083567</td>\n",
              "      <td>0.267850</td>\n",
              "      <td>0.100606</td>\n",
              "      <td>0.003586</td>\n",
              "      <td>-0.064509</td>\n",
              "      <td>-0.040823</td>\n",
              "      <td>0.006629</td>\n",
              "      <td>-0.006629</td>\n",
              "      <td>0.094668</td>\n",
              "      <td>-0.094668</td>\n",
              "      <td>1.000000</td>\n",
              "      <td>-0.914638</td>\n",
              "      <td>-0.263972</td>\n",
              "    </tr>\n",
              "    <tr>\n",
              "      <th>weathersit_Cloudy</th>\n",
              "      <td>NaN</td>\n",
              "      <td>-0.079237</td>\n",
              "      <td>0.034594</td>\n",
              "      <td>-0.067856</td>\n",
              "      <td>-0.070129</td>\n",
              "      <td>0.454639</td>\n",
              "      <td>0.039563</td>\n",
              "      <td>-0.165493</td>\n",
              "      <td>-0.091733</td>\n",
              "      <td>0.019120</td>\n",
              "      <td>0.089866</td>\n",
              "      <td>-0.016646</td>\n",
              "      <td>-0.021359</td>\n",
              "      <td>0.021359</td>\n",
              "      <td>-0.063115</td>\n",
              "      <td>0.063115</td>\n",
              "      <td>-0.914638</td>\n",
              "      <td>1.000000</td>\n",
              "      <td>-0.148496</td>\n",
              "    </tr>\n",
              "    <tr>\n",
              "      <th>weathersit_Light Rain</th>\n",
              "      <td>NaN</td>\n",
              "      <td>0.108516</td>\n",
              "      <td>0.026706</td>\n",
              "      <td>-0.050192</td>\n",
              "      <td>-0.055706</td>\n",
              "      <td>0.294002</td>\n",
              "      <td>0.110027</td>\n",
              "      <td>-0.260361</td>\n",
              "      <td>-0.027238</td>\n",
              "      <td>-0.054391</td>\n",
              "      <td>-0.056605</td>\n",
              "      <td>0.139573</td>\n",
              "      <td>0.034745</td>\n",
              "      <td>-0.034745</td>\n",
              "      <td>-0.080989</td>\n",
              "      <td>0.080989</td>\n",
              "      <td>-0.263972</td>\n",
              "      <td>-0.148496</td>\n",
              "      <td>1.000000</td>\n",
              "    </tr>\n",
              "  </tbody>\n",
              "</table>\n",
              "</div>\n",
              "      <button class=\"colab-df-convert\" onclick=\"convertToInteractive('df-bda0eb08-8cef-4204-8c23-14cd5c12e358')\"\n",
              "              title=\"Convert this dataframe to an interactive table.\"\n",
              "              style=\"display:none;\">\n",
              "        \n",
              "  <svg xmlns=\"http://www.w3.org/2000/svg\" height=\"24px\"viewBox=\"0 0 24 24\"\n",
              "       width=\"24px\">\n",
              "    <path d=\"M0 0h24v24H0V0z\" fill=\"none\"/>\n",
              "    <path d=\"M18.56 5.44l.94 2.06.94-2.06 2.06-.94-2.06-.94-.94-2.06-.94 2.06-2.06.94zm-11 1L8.5 8.5l.94-2.06 2.06-.94-2.06-.94L8.5 2.5l-.94 2.06-2.06.94zm10 10l.94 2.06.94-2.06 2.06-.94-2.06-.94-.94-2.06-.94 2.06-2.06.94z\"/><path d=\"M17.41 7.96l-1.37-1.37c-.4-.4-.92-.59-1.43-.59-.52 0-1.04.2-1.43.59L10.3 9.45l-7.72 7.72c-.78.78-.78 2.05 0 2.83L4 21.41c.39.39.9.59 1.41.59.51 0 1.02-.2 1.41-.59l7.78-7.78 2.81-2.81c.8-.78.8-2.07 0-2.86zM5.41 20L4 18.59l7.72-7.72 1.47 1.35L5.41 20z\"/>\n",
              "  </svg>\n",
              "      </button>\n",
              "      \n",
              "  <style>\n",
              "    .colab-df-container {\n",
              "      display:flex;\n",
              "      flex-wrap:wrap;\n",
              "      gap: 12px;\n",
              "    }\n",
              "\n",
              "    .colab-df-convert {\n",
              "      background-color: #E8F0FE;\n",
              "      border: none;\n",
              "      border-radius: 50%;\n",
              "      cursor: pointer;\n",
              "      display: none;\n",
              "      fill: #1967D2;\n",
              "      height: 32px;\n",
              "      padding: 0 0 0 0;\n",
              "      width: 32px;\n",
              "    }\n",
              "\n",
              "    .colab-df-convert:hover {\n",
              "      background-color: #E2EBFA;\n",
              "      box-shadow: 0px 1px 2px rgba(60, 64, 67, 0.3), 0px 1px 3px 1px rgba(60, 64, 67, 0.15);\n",
              "      fill: #174EA6;\n",
              "    }\n",
              "\n",
              "    [theme=dark] .colab-df-convert {\n",
              "      background-color: #3B4455;\n",
              "      fill: #D2E3FC;\n",
              "    }\n",
              "\n",
              "    [theme=dark] .colab-df-convert:hover {\n",
              "      background-color: #434B5C;\n",
              "      box-shadow: 0px 1px 3px 1px rgba(0, 0, 0, 0.15);\n",
              "      filter: drop-shadow(0px 1px 2px rgba(0, 0, 0, 0.3));\n",
              "      fill: #FFFFFF;\n",
              "    }\n",
              "  </style>\n",
              "\n",
              "      <script>\n",
              "        const buttonEl =\n",
              "          document.querySelector('#df-bda0eb08-8cef-4204-8c23-14cd5c12e358 button.colab-df-convert');\n",
              "        buttonEl.style.display =\n",
              "          google.colab.kernel.accessAllowed ? 'block' : 'none';\n",
              "\n",
              "        async function convertToInteractive(key) {\n",
              "          const element = document.querySelector('#df-bda0eb08-8cef-4204-8c23-14cd5c12e358');\n",
              "          const dataTable =\n",
              "            await google.colab.kernel.invokeFunction('convertToInteractive',\n",
              "                                                     [key], {});\n",
              "          if (!dataTable) return;\n",
              "\n",
              "          const docLinkHtml = 'Like what you see? Visit the ' +\n",
              "            '<a target=\"_blank\" href=https://colab.research.google.com/notebooks/data_table.ipynb>data table notebook</a>'\n",
              "            + ' to learn more about interactive tables.';\n",
              "          element.innerHTML = '';\n",
              "          dataTable['output_type'] = 'display_data';\n",
              "          await google.colab.output.renderOutput(dataTable, element);\n",
              "          const docLink = document.createElement('div');\n",
              "          docLink.innerHTML = docLinkHtml;\n",
              "          element.appendChild(docLink);\n",
              "        }\n",
              "      </script>\n",
              "    </div>\n",
              "  </div>\n",
              "  "
            ]
          },
          "metadata": {},
          "execution_count": 98
        }
      ]
    },
    {
      "cell_type": "code",
      "source": [
        "df_cycle_except_object.columns"
      ],
      "metadata": {
        "colab": {
          "base_uri": "https://localhost:8080/"
        },
        "id": "kbwJjb8RhYXi",
        "outputId": "bb26b6b0-757b-4e70-f365-0c04565d9b8b"
      },
      "execution_count": 99,
      "outputs": [
        {
          "output_type": "execute_result",
          "data": {
            "text/plain": [
              "Index(['year', 'mnth', 'weekday', 'temp', 'atemp', 'hum', 'windspeed', 'count',\n",
              "       'Season_Fall', 'Season_Spring', 'Season_Summer', 'Season_Winter',\n",
              "       'holiday_No', 'holiday_Yes', 'WorkingDay_No', 'WorkingDay_Yes',\n",
              "       'weathersit_Clear', 'weathersit_Cloudy', 'weathersit_Light Rain'],\n",
              "      dtype='object')"
            ]
          },
          "metadata": {},
          "execution_count": 99
        }
      ]
    },
    {
      "cell_type": "markdown",
      "source": [
        "#学習データ、検証データ分割"
      ],
      "metadata": {
        "id": "jl-JGpzzCzvJ"
      }
    },
    {
      "cell_type": "code",
      "source": [
        "from sklearn.tree import DecisionTreeClassifier\n",
        "from sklearn.model_selection import train_test_split\n",
        "from sklearn.metrics import confusion_matrix, accuracy_score"
      ],
      "metadata": {
        "id": "gM2grddAC6vj"
      },
      "execution_count": 100,
      "outputs": []
    },
    {
      "cell_type": "code",
      "source": [
        "X = df_cycle_except_object.drop('count', axis=1)\n",
        "y = df_cycle_except_object['count']\n",
        "print(X.shape)\n",
        "print(y.shape)"
      ],
      "metadata": {
        "colab": {
          "base_uri": "https://localhost:8080/"
        },
        "id": "Bgl18r4PDBMC",
        "outputId": "f794f99e-41c4-4026-f731-a22fd320e308"
      },
      "execution_count": 101,
      "outputs": [
        {
          "output_type": "stream",
          "name": "stdout",
          "text": [
            "(365, 18)\n",
            "(365,)\n"
          ]
        }
      ]
    },
    {
      "cell_type": "code",
      "source": [
        "X_train, X_test, y_train, y_test = train_test_split(X, y, test_size=0.3, shuffle=False, random_state=0)\n",
        "print(X_train.head())\n",
        "print(X_test.head())\n",
        "print(y_train.head())\n",
        "print(y_test.head())"
      ],
      "metadata": {
        "colab": {
          "base_uri": "https://localhost:8080/"
        },
        "id": "Hqr4LqR2Djjj",
        "outputId": "05ab257b-89f6-47cc-a14a-27aceb6ac5e0"
      },
      "execution_count": 102,
      "outputs": [
        {
          "output_type": "stream",
          "name": "stdout",
          "text": [
            "   year  mnth  weekday      temp     atemp       hum  windspeed  Season_Fall  \\\n",
            "0  2011     1        6  0.344167  0.363625  0.805833   0.160446            0   \n",
            "1  2011     1        0  0.363478  0.353739  0.696087   0.248539            0   \n",
            "2  2011     1        1  0.196364  0.189405  0.437273   0.248309            0   \n",
            "3  2011     1        2  0.200000  0.212122  0.590435   0.160296            0   \n",
            "4  2011     1        3  0.226957  0.229270  0.436957   0.186900            0   \n",
            "\n",
            "   Season_Spring  Season_Summer  Season_Winter  holiday_No  holiday_Yes  \\\n",
            "0              1              0              0           1            0   \n",
            "1              1              0              0           1            0   \n",
            "2              1              0              0           1            0   \n",
            "3              1              0              0           1            0   \n",
            "4              1              0              0           1            0   \n",
            "\n",
            "   WorkingDay_No  WorkingDay_Yes  weathersit_Clear  weathersit_Cloudy  \\\n",
            "0              1               0                 0                  1   \n",
            "1              1               0                 0                  1   \n",
            "2              0               1                 1                  0   \n",
            "3              0               1                 1                  0   \n",
            "4              0               1                 1                  0   \n",
            "\n",
            "   weathersit_Light Rain  \n",
            "0                      0  \n",
            "1                      0  \n",
            "2                      0  \n",
            "3                      0  \n",
            "4                      0  \n",
            "     year  mnth  weekday      temp     atemp       hum  windspeed  \\\n",
            "255  2011     9        2  0.650833  0.603554  0.712500   0.141804   \n",
            "256  2011     9        3  0.673333  0.626900  0.697083   0.167300   \n",
            "257  2011     9        4  0.577500  0.553671  0.709167   0.271146   \n",
            "258  2011     9        5  0.469167  0.461475  0.590417   0.164183   \n",
            "259  2011     9        6  0.491667  0.478512  0.718333   0.189675   \n",
            "\n",
            "     Season_Fall  Season_Spring  Season_Summer  Season_Winter  holiday_No  \\\n",
            "255            1              0              0              0           1   \n",
            "256            1              0              0              0           1   \n",
            "257            1              0              0              0           1   \n",
            "258            1              0              0              0           1   \n",
            "259            1              0              0              0           1   \n",
            "\n",
            "     holiday_Yes  WorkingDay_No  WorkingDay_Yes  weathersit_Clear  \\\n",
            "255            0              0               1                 1   \n",
            "256            0              0               1                 1   \n",
            "257            0              0               1                 0   \n",
            "258            0              0               1                 0   \n",
            "259            0              1               0                 0   \n",
            "\n",
            "     weathersit_Cloudy  weathersit_Light Rain  \n",
            "255                  0                      0  \n",
            "256                  0                      0  \n",
            "257                  1                      0  \n",
            "258                  1                      0  \n",
            "259                  1                      0  \n",
            "0     985\n",
            "1     801\n",
            "2    1349\n",
            "3    1562\n",
            "4    1600\n",
            "Name: count, dtype: int64\n",
            "255    4763\n",
            "256    4785\n",
            "257    3659\n",
            "258    4760\n",
            "259    4511\n",
            "Name: count, dtype: int64\n"
          ]
        }
      ]
    },
    {
      "cell_type": "markdown",
      "source": [
        "#モデリング"
      ],
      "metadata": {
        "id": "47pWZtOFD5_D"
      }
    },
    {
      "cell_type": "markdown",
      "source": [
        "説明変数が量的変数のためRandomForestRegressorをモデルとして使用"
      ],
      "metadata": {
        "id": "UTRhIKnz7Zcn"
      }
    },
    {
      "cell_type": "code",
      "source": [
        "from sklearn.ensemble import RandomForestRegressor"
      ],
      "metadata": {
        "id": "FJ9kWX8W1pMW"
      },
      "execution_count": 103,
      "outputs": []
    },
    {
      "cell_type": "code",
      "source": [
        "random_forest = RandomForestRegressor(random_state=0)"
      ],
      "metadata": {
        "id": "OPzuX3H414Bs"
      },
      "execution_count": 104,
      "outputs": []
    },
    {
      "cell_type": "code",
      "source": [
        "random_forest = random_forest.fit(X_train,y_train)"
      ],
      "metadata": {
        "id": "bPFJ5XT619Y4"
      },
      "execution_count": 105,
      "outputs": []
    },
    {
      "cell_type": "code",
      "source": [
        "y_pred = random_forest.predict(X_test)\n",
        "y_pred"
      ],
      "metadata": {
        "id": "OKtuy6Hw1_zB",
        "colab": {
          "base_uri": "https://localhost:8080/"
        },
        "outputId": "6d384514-272a-483d-c457-3448cbc3fbff"
      },
      "execution_count": 106,
      "outputs": [
        {
          "output_type": "execute_result",
          "data": {
            "text/plain": [
              "array([4820.65, 4725.88, 3724.18, 3795.8 , 3758.8 , 3933.3 , 3800.36,\n",
              "       3348.07, 3201.03, 3115.43, 3110.57, 3499.24, 3741.98, 3835.89,\n",
              "       3615.41, 3703.79, 4485.58, 4082.47, 2387.03, 2226.44, 2474.92,\n",
              "       3964.51, 4035.45, 4063.44, 4153.47, 4357.16, 4056.23, 4203.18,\n",
              "       3674.59, 2732.05, 3272.96, 3816.88, 4329.4 , 4129.11, 4043.43,\n",
              "       3903.27, 2823.71, 3646.07, 2669.3 , 2789.09, 2769.21, 3701.1 ,\n",
              "       4020.44, 3694.98, 3505.98, 2049.27, 1435.66, 2174.56, 2378.35,\n",
              "       2595.76, 2603.24, 2683.95, 2401.28, 2255.7 , 2527.27, 2592.67,\n",
              "       2711.62, 2656.52, 2387.58, 2232.81, 2406.77, 3013.38, 4014.7 ,\n",
              "       3784.39, 2585.16, 2031.3 , 2152.14, 2240.92, 3679.07, 2650.79,\n",
              "       1424.67, 2728.71, 2583.92, 2552.93, 2627.11, 3860.32, 3909.87,\n",
              "       3431.35, 2140.27, 2092.47, 2191.09, 2217.15, 2382.96, 2399.75,\n",
              "       2649.55, 1280.37, 2028.69, 2065.69, 2219.45, 1929.02, 1862.68,\n",
              "       2026.05, 2200.87, 2525.16, 2343.72, 1996.41, 1897.64, 1964.97,\n",
              "       2480.66, 2458.9 , 2670.89, 2357.98, 2177.7 , 2050.99, 2170.22,\n",
              "       2118.48, 2085.78, 1921.91, 2066.59, 2621.85])"
            ]
          },
          "metadata": {},
          "execution_count": 106
        }
      ]
    },
    {
      "cell_type": "code",
      "source": [
        "from sklearn.metrics import mean_absolute_percentage_error\n",
        "mean_absolute_percentage_error(y_pred,y_test)"
      ],
      "metadata": {
        "colab": {
          "base_uri": "https://localhost:8080/"
        },
        "id": "ULfUsSDr5MH6",
        "outputId": "50933f7f-d954-4d8d-d361-0cda13867fcc"
      },
      "execution_count": 107,
      "outputs": [
        {
          "output_type": "execute_result",
          "data": {
            "text/plain": [
              "0.34217881877052103"
            ]
          },
          "metadata": {},
          "execution_count": 107
        }
      ]
    },
    {
      "cell_type": "code",
      "source": [
        "plt.scatter(y_pred,y_test)\n",
        "plt.title('Scatter Plot of Predict vs Test')    \n",
        "plt.xlabel('Pred') \n",
        "plt.ylabel('Test')    \n",
        "plt.grid()                                 \n",
        "plt.show()  "
      ],
      "metadata": {
        "colab": {
          "base_uri": "https://localhost:8080/",
          "height": 295
        },
        "id": "kChWm1eT7PH-",
        "outputId": "2eeeafb3-98f9-4b97-9f85-9450bf0bb910"
      },
      "execution_count": 108,
      "outputs": [
        {
          "output_type": "display_data",
          "data": {
            "text/plain": [
              "<Figure size 432x288 with 1 Axes>"
            ],
            "image/png": "[encoded data removed]"
          },
          "metadata": {
            "needs_background": "light"
          }
        }
      ]
    },
    {
      "cell_type": "markdown",
      "source": [
        "#モデルの評価"
      ],
      "metadata": {
        "id": "4RDTu_Ai-ipn"
      }
    },
    {
      "cell_type": "code",
      "source": [
        "from sklearn.metrics import r2_score"
      ],
      "metadata": {
        "id": "C5uoSZvA-h8k"
      },
      "execution_count": 109,
      "outputs": []
    },
    {
      "cell_type": "code",
      "source": [
        "len(y)"
      ],
      "metadata": {
        "colab": {
          "base_uri": "https://localhost:8080/"
        },
        "id": "pSocI9Bh-r8F",
        "outputId": "32d78390-97b5-4714-e336-ccd5aa4e8fd2"
      },
      "execution_count": 110,
      "outputs": [
        {
          "output_type": "execute_result",
          "data": {
            "text/plain": [
              "365"
            ]
          },
          "metadata": {},
          "execution_count": 110
        }
      ]
    },
    {
      "cell_type": "code",
      "source": [
        "len(y_pred)"
      ],
      "metadata": {
        "colab": {
          "base_uri": "https://localhost:8080/"
        },
        "id": "YLfEGReU_q9z",
        "outputId": "98524af9-4c16-4c5c-9d6b-238ecb2d96d7"
      },
      "execution_count": 111,
      "outputs": [
        {
          "output_type": "execute_result",
          "data": {
            "text/plain": [
              "110"
            ]
          },
          "metadata": {},
          "execution_count": 111
        }
      ]
    },
    {
      "cell_type": "code",
      "source": [
        "r2_score(y_pred,y_test)"
      ],
      "metadata": {
        "colab": {
          "base_uri": "https://localhost:8080/"
        },
        "id": "X_AvVbWA_riT",
        "outputId": "10663751-88d1-4708-f195-07a80f8c9057"
      },
      "execution_count": 112,
      "outputs": [
        {
          "output_type": "execute_result",
          "data": {
            "text/plain": [
              "-0.5103399460455518"
            ]
          },
          "metadata": {},
          "execution_count": 112
        }
      ]
    }
  ]
}