{
  "nbformat": 4,
  "nbformat_minor": 0,
  "metadata": {
    "colab": {
      "name": "【砂川快斗】Python基礎_提出課題_editor.ipynb のコピー",
      "provenance": [],
      "collapsed_sections": [],
      "include_colab_link": true
    },
    "kernelspec": {
      "name": "python3",
      "display_name": "Python 3"
    },
    "language_info": {
      "name": "python"
    }
  },
  "cells": [
    {
      "cell_type": "markdown",
      "metadata": {
        "id": "view-in-github",
        "colab_type": "text"
      },
      "source": [
        "<a href=\"https://colab.research.google.com/github/kaigitt/GoogleColab/blob/master/%E3%80%90%E7%A0%82%E5%B7%9D%E5%BF%AB%E6%96%97%E3%80%91Python%E5%9F%BA%E7%A4%8E_%E6%8F%90%E5%87%BA%E8%AA%B2%E9%A1%8C_editor_ipynb_%E3%81%AE%E3%82%B3%E3%83%94%E3%83%BC.ipynb\" target=\"_parent\"><img src=\"https://colab.research.google.com/assets/colab-badge.svg\" alt=\"Open In Colab\"/></a>"
      ]
    },
    {
      "cell_type": "markdown",
      "source": [
        "# Python基礎 確認問題\n",
        "\n",
        "\n",
        "1. 変数について学習します。(5問)\n",
        "2. 構文について学習します。 (5問)\n",
        "3. 関数・クラスについて学習します。 (5問)\n",
        "\n",
        "\n",
        "**解答は参考例なので、コードが完全一致している必要はありません。**"
      ],
      "metadata": {
        "id": "jg6fbFxfUhVC"
      }
    },
    {
      "cell_type": "markdown",
      "metadata": {
        "id": "wcFT_1J5QDzb"
      },
      "source": [
        "## 1. 変数の四則演算について学習します。　(5問)"
      ]
    },
    {
      "cell_type": "markdown",
      "metadata": {
        "id": "MYPJiC49R2Ei"
      },
      "source": [
        "### 1.1 「$137$を$3$乗したものに$145$を足した結果を変数に代入してください。更に、それを$8$で割った整数部分を別の変数に代入して、表示してください。」"
      ]
    },
    {
      "cell_type": "markdown",
      "source": [
        "<details>\n",
        "<summary>\n",
        "この問題に関連する内容を復習するためのスライド\n",
        "</summary>\n",
        "\n",
        "変数の「変数の四則演算」節\n",
        "</details>"
      ],
      "metadata": {
        "id": "bI2H1UAA-9zq"
      }
    },
    {
      "cell_type": "code",
      "metadata": {
        "id": "ZNOdvJ6fSUrj",
        "colab": {
          "base_uri": "https://localhost:8080/"
        },
        "outputId": "27a585ac-4192-4dfa-e9bc-e29db154e0d4"
      },
      "source": [
        "num = (137**3 + 145) / 8\n",
        "print(int(num))"
      ],
      "execution_count": 3,
      "outputs": [
        {
          "output_type": "stream",
          "name": "stdout",
          "text": [
            "321437\n"
          ]
        }
      ]
    },
    {
      "cell_type": "markdown",
      "source": [
        "### 1.2 「次のlist_1に「10」という数字を追加して、「5」という数字を削除してください。その後、list_1を表示してください。」"
      ],
      "metadata": {
        "id": "EgPfMpoDBb9z"
      }
    },
    {
      "cell_type": "markdown",
      "source": [
        "<details>\n",
        "<summary>\n",
        "この問題に関連する内容を復習するためのスライド\n",
        "</summary>\n",
        "\n",
        "変数の「リスト」節\n",
        "</details>"
      ],
      "metadata": {
        "id": "0aPiG8ty_Ee3"
      }
    },
    {
      "cell_type": "code",
      "source": [
        "# こちらのセルを実行してください。\n",
        "list_1 = [2, 4, 5, 6, 8]\n",
        "list_1.append(10)\n",
        "list_1.remove(5)\n",
        "print(list_1)"
      ],
      "metadata": {
        "id": "E1bERileBfXr",
        "colab": {
          "base_uri": "https://localhost:8080/"
        },
        "outputId": "0b6fe928-b4b8-4004-f1b5-88b4f1352624"
      },
      "execution_count": 5,
      "outputs": [
        {
          "output_type": "stream",
          "name": "stdout",
          "text": [
            "[2, 4, 6, 8, 10]\n"
          ]
        }
      ]
    },
    {
      "cell_type": "markdown",
      "source": [
        "### 1.3 「次のlist_1の2番目と4番目を要素に持つリストを、スライスを用いて表示してください。」"
      ],
      "metadata": {
        "id": "YZp1A-1gB4SK"
      }
    },
    {
      "cell_type": "markdown",
      "source": [
        "<details>\n",
        "<summary>\n",
        "この問題に関連する内容を復習するためのスライド\n",
        "</summary>\n",
        "\n",
        "変数の「リスト」節\n",
        "</details>"
      ],
      "metadata": {
        "id": "dRuqjci9_HjE"
      }
    },
    {
      "cell_type": "code",
      "source": [
        "# こちらのセルを実行してください。\n",
        "list_1 = [2, 4, 6, 8, 10]\n",
        "\n",
        "print(list_1[1:4:2])"
      ],
      "metadata": {
        "id": "HhsXUq5VB2vA",
        "colab": {
          "base_uri": "https://localhost:8080/"
        },
        "outputId": "b8433198-754b-4f3a-c715-630c7e3b9755"
      },
      "execution_count": 14,
      "outputs": [
        {
          "output_type": "stream",
          "name": "stdout",
          "text": [
            "[4, 8]\n"
          ]
        }
      ]
    },
    {
      "cell_type": "markdown",
      "source": [
        "### 1.4 「次のdict_1に、「文字列」をキーに持ち、「車」をバリューに持つ関係を追加してください。その後、追加後のdict_1を表示してください。」"
      ],
      "metadata": {
        "id": "_0SxO-mVCHEY"
      }
    },
    {
      "cell_type": "markdown",
      "source": [
        "<details>\n",
        "<summary>\n",
        "この問題に関連する内容を復習するためのスライド\n",
        "</summary>\n",
        "\n",
        "変数の「辞書」節\n",
        "</details>"
      ],
      "metadata": {
        "id": "3_fGNuMP_Koi"
      }
    },
    {
      "cell_type": "code",
      "source": [
        "# こちらのセルを実行してください。\n",
        "dict_1 = {'整数': 1, '小数': 1.5}\n",
        "dict_1['文字列'] = '車'\n",
        "print(dict_1)"
      ],
      "metadata": {
        "id": "w-Y3apbPB_Er",
        "colab": {
          "base_uri": "https://localhost:8080/"
        },
        "outputId": "3ac03816-d9e5-4745-8dd3-fcbb35f471fb"
      },
      "execution_count": 15,
      "outputs": [
        {
          "output_type": "stream",
          "name": "stdout",
          "text": [
            "{'整数': 1, '小数': 1.5, '文字列': '車'}\n"
          ]
        }
      ]
    },
    {
      "cell_type": "markdown",
      "source": [
        "### 1.5 「次のtuple_1の最後の3つの要素を1つおきにスライスによって切り取って変数に代入し、それを表示してください。」"
      ],
      "metadata": {
        "id": "7DlIWgoySYA5"
      }
    },
    {
      "cell_type": "markdown",
      "source": [
        "<details>\n",
        "<summary>\n",
        "この問題に関連する内容を復習するためのスライド\n",
        "</summary>\n",
        "\n",
        "変数の「タプル・セット」節\n",
        "</details>"
      ],
      "metadata": {
        "id": "7WI_PeAd_NJM"
      }
    },
    {
      "cell_type": "code",
      "source": [
        "# こちらのセルを実行してください。\n",
        "tuple_1 = (3, '整数', 1.5, '小数', '車', '文字列')\n",
        "numbers = tuple_1[3:6:1]\n",
        "print(numbers)"
      ],
      "metadata": {
        "id": "KPymiSxESXUp",
        "colab": {
          "base_uri": "https://localhost:8080/"
        },
        "outputId": "719c3b78-4565-4bd1-8bb2-e15d94505a14"
      },
      "execution_count": 19,
      "outputs": [
        {
          "output_type": "stream",
          "name": "stdout",
          "text": [
            "('小数', '車', '文字列')\n"
          ]
        }
      ]
    },
    {
      "cell_type": "markdown",
      "source": [
        "## 2. 構文について学習します。　(5問)"
      ],
      "metadata": {
        "id": "olImArv1Df4e"
      }
    },
    {
      "cell_type": "markdown",
      "source": [
        "### 2.1 「次のnum_1がlist_2に含まれていたら『このリストはlist_2の中に存在しています』、list_3に含まれていたら『このリストはlist_3の中に存在しています』、どちらにも含まれていなかったら『この数字はどのリストにも存在していません』と表示してください。」"
      ],
      "metadata": {
        "id": "qedPOg3Nfymr"
      }
    },
    {
      "cell_type": "markdown",
      "source": [
        "<details>\n",
        "<summary>\n",
        "この問題に関連する内容を復習するためのスライド\n",
        "</summary>\n",
        "\n",
        "構文の「if文」節\n",
        "</details>"
      ],
      "metadata": {
        "id": "SuX2ySQA_Rac"
      }
    },
    {
      "cell_type": "code",
      "source": [
        "# こちらのセルを実行してください。\n",
        "num_1 = 487\n",
        "list_2 = [123, 345, 12, 678]\n",
        "list_3 = [34, 23, 487, 298]\n",
        "if num_1 in list_1:\n",
        "  print('このリストはlist_2の中に存在しています')\n",
        "elif num_1 in list_3:\n",
        "  print('このリストはlist_3の中に存在しています')\n",
        "else:\n",
        "  print('この数字はどのリストにも存在していません')\n"
      ],
      "metadata": {
        "id": "pdHLePjef2T6",
        "colab": {
          "base_uri": "https://localhost:8080/"
        },
        "outputId": "2aec14b9-ee44-4d8c-c67a-53c813c23611"
      },
      "execution_count": 20,
      "outputs": [
        {
          "output_type": "stream",
          "name": "stdout",
          "text": [
            "このリストはlist_3の中に存在しています\n"
          ]
        }
      ]
    },
    {
      "cell_type": "markdown",
      "source": [
        "### 2.2 「次のnum_2が3の倍数である時、さらにnum_2が400以上かどうかをif文を用いて調べ、400以上ならば『この数字は3の倍数で400よりも大きいです』、400以下ならば『この数字は3の倍数で400よりも小さいです』と表示してください。3の倍数でなかった時は、同様に400以上かどうかを調べ、400以上ならば『この数字は3の倍数ではなく400よりも大きいです』、400以下ならば『この数字は3の倍数ではなく400よりも小さいです』と表示してください。」"
      ],
      "metadata": {
        "id": "r5qLgV9Phhjf"
      }
    },
    {
      "cell_type": "markdown",
      "source": [
        "<details>\n",
        "<summary>\n",
        "この問題に関連する内容を復習するためのスライド\n",
        "</summary>\n",
        "\n",
        "構文の「if文」節\n",
        "</details>"
      ],
      "metadata": {
        "id": "UdjpbbsG_W-u"
      }
    },
    {
      "cell_type": "code",
      "source": [
        "# こちらのセルを実行してください。\n",
        "num_2 = 372\n",
        "\n",
        "if num_2 % 3 == 0:\n",
        "  if num_2 >= 400:\n",
        "    print('この数字は3の倍数で400よりも大きいです')\n",
        "  elif num_2 <= 400:\n",
        "    print('この数字は3の倍数で400よりも小さいです')\n",
        "else:\n",
        "  if num_2 >= 400:\n",
        "    print('この数字は3の倍数ではなく400よりも大きいです')\n",
        "  elif num_2 <= 400:\n",
        "    print('この数字は3の倍数ではなく400よりも小さいです')\n",
        "  \n"
      ],
      "metadata": {
        "id": "UQkUV5zLhiXf",
        "colab": {
          "base_uri": "https://localhost:8080/"
        },
        "outputId": "d89cfe71-ae5e-4700-8e8c-4a7d2e5397f5"
      },
      "execution_count": 33,
      "outputs": [
        {
          "output_type": "stream",
          "name": "stdout",
          "text": [
            "この数字は3の倍数で400よりも小さいです\n"
          ]
        }
      ]
    },
    {
      "cell_type": "markdown",
      "source": [
        "### 2.3 「for文を用いて、0から100までの数字を足し合わせた結果を変数に格納し、表示してください。」"
      ],
      "metadata": {
        "id": "YBXjB1Swhitz"
      }
    },
    {
      "cell_type": "markdown",
      "source": [
        "<details>\n",
        "<summary>\n",
        "この問題に関連する内容を復習するためのスライド\n",
        "</summary>\n",
        "\n",
        "構文の「for文」節\n",
        "</details>"
      ],
      "metadata": {
        "id": "GhsXuN7WAX8O"
      }
    },
    {
      "cell_type": "code",
      "source": [
        "total = 0\n",
        "for i in range(101):\n",
        "  total += i\n",
        "print(total)"
      ],
      "metadata": {
        "id": "av_yQ5txhjfT",
        "colab": {
          "base_uri": "https://localhost:8080/"
        },
        "outputId": "6423c9e5-3554-4f71-b9dd-b71af8b7ce6d"
      },
      "execution_count": 41,
      "outputs": [
        {
          "output_type": "stream",
          "name": "stdout",
          "text": [
            "5050\n"
          ]
        }
      ]
    },
    {
      "cell_type": "markdown",
      "source": [
        "### 2.4 「While文を用いて、計算結果が$10000$以上になるまで、$0 + 1 + \\cdots$と0から順番に数字を足してください。その後、最終的な計算結果と最後に足した数字を出力してください。」"
      ],
      "metadata": {
        "id": "mVZ3RZF0hnfm"
      }
    },
    {
      "cell_type": "markdown",
      "source": [
        "<details>\n",
        "<summary>\n",
        "この問題に関連する内容を復習するためのスライド\n",
        "</summary>\n",
        "\n",
        "構文の「while文」節\n",
        "</details>"
      ],
      "metadata": {
        "id": "p5KKHltWAfjm"
      }
    },
    {
      "cell_type": "code",
      "source": [
        "total = 0\n",
        "i = 0\n",
        "while total <= 10000:\n",
        "  total += i\n",
        "  i += 1\n",
        "  if total > 10000:\n",
        "    num = i\n",
        "\n",
        "print(f'最終的な計算結果{total}')\n",
        "print(f'最後に足した数字{num}')\n"
      ],
      "metadata": {
        "id": "kbxk2JV0hpKY",
        "colab": {
          "base_uri": "https://localhost:8080/"
        },
        "outputId": "74151098-799d-403f-b1af-c23f9a2d1933"
      },
      "execution_count": 66,
      "outputs": [
        {
          "output_type": "stream",
          "name": "stdout",
          "text": [
            "最終的な計算結果10011\n",
            "最後に足した数字142\n"
          ]
        }
      ]
    },
    {
      "cell_type": "markdown",
      "source": [
        "### 2.5 「次のセルでは、「定義していない変数名を使用している」ことによる例外が発生しています。その例外をキャッチし、「使用している変数名は定義されていません。」と表示するようにしてください。」"
      ],
      "metadata": {
        "id": "Ky3tGp1vbp27"
      }
    },
    {
      "cell_type": "markdown",
      "source": [
        "<details>\n",
        "<summary>\n",
        "この問題に関連する内容を復習するためのスライド\n",
        "</summary>\n",
        "\n",
        "構文の「例外処理」節\n",
        "</details>"
      ],
      "metadata": {
        "id": "vipLaDGSAhhN"
      }
    },
    {
      "cell_type": "code",
      "source": [
        "# こちらのセルを実行してください。\n",
        "try:\n",
        "  name = 'ポチ'\n",
        "  print(poti)\n",
        "except NameError:\n",
        "  print('使用している変数名は定義されていません。')"
      ],
      "metadata": {
        "id": "MlOGUQHoDjWZ",
        "colab": {
          "base_uri": "https://localhost:8080/"
        },
        "outputId": "6d0f7a13-f1fa-4be2-b036-c81880f28d8f"
      },
      "execution_count": 68,
      "outputs": [
        {
          "output_type": "stream",
          "name": "stdout",
          "text": [
            "使用している変数名は定義されていません。\n"
          ]
        }
      ]
    },
    {
      "cell_type": "markdown",
      "source": [
        "## 3. 関数・クラスについて学習します。　(5問)"
      ],
      "metadata": {
        "id": "CrSZoGS0apJ4"
      }
    },
    {
      "cell_type": "markdown",
      "source": [
        "### 3.1 「組み込み関数を用いて、次のlist_2を昇順にソートした結果を変数に代入して表示してください。」\n"
      ],
      "metadata": {
        "id": "ACbLEhQWNAau"
      }
    },
    {
      "cell_type": "markdown",
      "source": [
        "<details>\n",
        "<summary>\n",
        "この問題に関連する内容を復習するためのスライド\n",
        "</summary>\n",
        "\n",
        "関数・クラスの「組み込み関数」節\n",
        "</details>"
      ],
      "metadata": {
        "id": "oeSAbaEJAjkg"
      }
    },
    {
      "cell_type": "code",
      "source": [
        "# こちらのセルを実行してください。\n",
        "list_2 = [4, 8, 3.5, 1, 9, 2, 10.3]\n",
        "list_2.sort()\n",
        "print(list_2)"
      ],
      "metadata": {
        "id": "D8oHJcZkNSqF",
        "colab": {
          "base_uri": "https://localhost:8080/"
        },
        "outputId": "9515c947-7855-4546-897b-de3bb000cafb"
      },
      "execution_count": 71,
      "outputs": [
        {
          "output_type": "stream",
          "name": "stdout",
          "text": [
            "[1, 2, 3.5, 4, 8, 9, 10.3]\n"
          ]
        }
      ]
    },
    {
      "cell_type": "markdown",
      "source": [
        "### 3.2 「数値型のデータが格納されたリストを一つ引数に持ち、そのリストの要素の最大値を戻り値として返すような関数を定義してください。その後、定義した関数にlist_3を渡した戻り値を変数に代入し、表示してください。」\n"
      ],
      "metadata": {
        "id": "Fhb9gV0tNQTK"
      }
    },
    {
      "cell_type": "markdown",
      "source": [
        "<details>\n",
        "<summary>\n",
        "この問題に関連する内容を復習するためのスライド\n",
        "</summary>\n",
        "\n",
        "関数・クラスの「関数」節\n",
        "</details>"
      ],
      "metadata": {
        "id": "sj-tJ-7dA0lI"
      }
    },
    {
      "cell_type": "code",
      "source": [
        "# こちらのセルを実行してください。\n",
        "list_3 = [3, 5, 2, 8, 10, 9]\n",
        "\n",
        "def find_max(numbers):\n",
        "  return max(numbers)\n",
        "\n",
        "num = find_max(list_3)\n",
        "print(num)\n"
      ],
      "metadata": {
        "id": "zaMbaOdoPatY",
        "colab": {
          "base_uri": "https://localhost:8080/"
        },
        "outputId": "bbefb21a-7095-4764-803c-c5cbe4baeef6"
      },
      "execution_count": 79,
      "outputs": [
        {
          "output_type": "stream",
          "name": "stdout",
          "text": [
            "10\n"
          ]
        }
      ]
    },
    {
      "cell_type": "markdown",
      "source": [
        "### 3.3「name, speciesという2つの引数を持ち、それらをコンストラクタで同名のインスタンス変数として定義するようなクラスAnimalを定義してください。またAnimalクラスに、「こんにちは、私の名前は{self.name}です」と表示するようなgreetingという名前のメソッドを定義してください。」"
      ],
      "metadata": {
        "id": "A7ZalTb_MXRz"
      }
    },
    {
      "cell_type": "markdown",
      "source": [
        "<details>\n",
        "<summary>\n",
        "この問題に関連する内容を復習するためのスライド\n",
        "</summary>\n",
        "\n",
        "関数・クラスの「クラス」節\n",
        "</details>"
      ],
      "metadata": {
        "id": "EvWCl0NUA2Rg"
      }
    },
    {
      "cell_type": "code",
      "source": [
        "class Animal:\n",
        "  def __init__(self, name, species):\n",
        "    self.name = name\n",
        "    self.species = species\n",
        "\n",
        "  def greeting(self):\n",
        "    print(f'こんにちは、私の名前は{self.name}です')\n"
      ],
      "metadata": {
        "id": "IrIMvp2Haoak",
        "colab": {
          "base_uri": "https://localhost:8080/"
        },
        "outputId": "56faa9e2-bde3-41a6-cd94-6da959d648d2"
      },
      "execution_count": 4,
      "outputs": [
        {
          "output_type": "stream",
          "name": "stdout",
          "text": [
            "こんにちは、私の名前はココです\n"
          ]
        }
      ]
    },
    {
      "cell_type": "markdown",
      "source": [
        "### 3.4 「先ほどのAnimalクラスのnameを'ココ', speciesを'虎'としたインスタンスを生成してください。また、生成したインスタンスのspecies属性を表示して、先ほど定義したメソッドを使用してください。」"
      ],
      "metadata": {
        "id": "Y2SeDddcMZWD"
      }
    },
    {
      "cell_type": "markdown",
      "source": [
        "<details>\n",
        "<summary>\n",
        "この問題に関連する内容を復習するためのスライド\n",
        "</summary>\n",
        "\n",
        "関数・クラスの「クラス」節\n",
        "</details>"
      ],
      "metadata": {
        "id": "_tMrxEWzA6vp"
      }
    },
    {
      "cell_type": "code",
      "source": [
        "animal_1 = Animal('ココ', '虎')\n",
        "print(animal_1.species)"
      ],
      "metadata": {
        "id": "S2jvWOv8MfAp",
        "colab": {
          "base_uri": "https://localhost:8080/"
        },
        "outputId": "4e0c5217-5158-4a14-bcbd-d42367b7fdb7"
      },
      "execution_count": 7,
      "outputs": [
        {
          "output_type": "stream",
          "name": "stdout",
          "text": [
            "虎\n"
          ]
        }
      ]
    },
    {
      "cell_type": "markdown",
      "source": [
        "### 3.5 「先程のAnimalクラスを継承したDogクラスを定義してください。Dogクラスは、引数にnameとageを取り、同名のインスタンス変数として定義してください。また、species属性は'dog'です。さらに、greetingメソッドをオーバーライドし、さらに’年齢は{self.age}歳です’と表示するようなgreeting_plusメソッドを定義してください。」"
      ],
      "metadata": {
        "id": "-owIvsGxM58I"
      }
    },
    {
      "cell_type": "markdown",
      "source": [
        "<details>\n",
        "<summary>\n",
        "この問題に関連する内容を復習するためのスライド\n",
        "</summary>\n",
        "\n",
        "関数・クラスの「クラス継承」節\n",
        "</details>"
      ],
      "metadata": {
        "id": "jEf3LmHhA8uD"
      }
    },
    {
      "cell_type": "code",
      "source": [
        "class Dog(Animal):\n",
        "  def __init__(self, name, species, age):\n",
        "    super().__init__(name, species)\n",
        "    self.age = age\n",
        "\n",
        "  def greeting_plus(self):\n",
        "    super().greeting()\n",
        "    print(f'年齢は{self.age}歳です')\n"
      ],
      "metadata": {
        "id": "1zSFG8XNengY"
      },
      "execution_count": 20,
      "outputs": []
    },
    {
      "cell_type": "code",
      "source": [
        ""
      ],
      "metadata": {
        "id": "gYQE35ToM9No"
      },
      "execution_count": null,
      "outputs": []
    }
  ]
}