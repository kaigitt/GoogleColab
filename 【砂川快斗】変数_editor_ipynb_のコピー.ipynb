{
  "nbformat": 4,
  "nbformat_minor": 0,
  "metadata": {
    "colab": {
      "name": "【砂川快斗】変数_editor.ipynb のコピー",
      "provenance": [],
      "collapsed_sections": [],
      "include_colab_link": true
    },
    "kernelspec": {
      "name": "python3",
      "display_name": "Python 3"
    },
    "language_info": {
      "name": "python"
    }
  },
  "cells": [
    {
      "cell_type": "markdown",
      "metadata": {
        "id": "view-in-github",
        "colab_type": "text"
      },
      "source": [
        "<a href=\"https://colab.research.google.com/github/kaigitt/GoogleColab/blob/master/%E3%80%90%E7%A0%82%E5%B7%9D%E5%BF%AB%E6%96%97%E3%80%91%E5%A4%89%E6%95%B0_editor_ipynb_%E3%81%AE%E3%82%B3%E3%83%94%E3%83%BC.ipynb\" target=\"_parent\"><img src=\"https://colab.research.google.com/assets/colab-badge.svg\" alt=\"Open In Colab\"/></a>"
      ]
    },
    {
      "cell_type": "markdown",
      "metadata": {
        "id": "S_DoQU-fHO3H"
      },
      "source": [
        "# 変数 exercises\n",
        "\n",
        "\n",
        "1. 変数の四則演算について学習します。（3問）\n",
        "2. リストについて学習します。 (4問)\n",
        "3. 辞書について学習します。　(3問)\n",
        "4. タプル・セットについて学習します。　(4問)\n",
        "\n",
        "**解答は参考例なので、コードが完全一致している必要はありません。**"
      ]
    },
    {
      "cell_type": "markdown",
      "metadata": {
        "id": "wcFT_1J5QDzb"
      },
      "source": [
        "## 1. 変数の四則演算について学習します。　(3問)"
      ]
    },
    {
      "cell_type": "markdown",
      "metadata": {
        "id": "U6mUNOfiQkk6"
      },
      "source": [
        "### 1.1 「$14+28 - 5 \\times 2$の計算結果を変数に代入して、表示してください。」"
      ]
    },
    {
      "cell_type": "markdown",
      "source": [
        ""
      ],
      "metadata": {
        "id": "G2oNA_ZBdaX_"
      }
    },
    {
      "cell_type": "code",
      "source": [
        "num = 14+28 - 5*2\n",
        "print(num)"
      ],
      "metadata": {
        "id": "5NjLlFtndaBH",
        "outputId": "57387c35-cff3-4ba7-9337-df00bb51e0ed",
        "colab": {
          "base_uri": "https://localhost:8080/"
        }
      },
      "execution_count": null,
      "outputs": [
        {
          "output_type": "stream",
          "name": "stdout",
          "text": [
            "32\n"
          ]
        }
      ]
    },
    {
      "cell_type": "code",
      "source": [
        ""
      ],
      "metadata": {
        "id": "XiZn6lezEDxN"
      },
      "execution_count": null,
      "outputs": []
    },
    {
      "cell_type": "markdown",
      "metadata": {
        "id": "rJNEILhmRJlt"
      },
      "source": [
        "### 1.2 「$12$の$3$乗を$13$で割った結果の整数部分を変数に代入して、表示してください。」"
      ]
    },
    {
      "cell_type": "code",
      "source": [
        "num = 12**3 // 13\n",
        "print(num)"
      ],
      "metadata": {
        "id": "C4mR2jyDEEGg",
        "outputId": "ece12d7e-43bb-49c4-8999-cce560c5b88e",
        "colab": {
          "base_uri": "https://localhost:8080/"
        }
      },
      "execution_count": null,
      "outputs": [
        {
          "output_type": "stream",
          "name": "stdout",
          "text": [
            "132\n"
          ]
        }
      ]
    },
    {
      "cell_type": "markdown",
      "metadata": {
        "id": "MYPJiC49R2Ei"
      },
      "source": [
        "### 1.3 「$12 \\times 18 +138$を$7$で割った余りを変数に代入して、表示してください。」"
      ]
    },
    {
      "cell_type": "code",
      "source": [
        "num = (12*18 + 138) % 7\n",
        "print(num)"
      ],
      "metadata": {
        "id": "MiBEvTkVEEfx",
        "outputId": "87cb2ed5-28e8-40b9-d19b-e27d46d9768d",
        "colab": {
          "base_uri": "https://localhost:8080/"
        }
      },
      "execution_count": null,
      "outputs": [
        {
          "output_type": "stream",
          "name": "stdout",
          "text": [
            "4\n"
          ]
        }
      ]
    },
    {
      "cell_type": "markdown",
      "metadata": {
        "id": "IGA0sd68QOVe"
      },
      "source": [
        "##2. リストについて学習します。 (4問)\n"
      ]
    },
    {
      "cell_type": "markdown",
      "metadata": {
        "id": "GlDFeDPVdV_8"
      },
      "source": [
        "### 2.1 「list_1の中でインデックスが2の要素を変数に代入して、表示してください。」"
      ]
    },
    {
      "cell_type": "code",
      "metadata": {
        "id": "1tPMcvY6deF0",
        "outputId": "309a7b36-c0d6-460b-b423-2bea201324f1",
        "colab": {
          "base_uri": "https://localhost:8080/"
        }
      },
      "source": [
        "# こちらのセルを実行してください\n",
        "list_1 = [3.5, '次郎', 4, 'ネコ', 13, 0.3]\n",
        "word = list_1[2] \n",
        "print(word)"
      ],
      "execution_count": null,
      "outputs": [
        {
          "output_type": "stream",
          "name": "stdout",
          "text": [
            "4\n"
          ]
        }
      ]
    },
    {
      "cell_type": "markdown",
      "metadata": {
        "id": "koqdiZNQTRp8"
      },
      "source": [
        "### 2.2 「list_2の中でインデックスが1から3の要素をスライスして変数に代入し、表示してください。」"
      ]
    },
    {
      "cell_type": "code",
      "metadata": {
        "id": "QgYOrHbNQQIu",
        "outputId": "02bffffd-e2b0-4523-d484-f986d9e2b138",
        "colab": {
          "base_uri": "https://localhost:8080/"
        }
      },
      "source": [
        "# こちらのセルを実行してください\n",
        "list_2 = [3.5, '次郎', 4, 'ネコ', 13, 0.3]\n",
        "words = list_2[1:4]\n",
        "print(words)"
      ],
      "execution_count": null,
      "outputs": [
        {
          "output_type": "stream",
          "name": "stdout",
          "text": [
            "['次郎', 4, 'ネコ']\n"
          ]
        }
      ]
    },
    {
      "cell_type": "markdown",
      "metadata": {
        "id": "X29KsoyLd1Po"
      },
      "source": [
        "### 2.3 「list_3の要素の『次郎』を『太郎』に変更して、変更後のlist_3を表示してください。」"
      ]
    },
    {
      "cell_type": "code",
      "metadata": {
        "id": "_eGj0WOMeLQ5",
        "outputId": "95f69b1d-1baf-41db-dfdd-ef3d74ede157",
        "colab": {
          "base_uri": "https://localhost:8080/"
        }
      },
      "source": [
        "# こちらのセルを実行してください\n",
        "list_3 = [3.5, '次郎', 4, 'ネコ', 13, 0.3]\n",
        "list_3[1] = \"太郎\"\n",
        "print(list_3)"
      ],
      "execution_count": null,
      "outputs": [
        {
          "output_type": "stream",
          "name": "stdout",
          "text": [
            "[3.5, '太郎', 4, 'ネコ', 13, 0.3]\n"
          ]
        }
      ]
    },
    {
      "cell_type": "markdown",
      "metadata": {
        "id": "ocLGxzOTeiAR"
      },
      "source": [
        "### 2.4 「list_4から『次郎』と『ネコ』を削除して、その後降順にソートした後のlist_4を表示してください。」"
      ]
    },
    {
      "cell_type": "code",
      "metadata": {
        "id": "EAQyzSzfe5ts",
        "outputId": "e4bc5ef0-519c-4fdf-8f2d-1071a0cdde55",
        "colab": {
          "base_uri": "https://localhost:8080/"
        }
      },
      "source": [
        "# こちらのセルを実行してください\n",
        "list_4 = [3.5, '次郎', 4, 'ネコ', 13, 0.3]\n",
        "list_4.remove('次郎')\n",
        "list_4.remove(\"ネコ\")\n",
        "list_4.sort( reverse = True)\n",
        "print(list_4)\n"
      ],
      "execution_count": null,
      "outputs": [
        {
          "output_type": "stream",
          "name": "stdout",
          "text": [
            "[13, 4, 3.5, 0.3]\n"
          ]
        }
      ]
    },
    {
      "cell_type": "markdown",
      "metadata": {
        "id": "aziyHOQsQQqw"
      },
      "source": [
        "\n",
        "## 3. 辞書について学習します。　(3問)"
      ]
    },
    {
      "cell_type": "markdown",
      "metadata": {
        "id": "ujJSty-qQVxZ"
      },
      "source": [
        "### 3.1「『太郎』『次郎』という2つのキーに対して、整数型の『18』『16』がそれぞれバリューとなる辞書を、変数に代入して表示してください。」"
      ]
    },
    {
      "cell_type": "code",
      "source": [
        "dic = { '太郎': 18, '次郎': 16}\n",
        "print(dic)"
      ],
      "metadata": {
        "id": "0CovT4wiEFJG",
        "outputId": "1b3130fd-dfd0-4eb8-b5c8-1dc9bae84099",
        "colab": {
          "base_uri": "https://localhost:8080/"
        }
      },
      "execution_count": null,
      "outputs": [
        {
          "output_type": "stream",
          "name": "stdout",
          "text": [
            "{'太郎': 18, '次郎': 16}\n"
          ]
        }
      ]
    },
    {
      "cell_type": "markdown",
      "metadata": {
        "id": "zfB5gwm2giNg"
      },
      "source": [
        "### 3.2 「先ほどの辞書に、『三郎』というキーに対して整数型の『12』をバリューに持つ要素を追加して表示してください。」"
      ]
    },
    {
      "cell_type": "code",
      "metadata": {
        "id": "IQiqH9T2g6i7",
        "outputId": "7d5bee6b-a047-44ff-bc4f-8f9de803ff72",
        "colab": {
          "base_uri": "https://localhost:8080/"
        }
      },
      "source": [
        "# こちらのセルを実行してください\n",
        "answer_dict = {'太郎': 18, '次郎': 16}\n",
        "answer_dict['三郎'] = 12\n",
        "print(answer_dict)"
      ],
      "execution_count": null,
      "outputs": [
        {
          "output_type": "stream",
          "name": "stdout",
          "text": [
            "{'太郎': 18, '次郎': 16, '三郎': 12}\n"
          ]
        }
      ]
    },
    {
      "cell_type": "markdown",
      "metadata": {
        "id": "iNY_mVnvhHqY"
      },
      "source": [
        "### 3.3 「先ほどの辞書は、実は名前と年齢が対応していました。それでは、『次郎』の年齢を取り出して変数に代入して表示してください。」"
      ]
    },
    {
      "cell_type": "code",
      "metadata": {
        "id": "ydesnzyJhdTE",
        "outputId": "2366f946-1dda-4017-86c4-820ffc4744aa",
        "colab": {
          "base_uri": "https://localhost:8080/"
        }
      },
      "source": [
        "# こちらのセルを実行してください\n",
        "answer_dict = {'太郎': 18, '次郎': 16, '三郎': 12}\n",
        "age = answer_dict['次郎']\n",
        "print(age)"
      ],
      "execution_count": null,
      "outputs": [
        {
          "output_type": "stream",
          "name": "stdout",
          "text": [
            "16\n"
          ]
        }
      ]
    },
    {
      "cell_type": "markdown",
      "metadata": {
        "id": "8yNH601ylKgg"
      },
      "source": [
        "### 4. タプル・セットについて学習します。　(4問)"
      ]
    },
    {
      "cell_type": "markdown",
      "metadata": {
        "id": "8TGanMktlQBh"
      },
      "source": [
        "### 4.1 「tuple_1から、インデックスが3であるものを変数に代入して表示してください。」"
      ]
    },
    {
      "cell_type": "code",
      "metadata": {
        "id": "6VppM4FQlPRD",
        "outputId": "24882296-f262-4c22-8322-042e67f185ab",
        "colab": {
          "base_uri": "https://localhost:8080/"
        }
      },
      "source": [
        "# こちらのセルを実行してください。\n",
        "tuple_1 = (3, '次郎', 8, 0.3, 'イヌ')\n",
        "num = tuple_1[3]\n",
        "print(num)"
      ],
      "execution_count": null,
      "outputs": [
        {
          "output_type": "stream",
          "name": "stdout",
          "text": [
            "0.3\n"
          ]
        }
      ]
    },
    {
      "cell_type": "markdown",
      "metadata": {
        "id": "Qyj_uRxUlS99"
      },
      "source": [
        "### 4.2 「tuple_2の先頭からインデックスが3のものまでをスライスして、変数に代入して表示してください。」"
      ]
    },
    {
      "cell_type": "code",
      "metadata": {
        "id": "43XVn-eklUFs",
        "outputId": "0313424b-e2c2-4052-d659-3f9c45ef8674",
        "colab": {
          "base_uri": "https://localhost:8080/"
        }
      },
      "source": [
        "# こちらのセルを実行してください\n",
        "tuple_2 = (3, '次郎', 8, 0.3, 'イヌ')\n",
        "words = tuple_2[:4]\n",
        "print(words)"
      ],
      "execution_count": null,
      "outputs": [
        {
          "output_type": "stream",
          "name": "stdout",
          "text": [
            "(3, '次郎', 8, 0.3)\n"
          ]
        }
      ]
    },
    {
      "cell_type": "markdown",
      "metadata": {
        "id": "X13nt_K2lUfj"
      },
      "source": [
        "### 4.3 「tuple_3と同じ要素を持つセットを作成して、変数に代入して表示してください。」"
      ]
    },
    {
      "cell_type": "code",
      "metadata": {
        "id": "cYpHL7aym4He",
        "outputId": "22d2ad67-a862-40a7-d90a-558ba6bb3cf7",
        "colab": {
          "base_uri": "https://localhost:8080/"
        }
      },
      "source": [
        "# こちらのセルを実行してください\n",
        "tuple_3 = (3, '次郎', 8, 0.3, 'イヌ')\n",
        "words = set()\n",
        "words = tuple_3\n",
        "print(words)"
      ],
      "execution_count": null,
      "outputs": [
        {
          "output_type": "stream",
          "name": "stdout",
          "text": [
            "(3, '次郎', 8, 0.3, 'イヌ')\n"
          ]
        }
      ]
    }
  ]
}