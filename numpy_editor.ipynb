{
  "nbformat": 4,
  "nbformat_minor": 0,
  "metadata": {
    "colab": {
      "name": "numpy_editor.ipynb",
      "provenance": [],
      "collapsed_sections": [],
      "include_colab_link": true
    },
    "kernelspec": {
      "display_name": "Python 3 (ipykernel)",
      "language": "python",
      "name": "python3"
    },
    "language_info": {
      "codemirror_mode": {
        "name": "ipython",
        "version": 3
      },
      "file_extension": ".py",
      "mimetype": "text/x-python",
      "name": "python",
      "nbconvert_exporter": "python",
      "pygments_lexer": "ipython3",
      "version": "3.9.1"
    }
  },
  "cells": [
    {
      "cell_type": "markdown",
      "metadata": {
        "id": "view-in-github",
        "colab_type": "text"
      },
      "source": [
        "<a href=\"https://colab.research.google.com/github/kaigitt/GoogleColab/blob/master/numpy_editor.ipynb\" target=\"_parent\"><img src=\"https://colab.research.google.com/assets/colab-badge.svg\" alt=\"Open In Colab\"/></a>"
      ]
    },
    {
      "cell_type": "markdown",
      "metadata": {
        "id": "O_0Fnq6jdtbE"
      },
      "source": [
        "# numpy exercises\n",
        "\n",
        "\n",
        "1. ndarrayの作成方法について学習します。（4問）\n",
        "2. 配列の次元数について学習します。（4問）\n",
        "3. 配列の参照方法ついて学習します。（6問）\n",
        "4. 配列の演算方法について学習します。（2問）\n",
        "5. 配列の論理演算方法について学習します。（4問）\n",
        "6. 配列の結合・分割方法について学習します。（6問）\n",
        "7. 配列の統計量算出方法について学習します。 (4問)\n",
        "8. 日付について学習します。 (6問)\n",
        "9. その他よく使うメソッドについて学習します。 (5問)\n",
        "10. 補足問題です。 (11問）\n"
      ]
    },
    {
      "cell_type": "markdown",
      "metadata": {
        "id": "X4Yc9-bqe3_n"
      },
      "source": [
        "### 0. 事前準備"
      ]
    },
    {
      "cell_type": "code",
      "metadata": {
        "id": "_Fo8Zqnse6DK"
      },
      "source": [
        "# こちらのセルを実行してください。\n",
        "import numpy as np"
      ],
      "execution_count": 3,
      "outputs": []
    },
    {
      "cell_type": "markdown",
      "metadata": {
        "id": "uz-kbn-sHitv"
      },
      "source": [
        "### 1. ndarrayの作成方法について学習します。（4問）"
      ]
    },
    {
      "cell_type": "markdown",
      "metadata": {
        "id": "MaoZkBQpHitv"
      },
      "source": [
        "#### 1.1 「8つの「0」が入る配列を作成してください。」"
      ]
    },
    {
      "cell_type": "code",
      "metadata": {
        "scrolled": true,
        "id": "MQishV6ZHitv",
        "colab": {
          "base_uri": "https://localhost:8080/"
        },
        "outputId": "7b263603-c8ee-4efa-e507-dbd4cbee6537"
      },
      "source": [
        "print(np.zeros(8))"
      ],
      "execution_count": 18,
      "outputs": [
        {
          "output_type": "stream",
          "name": "stdout",
          "text": [
            "[0. 0. 0. 0. 0. 0. 0. 0.]\n"
          ]
        }
      ]
    },
    {
      "cell_type": "markdown",
      "metadata": {
        "id": "LFARc3jFHitw"
      },
      "source": [
        "#### 1.2 「8つの「0」が入る配列を作成し、5番目の値を「1」に変えてください。」"
      ]
    },
    {
      "cell_type": "code",
      "metadata": {
        "id": "dUoqkFV0Hitw",
        "colab": {
          "base_uri": "https://localhost:8080/"
        },
        "outputId": "c20110b5-327a-485c-f3c5-bbbe567aed0f"
      },
      "source": [
        "array_1 = np.zeros(8)\n",
        "array_1[4] = 1\n",
        "print(array_1)"
      ],
      "execution_count": 20,
      "outputs": [
        {
          "output_type": "stream",
          "name": "stdout",
          "text": [
            "[0. 0. 0. 0. 1. 0. 0. 0.]\n"
          ]
        }
      ]
    },
    {
      "cell_type": "markdown",
      "metadata": {
        "id": "0Yv8dkrFHitw"
      },
      "source": [
        "#### 1.3 「10～49までの数字が昇順で入った配列を作成してください。」"
      ]
    },
    {
      "cell_type": "code",
      "metadata": {
        "id": "UgrGUxATHitw",
        "colab": {
          "base_uri": "https://localhost:8080/"
        },
        "outputId": "8e607ce1-faa7-49c6-d7b1-12a3f7127c98"
      },
      "source": [
        "array_1 = np.arange(11, 50)\n",
        "print(array_1)"
      ],
      "execution_count": 23,
      "outputs": [
        {
          "output_type": "stream",
          "name": "stdout",
          "text": [
            "[11 12 13 14 15 16 17 18 19 20 21 22 23 24 25 26 27 28 29 30 31 32 33 34\n",
            " 35 36 37 38 39 40 41 42 43 44 45 46 47 48 49]\n"
          ]
        }
      ]
    },
    {
      "cell_type": "markdown",
      "metadata": {
        "id": "7o1zgcBLHitx"
      },
      "source": [
        "#### 1.4 「0～39までの数字が降順で入った配列を作成してください。」"
      ]
    },
    {
      "cell_type": "code",
      "metadata": {
        "id": "hy55HUBqHitx",
        "colab": {
          "base_uri": "https://localhost:8080/"
        },
        "outputId": "1f59dcbf-be06-498f-d99d-6049a7a87c7c"
      },
      "source": [
        "array_1 = np.arange(0, 40)\n",
        "print(array_1[::-1])"
      ],
      "execution_count": 32,
      "outputs": [
        {
          "output_type": "stream",
          "name": "stdout",
          "text": [
            "[39 38 37 36 35 34 33 32 31 30 29 28 27 26 25 24 23 22 21 20 19 18 17 16\n",
            " 15 14 13 12 11 10  9  8  7  6  5  4  3  2  1  0]\n"
          ]
        }
      ]
    },
    {
      "cell_type": "markdown",
      "metadata": {
        "id": "UqKhmWVcLUJs"
      },
      "source": [
        "### 2. 配列の次元数について学習します。 (4問)"
      ]
    },
    {
      "cell_type": "code",
      "metadata": {
        "id": "7vKc7GiCLV0S",
        "colab": {
          "base_uri": "https://localhost:8080/"
        },
        "outputId": "a6c33278-f300-4b0b-ee26-8909eda02d2f"
      },
      "source": [
        "# こちらのセルを実行してください。\n",
        "# このarrayを元に問題を解いていきます。\n",
        "array = np.arange(0, 25)\n",
        "array"
      ],
      "execution_count": 33,
      "outputs": [
        {
          "output_type": "execute_result",
          "data": {
            "text/plain": [
              "array([ 0,  1,  2,  3,  4,  5,  6,  7,  8,  9, 10, 11, 12, 13, 14, 15, 16,\n",
              "       17, 18, 19, 20, 21, 22, 23, 24])"
            ]
          },
          "metadata": {},
          "execution_count": 33
        }
      ]
    },
    {
      "cell_type": "markdown",
      "metadata": {
        "id": "9NSpvOFZLaAF"
      },
      "source": [
        "#### 2.1 「上記のarrayを5行5列の配列に整形して、変数に代入して表示してください。」"
      ]
    },
    {
      "cell_type": "code",
      "metadata": {
        "id": "RKRIZFYKLpnm",
        "colab": {
          "base_uri": "https://localhost:8080/"
        },
        "outputId": "8fb6c1f6-e485-44b0-b21a-87f33238df4e"
      },
      "source": [
        "array_1 = np.reshape(array, (5, 5))\n",
        "print(array_1)"
      ],
      "execution_count": 43,
      "outputs": [
        {
          "output_type": "stream",
          "name": "stdout",
          "text": [
            "[[ 0  1  2  3  4]\n",
            " [ 5  6  7  8  9]\n",
            " [10 11 12 13 14]\n",
            " [15 16 17 18 19]\n",
            " [20 21 22 23 24]]\n"
          ]
        }
      ]
    },
    {
      "cell_type": "markdown",
      "metadata": {
        "id": "1zRr5jdHL0h2"
      },
      "source": [
        "#### 2.2 「2.1で整形した配列の次元数を表示してください。」"
      ]
    },
    {
      "cell_type": "code",
      "metadata": {
        "id": "C195N_cWQC4B",
        "colab": {
          "base_uri": "https://localhost:8080/"
        },
        "outputId": "b82937f5-5c9d-4b60-94d6-881b318f7494"
      },
      "source": [
        "print(array_1.shape)"
      ],
      "execution_count": 38,
      "outputs": [
        {
          "output_type": "stream",
          "name": "stdout",
          "text": [
            "(5, 5)\n"
          ]
        }
      ]
    },
    {
      "cell_type": "markdown",
      "metadata": {
        "id": "QjUUI6YqQBie"
      },
      "source": [
        "#### 2.3 「2.1で整形した配列をもう一度一次元の配列に整形して表示してください。」"
      ]
    },
    {
      "cell_type": "code",
      "metadata": {
        "id": "C7Jmkv2zL9vd",
        "colab": {
          "base_uri": "https://localhost:8080/"
        },
        "outputId": "8e478bcc-970c-4586-94b6-83d7100f2721"
      },
      "source": [
        "print(array_1.flatten())"
      ],
      "execution_count": 40,
      "outputs": [
        {
          "output_type": "stream",
          "name": "stdout",
          "text": [
            "[ 0  1  2  3  4  5  6  7  8  9 10 11 12 13 14 15 16 17 18 19 20 21 22 23\n",
            " 24]\n"
          ]
        }
      ]
    },
    {
      "cell_type": "markdown",
      "metadata": {
        "id": "kdUYXLLEYtHd"
      },
      "source": [
        "#### 2.4 「上記のarrayを6行6列の配列にして表示してください。」"
      ]
    },
    {
      "cell_type": "code",
      "metadata": {
        "id": "w7G5xc0mYsY4",
        "colab": {
          "base_uri": "https://localhost:8080/"
        },
        "outputId": "232b647e-3205-4702-ba30-15dfb671163b"
      },
      "source": [
        "array_2 = np.resize(array, (6, 6))\n",
        "print(array_2)"
      ],
      "execution_count": 42,
      "outputs": [
        {
          "output_type": "stream",
          "name": "stdout",
          "text": [
            "[[ 0  1  2  3  4  5]\n",
            " [ 6  7  8  9 10 11]\n",
            " [12 13 14 15 16 17]\n",
            " [18 19 20 21 22 23]\n",
            " [24  0  1  2  3  4]\n",
            " [ 5  6  7  8  9 10]]\n"
          ]
        }
      ]
    },
    {
      "cell_type": "markdown",
      "metadata": {
        "id": "sDwBlUBaPh2R"
      },
      "source": [
        "### 3. 配列の参照について学習します。 (6問)"
      ]
    },
    {
      "cell_type": "code",
      "metadata": {
        "id": "kIuupJo4WuBx",
        "colab": {
          "base_uri": "https://localhost:8080/",
          "height": 104
        },
        "outputId": "3f549d7d-f342-4c16-8baf-68537fe829b3"
      },
      "source": [
        "# こちらのセルを実行してください。\n",
        "# このarray_1を元に問題を解いていきます。\n",
        "array_1 = np.arange(0, 25).reshape(5, 5)\n",
        "\n",
        "display(array_1)"
      ],
      "execution_count": 44,
      "outputs": [
        {
          "output_type": "display_data",
          "data": {
            "text/plain": [
              "array([[ 0,  1,  2,  3,  4],\n",
              "       [ 5,  6,  7,  8,  9],\n",
              "       [10, 11, 12, 13, 14],\n",
              "       [15, 16, 17, 18, 19],\n",
              "       [20, 21, 22, 23, 24]])"
            ]
          },
          "metadata": {}
        }
      ]
    },
    {
      "cell_type": "markdown",
      "metadata": {
        "id": "TfEWecj7uvyo"
      },
      "source": [
        "#### 3.1 「array_1の2行目のみを抽出してください。」"
      ]
    },
    {
      "cell_type": "code",
      "metadata": {
        "id": "vc04NOglu87r",
        "colab": {
          "base_uri": "https://localhost:8080/"
        },
        "outputId": "70f86d6c-b317-4532-bc42-6bc9009bed9c"
      },
      "source": [
        "print(array_1[1])"
      ],
      "execution_count": 66,
      "outputs": [
        {
          "output_type": "stream",
          "name": "stdout",
          "text": [
            "[5 6 7 8 9]\n"
          ]
        }
      ]
    },
    {
      "cell_type": "markdown",
      "metadata": {
        "id": "aR-EoFU4u9Fn"
      },
      "source": [
        "#### 3.2 「array_1の3行目の3列目のみを抽出してください。」"
      ]
    },
    {
      "cell_type": "code",
      "metadata": {
        "id": "d7seDfCowCaI",
        "colab": {
          "base_uri": "https://localhost:8080/"
        },
        "outputId": "965a7a03-41f8-4f77-ce08-42fe0b274ec6"
      },
      "source": [
        "print(array_1[2, 3])"
      ],
      "execution_count": 67,
      "outputs": [
        {
          "output_type": "stream",
          "name": "stdout",
          "text": [
            "13\n"
          ]
        }
      ]
    },
    {
      "cell_type": "markdown",
      "metadata": {
        "id": "qyY8czbCu9JF"
      },
      "source": [
        "#### 3.3 「array_1の2\\~4行目の2\\~3列目のみを抽出してください。」"
      ]
    },
    {
      "cell_type": "code",
      "metadata": {
        "id": "2XkiL8shwygw",
        "colab": {
          "base_uri": "https://localhost:8080/"
        },
        "outputId": "c0553e25-7220-4255-fdce-beca81c948f6"
      },
      "source": [
        "print(array_1[1:4, 1:3])"
      ],
      "execution_count": 68,
      "outputs": [
        {
          "output_type": "stream",
          "name": "stdout",
          "text": [
            "[[ 6  7]\n",
            " [11 12]\n",
            " [16 17]]\n"
          ]
        }
      ]
    },
    {
      "cell_type": "markdown",
      "metadata": {
        "id": "agXkCmWsxPEm"
      },
      "source": [
        "#### 3.4 「array_1の要素が奇数かどうかを比較し、結果をbool値で格納した配列を変数に代入して表示してください。」"
      ]
    },
    {
      "cell_type": "code",
      "metadata": {
        "id": "QqZRA2lExeZ8",
        "colab": {
          "base_uri": "https://localhost:8080/"
        },
        "outputId": "3a2d4783-2cdc-468e-9ae2-d2ebe8000224"
      },
      "source": [
        "array_2 = array_1 % 2 == 1\n",
        "print(array_2)"
      ],
      "execution_count": 71,
      "outputs": [
        {
          "output_type": "stream",
          "name": "stdout",
          "text": [
            "[[False  True False  True False]\n",
            " [ True False  True False  True]\n",
            " [False  True False  True False]\n",
            " [ True False  True False  True]\n",
            " [False  True False  True False]]\n"
          ]
        }
      ]
    },
    {
      "cell_type": "markdown",
      "metadata": {
        "id": "uuKW0ncRx3dZ"
      },
      "source": [
        "#### 3.5 「3.4の比較結果を用いて、array_1の要素のうち奇数のものを抽出して変数に代入して表示してください。」"
      ]
    },
    {
      "cell_type": "code",
      "metadata": {
        "id": "u9Bfbxdnx_f7",
        "colab": {
          "base_uri": "https://localhost:8080/"
        },
        "outputId": "9803d674-adc3-42ee-bbcd-a30ac4f07b9d"
      },
      "source": [
        "odd = (array_1[array_1 % 2 == 1])\n",
        "print(odd)"
      ],
      "execution_count": 74,
      "outputs": [
        {
          "output_type": "stream",
          "name": "stdout",
          "text": [
            "[ 1  3  5  7  9 11 13 15 17 19 21 23]\n"
          ]
        }
      ]
    },
    {
      "cell_type": "markdown",
      "metadata": {
        "id": "WvgjWUGXyhw1"
      },
      "source": [
        "#### 3.6 「3.5で抽出した配列を3行4列の配列に整形して表示してください。」"
      ]
    },
    {
      "cell_type": "code",
      "metadata": {
        "id": "9j6Tv669zIMV",
        "colab": {
          "base_uri": "https://localhost:8080/"
        },
        "outputId": "b3b5d619-a9d4-4031-ddf8-e2f34ed947c2"
      },
      "source": [
        "array_3 = np.resize(odd, (3, 4))\n",
        "print(array_3)"
      ],
      "execution_count": 78,
      "outputs": [
        {
          "output_type": "stream",
          "name": "stdout",
          "text": [
            "[[ 1  3  5  7]\n",
            " [ 9 11 13 15]\n",
            " [17 19 21 23]]\n"
          ]
        }
      ]
    },
    {
      "cell_type": "markdown",
      "metadata": {
        "id": "d9cdjnaZV7v8"
      },
      "source": [
        "### 4. 配列の演算について学習します。 (2問)\n",
        "\n",
        "\n"
      ]
    },
    {
      "cell_type": "code",
      "metadata": {
        "id": "YxJo5oiDbbrh",
        "colab": {
          "base_uri": "https://localhost:8080/",
          "height": 208
        },
        "outputId": "09ac89ee-06a3-499a-8b48-c90cb061af32"
      },
      "source": [
        "# こちらのセルを実行してください。\n",
        "# これらの配列を元に問題を解いていきます。\n",
        "array_1 = np.arange(0, 25).reshape(5, 5)\n",
        "array_2 = np.arange(25, 50).reshape(5, 5)\n",
        "\n",
        "display(array_1)\n",
        "print('')\n",
        "display(array_2)"
      ],
      "execution_count": 79,
      "outputs": [
        {
          "output_type": "display_data",
          "data": {
            "text/plain": [
              "array([[ 0,  1,  2,  3,  4],\n",
              "       [ 5,  6,  7,  8,  9],\n",
              "       [10, 11, 12, 13, 14],\n",
              "       [15, 16, 17, 18, 19],\n",
              "       [20, 21, 22, 23, 24]])"
            ]
          },
          "metadata": {}
        },
        {
          "output_type": "stream",
          "name": "stdout",
          "text": [
            "\n"
          ]
        },
        {
          "output_type": "display_data",
          "data": {
            "text/plain": [
              "array([[25, 26, 27, 28, 29],\n",
              "       [30, 31, 32, 33, 34],\n",
              "       [35, 36, 37, 38, 39],\n",
              "       [40, 41, 42, 43, 44],\n",
              "       [45, 46, 47, 48, 49]])"
            ]
          },
          "metadata": {}
        }
      ]
    },
    {
      "cell_type": "markdown",
      "metadata": {
        "id": "8iUIRwMiWBXO"
      },
      "source": [
        "#### 4.1 「array_1の各要素とarray_2の同じ位置にある各要素を足した結果を表示してください。」"
      ]
    },
    {
      "cell_type": "code",
      "metadata": {
        "id": "dDQY6v9HV-WM",
        "colab": {
          "base_uri": "https://localhost:8080/"
        },
        "outputId": "20446b01-b100-431a-9dec-d3493e2f8c5a"
      },
      "source": [
        "print(array_1 + array_2)"
      ],
      "execution_count": 80,
      "outputs": [
        {
          "output_type": "stream",
          "name": "stdout",
          "text": [
            "[[25 27 29 31 33]\n",
            " [35 37 39 41 43]\n",
            " [45 47 49 51 53]\n",
            " [55 57 59 61 63]\n",
            " [65 67 69 71 73]]\n"
          ]
        }
      ]
    },
    {
      "cell_type": "markdown",
      "metadata": {
        "id": "4WhSntXtUki6"
      },
      "source": [
        "#### 4.2 「array_2の各要素をarray_1の同じ位置にある各要素で引いた結果を表示してください。」"
      ]
    },
    {
      "cell_type": "code",
      "metadata": {
        "id": "NhTgRgE1UmdU",
        "colab": {
          "base_uri": "https://localhost:8080/"
        },
        "outputId": "25ecb82c-cdcb-42a4-b65c-34d0e1fcdd77"
      },
      "source": [
        "print(array_1 - array_2)"
      ],
      "execution_count": 81,
      "outputs": [
        {
          "output_type": "stream",
          "name": "stdout",
          "text": [
            "[[-25 -25 -25 -25 -25]\n",
            " [-25 -25 -25 -25 -25]\n",
            " [-25 -25 -25 -25 -25]\n",
            " [-25 -25 -25 -25 -25]\n",
            " [-25 -25 -25 -25 -25]]\n"
          ]
        }
      ]
    },
    {
      "cell_type": "markdown",
      "metadata": {
        "id": "xLdE7b-BPukA"
      },
      "source": [
        "### 5. 配列の論理演算について学習します。 (4問)"
      ]
    },
    {
      "cell_type": "code",
      "metadata": {
        "id": "V30WpYI7Wze5",
        "colab": {
          "base_uri": "https://localhost:8080/",
          "height": 104
        },
        "outputId": "2db4b86b-a086-4239-afce-ee8f48de4b6e"
      },
      "source": [
        "# こちらのセルを実行してください。\n",
        "# この配列を元に問題を解いていきます。\n",
        "array_1 = np.arange(0, 25).reshape(5, 5)\n",
        "\n",
        "display(array_1)"
      ],
      "execution_count": 82,
      "outputs": [
        {
          "output_type": "display_data",
          "data": {
            "text/plain": [
              "array([[ 0,  1,  2,  3,  4],\n",
              "       [ 5,  6,  7,  8,  9],\n",
              "       [10, 11, 12, 13, 14],\n",
              "       [15, 16, 17, 18, 19],\n",
              "       [20, 21, 22, 23, 24]])"
            ]
          },
          "metadata": {}
        }
      ]
    },
    {
      "cell_type": "markdown",
      "metadata": {
        "id": "_DVc_qGs0Uyc"
      },
      "source": [
        "#### 5.1 「array_1の要素が偶数かどうかを比較し、結果をbool値で格納した配列を変数に代入して表示してください。」"
      ]
    },
    {
      "cell_type": "code",
      "metadata": {
        "id": "i6dEa2GgZPUC",
        "colab": {
          "base_uri": "https://localhost:8080/"
        },
        "outputId": "a22989e2-7535-4f68-9b40-e33fae976f3a"
      },
      "source": [
        "even_or_odd = array_1 % 2 == 0\n",
        "print(even_or_odd)"
      ],
      "execution_count": 85,
      "outputs": [
        {
          "output_type": "stream",
          "name": "stdout",
          "text": [
            "[[ True False  True False  True]\n",
            " [False  True False  True False]\n",
            " [ True False  True False  True]\n",
            " [False  True False  True False]\n",
            " [ True False  True False  True]]\n"
          ]
        }
      ]
    },
    {
      "cell_type": "markdown",
      "metadata": {
        "id": "1vbOHZT9ZPen"
      },
      "source": [
        "#### 5.2 「array_1の要素が10より大きいかどうかを比較し、結果をbool値で格納した配列を変数に代入して表示してください。」"
      ]
    },
    {
      "cell_type": "code",
      "metadata": {
        "id": "kZNiJRJE1ME-",
        "colab": {
          "base_uri": "https://localhost:8080/"
        },
        "outputId": "2b8e0b2d-b2e3-40da-9067-41b6f38c75d0"
      },
      "source": [
        "over_10 = array_1 > 10\n",
        "print(over_10)"
      ],
      "execution_count": 86,
      "outputs": [
        {
          "output_type": "stream",
          "name": "stdout",
          "text": [
            "[[False False False False False]\n",
            " [False False False False False]\n",
            " [False  True  True  True  True]\n",
            " [ True  True  True  True  True]\n",
            " [ True  True  True  True  True]]\n"
          ]
        }
      ]
    },
    {
      "cell_type": "markdown",
      "metadata": {
        "id": "d_wxcki9ZPhp"
      },
      "source": [
        "#### 5.3 「5.1, 5.2の結果を用いて、そのどちらかの条件を満たす要素をarray_1から抽出して表示してください。」"
      ]
    },
    {
      "cell_type": "code",
      "metadata": {
        "id": "KhlfvCz62eUK",
        "colab": {
          "base_uri": "https://localhost:8080/"
        },
        "outputId": "d2237f9f-5951-49b0-d480-cff4eea120c5"
      },
      "source": [
        "print(array_1[(even_or_odd | over_10)])"
      ],
      "execution_count": 89,
      "outputs": [
        {
          "output_type": "stream",
          "name": "stdout",
          "text": [
            "[ 0  2  4  6  8 10 11 12 13 14 15 16 17 18 19 20 21 22 23 24]\n"
          ]
        }
      ]
    },
    {
      "cell_type": "markdown",
      "metadata": {
        "id": "yGHtwG5X2335"
      },
      "source": [
        "#### 5.4 「5.1, 5.2の結果を用いて、そのどちらの条件も満たす要素をarray_1から抽出して表示してください。」"
      ]
    },
    {
      "cell_type": "code",
      "metadata": {
        "id": "pIkGkLmY28eq",
        "colab": {
          "base_uri": "https://localhost:8080/"
        },
        "outputId": "3736584d-88b9-4290-9c2b-86e31ac3eae7"
      },
      "source": [
        "print(array_1[(even_or_odd & over_10)])"
      ],
      "execution_count": 90,
      "outputs": [
        {
          "output_type": "stream",
          "name": "stdout",
          "text": [
            "[12 14 16 18 20 22 24]\n"
          ]
        }
      ]
    },
    {
      "cell_type": "markdown",
      "metadata": {
        "id": "gKL5W_72P6vS"
      },
      "source": [
        "### 6. 配列の結合・分割方法について学習します。 (6問)"
      ]
    },
    {
      "cell_type": "code",
      "metadata": {
        "id": "s5v7cAstWz2c",
        "colab": {
          "base_uri": "https://localhost:8080/",
          "height": 208
        },
        "outputId": "716c89f6-6a17-400b-dda8-0f490ec8e0f9"
      },
      "source": [
        "# こちらのセルを実行してください。\n",
        "# この配列を元に問題を解いていきます。\n",
        "array_1 = np.arange(0, 25).reshape(5, 5)\n",
        "array_2 = np.arange(25, 50).reshape(5, 5)\n",
        "\n",
        "display(array_1)\n",
        "print('')\n",
        "display(array_2)"
      ],
      "execution_count": 91,
      "outputs": [
        {
          "output_type": "display_data",
          "data": {
            "text/plain": [
              "array([[ 0,  1,  2,  3,  4],\n",
              "       [ 5,  6,  7,  8,  9],\n",
              "       [10, 11, 12, 13, 14],\n",
              "       [15, 16, 17, 18, 19],\n",
              "       [20, 21, 22, 23, 24]])"
            ]
          },
          "metadata": {}
        },
        {
          "output_type": "stream",
          "name": "stdout",
          "text": [
            "\n"
          ]
        },
        {
          "output_type": "display_data",
          "data": {
            "text/plain": [
              "array([[25, 26, 27, 28, 29],\n",
              "       [30, 31, 32, 33, 34],\n",
              "       [35, 36, 37, 38, 39],\n",
              "       [40, 41, 42, 43, 44],\n",
              "       [45, 46, 47, 48, 49]])"
            ]
          },
          "metadata": {}
        }
      ]
    },
    {
      "cell_type": "markdown",
      "metadata": {
        "id": "UsCEB7q4XVl1"
      },
      "source": [
        "#### 6.1 「concatenate関数を用いて、上のarray_1とarray_2を行方向に結合してください。」"
      ]
    },
    {
      "cell_type": "code",
      "metadata": {
        "id": "AgsYwSV4XhHg",
        "colab": {
          "base_uri": "https://localhost:8080/"
        },
        "outputId": "54f1d363-4d03-48ad-9f3c-26c680b2238c"
      },
      "source": [
        "np.concatenate([array_1, array_2], axis=0)\n"
      ],
      "execution_count": 94,
      "outputs": [
        {
          "output_type": "execute_result",
          "data": {
            "text/plain": [
              "array([[ 0,  1,  2,  3,  4],\n",
              "       [ 5,  6,  7,  8,  9],\n",
              "       [10, 11, 12, 13, 14],\n",
              "       [15, 16, 17, 18, 19],\n",
              "       [20, 21, 22, 23, 24],\n",
              "       [25, 26, 27, 28, 29],\n",
              "       [30, 31, 32, 33, 34],\n",
              "       [35, 36, 37, 38, 39],\n",
              "       [40, 41, 42, 43, 44],\n",
              "       [45, 46, 47, 48, 49]])"
            ]
          },
          "metadata": {},
          "execution_count": 94
        }
      ]
    },
    {
      "cell_type": "markdown",
      "metadata": {
        "id": "iEKvebKsXkaa"
      },
      "source": [
        "#### 6.2 「concatenate関数を用いて、上のarray_1とarray_2を列方向に結合してください。」"
      ]
    },
    {
      "cell_type": "code",
      "metadata": {
        "id": "jA32abjDXnSN",
        "colab": {
          "base_uri": "https://localhost:8080/"
        },
        "outputId": "82cd7a3e-7755-4796-9fe1-fb2ca51eb3c3"
      },
      "source": [
        "np.concatenate([array_1, array_2], axis=1)"
      ],
      "execution_count": 95,
      "outputs": [
        {
          "output_type": "execute_result",
          "data": {
            "text/plain": [
              "array([[ 0,  1,  2,  3,  4, 25, 26, 27, 28, 29],\n",
              "       [ 5,  6,  7,  8,  9, 30, 31, 32, 33, 34],\n",
              "       [10, 11, 12, 13, 14, 35, 36, 37, 38, 39],\n",
              "       [15, 16, 17, 18, 19, 40, 41, 42, 43, 44],\n",
              "       [20, 21, 22, 23, 24, 45, 46, 47, 48, 49]])"
            ]
          },
          "metadata": {},
          "execution_count": 95
        }
      ]
    },
    {
      "cell_type": "markdown",
      "metadata": {
        "id": "n_z7D2x5Xnbt"
      },
      "source": [
        "#### 6.3 「concatenate関数を用いずに、上のarray_1とarray_2を行方向に結合してください。」"
      ]
    },
    {
      "cell_type": "code",
      "metadata": {
        "id": "z1i-IGp6Xoj0",
        "colab": {
          "base_uri": "https://localhost:8080/"
        },
        "outputId": "61d141a9-1eef-42f4-aeec-7e7dd5213434"
      },
      "source": [
        "np.vstack([array_1, array_2])"
      ],
      "execution_count": 96,
      "outputs": [
        {
          "output_type": "execute_result",
          "data": {
            "text/plain": [
              "array([[ 0,  1,  2,  3,  4],\n",
              "       [ 5,  6,  7,  8,  9],\n",
              "       [10, 11, 12, 13, 14],\n",
              "       [15, 16, 17, 18, 19],\n",
              "       [20, 21, 22, 23, 24],\n",
              "       [25, 26, 27, 28, 29],\n",
              "       [30, 31, 32, 33, 34],\n",
              "       [35, 36, 37, 38, 39],\n",
              "       [40, 41, 42, 43, 44],\n",
              "       [45, 46, 47, 48, 49]])"
            ]
          },
          "metadata": {},
          "execution_count": 96
        }
      ]
    },
    {
      "cell_type": "markdown",
      "metadata": {
        "id": "ZVi2UjM8Xozn"
      },
      "source": [
        "#### 6.4 「concatenate関数を用いずに、上のarray_1とarray_2を列方向に結合してください。」"
      ]
    },
    {
      "cell_type": "code",
      "metadata": {
        "id": "GeIlHCVVY_lx",
        "colab": {
          "base_uri": "https://localhost:8080/"
        },
        "outputId": "3c1e5bd5-81b8-4048-f9cb-9ac54cba7cb7"
      },
      "source": [
        "np.hstack([array_1, array_2])"
      ],
      "execution_count": 97,
      "outputs": [
        {
          "output_type": "execute_result",
          "data": {
            "text/plain": [
              "array([[ 0,  1,  2,  3,  4, 25, 26, 27, 28, 29],\n",
              "       [ 5,  6,  7,  8,  9, 30, 31, 32, 33, 34],\n",
              "       [10, 11, 12, 13, 14, 35, 36, 37, 38, 39],\n",
              "       [15, 16, 17, 18, 19, 40, 41, 42, 43, 44],\n",
              "       [20, 21, 22, 23, 24, 45, 46, 47, 48, 49]])"
            ]
          },
          "metadata": {},
          "execution_count": 97
        }
      ]
    },
    {
      "cell_type": "markdown",
      "metadata": {
        "id": "LW4wblGXDs5L"
      },
      "source": [
        "#### 6.5 「次のarray_concatenatedを縦に3つに分割してください。」"
      ]
    },
    {
      "cell_type": "code",
      "metadata": {
        "id": "abtEvA_bD1GU",
        "colab": {
          "base_uri": "https://localhost:8080/"
        },
        "outputId": "555d5546-c860-4cde-8dfb-a0cfe1a99fe2"
      },
      "source": [
        "# こちらのコードを実行してください。\n",
        "# この配列を元に問題を解いていきます。\n",
        "array_concatenated = np.arange(48).reshape(6, -1)\n",
        "array_concatenated"
      ],
      "execution_count": 98,
      "outputs": [
        {
          "output_type": "execute_result",
          "data": {
            "text/plain": [
              "array([[ 0,  1,  2,  3,  4,  5,  6,  7],\n",
              "       [ 8,  9, 10, 11, 12, 13, 14, 15],\n",
              "       [16, 17, 18, 19, 20, 21, 22, 23],\n",
              "       [24, 25, 26, 27, 28, 29, 30, 31],\n",
              "       [32, 33, 34, 35, 36, 37, 38, 39],\n",
              "       [40, 41, 42, 43, 44, 45, 46, 47]])"
            ]
          },
          "metadata": {},
          "execution_count": 98
        }
      ]
    },
    {
      "cell_type": "code",
      "metadata": {
        "id": "VtD-UWiHEMJ8",
        "colab": {
          "base_uri": "https://localhost:8080/"
        },
        "outputId": "6c01ea20-ab74-4539-873b-932c3fb61ee8"
      },
      "source": [
        "np.vsplit(array_concatenated, 3)"
      ],
      "execution_count": 99,
      "outputs": [
        {
          "output_type": "execute_result",
          "data": {
            "text/plain": [
              "[array([[ 0,  1,  2,  3,  4,  5,  6,  7],\n",
              "        [ 8,  9, 10, 11, 12, 13, 14, 15]]),\n",
              " array([[16, 17, 18, 19, 20, 21, 22, 23],\n",
              "        [24, 25, 26, 27, 28, 29, 30, 31]]),\n",
              " array([[32, 33, 34, 35, 36, 37, 38, 39],\n",
              "        [40, 41, 42, 43, 44, 45, 46, 47]])]"
            ]
          },
          "metadata": {},
          "execution_count": 99
        }
      ]
    },
    {
      "cell_type": "markdown",
      "metadata": {
        "id": "7fEZWq5kFFQ-"
      },
      "source": [
        "#### 6.6 「次のarray_concatenatedを横に4つに分割してください」"
      ]
    },
    {
      "cell_type": "code",
      "metadata": {
        "id": "QHu11GTwFA5D",
        "colab": {
          "base_uri": "https://localhost:8080/"
        },
        "outputId": "b2d7f68b-70fa-4d3e-a23c-00d6fd91813d"
      },
      "source": [
        "# こちらのセルを実行してください。\n",
        "# この配列を元に問題を解いていきます。\n",
        "array_concatenated = np.arange(48).reshape(6, -1)\n",
        "array_concatenated"
      ],
      "execution_count": 100,
      "outputs": [
        {
          "output_type": "execute_result",
          "data": {
            "text/plain": [
              "array([[ 0,  1,  2,  3,  4,  5,  6,  7],\n",
              "       [ 8,  9, 10, 11, 12, 13, 14, 15],\n",
              "       [16, 17, 18, 19, 20, 21, 22, 23],\n",
              "       [24, 25, 26, 27, 28, 29, 30, 31],\n",
              "       [32, 33, 34, 35, 36, 37, 38, 39],\n",
              "       [40, 41, 42, 43, 44, 45, 46, 47]])"
            ]
          },
          "metadata": {},
          "execution_count": 100
        }
      ]
    },
    {
      "cell_type": "code",
      "metadata": {
        "id": "U8yErA0bFKTZ",
        "colab": {
          "base_uri": "https://localhost:8080/"
        },
        "outputId": "afe6ff4a-d53a-4ec7-e09f-b4b753fd5f39"
      },
      "source": [
        "np.hsplit(array_concatenated, 4)"
      ],
      "execution_count": 101,
      "outputs": [
        {
          "output_type": "execute_result",
          "data": {
            "text/plain": [
              "[array([[ 0,  1],\n",
              "        [ 8,  9],\n",
              "        [16, 17],\n",
              "        [24, 25],\n",
              "        [32, 33],\n",
              "        [40, 41]]), array([[ 2,  3],\n",
              "        [10, 11],\n",
              "        [18, 19],\n",
              "        [26, 27],\n",
              "        [34, 35],\n",
              "        [42, 43]]), array([[ 4,  5],\n",
              "        [12, 13],\n",
              "        [20, 21],\n",
              "        [28, 29],\n",
              "        [36, 37],\n",
              "        [44, 45]]), array([[ 6,  7],\n",
              "        [14, 15],\n",
              "        [22, 23],\n",
              "        [30, 31],\n",
              "        [38, 39],\n",
              "        [46, 47]])]"
            ]
          },
          "metadata": {},
          "execution_count": 101
        }
      ]
    },
    {
      "cell_type": "markdown",
      "metadata": {
        "id": "x_eovOPFKd5f"
      },
      "source": [
        "### 7. 配列の統計量計算方法について学習します。 (4問)"
      ]
    },
    {
      "cell_type": "code",
      "metadata": {
        "id": "VKitDnd4Kj0q",
        "colab": {
          "base_uri": "https://localhost:8080/",
          "height": 208
        },
        "outputId": "ed4c0062-5768-44c0-bcb7-566f085261f6"
      },
      "source": [
        "# こちらのセルを実行してください。\n",
        "# この配列を元に問題を解いていきます。\n",
        "array_1 = np.arange(0, 25).reshape(5, 5)\n",
        "array_2 = np.arange(25, 50).reshape(5, 5)\n",
        "\n",
        "display(array_1)\n",
        "print('')\n",
        "display(array_2)"
      ],
      "execution_count": 103,
      "outputs": [
        {
          "output_type": "display_data",
          "data": {
            "text/plain": [
              "array([[ 0,  1,  2,  3,  4],\n",
              "       [ 5,  6,  7,  8,  9],\n",
              "       [10, 11, 12, 13, 14],\n",
              "       [15, 16, 17, 18, 19],\n",
              "       [20, 21, 22, 23, 24]])"
            ]
          },
          "metadata": {}
        },
        {
          "output_type": "stream",
          "name": "stdout",
          "text": [
            "\n"
          ]
        },
        {
          "output_type": "display_data",
          "data": {
            "text/plain": [
              "array([[25, 26, 27, 28, 29],\n",
              "       [30, 31, 32, 33, 34],\n",
              "       [35, 36, 37, 38, 39],\n",
              "       [40, 41, 42, 43, 44],\n",
              "       [45, 46, 47, 48, 49]])"
            ]
          },
          "metadata": {}
        }
      ]
    },
    {
      "cell_type": "markdown",
      "metadata": {
        "id": "FWwHg8a_bg48"
      },
      "source": [
        "#### 7.1 「array_1の行ごとの平均を計算し、その結果を表示してください。」"
      ]
    },
    {
      "cell_type": "code",
      "metadata": {
        "id": "kgZ8Is8pbm-m",
        "colab": {
          "base_uri": "https://localhost:8080/"
        },
        "outputId": "7b5e321c-2ed9-4316-c4f0-781b91ff9dbb"
      },
      "source": [
        "print(array_1.mean(axis=1))"
      ],
      "execution_count": 105,
      "outputs": [
        {
          "output_type": "stream",
          "name": "stdout",
          "text": [
            "[ 2.  7. 12. 17. 22.]\n"
          ]
        }
      ]
    },
    {
      "cell_type": "markdown",
      "metadata": {
        "id": "98XuR5xHb2lD"
      },
      "source": [
        "#### 7.2 「array_2の各要素を列に対して合計した結果を表示してください。」"
      ]
    },
    {
      "cell_type": "code",
      "metadata": {
        "id": "O__LPr_gbger",
        "colab": {
          "base_uri": "https://localhost:8080/"
        },
        "outputId": "6fc5ee2e-b735-4d6e-9064-ccc8b9bad22d"
      },
      "source": [
        "print(array_2.sum(axis=0))"
      ],
      "execution_count": 106,
      "outputs": [
        {
          "output_type": "stream",
          "name": "stdout",
          "text": [
            "[175 180 185 190 195]\n"
          ]
        }
      ]
    },
    {
      "cell_type": "markdown",
      "metadata": {
        "id": "1QLtIe9AcDYU"
      },
      "source": [
        "#### 7.3 「array_1の最大値を表示してください。」"
      ]
    },
    {
      "cell_type": "code",
      "metadata": {
        "id": "n1-zNN7lcME9",
        "colab": {
          "base_uri": "https://localhost:8080/"
        },
        "outputId": "29f26361-2a54-4e7f-907f-5c368fd1b74c"
      },
      "source": [
        "print(array_1.max())"
      ],
      "execution_count": 108,
      "outputs": [
        {
          "output_type": "stream",
          "name": "stdout",
          "text": [
            "24\n"
          ]
        }
      ]
    },
    {
      "cell_type": "markdown",
      "metadata": {
        "id": "aQLQE7xdcPn8"
      },
      "source": [
        "#### 7.4 「array_1とarray_2を結合し、全体の平均を表示してください。」"
      ]
    },
    {
      "cell_type": "code",
      "metadata": {
        "id": "l2HlKmgmcW5z",
        "colab": {
          "base_uri": "https://localhost:8080/"
        },
        "outputId": "c76f27bd-a4fc-45f3-fe2a-78316b4911c7"
      },
      "source": [
        "array_3 = np.concatenate([array_1, array_2])\n",
        "print(array_3.mean())"
      ],
      "execution_count": 112,
      "outputs": [
        {
          "output_type": "stream",
          "name": "stdout",
          "text": [
            "24.5\n"
          ]
        }
      ]
    },
    {
      "cell_type": "markdown",
      "metadata": {
        "id": "mExcY5xSMgFy"
      },
      "source": [
        "### 8. 日付について学習します。 (6問)"
      ]
    },
    {
      "cell_type": "markdown",
      "metadata": {
        "id": "Di7DKQLmP45C"
      },
      "source": [
        "#### 8.1 「今日の日付を表示してください。」"
      ]
    },
    {
      "cell_type": "code",
      "metadata": {
        "id": "Ii3URKWaMiTQ",
        "colab": {
          "base_uri": "https://localhost:8080/"
        },
        "outputId": "63ae6a17-16ea-4267-d7c6-acfe6f39c9a1"
      },
      "source": [
        "today = np.datetime64('today', 'D')\n",
        "today"
      ],
      "execution_count": 116,
      "outputs": [
        {
          "output_type": "execute_result",
          "data": {
            "text/plain": [
              "numpy.datetime64('2022-02-28')"
            ]
          },
          "metadata": {},
          "execution_count": 116
        }
      ]
    },
    {
      "cell_type": "markdown",
      "metadata": {
        "id": "W84uIxlAQBm_"
      },
      "source": [
        "#### 8.2 「明日の日付を表示してください。」"
      ]
    },
    {
      "cell_type": "code",
      "metadata": {
        "id": "BwTCH2vOQVNp"
      },
      "source": [
        "tommorow = today + np.timedelta64(1, \"D\")"
      ],
      "execution_count": 123,
      "outputs": []
    },
    {
      "cell_type": "markdown",
      "metadata": {
        "id": "GQivjIu9RnU0"
      },
      "source": [
        "#### 8.3 「昨日の日付を表示してください。」"
      ]
    },
    {
      "cell_type": "code",
      "metadata": {
        "id": "NhDWBWZoRr-d",
        "colab": {
          "base_uri": "https://localhost:8080/"
        },
        "outputId": "869e9efc-76c5-4c1a-b3f4-10b84bbf254f"
      },
      "source": [
        "yesterday = today - np.timedelta64(1, \"D\")"
      ],
      "execution_count": 125,
      "outputs": [
        {
          "output_type": "execute_result",
          "data": {
            "text/plain": [
              "numpy.datetime64('2022-02-27')"
            ]
          },
          "metadata": {},
          "execution_count": 125
        }
      ]
    },
    {
      "cell_type": "markdown",
      "metadata": {
        "id": "O5FmQUF5SSt1"
      },
      "source": [
        "#### 8.4 「2021年4月の日付を全て配列に格納してください」"
      ]
    },
    {
      "cell_type": "code",
      "metadata": {
        "id": "0xiu_0xBVHdk",
        "colab": {
          "base_uri": "https://localhost:8080/"
        },
        "outputId": "d0a12ba3-19e0-4655-af07-5dc942271f15"
      },
      "source": [
        "april = np.arange('2021-04', '2021-05', dtype='datetime64[D]')\n",
        "april"
      ],
      "execution_count": 134,
      "outputs": [
        {
          "output_type": "execute_result",
          "data": {
            "text/plain": [
              "array(['2021-04-01', '2021-04-02', '2021-04-03', '2021-04-04',\n",
              "       '2021-04-05', '2021-04-06', '2021-04-07', '2021-04-08',\n",
              "       '2021-04-09', '2021-04-10', '2021-04-11', '2021-04-12',\n",
              "       '2021-04-13', '2021-04-14', '2021-04-15', '2021-04-16',\n",
              "       '2021-04-17', '2021-04-18', '2021-04-19', '2021-04-20',\n",
              "       '2021-04-21', '2021-04-22', '2021-04-23', '2021-04-24',\n",
              "       '2021-04-25', '2021-04-26', '2021-04-27', '2021-04-28',\n",
              "       '2021-04-29', '2021-04-30'], dtype='datetime64[D]')"
            ]
          },
          "metadata": {},
          "execution_count": 134
        }
      ]
    },
    {
      "cell_type": "markdown",
      "metadata": {
        "id": "w2UWBU23BavN"
      },
      "source": [
        "#### 8.5 「2021年の4月の営業日を全て配列に格納してください。」"
      ]
    },
    {
      "cell_type": "code",
      "metadata": {
        "id": "zhGWbvNZCg0Q",
        "colab": {
          "base_uri": "https://localhost:8080/"
        },
        "outputId": "f5f92865-c843-4358-9fdc-251e9c242fe9"
      },
      "source": [
        "print(april[np.is_busday(april)])"
      ],
      "execution_count": 137,
      "outputs": [
        {
          "output_type": "stream",
          "name": "stdout",
          "text": [
            "['2021-04-01' '2021-04-02' '2021-04-05' '2021-04-06' '2021-04-07'\n",
            " '2021-04-08' '2021-04-09' '2021-04-12' '2021-04-13' '2021-04-14'\n",
            " '2021-04-15' '2021-04-16' '2021-04-19' '2021-04-20' '2021-04-21'\n",
            " '2021-04-22' '2021-04-23' '2021-04-26' '2021-04-27' '2021-04-28'\n",
            " '2021-04-29' '2021-04-30']\n"
          ]
        }
      ]
    },
    {
      "cell_type": "markdown",
      "metadata": {
        "id": "O9OVQZ9AC4IO"
      },
      "source": [
        "#### 8.6 「2021年4月の週の初めの日を全て配列に格納してください。」"
      ]
    },
    {
      "cell_type": "code",
      "metadata": {
        "id": "5lC7vK6qDGRU"
      },
      "source": [
        "april = np.arange('2021-04', '2021-05', dtype='datetime64[W]')"
      ],
      "execution_count": 138,
      "outputs": []
    },
    {
      "cell_type": "markdown",
      "metadata": {
        "id": "WJ6WZb3sLtGA"
      },
      "source": [
        "### 9. よく使うメソッドについて学習します。 (5問)"
      ]
    },
    {
      "cell_type": "markdown",
      "metadata": {
        "id": "HLr-vDMCMWGA"
      },
      "source": [
        "#### 9.1 「次のarray_3の最大値のインデックスを取得してください、」"
      ]
    },
    {
      "cell_type": "code",
      "metadata": {
        "id": "g8T98CQOaStV",
        "colab": {
          "base_uri": "https://localhost:8080/"
        },
        "outputId": "212807cd-ba60-474f-ad74-ac2250851259"
      },
      "source": [
        "# こちらのセルを実行してください。\n",
        "# この配列を元に問題を解いていきます。\n",
        "np.random.seed(0)\n",
        "\n",
        "array_3 = np.random.randint(0, 100, (5, 6))\n",
        "array_3"
      ],
      "execution_count": 10,
      "outputs": [
        {
          "output_type": "execute_result",
          "data": {
            "text/plain": [
              "array([[44, 47, 64, 67, 67,  9],\n",
              "       [83, 21, 36, 87, 70, 88],\n",
              "       [88, 12, 58, 65, 39, 87],\n",
              "       [46, 88, 81, 37, 25, 77],\n",
              "       [72,  9, 20, 80, 69, 79]])"
            ]
          },
          "metadata": {},
          "execution_count": 10
        }
      ]
    },
    {
      "cell_type": "code",
      "metadata": {
        "id": "BRwssjkfa-eq",
        "colab": {
          "base_uri": "https://localhost:8080/"
        },
        "outputId": "9fa1e17a-bcb8-49ba-c018-e5d76478b949"
      },
      "source": [
        "array_3.argmax()"
      ],
      "execution_count": 11,
      "outputs": [
        {
          "output_type": "execute_result",
          "data": {
            "text/plain": [
              "11"
            ]
          },
          "metadata": {},
          "execution_count": 11
        }
      ]
    },
    {
      "cell_type": "markdown",
      "metadata": {
        "id": "_w12GHIQaVdH"
      },
      "source": [
        "#### 9.2 「9.1のarray_3を各列に対して昇順にソートしてください。」"
      ]
    },
    {
      "cell_type": "code",
      "metadata": {
        "id": "JXjw9XKsbaUL",
        "colab": {
          "base_uri": "https://localhost:8080/"
        },
        "outputId": "f6953773-ec7e-40d7-ce72-3caa6baf9ae4"
      },
      "source": [
        "np.sort(array_3, axis=1)"
      ],
      "execution_count": 141,
      "outputs": [
        {
          "output_type": "execute_result",
          "data": {
            "text/plain": [
              "array([[ 9, 44, 47, 64, 67, 67],\n",
              "       [21, 36, 70, 83, 87, 88],\n",
              "       [12, 39, 58, 65, 87, 88],\n",
              "       [25, 37, 46, 77, 81, 88],\n",
              "       [ 9, 20, 69, 72, 79, 80]])"
            ]
          },
          "metadata": {},
          "execution_count": 141
        }
      ]
    },
    {
      "cell_type": "markdown",
      "metadata": {
        "id": "ZGI9jvC_bocA"
      },
      "source": [
        "#### 9.3 「9.1のarray_3を2列目を基準に昇順にソートしてください。」"
      ]
    },
    {
      "cell_type": "code",
      "metadata": {
        "id": "7ONmqN5vbtnD",
        "colab": {
          "base_uri": "https://localhost:8080/"
        },
        "outputId": "ef4992c7-2220-487d-b728-c01cdbaa9144"
      },
      "source": [
        "array_3[:, 1]"
      ],
      "execution_count": 12,
      "outputs": [
        {
          "output_type": "execute_result",
          "data": {
            "text/plain": [
              "array([47, 21, 12, 88,  9])"
            ]
          },
          "metadata": {},
          "execution_count": 12
        }
      ]
    },
    {
      "cell_type": "markdown",
      "metadata": {
        "id": "ZFlbj-eIb9U8"
      },
      "source": [
        "#### 9.4 「5行5列の単位行列を作成してください。」"
      ]
    },
    {
      "cell_type": "code",
      "metadata": {
        "id": "7Pk7wJ2lcAnr",
        "colab": {
          "base_uri": "https://localhost:8080/"
        },
        "outputId": "6b9a7996-5658-421f-c149-cb99ed3c0156"
      },
      "source": [
        "np.identity(5)"
      ],
      "execution_count": 7,
      "outputs": [
        {
          "output_type": "execute_result",
          "data": {
            "text/plain": [
              "array([[1., 0., 0., 0., 0.],\n",
              "       [0., 1., 0., 0., 0.],\n",
              "       [0., 0., 1., 0., 0.],\n",
              "       [0., 0., 0., 1., 0.],\n",
              "       [0., 0., 0., 0., 1.]])"
            ]
          },
          "metadata": {},
          "execution_count": 7
        }
      ]
    },
    {
      "cell_type": "markdown",
      "metadata": {
        "id": "dfD08CrmcH66"
      },
      "source": [
        "#### 9.5 「9.1のarray_3の中で60以上のもののカウントを数えてください。」\n"
      ]
    },
    {
      "cell_type": "code",
      "metadata": {
        "id": "acpuAOwagS7T",
        "colab": {
          "base_uri": "https://localhost:8080/"
        },
        "outputId": "23ee52d9-f786-40b6-aa84-f04b414eaeb1"
      },
      "source": [
        "np.count_nonzero(array_3 > 60)"
      ],
      "execution_count": 13,
      "outputs": [
        {
          "output_type": "execute_result",
          "data": {
            "text/plain": [
              "17"
            ]
          },
          "metadata": {},
          "execution_count": 13
        }
      ]
    },
    {
      "cell_type": "markdown",
      "metadata": {
        "id": "VUApEE8ie-vV"
      },
      "source": [
        "### 10. 補足問題です。 (11問)"
      ]
    },
    {
      "cell_type": "markdown",
      "metadata": {
        "id": "ZUCbm3uLdtbW"
      },
      "source": [
        "#### 10.1 「0~9までの数字が入った配列を作成してください。」"
      ]
    },
    {
      "cell_type": "code",
      "metadata": {
        "id": "SBM_7pg1dtbW"
      },
      "source": [
        "array_1 = np.arange(10)"
      ],
      "execution_count": 19,
      "outputs": []
    },
    {
      "cell_type": "markdown",
      "metadata": {
        "id": "KwcGI3ntdtbW"
      },
      "source": [
        "#### 10.2 「スライス（:）を使用して、10.1で作成した配列から4~7を格納した配列を取り出して下さい。」"
      ]
    },
    {
      "cell_type": "code",
      "metadata": {
        "id": "AxxxU6aVdtbW",
        "colab": {
          "base_uri": "https://localhost:8080/"
        },
        "outputId": "fc564246-8e1e-4db7-e751-2297e1c211dc"
      },
      "source": [
        "array_1[4:8]"
      ],
      "execution_count": 21,
      "outputs": [
        {
          "output_type": "execute_result",
          "data": {
            "text/plain": [
              "array([4, 5, 6, 7])"
            ]
          },
          "metadata": {},
          "execution_count": 21
        }
      ]
    },
    {
      "cell_type": "markdown",
      "metadata": {
        "id": "-pKC6WcVdtbW"
      },
      "source": [
        "#### 10.3 「スライス（:）を使用して、10.1で作成した配列から「マイナス」を使用して3~7を格納した配列を取り出して下さい。」"
      ]
    },
    {
      "cell_type": "code",
      "metadata": {
        "id": "0LAqZ94rdtbX",
        "colab": {
          "base_uri": "https://localhost:8080/"
        },
        "outputId": "625898be-576c-41cd-f8af-f82139b2cc4b"
      },
      "source": [
        "array_1[-7:-2]"
      ],
      "execution_count": 22,
      "outputs": [
        {
          "output_type": "execute_result",
          "data": {
            "text/plain": [
              "array([3, 4, 5, 6, 7])"
            ]
          },
          "metadata": {},
          "execution_count": 22
        }
      ]
    },
    {
      "cell_type": "markdown",
      "metadata": {
        "id": "6_0Yw4c-dtbX"
      },
      "source": [
        "#### 10.4 「スライス（:）を使用して、10.1で作成した配列から「マイナス」を使用して0~9を降順に格納した配列を取り出して下さい。」"
      ]
    },
    {
      "cell_type": "code",
      "metadata": {
        "id": "70ozA_sedtbX",
        "colab": {
          "base_uri": "https://localhost:8080/"
        },
        "outputId": "aecfdf1f-c4d7-4abc-97a1-07886f99b6b7"
      },
      "source": [
        "array_1[::-1]"
      ],
      "execution_count": 23,
      "outputs": [
        {
          "output_type": "execute_result",
          "data": {
            "text/plain": [
              "array([9, 8, 7, 6, 5, 4, 3, 2, 1, 0])"
            ]
          },
          "metadata": {},
          "execution_count": 23
        }
      ]
    },
    {
      "cell_type": "markdown",
      "metadata": {
        "id": "k08OpmUWdtbX"
      },
      "source": [
        "#### 10.5 「スライス（:）を使用して、10.1で作成した配列から2~6を一つ飛ばしで格納した配列を取り出して下さい。」"
      ]
    },
    {
      "cell_type": "code",
      "metadata": {
        "id": "968mooCpdtbX",
        "colab": {
          "base_uri": "https://localhost:8080/"
        },
        "outputId": "6a887f10-f39b-410e-93e7-becf2c90d047"
      },
      "source": [
        "array_1[2:8:2]"
      ],
      "execution_count": 25,
      "outputs": [
        {
          "output_type": "execute_result",
          "data": {
            "text/plain": [
              "array([2, 4, 6])"
            ]
          },
          "metadata": {},
          "execution_count": 25
        }
      ]
    },
    {
      "cell_type": "markdown",
      "metadata": {
        "id": "bbBILmUzdtbY"
      },
      "source": [
        "#### 10.6 「0～8までの数字が昇順で入った配列を作成し、3×3の行列を作成してください。」"
      ]
    },
    {
      "cell_type": "code",
      "metadata": {
        "id": "3Lz-6ToQdtbY",
        "colab": {
          "base_uri": "https://localhost:8080/"
        },
        "outputId": "a910e3ed-e31d-4d63-db62-1ca4c24b6f29"
      },
      "source": [
        "array_1 = np.arange(9).reshape(3,3)\n",
        "print(array_1)"
      ],
      "execution_count": 30,
      "outputs": [
        {
          "output_type": "stream",
          "name": "stdout",
          "text": [
            "[[0 1 2]\n",
            " [3 4 5]\n",
            " [6 7 8]]\n"
          ]
        }
      ]
    },
    {
      "cell_type": "markdown",
      "metadata": {
        "id": "5RTOlbikdtbZ"
      },
      "source": [
        "#### 10.7 「3×3の正方行列を作成してください。」"
      ]
    },
    {
      "cell_type": "code",
      "metadata": {
        "id": "7dx5snvZdtbZ",
        "colab": {
          "base_uri": "https://localhost:8080/"
        },
        "outputId": "5c1e86c0-8ce9-45ad-8b60-44fd6249bd5c"
      },
      "source": [
        "data = np.eye(3)\n",
        "data_2 = np.identity(3)\n",
        "print(data)\n",
        "print(data_2)"
      ],
      "execution_count": 33,
      "outputs": [
        {
          "output_type": "stream",
          "name": "stdout",
          "text": [
            "[[1. 0. 0.]\n",
            " [0. 1. 0.]\n",
            " [0. 0. 1.]]\n",
            "[[1. 0. 0.]\n",
            " [0. 1. 0.]\n",
            " [0. 0. 1.]]\n"
          ]
        }
      ]
    },
    {
      "cell_type": "markdown",
      "metadata": {
        "id": "lWC20As2dtbc"
      },
      "source": [
        "#### 10.8 「10×10の大きさの、外側だけ値が「1」、内側が全て値が「0」の行列を作成してください。」"
      ]
    },
    {
      "cell_type": "code",
      "metadata": {
        "id": "s-Z6xKe9dtbc",
        "colab": {
          "base_uri": "https://localhost:8080/"
        },
        "outputId": "c7d6d2fd-c88c-4003-824b-d4615c67b985"
      },
      "source": [
        "data = np.ones((10,10))\n",
        "data[1:-1,1:-1] = 0\n",
        "print(data)"
      ],
      "execution_count": 39,
      "outputs": [
        {
          "output_type": "stream",
          "name": "stdout",
          "text": [
            "[[1. 1. 1. 1. 1. 1. 1. 1. 1. 1.]\n",
            " [1. 0. 0. 0. 0. 0. 0. 0. 0. 1.]\n",
            " [1. 0. 0. 0. 0. 0. 0. 0. 0. 1.]\n",
            " [1. 0. 0. 0. 0. 0. 0. 0. 0. 1.]\n",
            " [1. 0. 0. 0. 0. 0. 0. 0. 0. 1.]\n",
            " [1. 0. 0. 0. 0. 0. 0. 0. 0. 1.]\n",
            " [1. 0. 0. 0. 0. 0. 0. 0. 0. 1.]\n",
            " [1. 0. 0. 0. 0. 0. 0. 0. 0. 1.]\n",
            " [1. 0. 0. 0. 0. 0. 0. 0. 0. 1.]\n",
            " [1. 1. 1. 1. 1. 1. 1. 1. 1. 1.]]\n"
          ]
        }
      ]
    },
    {
      "cell_type": "markdown",
      "metadata": {
        "id": "PaIk5T4Ldtbd"
      },
      "source": [
        "#### 10.9 「下記のような8×8の行列を作成してください。」"
      ]
    },
    {
      "cell_type": "markdown",
      "source": [
        "| | | | | | | | |\n",
        "| -- | -- | -- | -- | -- | -- | -- | -- |\n",
        "| 0| 1| 0| 1| 0| 1| 0| 1|\n",
        "| 1| 0| 1| 0| 1| 0| 1| 0|\n",
        "| 0| 1| 0| 1| 0| 1| 0| 1|\n",
        "| 1| 0| 1| 0| 1| 0| 1| 0|\n",
        "| 0| 1| 0| 1| 0| 1| 0| 1|\n",
        "| 1| 0| 1| 0| 1| 0| 1| 0|\n",
        "| 0| 1| 0| 1| 0| 1| 0| 1|\n",
        "| 1| 0| 1| 0| 1| 0| 1| 0|"
      ],
      "metadata": {
        "id": "0YW7JgQrGojB"
      }
    },
    {
      "cell_type": "code",
      "metadata": {
        "id": "ltiaL66sdtbd",
        "colab": {
          "base_uri": "https://localhost:8080/"
        },
        "outputId": "6b20b12b-81ae-4cd1-ebe3-65c8f1cc6bb1"
      },
      "source": [
        "data = np.zeros((8,8))\n",
        "data[1::2,::2] = 1\n",
        "data[::2,1::2] = 1\n",
        "print(data)"
      ],
      "execution_count": 44,
      "outputs": [
        {
          "output_type": "stream",
          "name": "stdout",
          "text": [
            "[[0. 1. 0. 1. 0. 1. 0. 1.]\n",
            " [1. 0. 1. 0. 1. 0. 1. 0.]\n",
            " [0. 1. 0. 1. 0. 1. 0. 1.]\n",
            " [1. 0. 1. 0. 1. 0. 1. 0.]\n",
            " [0. 1. 0. 1. 0. 1. 0. 1.]\n",
            " [1. 0. 1. 0. 1. 0. 1. 0.]\n",
            " [0. 1. 0. 1. 0. 1. 0. 1.]\n",
            " [1. 0. 1. 0. 1. 0. 1. 0.]]\n"
          ]
        }
      ]
    },
    {
      "cell_type": "markdown",
      "metadata": {
        "id": "mxfjedHAdtbe"
      },
      "source": [
        "#### 10.10 「0～10までの数字を昇順に並べた配列を作成し、4～8までの数字をマイナスに変えて出力してください。」"
      ]
    },
    {
      "cell_type": "code",
      "metadata": {
        "id": "0MLrrXOadtbf",
        "colab": {
          "base_uri": "https://localhost:8080/"
        },
        "outputId": "84ee9cd3-9044-46d5-af47-9a460aed7506"
      },
      "source": [
        "data = np.arange(10)\n",
        "data[(3 > data) & (data <= 8)] *= -1\n",
        "print(data)"
      ],
      "execution_count": 48,
      "outputs": [
        {
          "output_type": "stream",
          "name": "stdout",
          "text": [
            "[ 0 -1 -2  3  4  5  6  7  8  9]\n"
          ]
        }
      ]
    },
    {
      "cell_type": "markdown",
      "metadata": {
        "id": "QR5nsVTHdtbg"
      },
      "source": [
        "#### 10.11 「下記のような行列を作成してください。」"
      ]
    },
    {
      "cell_type": "markdown",
      "source": [
        "| | | | | |\n",
        "| -- | -- | -- | -- | -- |\n",
        "| 0| 1| 2| 3| 4|\n",
        "| 0| 1| 2| 3| 4|\n",
        "| 0| 1| 2| 3| 4|\n",
        "| 0| 1| 2| 3| 4|\n",
        "| 0| 1| 2| 3| 4|"
      ],
      "metadata": {
        "id": "wPZOzwOfHISF"
      }
    },
    {
      "cell_type": "code",
      "metadata": {
        "id": "TzfzCQW8dtbh",
        "colab": {
          "base_uri": "https://localhost:8080/"
        },
        "outputId": "b29a60ac-10e8-43f7-abc5-fc8ced7a1136"
      },
      "source": [
        "data = np.zeros((5,5))\n",
        "data += np.arange(5)\n",
        "print(data)"
      ],
      "execution_count": 51,
      "outputs": [
        {
          "output_type": "stream",
          "name": "stdout",
          "text": [
            "[[0. 1. 2. 3. 4.]\n",
            " [0. 1. 2. 3. 4.]\n",
            " [0. 1. 2. 3. 4.]\n",
            " [0. 1. 2. 3. 4.]\n",
            " [0. 1. 2. 3. 4.]]\n"
          ]
        }
      ]
    }
  ]
}