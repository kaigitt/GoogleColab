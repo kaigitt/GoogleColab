{
  "nbformat": 4,
  "nbformat_minor": 0,
  "metadata": {
    "colab": {
      "name": "numpy_editor.ipynb",
      "provenance": [],
      "collapsed_sections": [],
      "include_colab_link": true
    },
    "kernelspec": {
      "display_name": "Python 3 (ipykernel)",
      "language": "python",
      "name": "python3"
    },
    "language_info": {
      "codemirror_mode": {
        "name": "ipython",
        "version": 3
      },
      "file_extension": ".py",
      "mimetype": "text/x-python",
      "name": "python",
      "nbconvert_exporter": "python",
      "pygments_lexer": "ipython3",
      "version": "3.9.1"
    }
  },
  "cells": [
    {
      "cell_type": "markdown",
      "metadata": {
        "id": "view-in-github",
        "colab_type": "text"
      },
      "source": [
        "<a href=\"https://colab.research.google.com/github/kaigitt/GoogleColab/blob/master/numpy_editor.ipynb\" target=\"_parent\"><img src=\"https://colab.research.google.com/assets/colab-badge.svg\" alt=\"Open In Colab\"/></a>"
      ]
    },
    {
      "cell_type": "markdown",
      "metadata": {
        "id": "O_0Fnq6jdtbE"
      },
      "source": [
        "# numpy exercises\n",
        "\n",
        "\n",
        "1. ndarrayの作成方法について学習します。（4問）\n",
        "2. 配列の次元数について学習します。（4問）\n",
        "3. 配列の参照方法ついて学習します。（6問）\n",
        "4. 配列の演算方法について学習します。（2問）\n",
        "5. 配列の論理演算方法について学習します。（4問）\n",
        "6. 配列の結合・分割方法について学習します。（6問）\n",
        "7. 配列の統計量算出方法について学習します。 (4問)\n",
        "8. 日付について学習します。 (6問)\n",
        "9. その他よく使うメソッドについて学習します。 (5問)\n",
        "10. 補足問題です。 (11問）\n"
      ]
    },
    {
      "cell_type": "markdown",
      "metadata": {
        "id": "X4Yc9-bqe3_n"
      },
      "source": [
        "### 0. 事前準備"
      ]
    },
    {
      "cell_type": "code",
      "metadata": {
        "id": "_Fo8Zqnse6DK"
      },
      "source": [
        "# こちらのセルを実行してください。\n",
        "import numpy as np"
      ],
      "execution_count": null,
      "outputs": []
    },
    {
      "cell_type": "markdown",
      "metadata": {
        "id": "uz-kbn-sHitv"
      },
      "source": [
        "### 1. ndarrayの作成方法について学習します。（4問）"
      ]
    },
    {
      "cell_type": "markdown",
      "metadata": {
        "id": "MaoZkBQpHitv"
      },
      "source": [
        "#### 1.1 「8つの「0」が入る配列を作成してください。」"
      ]
    },
    {
      "cell_type": "code",
      "metadata": {
        "scrolled": true,
        "id": "MQishV6ZHitv"
      },
      "source": [
        ""
      ],
      "execution_count": null,
      "outputs": []
    },
    {
      "cell_type": "markdown",
      "metadata": {
        "id": "LFARc3jFHitw"
      },
      "source": [
        "#### 1.2 「8つの「0」が入る配列を作成し、5番目の値を「1」に変えてください。」"
      ]
    },
    {
      "cell_type": "code",
      "metadata": {
        "id": "dUoqkFV0Hitw"
      },
      "source": [
        ""
      ],
      "execution_count": null,
      "outputs": []
    },
    {
      "cell_type": "markdown",
      "metadata": {
        "id": "0Yv8dkrFHitw"
      },
      "source": [
        "#### 1.3 「10～49までの数字が昇順で入った配列を作成してください。」"
      ]
    },
    {
      "cell_type": "code",
      "metadata": {
        "id": "UgrGUxATHitw"
      },
      "source": [
        ""
      ],
      "execution_count": null,
      "outputs": []
    },
    {
      "cell_type": "markdown",
      "metadata": {
        "id": "7o1zgcBLHitx"
      },
      "source": [
        "#### 1.4 「0～39までの数字が降順で入った配列を作成してください。」"
      ]
    },
    {
      "cell_type": "code",
      "metadata": {
        "id": "hy55HUBqHitx"
      },
      "source": [
        ""
      ],
      "execution_count": null,
      "outputs": []
    },
    {
      "cell_type": "markdown",
      "metadata": {
        "id": "UqKhmWVcLUJs"
      },
      "source": [
        "### 2. 配列の次元数について学習します。 (4問)"
      ]
    },
    {
      "cell_type": "code",
      "metadata": {
        "id": "7vKc7GiCLV0S"
      },
      "source": [
        "# こちらのセルを実行してください。\n",
        "# このarrayを元に問題を解いていきます。\n",
        "array = np.arange(0, 25)\n",
        "array"
      ],
      "execution_count": null,
      "outputs": []
    },
    {
      "cell_type": "markdown",
      "metadata": {
        "id": "9NSpvOFZLaAF"
      },
      "source": [
        "#### 2.1 「上記のarrayを5行5列の配列に整形して、変数に代入して表示してください。」"
      ]
    },
    {
      "cell_type": "code",
      "metadata": {
        "id": "RKRIZFYKLpnm"
      },
      "source": [
        ""
      ],
      "execution_count": null,
      "outputs": []
    },
    {
      "cell_type": "markdown",
      "metadata": {
        "id": "1zRr5jdHL0h2"
      },
      "source": [
        "#### 2.2 「2.1で整形した配列の次元数を表示してください。」"
      ]
    },
    {
      "cell_type": "code",
      "metadata": {
        "id": "C195N_cWQC4B"
      },
      "source": [
        ""
      ],
      "execution_count": null,
      "outputs": []
    },
    {
      "cell_type": "markdown",
      "metadata": {
        "id": "QjUUI6YqQBie"
      },
      "source": [
        "#### 2.3 「2.1で整形した配列をもう一度一次元の配列に整形して表示してください。」"
      ]
    },
    {
      "cell_type": "code",
      "metadata": {
        "id": "C7Jmkv2zL9vd"
      },
      "source": [
        ""
      ],
      "execution_count": null,
      "outputs": []
    },
    {
      "cell_type": "markdown",
      "metadata": {
        "id": "kdUYXLLEYtHd"
      },
      "source": [
        "#### 2.4 「上記のarrayを6行6列の配列にして表示してください。」"
      ]
    },
    {
      "cell_type": "code",
      "metadata": {
        "id": "w7G5xc0mYsY4"
      },
      "source": [
        ""
      ],
      "execution_count": null,
      "outputs": []
    },
    {
      "cell_type": "markdown",
      "metadata": {
        "id": "sDwBlUBaPh2R"
      },
      "source": [
        "### 3. 配列の参照について学習します。 (6問)"
      ]
    },
    {
      "cell_type": "code",
      "metadata": {
        "id": "kIuupJo4WuBx"
      },
      "source": [
        "# こちらのセルを実行してください。\n",
        "# このarray_1を元に問題を解いていきます。\n",
        "array_1 = np.arange(0, 25).reshape(5, 5)\n",
        "\n",
        "display(array_1)"
      ],
      "execution_count": null,
      "outputs": []
    },
    {
      "cell_type": "markdown",
      "metadata": {
        "id": "TfEWecj7uvyo"
      },
      "source": [
        "#### 3.1 「array_1の2行目のみを抽出してください。」"
      ]
    },
    {
      "cell_type": "code",
      "metadata": {
        "id": "vc04NOglu87r"
      },
      "source": [
        ""
      ],
      "execution_count": null,
      "outputs": []
    },
    {
      "cell_type": "markdown",
      "metadata": {
        "id": "aR-EoFU4u9Fn"
      },
      "source": [
        "#### 3.2 「array_1の3行目の3列目のみを抽出してください。」"
      ]
    },
    {
      "cell_type": "code",
      "metadata": {
        "id": "d7seDfCowCaI"
      },
      "source": [
        ""
      ],
      "execution_count": null,
      "outputs": []
    },
    {
      "cell_type": "markdown",
      "metadata": {
        "id": "qyY8czbCu9JF"
      },
      "source": [
        "#### 3.3 「array_1の2\\~4行目の2\\~3列目のみを抽出してください。」"
      ]
    },
    {
      "cell_type": "code",
      "metadata": {
        "id": "2XkiL8shwygw"
      },
      "source": [
        ""
      ],
      "execution_count": null,
      "outputs": []
    },
    {
      "cell_type": "markdown",
      "metadata": {
        "id": "agXkCmWsxPEm"
      },
      "source": [
        "#### 3.4 「array_1の要素が奇数かどうかを比較し、結果をbool値で格納した配列を変数に代入して表示してください。」"
      ]
    },
    {
      "cell_type": "code",
      "metadata": {
        "id": "QqZRA2lExeZ8"
      },
      "source": [
        ""
      ],
      "execution_count": null,
      "outputs": []
    },
    {
      "cell_type": "markdown",
      "metadata": {
        "id": "uuKW0ncRx3dZ"
      },
      "source": [
        "#### 3.5 「3.4の比較結果を用いて、array_1の要素のうち奇数のものを抽出して変数に代入して表示してください。」"
      ]
    },
    {
      "cell_type": "code",
      "metadata": {
        "id": "u9Bfbxdnx_f7"
      },
      "source": [
        ""
      ],
      "execution_count": null,
      "outputs": []
    },
    {
      "cell_type": "markdown",
      "metadata": {
        "id": "WvgjWUGXyhw1"
      },
      "source": [
        "#### 3.6 「3.5で抽出した配列を3行4列の配列に整形して表示してください。」"
      ]
    },
    {
      "cell_type": "code",
      "metadata": {
        "id": "9j6Tv669zIMV"
      },
      "source": [
        ""
      ],
      "execution_count": null,
      "outputs": []
    },
    {
      "cell_type": "markdown",
      "metadata": {
        "id": "d9cdjnaZV7v8"
      },
      "source": [
        "### 4. 配列の演算について学習します。 (2問)\n",
        "\n",
        "\n"
      ]
    },
    {
      "cell_type": "code",
      "metadata": {
        "id": "YxJo5oiDbbrh"
      },
      "source": [
        "# こちらのセルを実行してください。\n",
        "# これらの配列を元に問題を解いていきます。\n",
        "array_1 = np.arange(0, 25).reshape(5, 5)\n",
        "array_2 = np.arange(25, 50).reshape(5, 5)\n",
        "\n",
        "display(array_1)\n",
        "print('')\n",
        "display(array_2)"
      ],
      "execution_count": null,
      "outputs": []
    },
    {
      "cell_type": "markdown",
      "metadata": {
        "id": "8iUIRwMiWBXO"
      },
      "source": [
        "#### 4.1 「array_1の各要素とarray_2の同じ位置にある各要素を足した結果を表示してください。」"
      ]
    },
    {
      "cell_type": "code",
      "metadata": {
        "id": "dDQY6v9HV-WM"
      },
      "source": [
        ""
      ],
      "execution_count": null,
      "outputs": []
    },
    {
      "cell_type": "markdown",
      "metadata": {
        "id": "4WhSntXtUki6"
      },
      "source": [
        "#### 4.2 「array_2の各要素をarray_1の同じ位置にある各要素で引いた結果を表示してください。」"
      ]
    },
    {
      "cell_type": "code",
      "metadata": {
        "id": "NhTgRgE1UmdU"
      },
      "source": [
        ""
      ],
      "execution_count": null,
      "outputs": []
    },
    {
      "cell_type": "markdown",
      "metadata": {
        "id": "xLdE7b-BPukA"
      },
      "source": [
        "### 5. 配列の論理演算について学習します。 (4問)"
      ]
    },
    {
      "cell_type": "code",
      "metadata": {
        "id": "V30WpYI7Wze5"
      },
      "source": [
        "# こちらのセルを実行してください。\n",
        "# この配列を元に問題を解いていきます。\n",
        "array_1 = np.arange(0, 25).reshape(5, 5)\n",
        "\n",
        "display(array_1)"
      ],
      "execution_count": null,
      "outputs": []
    },
    {
      "cell_type": "markdown",
      "metadata": {
        "id": "_DVc_qGs0Uyc"
      },
      "source": [
        "#### 5.1 「array_1の要素が偶数かどうかを比較し、結果をbool値で格納した配列を変数に代入して表示してください。」"
      ]
    },
    {
      "cell_type": "code",
      "metadata": {
        "id": "i6dEa2GgZPUC"
      },
      "source": [
        ""
      ],
      "execution_count": null,
      "outputs": []
    },
    {
      "cell_type": "markdown",
      "metadata": {
        "id": "1vbOHZT9ZPen"
      },
      "source": [
        "#### 5.2 「array_1の要素が10より大きいかどうかを比較し、結果をbool値で格納した配列を変数に代入して表示してください。」"
      ]
    },
    {
      "cell_type": "code",
      "metadata": {
        "id": "kZNiJRJE1ME-"
      },
      "source": [
        ""
      ],
      "execution_count": null,
      "outputs": []
    },
    {
      "cell_type": "markdown",
      "metadata": {
        "id": "d_wxcki9ZPhp"
      },
      "source": [
        "#### 5.3 「5.1, 5.2の結果を用いて、そのどちらかの条件を満たす要素をarray_1から抽出して表示してください。」"
      ]
    },
    {
      "cell_type": "code",
      "metadata": {
        "id": "KhlfvCz62eUK"
      },
      "source": [
        ""
      ],
      "execution_count": null,
      "outputs": []
    },
    {
      "cell_type": "markdown",
      "metadata": {
        "id": "yGHtwG5X2335"
      },
      "source": [
        "#### 5.4 「5.1, 5.2の結果を用いて、そのどちらの条件も満たす要素をarray_1から抽出して表示してください。」"
      ]
    },
    {
      "cell_type": "code",
      "metadata": {
        "id": "pIkGkLmY28eq"
      },
      "source": [
        ""
      ],
      "execution_count": null,
      "outputs": []
    },
    {
      "cell_type": "markdown",
      "metadata": {
        "id": "gKL5W_72P6vS"
      },
      "source": [
        "### 6. 配列の結合・分割方法について学習します。 (6問)"
      ]
    },
    {
      "cell_type": "code",
      "metadata": {
        "id": "s5v7cAstWz2c"
      },
      "source": [
        "# こちらのセルを実行してください。\n",
        "# この配列を元に問題を解いていきます。\n",
        "array_1 = np.arange(0, 25).reshape(5, 5)\n",
        "array_2 = np.arange(25, 50).reshape(5, 5)\n",
        "\n",
        "display(array_1)\n",
        "print('')\n",
        "display(array_2)"
      ],
      "execution_count": null,
      "outputs": []
    },
    {
      "cell_type": "markdown",
      "metadata": {
        "id": "UsCEB7q4XVl1"
      },
      "source": [
        "#### 6.1 「concatenate関数を用いて、上のarray_1とarray_2を行方向に結合してください。」"
      ]
    },
    {
      "cell_type": "code",
      "metadata": {
        "id": "AgsYwSV4XhHg"
      },
      "source": [
        ""
      ],
      "execution_count": null,
      "outputs": []
    },
    {
      "cell_type": "markdown",
      "metadata": {
        "id": "iEKvebKsXkaa"
      },
      "source": [
        "#### 6.2 「concatenate関数を用いて、上のarray_1とarray_2を列方向に結合してください。」"
      ]
    },
    {
      "cell_type": "code",
      "metadata": {
        "id": "jA32abjDXnSN"
      },
      "source": [
        ""
      ],
      "execution_count": null,
      "outputs": []
    },
    {
      "cell_type": "markdown",
      "metadata": {
        "id": "n_z7D2x5Xnbt"
      },
      "source": [
        "#### 6.3 「concatenate関数を用いずに、上のarray_1とarray_2を行方向に結合してください。」"
      ]
    },
    {
      "cell_type": "code",
      "metadata": {
        "id": "z1i-IGp6Xoj0"
      },
      "source": [
        ""
      ],
      "execution_count": null,
      "outputs": []
    },
    {
      "cell_type": "markdown",
      "metadata": {
        "id": "ZVi2UjM8Xozn"
      },
      "source": [
        "#### 6.4 「concatenate関数を用いずに、上のarray_1とarray_2を列方向に結合してください。」"
      ]
    },
    {
      "cell_type": "code",
      "metadata": {
        "id": "GeIlHCVVY_lx"
      },
      "source": [
        ""
      ],
      "execution_count": null,
      "outputs": []
    },
    {
      "cell_type": "markdown",
      "metadata": {
        "id": "LW4wblGXDs5L"
      },
      "source": [
        "#### 6.5 「次のarray_concatenatedを縦に3つに分割してください。」"
      ]
    },
    {
      "cell_type": "code",
      "metadata": {
        "id": "abtEvA_bD1GU"
      },
      "source": [
        "# こちらのコードを実行してください。\n",
        "# この配列を元に問題を解いていきます。\n",
        "array_concatenated = np.arange(48).reshape(6, -1)\n",
        "array_concatenated"
      ],
      "execution_count": null,
      "outputs": []
    },
    {
      "cell_type": "code",
      "metadata": {
        "id": "VtD-UWiHEMJ8"
      },
      "source": [
        ""
      ],
      "execution_count": null,
      "outputs": []
    },
    {
      "cell_type": "markdown",
      "metadata": {
        "id": "7fEZWq5kFFQ-"
      },
      "source": [
        "#### 6.6 「次のarray_concatenatedを横に4つに分割してください」"
      ]
    },
    {
      "cell_type": "code",
      "metadata": {
        "id": "QHu11GTwFA5D"
      },
      "source": [
        "# こちらのセルを実行してください。\n",
        "# この配列を元に問題を解いていきます。\n",
        "array_concatenated = np.arange(48).reshape(6, -1)\n",
        "array_concatenated"
      ],
      "execution_count": null,
      "outputs": []
    },
    {
      "cell_type": "code",
      "metadata": {
        "id": "U8yErA0bFKTZ"
      },
      "source": [
        ""
      ],
      "execution_count": null,
      "outputs": []
    },
    {
      "cell_type": "markdown",
      "metadata": {
        "id": "x_eovOPFKd5f"
      },
      "source": [
        "### 7. 配列の統計量計算方法について学習します。 (4問)"
      ]
    },
    {
      "cell_type": "code",
      "metadata": {
        "id": "VKitDnd4Kj0q"
      },
      "source": [
        "# こちらのセルを実行してください。\n",
        "# この配列を元に問題を解いていきます。\n",
        "array_1 = np.arange(0, 25).reshape(5, 5)\n",
        "array_2 = np.arange(25, 50).reshape(5, 5)\n",
        "\n",
        "display(array_1)\n",
        "print('')\n",
        "display(array_2)"
      ],
      "execution_count": null,
      "outputs": []
    },
    {
      "cell_type": "markdown",
      "metadata": {
        "id": "FWwHg8a_bg48"
      },
      "source": [
        "#### 7.1 「array_1の行ごとの平均を計算し、その結果を表示してください。」"
      ]
    },
    {
      "cell_type": "code",
      "metadata": {
        "id": "kgZ8Is8pbm-m"
      },
      "source": [
        ""
      ],
      "execution_count": null,
      "outputs": []
    },
    {
      "cell_type": "markdown",
      "metadata": {
        "id": "98XuR5xHb2lD"
      },
      "source": [
        "#### 7.2 「array_2の各要素を列に対して合計した結果を表示してください。」"
      ]
    },
    {
      "cell_type": "code",
      "metadata": {
        "id": "O__LPr_gbger"
      },
      "source": [
        ""
      ],
      "execution_count": null,
      "outputs": []
    },
    {
      "cell_type": "markdown",
      "metadata": {
        "id": "1QLtIe9AcDYU"
      },
      "source": [
        "#### 7.3 「array_1の最大値を表示してください。」"
      ]
    },
    {
      "cell_type": "code",
      "metadata": {
        "id": "n1-zNN7lcME9"
      },
      "source": [
        ""
      ],
      "execution_count": null,
      "outputs": []
    },
    {
      "cell_type": "markdown",
      "metadata": {
        "id": "aQLQE7xdcPn8"
      },
      "source": [
        "#### 7.4 「array_1とarray_2を結合し、全体の平均を表示してください。」"
      ]
    },
    {
      "cell_type": "code",
      "metadata": {
        "id": "l2HlKmgmcW5z"
      },
      "source": [
        ""
      ],
      "execution_count": null,
      "outputs": []
    },
    {
      "cell_type": "markdown",
      "metadata": {
        "id": "mExcY5xSMgFy"
      },
      "source": [
        "### 8. 日付について学習します。 (6問)"
      ]
    },
    {
      "cell_type": "markdown",
      "metadata": {
        "id": "Di7DKQLmP45C"
      },
      "source": [
        "#### 8.1 「今日の日付を表示してください。」"
      ]
    },
    {
      "cell_type": "code",
      "metadata": {
        "id": "Ii3URKWaMiTQ"
      },
      "source": [
        ""
      ],
      "execution_count": null,
      "outputs": []
    },
    {
      "cell_type": "markdown",
      "metadata": {
        "id": "W84uIxlAQBm_"
      },
      "source": [
        "#### 8.2 「明日の日付を表示してください。」"
      ]
    },
    {
      "cell_type": "code",
      "metadata": {
        "id": "BwTCH2vOQVNp"
      },
      "source": [
        ""
      ],
      "execution_count": null,
      "outputs": []
    },
    {
      "cell_type": "markdown",
      "metadata": {
        "id": "GQivjIu9RnU0"
      },
      "source": [
        "#### 8.3 「昨日の日付を表示してください。」"
      ]
    },
    {
      "cell_type": "code",
      "metadata": {
        "id": "NhDWBWZoRr-d"
      },
      "source": [
        ""
      ],
      "execution_count": null,
      "outputs": []
    },
    {
      "cell_type": "markdown",
      "metadata": {
        "id": "O5FmQUF5SSt1"
      },
      "source": [
        "#### 8.4 「2021年4月の日付を全て配列に格納してください」"
      ]
    },
    {
      "cell_type": "code",
      "metadata": {
        "id": "0xiu_0xBVHdk"
      },
      "source": [
        ""
      ],
      "execution_count": null,
      "outputs": []
    },
    {
      "cell_type": "markdown",
      "metadata": {
        "id": "w2UWBU23BavN"
      },
      "source": [
        "#### 8.5 「2021年の4月の営業日を全て配列に格納してください。」"
      ]
    },
    {
      "cell_type": "code",
      "metadata": {
        "id": "zhGWbvNZCg0Q"
      },
      "source": [
        ""
      ],
      "execution_count": null,
      "outputs": []
    },
    {
      "cell_type": "markdown",
      "metadata": {
        "id": "O9OVQZ9AC4IO"
      },
      "source": [
        "#### 8.6 「2021年4月の週の初めの日を全て配列に格納してください。」"
      ]
    },
    {
      "cell_type": "code",
      "metadata": {
        "id": "5lC7vK6qDGRU"
      },
      "source": [
        ""
      ],
      "execution_count": null,
      "outputs": []
    },
    {
      "cell_type": "markdown",
      "metadata": {
        "id": "WJ6WZb3sLtGA"
      },
      "source": [
        "### 9. よく使うメソッドについて学習します。 (5問)"
      ]
    },
    {
      "cell_type": "markdown",
      "metadata": {
        "id": "HLr-vDMCMWGA"
      },
      "source": [
        "#### 9.1 「次のarray_3の最大値のインデックスを取得してください、」"
      ]
    },
    {
      "cell_type": "code",
      "metadata": {
        "id": "g8T98CQOaStV"
      },
      "source": [
        "# こちらのセルを実行してください。\n",
        "# この配列を元に問題を解いていきます。\n",
        "np.random.seed(0)\n",
        "\n",
        "array_3 = np.random.randint(0, 100, (5, 6))\n",
        "array_3"
      ],
      "execution_count": null,
      "outputs": []
    },
    {
      "cell_type": "code",
      "metadata": {
        "id": "BRwssjkfa-eq"
      },
      "source": [
        ""
      ],
      "execution_count": null,
      "outputs": []
    },
    {
      "cell_type": "markdown",
      "metadata": {
        "id": "_w12GHIQaVdH"
      },
      "source": [
        "#### 9.2 「9.1のarray_3を各列に対して昇順にソートしてください。」"
      ]
    },
    {
      "cell_type": "code",
      "metadata": {
        "id": "JXjw9XKsbaUL"
      },
      "source": [
        ""
      ],
      "execution_count": null,
      "outputs": []
    },
    {
      "cell_type": "markdown",
      "metadata": {
        "id": "ZGI9jvC_bocA"
      },
      "source": [
        "#### 9.3 「9.1のarray_3を2列目を基準に昇順にソートしてください。」"
      ]
    },
    {
      "cell_type": "code",
      "metadata": {
        "id": "7ONmqN5vbtnD"
      },
      "source": [
        ""
      ],
      "execution_count": null,
      "outputs": []
    },
    {
      "cell_type": "markdown",
      "metadata": {
        "id": "ZFlbj-eIb9U8"
      },
      "source": [
        "#### 9.4 「5行5列の単位行列を作成してください。」"
      ]
    },
    {
      "cell_type": "code",
      "metadata": {
        "id": "7Pk7wJ2lcAnr"
      },
      "source": [
        ""
      ],
      "execution_count": null,
      "outputs": []
    },
    {
      "cell_type": "markdown",
      "metadata": {
        "id": "dfD08CrmcH66"
      },
      "source": [
        "#### 9.5 「9.1のarray_3の中で60以上のもののカウントを数えてください。」\n"
      ]
    },
    {
      "cell_type": "code",
      "metadata": {
        "id": "acpuAOwagS7T"
      },
      "source": [
        ""
      ],
      "execution_count": null,
      "outputs": []
    },
    {
      "cell_type": "markdown",
      "metadata": {
        "id": "VUApEE8ie-vV"
      },
      "source": [
        "### 10. 補足問題です。 (11問)"
      ]
    },
    {
      "cell_type": "markdown",
      "metadata": {
        "id": "ZUCbm3uLdtbW"
      },
      "source": [
        "#### 10.1 「0~9までの数字が入った配列を作成してください。」"
      ]
    },
    {
      "cell_type": "code",
      "metadata": {
        "id": "SBM_7pg1dtbW"
      },
      "source": [
        ""
      ],
      "execution_count": null,
      "outputs": []
    },
    {
      "cell_type": "markdown",
      "metadata": {
        "id": "KwcGI3ntdtbW"
      },
      "source": [
        "#### 10.2 「スライス（:）を使用して、10.1で作成した配列から4~7を格納した配列を取り出して下さい。」"
      ]
    },
    {
      "cell_type": "code",
      "metadata": {
        "id": "AxxxU6aVdtbW"
      },
      "source": [
        ""
      ],
      "execution_count": null,
      "outputs": []
    },
    {
      "cell_type": "markdown",
      "metadata": {
        "id": "-pKC6WcVdtbW"
      },
      "source": [
        "#### 10.3 「スライス（:）を使用して、10.1で作成した配列から「マイナス」を使用して3~7を格納した配列を取り出して下さい。」"
      ]
    },
    {
      "cell_type": "code",
      "metadata": {
        "id": "0LAqZ94rdtbX"
      },
      "source": [
        ""
      ],
      "execution_count": null,
      "outputs": []
    },
    {
      "cell_type": "markdown",
      "metadata": {
        "id": "6_0Yw4c-dtbX"
      },
      "source": [
        "#### 10.4 「スライス（:）を使用して、10.1で作成した配列から「マイナス」を使用して0~9を降順に格納した配列を取り出して下さい。」"
      ]
    },
    {
      "cell_type": "code",
      "metadata": {
        "id": "70ozA_sedtbX"
      },
      "source": [
        ""
      ],
      "execution_count": null,
      "outputs": []
    },
    {
      "cell_type": "markdown",
      "metadata": {
        "id": "k08OpmUWdtbX"
      },
      "source": [
        "#### 10.5 「スライス（:）を使用して、10.1で作成した配列から2~6を一つ飛ばしで格納した配列を取り出して下さい。」"
      ]
    },
    {
      "cell_type": "code",
      "metadata": {
        "id": "968mooCpdtbX"
      },
      "source": [
        ""
      ],
      "execution_count": null,
      "outputs": []
    },
    {
      "cell_type": "markdown",
      "metadata": {
        "id": "bbBILmUzdtbY"
      },
      "source": [
        "#### 10.6 「0～8までの数字が昇順で入った配列を作成し、3×3の行列を作成してください。」"
      ]
    },
    {
      "cell_type": "code",
      "metadata": {
        "id": "3Lz-6ToQdtbY"
      },
      "source": [
        ""
      ],
      "execution_count": null,
      "outputs": []
    },
    {
      "cell_type": "markdown",
      "metadata": {
        "id": "5RTOlbikdtbZ"
      },
      "source": [
        "#### 10.7 「3×3の正方行列を作成してください。」"
      ]
    },
    {
      "cell_type": "code",
      "metadata": {
        "id": "7dx5snvZdtbZ"
      },
      "source": [
        ""
      ],
      "execution_count": null,
      "outputs": []
    },
    {
      "cell_type": "markdown",
      "metadata": {
        "id": "lWC20As2dtbc"
      },
      "source": [
        "#### 10.8 「10×10の大きさの、外側だけ値が「1」、内側が全て値が「0」の行列を作成してください。」"
      ]
    },
    {
      "cell_type": "code",
      "metadata": {
        "id": "s-Z6xKe9dtbc"
      },
      "source": [
        ""
      ],
      "execution_count": null,
      "outputs": []
    },
    {
      "cell_type": "markdown",
      "metadata": {
        "id": "PaIk5T4Ldtbd"
      },
      "source": [
        "#### 10.9 「下記のような8×8の行列を作成してください。」"
      ]
    },
    {
      "cell_type": "markdown",
      "source": [
        "| | | | | | | | |\n",
        "| -- | -- | -- | -- | -- | -- | -- | -- |\n",
        "| 0| 1| 0| 1| 0| 1| 0| 1|\n",
        "| 1| 0| 1| 0| 1| 0| 1| 0|\n",
        "| 0| 1| 0| 1| 0| 1| 0| 1|\n",
        "| 1| 0| 1| 0| 1| 0| 1| 0|\n",
        "| 0| 1| 0| 1| 0| 1| 0| 1|\n",
        "| 1| 0| 1| 0| 1| 0| 1| 0|\n",
        "| 0| 1| 0| 1| 0| 1| 0| 1|\n",
        "| 1| 0| 1| 0| 1| 0| 1| 0|"
      ],
      "metadata": {
        "id": "0YW7JgQrGojB"
      }
    },
    {
      "cell_type": "code",
      "metadata": {
        "id": "ltiaL66sdtbd"
      },
      "source": [
        ""
      ],
      "execution_count": null,
      "outputs": []
    },
    {
      "cell_type": "markdown",
      "metadata": {
        "id": "mxfjedHAdtbe"
      },
      "source": [
        "#### 10.10 「0～10までの数字を昇順に並べた配列を作成し、4～8までの数字をマイナスに変えて出力してください。」"
      ]
    },
    {
      "cell_type": "code",
      "metadata": {
        "id": "0MLrrXOadtbf"
      },
      "source": [
        ""
      ],
      "execution_count": null,
      "outputs": []
    },
    {
      "cell_type": "markdown",
      "metadata": {
        "id": "QR5nsVTHdtbg"
      },
      "source": [
        "#### 10.11 「下記のような行列を作成してください。」"
      ]
    },
    {
      "cell_type": "markdown",
      "source": [
        "| | | | | |\n",
        "| -- | -- | -- | -- | -- |\n",
        "| 0| 1| 2| 3| 4|\n",
        "| 0| 1| 2| 3| 4|\n",
        "| 0| 1| 2| 3| 4|\n",
        "| 0| 1| 2| 3| 4|\n",
        "| 0| 1| 2| 3| 4|"
      ],
      "metadata": {
        "id": "wPZOzwOfHISF"
      }
    },
    {
      "cell_type": "code",
      "metadata": {
        "id": "TzfzCQW8dtbh"
      },
      "source": [
        ""
      ],
      "execution_count": null,
      "outputs": []
    }
  ]
}