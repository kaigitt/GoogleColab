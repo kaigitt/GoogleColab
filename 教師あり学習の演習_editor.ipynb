{
  "nbformat": 4,
  "nbformat_minor": 0,
  "metadata": {
    "colab": {
      "name": "教師あり学習の演習_editor.ipynb",
      "provenance": [],
      "collapsed_sections": [],
      "include_colab_link": true
    },
    "kernelspec": {
      "name": "python3",
      "display_name": "Python 3"
    },
    "language_info": {
      "name": "python"
    }
  },
  "cells": [
    {
      "cell_type": "markdown",
      "metadata": {
        "id": "view-in-github",
        "colab_type": "text"
      },
      "source": [
        "<a href=\"https://colab.research.google.com/github/kaigitt/GoogleColab/blob/master/%E6%95%99%E5%B8%AB%E3%81%82%E3%82%8A%E5%AD%A6%E7%BF%92%E3%81%AE%E6%BC%94%E7%BF%92_editor.ipynb\" target=\"_parent\"><img src=\"https://colab.research.google.com/assets/colab-badge.svg\" alt=\"Open In Colab\"/></a>"
      ]
    },
    {
      "cell_type": "markdown",
      "metadata": {
        "id": "15hONu64Bg3c"
      },
      "source": [
        "# 教師あり学習の演習"
      ]
    },
    {
      "cell_type": "markdown",
      "metadata": {
        "id": "5Vyo39FfBeRC"
      },
      "source": [
        "## 0. 事前準備"
      ]
    },
    {
      "cell_type": "markdown",
      "source": [
        "### 0.1 環境構築"
      ],
      "metadata": {
        "id": "vSf4b8rKYIn3"
      }
    },
    {
      "cell_type": "markdown",
      "source": [
        "まずは次のセルを実行してください。"
      ],
      "metadata": {
        "id": "hAIglT9OXJdK"
      }
    },
    {
      "cell_type": "code",
      "source": [
        "# こちらのセルを実行してください。\n",
        "!pip install openpyxl==3.0.0"
      ],
      "metadata": {
        "id": "-safkgoWbamN"
      },
      "execution_count": null,
      "outputs": []
    },
    {
      "cell_type": "markdown",
      "source": [
        "実行が完了したら、左上のメニューバーから「ランタイム」 $\\rightarrow$ 「ランタイムを再起動」を押してください。\n",
        "\n",
        "ランタイムの再起動が終わったら、次のセルを実行してください。"
      ],
      "metadata": {
        "id": "hhP2nuoobkav"
      }
    },
    {
      "cell_type": "code",
      "source": [
        "# こちらのセルを実行してください。\n",
        "import pandas as pd"
      ],
      "metadata": {
        "id": "z_Fg6_fvbvTx"
      },
      "execution_count": null,
      "outputs": []
    },
    {
      "cell_type": "markdown",
      "source": [
        "今回使用するデータをダウンロードします。\n",
        "\n",
        "次のセルを実行してください。"
      ],
      "metadata": {
        "id": "iDJBwBRZXzNY"
      }
    },
    {
      "cell_type": "code",
      "metadata": {
        "colab": {
          "base_uri": "https://localhost:8080/"
        },
        "id": "E3m4zfAPc2eM",
        "outputId": "6cac27d5-4c26-49c3-a990-b5f2abbb481f"
      },
      "source": [
        "!wget \"https://us.v-cdn.net/6032257/uploads/jive_attachments/6/3/1/63186354tnemhcatta.xlsx\" -O 'cycle_training.xlsx'"
      ],
      "execution_count": null,
      "outputs": [
        {
          "output_type": "stream",
          "name": "stdout",
          "text": [
            "--2022-02-03 02:35:00--  https://us.v-cdn.net/6032257/uploads/jive_attachments/6/3/1/63186354tnemhcatta.xlsx\n",
            "Resolving us.v-cdn.net (us.v-cdn.net)... 104.18.194.13, 104.18.193.13, 2606:4700::6812:c10d, ...\n",
            "Connecting to us.v-cdn.net (us.v-cdn.net)|104.18.194.13|:443... connected.\n",
            "HTTP request sent, awaiting response... 200 OK\n",
            "Length: 62467 (61K) [application/vnd.openxmlformats-officedocument.spreadsheetml.sheet]\n",
            "Saving to: ‘cycle_training.xlsx’\n",
            "\n",
            "\rcycle_training.xlsx   0%[                    ]       0  --.-KB/s               \rcycle_training.xlsx 100%[===================>]  61.00K  --.-KB/s    in 0.02s   \n",
            "\n",
            "2022-02-03 02:35:00 (3.88 MB/s) - ‘cycle_training.xlsx’ saved [62467/62467]\n",
            "\n"
          ]
        }
      ]
    },
    {
      "cell_type": "markdown",
      "source": [
        "これで、ダウンロードできました。次のセルを実行して、データフレームとして読み込みましょう。"
      ],
      "metadata": {
        "id": "qjjiWw62X6Ql"
      }
    },
    {
      "cell_type": "code",
      "metadata": {
        "id": "qW15oUnNH7qs",
        "colab": {
          "base_uri": "https://localhost:8080/",
          "height": 424
        },
        "outputId": "27b3fa72-0ec6-4e4d-8798-3d115d6d5254"
      },
      "source": [
        "df_cycle = pd.read_excel('cycle_training.xlsx')\n",
        "df_cycle"
      ],
      "execution_count": null,
      "outputs": [
        {
          "output_type": "execute_result",
          "data": {
            "text/html": [
              "\n",
              "  <div id=\"df-1d9ea3da-8c1f-406b-982e-7cfb03406a5c\">\n",
              "    <div class=\"colab-df-container\">\n",
              "      <div>\n",
              "<style scoped>\n",
              "    .dataframe tbody tr th:only-of-type {\n",
              "        vertical-align: middle;\n",
              "    }\n",
              "\n",
              "    .dataframe tbody tr th {\n",
              "        vertical-align: top;\n",
              "    }\n",
              "\n",
              "    .dataframe thead th {\n",
              "        text-align: right;\n",
              "    }\n",
              "</style>\n",
              "<table border=\"1\" class=\"dataframe\">\n",
              "  <thead>\n",
              "    <tr style=\"text-align: right;\">\n",
              "      <th></th>\n",
              "      <th>Instant</th>\n",
              "      <th>Season</th>\n",
              "      <th>year</th>\n",
              "      <th>dteday</th>\n",
              "      <th>mnth</th>\n",
              "      <th>holiday</th>\n",
              "      <th>weekday</th>\n",
              "      <th>WorkingDay</th>\n",
              "      <th>weathersit</th>\n",
              "      <th>temp</th>\n",
              "      <th>atemp</th>\n",
              "      <th>hum</th>\n",
              "      <th>windspeed</th>\n",
              "      <th>count</th>\n",
              "    </tr>\n",
              "  </thead>\n",
              "  <tbody>\n",
              "    <tr>\n",
              "      <th>0</th>\n",
              "      <td>ID-1</td>\n",
              "      <td>Spring</td>\n",
              "      <td>2011</td>\n",
              "      <td>2011-01-01</td>\n",
              "      <td>1</td>\n",
              "      <td>No</td>\n",
              "      <td>6</td>\n",
              "      <td>No</td>\n",
              "      <td>Cloudy</td>\n",
              "      <td>0.344167</td>\n",
              "      <td>0.363625</td>\n",
              "      <td>0.805833</td>\n",
              "      <td>0.160446</td>\n",
              "      <td>985</td>\n",
              "    </tr>\n",
              "    <tr>\n",
              "      <th>1</th>\n",
              "      <td>ID-2</td>\n",
              "      <td>Spring</td>\n",
              "      <td>2011</td>\n",
              "      <td>2011-01-02</td>\n",
              "      <td>1</td>\n",
              "      <td>No</td>\n",
              "      <td>0</td>\n",
              "      <td>No</td>\n",
              "      <td>Cloudy</td>\n",
              "      <td>0.363478</td>\n",
              "      <td>0.353739</td>\n",
              "      <td>0.696087</td>\n",
              "      <td>0.248539</td>\n",
              "      <td>801</td>\n",
              "    </tr>\n",
              "    <tr>\n",
              "      <th>2</th>\n",
              "      <td>ID-3</td>\n",
              "      <td>Spring</td>\n",
              "      <td>2011</td>\n",
              "      <td>2011-01-03</td>\n",
              "      <td>1</td>\n",
              "      <td>No</td>\n",
              "      <td>1</td>\n",
              "      <td>Yes</td>\n",
              "      <td>Clear</td>\n",
              "      <td>0.196364</td>\n",
              "      <td>0.189405</td>\n",
              "      <td>0.437273</td>\n",
              "      <td>0.248309</td>\n",
              "      <td>1349</td>\n",
              "    </tr>\n",
              "    <tr>\n",
              "      <th>3</th>\n",
              "      <td>ID-4</td>\n",
              "      <td>Spring</td>\n",
              "      <td>2011</td>\n",
              "      <td>2011-01-04</td>\n",
              "      <td>1</td>\n",
              "      <td>No</td>\n",
              "      <td>2</td>\n",
              "      <td>Yes</td>\n",
              "      <td>Clear</td>\n",
              "      <td>0.200000</td>\n",
              "      <td>0.212122</td>\n",
              "      <td>0.590435</td>\n",
              "      <td>0.160296</td>\n",
              "      <td>1562</td>\n",
              "    </tr>\n",
              "    <tr>\n",
              "      <th>4</th>\n",
              "      <td>ID-5</td>\n",
              "      <td>Spring</td>\n",
              "      <td>2011</td>\n",
              "      <td>2011-01-05</td>\n",
              "      <td>1</td>\n",
              "      <td>No</td>\n",
              "      <td>3</td>\n",
              "      <td>Yes</td>\n",
              "      <td>Clear</td>\n",
              "      <td>0.226957</td>\n",
              "      <td>0.229270</td>\n",
              "      <td>0.436957</td>\n",
              "      <td>0.186900</td>\n",
              "      <td>1600</td>\n",
              "    </tr>\n",
              "    <tr>\n",
              "      <th>...</th>\n",
              "      <td>...</td>\n",
              "      <td>...</td>\n",
              "      <td>...</td>\n",
              "      <td>...</td>\n",
              "      <td>...</td>\n",
              "      <td>...</td>\n",
              "      <td>...</td>\n",
              "      <td>...</td>\n",
              "      <td>...</td>\n",
              "      <td>...</td>\n",
              "      <td>...</td>\n",
              "      <td>...</td>\n",
              "      <td>...</td>\n",
              "      <td>...</td>\n",
              "    </tr>\n",
              "    <tr>\n",
              "      <th>525</th>\n",
              "      <td>ID-526</td>\n",
              "      <td>Summer</td>\n",
              "      <td>2012</td>\n",
              "      <td>2012-06-09</td>\n",
              "      <td>6</td>\n",
              "      <td>No</td>\n",
              "      <td>6</td>\n",
              "      <td>No</td>\n",
              "      <td>Clear</td>\n",
              "      <td>0.710833</td>\n",
              "      <td>0.648367</td>\n",
              "      <td>0.437083</td>\n",
              "      <td>0.144287</td>\n",
              "      <td>7498</td>\n",
              "    </tr>\n",
              "    <tr>\n",
              "      <th>526</th>\n",
              "      <td>ID-527</td>\n",
              "      <td>Summer</td>\n",
              "      <td>2012</td>\n",
              "      <td>2012-06-10</td>\n",
              "      <td>6</td>\n",
              "      <td>No</td>\n",
              "      <td>0</td>\n",
              "      <td>No</td>\n",
              "      <td>Clear</td>\n",
              "      <td>0.726667</td>\n",
              "      <td>0.663517</td>\n",
              "      <td>0.538333</td>\n",
              "      <td>0.133721</td>\n",
              "      <td>6598</td>\n",
              "    </tr>\n",
              "    <tr>\n",
              "      <th>527</th>\n",
              "      <td>ID-528</td>\n",
              "      <td>Summer</td>\n",
              "      <td>2012</td>\n",
              "      <td>2012-06-11</td>\n",
              "      <td>6</td>\n",
              "      <td>No</td>\n",
              "      <td>1</td>\n",
              "      <td>Yes</td>\n",
              "      <td>Cloudy</td>\n",
              "      <td>0.720833</td>\n",
              "      <td>0.659721</td>\n",
              "      <td>0.587917</td>\n",
              "      <td>0.207713</td>\n",
              "      <td>6664</td>\n",
              "    </tr>\n",
              "    <tr>\n",
              "      <th>528</th>\n",
              "      <td>ID-529</td>\n",
              "      <td>Summer</td>\n",
              "      <td>2012</td>\n",
              "      <td>2012-06-12</td>\n",
              "      <td>6</td>\n",
              "      <td>No</td>\n",
              "      <td>2</td>\n",
              "      <td>Yes</td>\n",
              "      <td>Cloudy</td>\n",
              "      <td>0.653333</td>\n",
              "      <td>0.597875</td>\n",
              "      <td>0.833333</td>\n",
              "      <td>0.214546</td>\n",
              "      <td>4972</td>\n",
              "    </tr>\n",
              "    <tr>\n",
              "      <th>529</th>\n",
              "      <td>ID-530</td>\n",
              "      <td>Summer</td>\n",
              "      <td>2012</td>\n",
              "      <td>2012-06-13</td>\n",
              "      <td>6</td>\n",
              "      <td>No</td>\n",
              "      <td>3</td>\n",
              "      <td>Yes</td>\n",
              "      <td>Clear</td>\n",
              "      <td>0.655833</td>\n",
              "      <td>0.611117</td>\n",
              "      <td>0.582083</td>\n",
              "      <td>0.343279</td>\n",
              "      <td>7421</td>\n",
              "    </tr>\n",
              "  </tbody>\n",
              "</table>\n",
              "<p>530 rows × 14 columns</p>\n",
              "</div>\n",
              "      <button class=\"colab-df-convert\" onclick=\"convertToInteractive('df-1d9ea3da-8c1f-406b-982e-7cfb03406a5c')\"\n",
              "              title=\"Convert this dataframe to an interactive table.\"\n",
              "              style=\"display:none;\">\n",
              "        \n",
              "  <svg xmlns=\"http://www.w3.org/2000/svg\" height=\"24px\"viewBox=\"0 0 24 24\"\n",
              "       width=\"24px\">\n",
              "    <path d=\"M0 0h24v24H0V0z\" fill=\"none\"/>\n",
              "    <path d=\"M18.56 5.44l.94 2.06.94-2.06 2.06-.94-2.06-.94-.94-2.06-.94 2.06-2.06.94zm-11 1L8.5 8.5l.94-2.06 2.06-.94-2.06-.94L8.5 2.5l-.94 2.06-2.06.94zm10 10l.94 2.06.94-2.06 2.06-.94-2.06-.94-.94-2.06-.94 2.06-2.06.94z\"/><path d=\"M17.41 7.96l-1.37-1.37c-.4-.4-.92-.59-1.43-.59-.52 0-1.04.2-1.43.59L10.3 9.45l-7.72 7.72c-.78.78-.78 2.05 0 2.83L4 21.41c.39.39.9.59 1.41.59.51 0 1.02-.2 1.41-.59l7.78-7.78 2.81-2.81c.8-.78.8-2.07 0-2.86zM5.41 20L4 18.59l7.72-7.72 1.47 1.35L5.41 20z\"/>\n",
              "  </svg>\n",
              "      </button>\n",
              "      \n",
              "  <style>\n",
              "    .colab-df-container {\n",
              "      display:flex;\n",
              "      flex-wrap:wrap;\n",
              "      gap: 12px;\n",
              "    }\n",
              "\n",
              "    .colab-df-convert {\n",
              "      background-color: #E8F0FE;\n",
              "      border: none;\n",
              "      border-radius: 50%;\n",
              "      cursor: pointer;\n",
              "      display: none;\n",
              "      fill: #1967D2;\n",
              "      height: 32px;\n",
              "      padding: 0 0 0 0;\n",
              "      width: 32px;\n",
              "    }\n",
              "\n",
              "    .colab-df-convert:hover {\n",
              "      background-color: #E2EBFA;\n",
              "      box-shadow: 0px 1px 2px rgba(60, 64, 67, 0.3), 0px 1px 3px 1px rgba(60, 64, 67, 0.15);\n",
              "      fill: #174EA6;\n",
              "    }\n",
              "\n",
              "    [theme=dark] .colab-df-convert {\n",
              "      background-color: #3B4455;\n",
              "      fill: #D2E3FC;\n",
              "    }\n",
              "\n",
              "    [theme=dark] .colab-df-convert:hover {\n",
              "      background-color: #434B5C;\n",
              "      box-shadow: 0px 1px 3px 1px rgba(0, 0, 0, 0.15);\n",
              "      filter: drop-shadow(0px 1px 2px rgba(0, 0, 0, 0.3));\n",
              "      fill: #FFFFFF;\n",
              "    }\n",
              "  </style>\n",
              "\n",
              "      <script>\n",
              "        const buttonEl =\n",
              "          document.querySelector('#df-1d9ea3da-8c1f-406b-982e-7cfb03406a5c button.colab-df-convert');\n",
              "        buttonEl.style.display =\n",
              "          google.colab.kernel.accessAllowed ? 'block' : 'none';\n",
              "\n",
              "        async function convertToInteractive(key) {\n",
              "          const element = document.querySelector('#df-1d9ea3da-8c1f-406b-982e-7cfb03406a5c');\n",
              "          const dataTable =\n",
              "            await google.colab.kernel.invokeFunction('convertToInteractive',\n",
              "                                                     [key], {});\n",
              "          if (!dataTable) return;\n",
              "\n",
              "          const docLinkHtml = 'Like what you see? Visit the ' +\n",
              "            '<a target=\"_blank\" href=https://colab.research.google.com/notebooks/data_table.ipynb>data table notebook</a>'\n",
              "            + ' to learn more about interactive tables.';\n",
              "          element.innerHTML = '';\n",
              "          dataTable['output_type'] = 'display_data';\n",
              "          await google.colab.output.renderOutput(dataTable, element);\n",
              "          const docLink = document.createElement('div');\n",
              "          docLink.innerHTML = docLinkHtml;\n",
              "          element.appendChild(docLink);\n",
              "        }\n",
              "      </script>\n",
              "    </div>\n",
              "  </div>\n",
              "  "
            ],
            "text/plain": [
              "    Instant  Season  year     dteday  ...     atemp       hum  windspeed count\n",
              "0      ID-1  Spring  2011 2011-01-01  ...  0.363625  0.805833   0.160446   985\n",
              "1      ID-2  Spring  2011 2011-01-02  ...  0.353739  0.696087   0.248539   801\n",
              "2      ID-3  Spring  2011 2011-01-03  ...  0.189405  0.437273   0.248309  1349\n",
              "3      ID-4  Spring  2011 2011-01-04  ...  0.212122  0.590435   0.160296  1562\n",
              "4      ID-5  Spring  2011 2011-01-05  ...  0.229270  0.436957   0.186900  1600\n",
              "..      ...     ...   ...        ...  ...       ...       ...        ...   ...\n",
              "525  ID-526  Summer  2012 2012-06-09  ...  0.648367  0.437083   0.144287  7498\n",
              "526  ID-527  Summer  2012 2012-06-10  ...  0.663517  0.538333   0.133721  6598\n",
              "527  ID-528  Summer  2012 2012-06-11  ...  0.659721  0.587917   0.207713  6664\n",
              "528  ID-529  Summer  2012 2012-06-12  ...  0.597875  0.833333   0.214546  4972\n",
              "529  ID-530  Summer  2012 2012-06-13  ...  0.611117  0.582083   0.343279  7421\n",
              "\n",
              "[530 rows x 14 columns]"
            ]
          },
          "metadata": {},
          "execution_count": 7
        }
      ]
    },
    {
      "cell_type": "markdown",
      "source": [
        "これでデータのダウンロードができました。"
      ],
      "metadata": {
        "id": "WCGPsoYQYES_"
      }
    },
    {
      "cell_type": "markdown",
      "source": [
        "### 0.2 データ・演習についての説明"
      ],
      "metadata": {
        "id": "ghej73n_YMlT"
      }
    },
    {
      "cell_type": "markdown",
      "source": [
        "今回は天気や日時に関するデータから、レンタサイクルのレンタル数(df_cycleの'count'列)について予測するモデルを作っていただきます。\n",
        "\n",
        "各列の意味は次のようになっています。\n",
        "- Instant: 日時固有のID\n",
        "- Season: 季節\t\n",
        "- year: 年\n",
        "- dteday: 年月日\n",
        "- mnth: 月\n",
        "- holiday: 祝日か否か\n",
        "- weekday: 曜日\n",
        "- WorkingDay: 営業日か否か\n",
        "- weathersit: 天候\n",
        "- temp: 気温\n",
        "- atemp: 体感気温\n",
        "- hum: 湿度\n",
        "- windspeed: 風速\n",
        "- count: レンタル数\n",
        "\n"
      ],
      "metadata": {
        "id": "ovO2eSiiYR43"
      }
    },
    {
      "cell_type": "markdown",
      "source": [
        "これらを用いて2011年のデータを学習させ、2012年のcountを予測するモデルを作成してください。"
      ],
      "metadata": {
        "id": "Gc81O8pptV6p"
      }
    },
    {
      "cell_type": "markdown",
      "source": [
        "*タイタニックデータと同様に、まずはデータの確認及び可視化を行って、データの外観を理解した上で必要な前処理を実施してください。\n",
        "その上で適切なモデルを作成し、精度評価を実行するという流れで行ってください。\n",
        "\n",
        "(こちらはは自由記述課題になります。)"
      ],
      "metadata": {
        "id": "Uc4CaYu9TxiD"
      }
    }
  ]
}