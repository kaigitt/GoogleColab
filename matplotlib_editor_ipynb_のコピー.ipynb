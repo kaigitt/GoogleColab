{
  "nbformat": 4,
  "nbformat_minor": 0,
  "metadata": {
    "kernelspec": {
      "display_name": "Python 3",
      "language": "python",
      "name": "python3"
    },
    "language_info": {
      "codemirror_mode": {
        "name": "ipython",
        "version": 3
      },
      "file_extension": ".py",
      "mimetype": "text/x-python",
      "name": "python",
      "nbconvert_exporter": "python",
      "pygments_lexer": "ipython3",
      "version": "3.6.7"
    },
    "colab": {
      "name": "matplotlib_editor.ipynb のコピー",
      "provenance": [],
      "collapsed_sections": [],
      "include_colab_link": true
    }
  },
  "cells": [
    {
      "cell_type": "markdown",
      "metadata": {
        "id": "view-in-github",
        "colab_type": "text"
      },
      "source": [
        "<a href=\"https://colab.research.google.com/github/kaigitt/GoogleColab/blob/master/matplotlib_editor_ipynb_%E3%81%AE%E3%82%B3%E3%83%94%E3%83%BC.ipynb\" target=\"_parent\"><img src=\"https://colab.research.google.com/assets/colab-badge.svg\" alt=\"Open In Colab\"/></a>"
      ]
    },
    {
      "cell_type": "markdown",
      "metadata": {
        "id": "L2-j8S9X1mGI"
      },
      "source": [
        "\n",
        "\n",
        "\n",
        "# Matplotlib練習問題\n",
        "\n",
        " 1. 基本的なグラフの描画方法について学習します。（5問）\n",
        " 2. グラフの色や凡例・軸の編集の方法について学習します。（7問）\n",
        " 3. グラフの外観の設定方法について学習します。（4問）\n",
        " 4. 実際にデータを分析する方法について学習します。 (8問)\n",
        " 5. 簡潔にグラフを描画する方法について学びます。 (7問)"
      ]
    },
    {
      "cell_type": "markdown",
      "metadata": {
        "id": "O98pu7D2GsG3"
      },
      "source": [
        "### 0. 事前準備"
      ]
    },
    {
      "cell_type": "markdown",
      "metadata": {
        "id": "uzm28s66EaW8"
      },
      "source": [
        "#### 0.1 「以下のコマンドを実行してください。」"
      ]
    },
    {
      "cell_type": "code",
      "metadata": {
        "id": "S2b80Wn3Grr5"
      },
      "source": [
        "# こちらのセルを実行してください。\n",
        "!pip install japanize-matplotlib"
      ],
      "execution_count": null,
      "outputs": []
    },
    {
      "cell_type": "markdown",
      "metadata": {
        "id": "ej9zsDoQESPw"
      },
      "source": [
        "#### 0.2 「以下のコードを全て実行してください。」"
      ]
    },
    {
      "cell_type": "code",
      "metadata": {
        "id": "uhEs93dkGzJj"
      },
      "source": [
        "# こちらのセルを実行してください。\n",
        "import pandas as pd\n",
        "import numpy as np\n",
        "import matplotlib.pyplot as plt\n",
        "import seaborn as sns\n",
        "import japanize_matplotlib"
      ],
      "execution_count": null,
      "outputs": []
    },
    {
      "cell_type": "code",
      "metadata": {
        "collapsed": true,
        "id": "YcnaipjoESPw"
      },
      "source": [
        "# こちらのセルを実行してください。\n",
        "data = pd.DataFrame()\n",
        "np.random.seed(0)\n",
        "data['身長'] = np.random.normal(170, 5, 100)\n",
        "data['クラス'] = ['a', 'b', 'c', 'd'] * 25\n",
        "data['成績'] = [ 2, 5, 4, 1, 4, 3, 4, 2, 4, 5] * 10\n",
        "data['体重'] = np.random.normal(60, 3, 100)"
      ],
      "execution_count": null,
      "outputs": []
    },
    {
      "cell_type": "code",
      "metadata": {
        "id": "tDjQ_hLyH4d6"
      },
      "source": [
        "# こちらのセルを実行してください。\n",
        "tips = sns.load_dataset('tips')\n",
        "tips"
      ],
      "execution_count": null,
      "outputs": []
    },
    {
      "cell_type": "code",
      "metadata": {
        "id": "EeEVlQhXga1K"
      },
      "source": [
        "# こちらのセルを実行してください。\n",
        "flights = sns.load_dataset('flights')\n",
        "flights"
      ],
      "execution_count": null,
      "outputs": []
    },
    {
      "cell_type": "markdown",
      "metadata": {
        "id": "VSyV9lOIESPw"
      },
      "source": [
        "### 1. 基本的なグラフの描画方法について学習します。（5問）"
      ]
    },
    {
      "cell_type": "markdown",
      "metadata": {
        "id": "bgOAKbfdESPx"
      },
      "source": [
        "#### 1.1 「dataの中身を表示してください。」"
      ]
    },
    {
      "cell_type": "code",
      "metadata": {
        "id": "oTPUecUDESPx"
      },
      "source": [
        ""
      ],
      "execution_count": null,
      "outputs": []
    },
    {
      "cell_type": "markdown",
      "metadata": {
        "id": "bZpozoH2ESPx"
      },
      "source": [
        "#### 1.2 「data内の身長のヒストグラムをデフォルト設定で描画して下さい。」"
      ]
    },
    {
      "cell_type": "code",
      "metadata": {
        "id": "qJbiN4_OESPx"
      },
      "source": [
        ""
      ],
      "execution_count": null,
      "outputs": []
    },
    {
      "cell_type": "markdown",
      "metadata": {
        "id": "a_vInjwMESPy"
      },
      "source": [
        "#### 1.3 「data内の体重の折れ線グラフをデフォルト設定で描画して下さい。」"
      ]
    },
    {
      "cell_type": "code",
      "metadata": {
        "id": "obAEDFNeESPy"
      },
      "source": [
        ""
      ],
      "execution_count": null,
      "outputs": []
    },
    {
      "cell_type": "markdown",
      "metadata": {
        "id": "oBRUCRlUESPy"
      },
      "source": [
        "#### 1.4 「data内の身長と体重の散布図をデフォルト設定で描画して下さい。」"
      ]
    },
    {
      "cell_type": "code",
      "metadata": {
        "id": "oHGsvmbFESPy"
      },
      "source": [
        ""
      ],
      "execution_count": null,
      "outputs": []
    },
    {
      "cell_type": "markdown",
      "metadata": {
        "id": "DegXy5odZeaZ"
      },
      "source": [
        "#### 1.5 「データ内のクラスごとの身長の箱ひげ図を描画してください。」"
      ]
    },
    {
      "cell_type": "code",
      "metadata": {
        "id": "ZqcaUpxAaBsx"
      },
      "source": [
        ""
      ],
      "execution_count": null,
      "outputs": []
    },
    {
      "cell_type": "markdown",
      "metadata": {
        "id": "EOoINTU7ESPz"
      },
      "source": [
        "### 2. グラフの色や凡例・軸の編集（7問）"
      ]
    },
    {
      "cell_type": "markdown",
      "metadata": {
        "id": "9d-4E-5hESPz"
      },
      "source": [
        "#### 2.1 「data内の身長の折れ線グラフを、クラスの値で色分けして一つのグラフに描画して下さい。」"
      ]
    },
    {
      "cell_type": "code",
      "metadata": {
        "scrolled": true,
        "id": "XUkkyN2iESPz"
      },
      "source": [
        ""
      ],
      "execution_count": null,
      "outputs": []
    },
    {
      "cell_type": "markdown",
      "metadata": {
        "id": "fxvqWoFVESP0"
      },
      "source": [
        "#### 2.2 「上記のグラフに凡例を作成して下さい。」"
      ]
    },
    {
      "cell_type": "code",
      "metadata": {
        "scrolled": true,
        "id": "uX8hX76BESP0"
      },
      "source": [
        ""
      ],
      "execution_count": null,
      "outputs": []
    },
    {
      "cell_type": "markdown",
      "metadata": {
        "id": "382p5d4eESP0"
      },
      "source": [
        "#### 2.3 「dataの身長のヒストグラムをクラスで色分けして凡例付きで一つのグラフに描画して下さい。」"
      ]
    },
    {
      "cell_type": "code",
      "metadata": {
        "id": "x0uHJtmHESP0"
      },
      "source": [
        ""
      ],
      "execution_count": null,
      "outputs": []
    },
    {
      "cell_type": "markdown",
      "metadata": {
        "id": "BNlCF2iaESP0"
      },
      "source": [
        "#### 2.4 「色が被ってしまっています。透明度を上げてください。(引数は何れの値でも可)」"
      ]
    },
    {
      "cell_type": "code",
      "metadata": {
        "id": "2qgb2tazESP0"
      },
      "source": [
        ""
      ],
      "execution_count": null,
      "outputs": []
    },
    {
      "cell_type": "markdown",
      "metadata": {
        "id": "bY3-aYB_ESP1"
      },
      "source": [
        "#### 2.5 「ビンの値を細かくしてください。(引数は何れの値でも可)」"
      ]
    },
    {
      "cell_type": "code",
      "metadata": {
        "id": "OyhyXQKOESP1"
      },
      "source": [
        ""
      ],
      "execution_count": null,
      "outputs": []
    },
    {
      "cell_type": "markdown",
      "metadata": {
        "id": "2xLB1Q2WESP1"
      },
      "source": [
        "#### 2.6 「data内の身長のヒストグラムを作成して、x軸とy軸にそれぞれ'X', 'Y'と軸ラベルを設定して下さい。」"
      ]
    },
    {
      "cell_type": "code",
      "metadata": {
        "id": "XtBgvDUPESP1"
      },
      "source": [
        ""
      ],
      "execution_count": null,
      "outputs": []
    },
    {
      "cell_type": "markdown",
      "metadata": {
        "id": "361MvgI5ESP1"
      },
      "source": [
        "#### 2.7 「上記のグラフのy軸の範囲を0から30にして下さい。」"
      ]
    },
    {
      "cell_type": "code",
      "metadata": {
        "id": "yLAkAABxESP2"
      },
      "source": [
        ""
      ],
      "execution_count": null,
      "outputs": []
    },
    {
      "cell_type": "markdown",
      "metadata": {
        "id": "6f6-khG-ESP2"
      },
      "source": [
        "### 3. グラフの外観の設定（4問）"
      ]
    },
    {
      "cell_type": "markdown",
      "metadata": {
        "id": "qdFfheuuESP2"
      },
      "source": [
        "#### 3.1 「2行2列で計4つのグラフの箱を4つ用意してください。」"
      ]
    },
    {
      "cell_type": "code",
      "metadata": {
        "scrolled": true,
        "id": "aTucpFxKESP2"
      },
      "source": [
        ""
      ],
      "execution_count": null,
      "outputs": []
    },
    {
      "cell_type": "markdown",
      "metadata": {
        "id": "67TSUvh4ESP2"
      },
      "source": [
        "#### 3.2 「Figureのサイズを(10, 7)に設定してください。」\n",
        "\n"
      ]
    },
    {
      "cell_type": "code",
      "metadata": {
        "scrolled": true,
        "id": "tean_UdQESP2"
      },
      "source": [
        ""
      ],
      "execution_count": null,
      "outputs": []
    },
    {
      "cell_type": "markdown",
      "metadata": {
        "id": "Pq738bowESP2"
      },
      "source": [
        "#### 3.3 「各グラフのサブタイトルをそれぞれ、'1','2','3','4'に設定して下さい。」"
      ]
    },
    {
      "cell_type": "code",
      "metadata": {
        "id": "jJ6yHs1GESP2"
      },
      "source": [
        ""
      ],
      "execution_count": null,
      "outputs": []
    },
    {
      "cell_type": "markdown",
      "metadata": {
        "id": "_pPdQC2EESP3"
      },
      "source": [
        "#### 3.4 「上記のグラフに、身長、成績、クラス、体重のヒストグラムを入力してください。」"
      ]
    },
    {
      "cell_type": "code",
      "metadata": {
        "id": "XhDBgi7YESP3"
      },
      "source": [
        ""
      ],
      "execution_count": null,
      "outputs": []
    },
    {
      "cell_type": "markdown",
      "metadata": {
        "id": "lxljlQPfHA1z"
      },
      "source": [
        "### 4. 実際にデータを分析する方法について学習します。 (8問)"
      ]
    },
    {
      "cell_type": "markdown",
      "metadata": {
        "id": "1uTq2bFHKoxT"
      },
      "source": [
        "#### 4.1 「tips変数にはDataFrameが格納されています。まずは表示して中身を確認してください。」"
      ]
    },
    {
      "cell_type": "code",
      "metadata": {
        "id": "_SJip51sKoC0"
      },
      "source": [
        ""
      ],
      "execution_count": null,
      "outputs": []
    },
    {
      "cell_type": "markdown",
      "metadata": {
        "id": "pXxlVYx8LqfK"
      },
      "source": [
        "このtipsデータセットは、**ディナーとランチの総支払額と含まれるチップの額**が、支払った人の性別や喫煙の有無などで分類されています。\n",
        "\n",
        "それぞれの列は次のような値となっています。\n",
        "- total_bill : 総支払額(食事代、税込み)　(USドル)\n",
        "- tip : チップ(USドル)\n",
        "- sex : 性別\n",
        "- smoker : 喫煙者か否か\n",
        "- day : 曜日(木・金・土・日のいずれか)\n",
        "- time : 食事の時間(昼食か夕食か)\n",
        "- size : 人数"
      ]
    },
    {
      "cell_type": "markdown",
      "metadata": {
        "id": "okSsauVkN7ge"
      },
      "source": [
        "#### 4.2 「まずは、総支払額とチップの関係を見たいと思います。この二つを散布図にして表示してください。」"
      ]
    },
    {
      "cell_type": "code",
      "metadata": {
        "id": "IP8jR7fnOKoN"
      },
      "source": [
        ""
      ],
      "execution_count": null,
      "outputs": []
    },
    {
      "cell_type": "markdown",
      "metadata": {
        "id": "6owj421PKTN0"
      },
      "source": [
        "これを見ると、総支払額が増えるにつれてチップの支払額も増えている傾向が見られます。"
      ]
    },
    {
      "cell_type": "markdown",
      "metadata": {
        "id": "SyC7YmWBLSDX"
      },
      "source": [
        "#### 4.3 「次に、男女での傾向を見たいと思います。男女別の総支払額とチップの関係を散布図にして表示してください。」"
      ]
    },
    {
      "cell_type": "code",
      "metadata": {
        "id": "7CrxE6OrLDIY"
      },
      "source": [
        ""
      ],
      "execution_count": null,
      "outputs": []
    },
    {
      "cell_type": "markdown",
      "metadata": {
        "id": "BW7Y1S02Q7lY"
      },
      "source": [
        "これを見ると、男女関係なく総支払額とチップの額に相関関係がありそうです。"
      ]
    },
    {
      "cell_type": "markdown",
      "metadata": {
        "id": "JsQLImwoK8d7"
      },
      "source": [
        "#### 4.4 「次はランチとディナーの総支出額の中央値を比較したいと思います。pandasのgroupbyメソッドを用いて、男女別のそれぞれの値の中央値を出力してください。」"
      ]
    },
    {
      "cell_type": "code",
      "metadata": {
        "id": "6pCz_sMNSKvQ"
      },
      "source": [
        ""
      ],
      "execution_count": null,
      "outputs": []
    },
    {
      "cell_type": "markdown",
      "metadata": {
        "id": "oSibCCrvSZd5"
      },
      "source": [
        "#### 4.5 「1.4で出力した男女別の総支出額とチップ額の中央値を棒グラフで可視化したいと思います。2つのAxesを横に並べて、男女別の総支払額・男女別のチップ額の中央値のグラフを並べて表示してください。」"
      ]
    },
    {
      "cell_type": "code",
      "metadata": {
        "id": "8iGKR79QSu4Q"
      },
      "source": [
        ""
      ],
      "execution_count": null,
      "outputs": []
    },
    {
      "cell_type": "markdown",
      "metadata": {
        "id": "2wfmKt-dV4mv"
      },
      "source": [
        "#### 4.6 「男女別の総支払額及び、チップ額の分布の形はどうなっているのでしょうか。ヒストグラムで描画してください。」"
      ]
    },
    {
      "cell_type": "code",
      "metadata": {
        "id": "N9tYjgnUXyNE"
      },
      "source": [
        ""
      ],
      "execution_count": null,
      "outputs": []
    },
    {
      "cell_type": "markdown",
      "metadata": {
        "id": "RNzKDL8OLqOP"
      },
      "source": [
        "#### 4.7 「分布の形を見るため、Seabornを用いてヴァイオリンプロットを描画してください。」"
      ]
    },
    {
      "cell_type": "code",
      "metadata": {
        "id": "vmNeY0A2L32_"
      },
      "source": [
        ""
      ],
      "execution_count": null,
      "outputs": []
    },
    {
      "cell_type": "markdown",
      "metadata": {
        "id": "qsYs9mCuXxAT"
      },
      "source": [
        "#### 4.8 「性別による違いの他にも、曜日による違いも考えられます。Seabornを使って、曜日別の散布図行列を作成してください。」"
      ]
    },
    {
      "cell_type": "code",
      "metadata": {
        "id": "xYksHUdXUI-j"
      },
      "source": [
        ""
      ],
      "execution_count": null,
      "outputs": []
    },
    {
      "cell_type": "markdown",
      "metadata": {
        "id": "a7IcF1K3e_Q7"
      },
      "source": [
        "### 5. 簡潔にグラフを描画する方法について学びます。 (7問)"
      ]
    },
    {
      "cell_type": "markdown",
      "metadata": {
        "id": "x_x-N7QogNWn"
      },
      "source": [
        "#### 5.1 「flights変数にはDataFrameが格納されています。まずはflightsを表示してください。」"
      ]
    },
    {
      "cell_type": "code",
      "metadata": {
        "id": "c41AWl64gy-B"
      },
      "source": [
        ""
      ],
      "execution_count": null,
      "outputs": []
    },
    {
      "cell_type": "markdown",
      "metadata": {
        "id": "CP8QztKWiNt9"
      },
      "source": [
        "このflightsには、**1949年から1960年までの各月毎の飛行機の乗客数**が格納されています。"
      ]
    },
    {
      "cell_type": "markdown",
      "metadata": {
        "id": "qq7qRA0cjJ-O"
      },
      "source": [
        "それぞれの列は次のような値になっています。\n",
        "- year : 年\n",
        "- month : 月\n",
        "- passengers : 乗客数 (人)"
      ]
    },
    {
      "cell_type": "markdown",
      "metadata": {
        "id": "EEyTrL9Ng4yo"
      },
      "source": [
        "#### 5.2 「flights変数を年別の合計値にグルーピングして、変数に代入して表示してください。」"
      ]
    },
    {
      "cell_type": "code",
      "metadata": {
        "id": "gRNcHT6khM0R"
      },
      "source": [
        ""
      ],
      "execution_count": null,
      "outputs": []
    },
    {
      "cell_type": "markdown",
      "metadata": {
        "id": "0cN1bHPclnk_"
      },
      "source": [
        "#### 5.3 「flights変数を月別の合計値にグルーピングして、変数に代入して表示してください。」"
      ]
    },
    {
      "cell_type": "code",
      "metadata": {
        "id": "ueJD_Omclsfo"
      },
      "source": [
        ""
      ],
      "execution_count": null,
      "outputs": []
    },
    {
      "cell_type": "markdown",
      "metadata": {
        "id": "fgntCO2SheEc"
      },
      "source": [
        "#### 5.4 「年別の合計値を用いて、横軸に年・縦軸に乗客数がプロットされた折れ線グラフを**簡潔な描画方法**で描画してください。」\n"
      ]
    },
    {
      "cell_type": "code",
      "metadata": {
        "id": "QBsHzEQejcmT"
      },
      "source": [
        ""
      ],
      "execution_count": null,
      "outputs": []
    },
    {
      "cell_type": "markdown",
      "metadata": {
        "id": "4peHFUbLjkcT"
      },
      "source": [
        "これだけでも、十分なグラフが描画できることが確認できたと思います。"
      ]
    },
    {
      "cell_type": "markdown",
      "metadata": {
        "id": "moTvGchpj2MJ"
      },
      "source": [
        "#### 5.5 「先程のグラフに、「年と乗客数の関係」というタイトルをつけてください。」\n"
      ]
    },
    {
      "cell_type": "code",
      "metadata": {
        "id": "f5ngomzhkEK6"
      },
      "source": [
        ""
      ],
      "execution_count": null,
      "outputs": []
    },
    {
      "cell_type": "markdown",
      "metadata": {
        "id": "J9fcRTzMkNxF"
      },
      "source": [
        "#### 5.6 「先程のグラフのx軸のラベルに「年」・y軸のラベルに「乗客数」という名前をつけてください。」"
      ]
    },
    {
      "cell_type": "code",
      "metadata": {
        "id": "mb96J0kjkZzQ"
      },
      "source": [
        ""
      ],
      "execution_count": null,
      "outputs": []
    },
    {
      "cell_type": "markdown",
      "metadata": {
        "id": "VtCDlG12mVyy"
      },
      "source": [
        "#### 5.7 「月別の合計値を用いて、横軸に月・縦軸に乗客数がプロットされた棒グラフを**簡潔な描画方法**で描画してください。また、その際に適切なタイトルと各軸のラベルを設定してください。」"
      ]
    },
    {
      "cell_type": "code",
      "metadata": {
        "id": "r5YBxm_6mca7"
      },
      "source": [
        ""
      ],
      "execution_count": null,
      "outputs": []
    }
  ]
}