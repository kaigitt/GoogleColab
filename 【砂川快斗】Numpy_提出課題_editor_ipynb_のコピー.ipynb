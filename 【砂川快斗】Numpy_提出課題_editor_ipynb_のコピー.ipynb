{
  "nbformat": 4,
  "nbformat_minor": 0,
  "metadata": {
    "colab": {
      "name": "【砂川快斗】Numpy_提出課題_editor.ipynb のコピー",
      "provenance": [],
      "collapsed_sections": [],
      "include_colab_link": true
    },
    "kernelspec": {
      "name": "python3",
      "display_name": "Python 3"
    },
    "language_info": {
      "name": "python"
    }
  },
  "cells": [
    {
      "cell_type": "markdown",
      "metadata": {
        "id": "view-in-github",
        "colab_type": "text"
      },
      "source": [
        "<a href=\"https://colab.research.google.com/github/kaigitt/GoogleColab/blob/master/%E3%80%90%E7%A0%82%E5%B7%9D%E5%BF%AB%E6%96%97%E3%80%91Numpy_%E6%8F%90%E5%87%BA%E8%AA%B2%E9%A1%8C_editor_ipynb_%E3%81%AE%E3%82%B3%E3%83%94%E3%83%BC.ipynb\" target=\"_parent\"><img src=\"https://colab.research.google.com/assets/colab-badge.svg\" alt=\"Open In Colab\"/></a>"
      ]
    },
    {
      "cell_type": "markdown",
      "source": [
        "# Numpy 提出課題\n",
        "\n",
        "\n",
        "1. Numpyについて学習します。(15問)"
      ],
      "metadata": {
        "id": "Tdf7UKjbqbHr"
      }
    },
    {
      "cell_type": "markdown",
      "source": [
        "### 1. Numpyについて学習します。(15問)"
      ],
      "metadata": {
        "id": "xveWh-2oq945"
      }
    },
    {
      "cell_type": "markdown",
      "source": [
        "#### 1.1 「まずはNumpyをインポートし、npという名前で利用できるようにしてください。」"
      ],
      "metadata": {
        "id": "LIqvfiCQyIjK"
      }
    },
    {
      "cell_type": "markdown",
      "source": [
        "<details>\n",
        "<summary>\n",
        "この問題に関連する内容を復習するためのスライド\n",
        "</summary>\n",
        "\n",
        "Numpyの「ライブラリの読み込み方法」節\n",
        "</details>"
      ],
      "metadata": {
        "id": "U8PTR-Aggq07"
      }
    },
    {
      "cell_type": "code",
      "source": [
        "import numpy as np"
      ],
      "metadata": {
        "id": "_9GSYee2yG8d"
      },
      "execution_count": 1,
      "outputs": []
    },
    {
      "cell_type": "markdown",
      "source": [
        "#### 1.2 「101~150の整数を格納した、次元ごとの要素数が(10,5)である二次元配列を作成して、array_1という名前の変数に代入して表示してください。」"
      ],
      "metadata": {
        "id": "JrJjN8eWyHWW"
      }
    },
    {
      "cell_type": "markdown",
      "source": [
        "<details>\n",
        "<summary>\n",
        "この問題に関連する内容を復習するためのスライド\n",
        "</summary>\n",
        "\n",
        "Numpyの「ndarrayの作成方法」・「ndarrrayの次元数」節\n",
        "</details>"
      ],
      "metadata": {
        "id": "pVQtV6QChALQ"
      }
    },
    {
      "cell_type": "code",
      "source": [
        "array_1 = np.arange(101, 151).reshape(10, 5)\n",
        "print(array_1)"
      ],
      "metadata": {
        "colab": {
          "base_uri": "https://localhost:8080/"
        },
        "id": "bQ7dhM9i-uJb",
        "outputId": "3680c554-f914-49e8-e916-4a7d7a5b636c"
      },
      "execution_count": 63,
      "outputs": [
        {
          "output_type": "stream",
          "name": "stdout",
          "text": [
            "[[101 102 103 104 105]\n",
            " [106 107 108 109 110]\n",
            " [111 112 113 114 115]\n",
            " [116 117 118 119 120]\n",
            " [121 122 123 124 125]\n",
            " [126 127 128 129 130]\n",
            " [131 132 133 134 135]\n",
            " [136 137 138 139 140]\n",
            " [141 142 143 144 145]\n",
            " [146 147 148 149 150]]\n"
          ]
        }
      ]
    },
    {
      "cell_type": "markdown",
      "source": [
        "#### 1.3 「1.2と同様に、151~200の整数を格納した、次元ごとの要素数が(10,5)である二次元配列を作成して、array_2という名前の変数に代入して表示してください。」"
      ],
      "metadata": {
        "id": "mOHHltbNwTPb"
      }
    },
    {
      "cell_type": "markdown",
      "source": [
        "<details>\n",
        "<summary>\n",
        "この問題に関連する内容を復習するためのスライド\n",
        "</summary>\n",
        "\n",
        "Numpyの「ndarrayの作成方法」・「ndarrrayの次元数」節\n",
        "</details>"
      ],
      "metadata": {
        "id": "Q-b1RIyrvEn1"
      }
    },
    {
      "cell_type": "code",
      "source": [
        "array_2 = np.arange(151, 201).reshape(10, 5)\n",
        "print(array_2)"
      ],
      "metadata": {
        "id": "CN-4MoeKsYOl",
        "colab": {
          "base_uri": "https://localhost:8080/"
        },
        "outputId": "b2c59e60-b2c1-4048-c9c1-55240c56f3f0"
      },
      "execution_count": 39,
      "outputs": [
        {
          "output_type": "stream",
          "name": "stdout",
          "text": [
            "[[151 152 153 154 155]\n",
            " [156 157 158 159 160]\n",
            " [161 162 163 164 165]\n",
            " [166 167 168 169 170]\n",
            " [171 172 173 174 175]\n",
            " [176 177 178 179 180]\n",
            " [181 182 183 184 185]\n",
            " [186 187 188 189 190]\n",
            " [191 192 193 194 195]\n",
            " [196 197 198 199 200]]\n"
          ]
        }
      ]
    },
    {
      "cell_type": "markdown",
      "source": [
        "#### 1.4 「array_1の上から4行目のみを表示してください。」"
      ],
      "metadata": {
        "id": "RoUbGiaEwSiP"
      }
    },
    {
      "cell_type": "markdown",
      "source": [
        "<details>\n",
        "<summary>\n",
        "この問題に関連する内容を復習するためのスライド\n",
        "</summary>\n",
        "\n",
        "Numpyの「参照方法について」節\n",
        "</details>"
      ],
      "metadata": {
        "id": "WTga5EK2vKLP"
      }
    },
    {
      "cell_type": "code",
      "source": [
        "print(array_1[5])"
      ],
      "metadata": {
        "id": "fglmsY3guT3g",
        "colab": {
          "base_uri": "https://localhost:8080/"
        },
        "outputId": "549568bb-215c-4d84-b5af-fe870addab37"
      },
      "execution_count": 37,
      "outputs": [
        {
          "output_type": "stream",
          "name": "stdout",
          "text": [
            "[126 127 128 129 130]\n"
          ]
        }
      ]
    },
    {
      "cell_type": "markdown",
      "source": [
        "#### 1.5 「array_2の左から3列目を表示してください。」"
      ],
      "metadata": {
        "id": "F5jKBHrfvdcY"
      }
    },
    {
      "cell_type": "markdown",
      "source": [
        "<details>\n",
        "<summary>\n",
        "この問題に関連する内容を復習するためのスライド\n",
        "</summary>\n",
        "\n",
        "Numpyの「参照方法について」節\n",
        "</details>"
      ],
      "metadata": {
        "id": "AuBOpD36vOCI"
      }
    },
    {
      "cell_type": "code",
      "source": [
        "print(array_2[:,2])"
      ],
      "metadata": {
        "id": "-kKOBfB6wU7v",
        "colab": {
          "base_uri": "https://localhost:8080/"
        },
        "outputId": "e267c72f-e4d3-4ace-cdf5-f4fdb220d41d"
      },
      "execution_count": 44,
      "outputs": [
        {
          "output_type": "stream",
          "name": "stdout",
          "text": [
            "[153 158 163 168 173 178 183 188 193 198]\n"
          ]
        }
      ]
    },
    {
      "cell_type": "markdown",
      "source": [
        "#### 1.6 「array_1の上から3行目・左から4列目の数値を表示してください。」"
      ],
      "metadata": {
        "id": "X5SMBK9iwVRT"
      }
    },
    {
      "cell_type": "markdown",
      "source": [
        "<details>\n",
        "<summary>\n",
        "この問題に関連する内容を復習するためのスライド\n",
        "</summary>\n",
        "\n",
        "Numpyの「参照方法について」節\n",
        "</details>"
      ],
      "metadata": {
        "id": "hoGVc_WnvOc8"
      }
    },
    {
      "cell_type": "code",
      "source": [
        "print(array_1[2, 3])"
      ],
      "metadata": {
        "id": "7u0vMjbxvdyM",
        "colab": {
          "base_uri": "https://localhost:8080/"
        },
        "outputId": "d5239e9d-7218-49c8-e442-324736723e91"
      },
      "execution_count": 50,
      "outputs": [
        {
          "output_type": "stream",
          "name": "stdout",
          "text": [
            "114\n"
          ]
        }
      ]
    },
    {
      "cell_type": "markdown",
      "source": [
        "#### 1.7 「array_1の上から4\\~7行・左から4\\~5列に含まれるような配列を表示してください。」"
      ],
      "metadata": {
        "id": "i1OWyEZ1veh3"
      }
    },
    {
      "cell_type": "markdown",
      "source": [
        "<details>\n",
        "<summary>\n",
        "この問題に関連する内容を復習するためのスライド\n",
        "</summary>\n",
        "\n",
        "Numpyの「参照方法について」節\n",
        "</details>"
      ],
      "metadata": {
        "id": "BFXaswBVvP9j"
      }
    },
    {
      "cell_type": "code",
      "source": [
        "print(array_1[3:7, 3:5])"
      ],
      "metadata": {
        "id": "7dTbkEJeve9p",
        "colab": {
          "base_uri": "https://localhost:8080/"
        },
        "outputId": "6ce92dca-794c-48e2-ef0f-c848154f9691"
      },
      "execution_count": 70,
      "outputs": [
        {
          "output_type": "stream",
          "name": "stdout",
          "text": [
            "[[119 120]\n",
            " [124 125]\n",
            " [129 130]\n",
            " [134 135]]\n"
          ]
        }
      ]
    },
    {
      "cell_type": "markdown",
      "source": [
        "#### 1.8 「array_1の要素がそれぞれ3の倍数であるかどうかを真偽値で表した配列を作成し、変数に代入して表示してください。」"
      ],
      "metadata": {
        "id": "spoaiwt8vhfX"
      }
    },
    {
      "cell_type": "markdown",
      "source": [
        "<details>\n",
        "<summary>\n",
        "この問題に関連する内容を復習するためのスライド\n",
        "</summary>\n",
        "\n",
        "Numpyの「参照方法について」・「配列の論理演算方法」節\n",
        "</details>"
      ],
      "metadata": {
        "id": "16qt5NFfvSrV"
      }
    },
    {
      "cell_type": "code",
      "source": [
        "array_3 = array_1 % 3 == 0\n",
        "print(array_3)"
      ],
      "metadata": {
        "id": "awG0Pzk6vh3P",
        "colab": {
          "base_uri": "https://localhost:8080/"
        },
        "outputId": "63b834d1-5c6b-4edd-caa4-26e8796bd4f8"
      },
      "execution_count": 72,
      "outputs": [
        {
          "output_type": "stream",
          "name": "stdout",
          "text": [
            "[[False  True False False  True]\n",
            " [False False  True False False]\n",
            " [ True False False  True False]\n",
            " [False  True False False  True]\n",
            " [False False  True False False]\n",
            " [ True False False  True False]\n",
            " [False  True False False  True]\n",
            " [False False  True False False]\n",
            " [ True False False  True False]\n",
            " [False  True False False  True]]\n"
          ]
        }
      ]
    },
    {
      "cell_type": "markdown",
      "source": [
        "#### 1.9 「1.8で作成した配列を用いて、array_1の中で3の倍数である要素を格納した配列を作成し、変数に代入して表示してください。」"
      ],
      "metadata": {
        "id": "KKr0MM6DvkuY"
      }
    },
    {
      "cell_type": "markdown",
      "source": [
        "<details>\n",
        "<summary>\n",
        "この問題に関連する内容を復習するためのスライド\n",
        "</summary>\n",
        "\n",
        "Numpyの「参照方法について」・「配列の論理演算方法」節\n",
        "</details>"
      ],
      "metadata": {
        "id": "A9k7_7NXvZRw"
      }
    },
    {
      "cell_type": "code",
      "source": [
        "array_4 = array_1[array_3]\n",
        "print(array_4)"
      ],
      "metadata": {
        "id": "t6iZBYcjvlND",
        "colab": {
          "base_uri": "https://localhost:8080/"
        },
        "outputId": "368ceebd-1a71-41a0-a886-31098e33e711"
      },
      "execution_count": 76,
      "outputs": [
        {
          "output_type": "stream",
          "name": "stdout",
          "text": [
            "[102 105 108 111 114 117 120 123 126 129 132 135 138 141 144 147 150]\n"
          ]
        }
      ]
    },
    {
      "cell_type": "markdown",
      "source": [
        "#### 1.10 「『array_2の要素の中で3の倍数であるもの』と同じ位置にあるarray_1の要素を格納した配列を作成し、変数に代入して表示してください。」"
      ],
      "metadata": {
        "id": "CR8pdgkBv4hQ"
      }
    },
    {
      "cell_type": "markdown",
      "source": [
        "<details>\n",
        "<summary>\n",
        "この問題に関連する内容を復習するためのスライド\n",
        "</summary>\n",
        "\n",
        "Numpyの「参照方法について」・「配列の論理演算方法」節\n",
        "</details>"
      ],
      "metadata": {
        "id": "zSZBe_lWvaKT"
      }
    },
    {
      "cell_type": "code",
      "source": [
        ""
      ],
      "metadata": {
        "id": "7dB3wdH_v403"
      },
      "execution_count": null,
      "outputs": []
    },
    {
      "cell_type": "markdown",
      "source": [
        "#### 1.11 「array_1の要素の中で2の倍数、または5の倍数の要素を格納した配列を作成し、変数に代入して表示してください。」"
      ],
      "metadata": {
        "id": "P7EUlcvTxhso"
      }
    },
    {
      "cell_type": "markdown",
      "source": [
        "<details>\n",
        "<summary>\n",
        "この問題に関連する内容を復習するためのスライド\n",
        "</summary>\n",
        "\n",
        "Numpyの「参照方法について」・「配列の論理演算方法」節\n",
        "</details>"
      ],
      "metadata": {
        "id": "4-Ot-dv9vasO"
      }
    },
    {
      "cell_type": "code",
      "source": [
        ""
      ],
      "metadata": {
        "id": "VETu2c6hxiAp"
      },
      "execution_count": null,
      "outputs": []
    },
    {
      "cell_type": "markdown",
      "source": [
        "#### 1.12 「array_1とarray_2を縦に結合したような配列を作成し、表示してください。」"
      ],
      "metadata": {
        "id": "7m83LL69xDb_"
      }
    },
    {
      "cell_type": "markdown",
      "source": [
        "<details>\n",
        "<summary>\n",
        "この問題に関連する内容を復習するためのスライド\n",
        "</summary>\n",
        "\n",
        "Numpyの「配列の結合・分割方法」節\n",
        "</details>"
      ],
      "metadata": {
        "id": "XqG4sX3avc3A"
      }
    },
    {
      "cell_type": "code",
      "source": [
        ""
      ],
      "metadata": {
        "id": "fWPzydQbwKmJ"
      },
      "execution_count": null,
      "outputs": []
    },
    {
      "cell_type": "markdown",
      "source": [
        "#### 1.12 「array_1とarray_2を横に結合したような配列を作成し、表示してください。」"
      ],
      "metadata": {
        "id": "xHp_duKZxEGr"
      }
    },
    {
      "cell_type": "markdown",
      "source": [
        "<details>\n",
        "<summary>\n",
        "この問題に関連する内容を復習するためのスライド\n",
        "</summary>\n",
        "\n",
        "Numpyの「配列の結合・分割方法」節\n",
        "</details>"
      ],
      "metadata": {
        "id": "9PVevD27vjUQ"
      }
    },
    {
      "cell_type": "code",
      "source": [
        ""
      ],
      "metadata": {
        "id": "9F4nFagqxEWO"
      },
      "execution_count": null,
      "outputs": []
    },
    {
      "cell_type": "markdown",
      "source": [
        "#### 1.13 「array_1とarray_2を縦に2つに分解したような二つの配列を表示してください。」"
      ],
      "metadata": {
        "id": "C1hQcGYsxF1w"
      }
    },
    {
      "cell_type": "markdown",
      "source": [
        "<details>\n",
        "<summary>\n",
        "この問題に関連する内容を復習するためのスライド\n",
        "</summary>\n",
        "\n",
        "Numpyの「配列の結合・分割方法」節\n",
        "</details>"
      ],
      "metadata": {
        "id": "Mhol80u6vjvu"
      }
    },
    {
      "cell_type": "code",
      "source": [
        ""
      ],
      "metadata": {
        "id": "yjlj8HVBxGHr"
      },
      "execution_count": null,
      "outputs": []
    },
    {
      "cell_type": "markdown",
      "source": [
        "#### 1.14 「array_2の各列の最小値を表示してください。」"
      ],
      "metadata": {
        "id": "_2IM7-0kxUPM"
      }
    },
    {
      "cell_type": "markdown",
      "source": [
        "<details>\n",
        "<summary>\n",
        "この問題に関連する内容を復習するためのスライド\n",
        "</summary>\n",
        "\n",
        "Numpyの「配列の統計量計算方法」節\n",
        "</details>"
      ],
      "metadata": {
        "id": "gmhHXu3NvmRO"
      }
    },
    {
      "cell_type": "code",
      "source": [
        ""
      ],
      "metadata": {
        "id": "olmsyAjNxQiv"
      },
      "execution_count": null,
      "outputs": []
    },
    {
      "cell_type": "markdown",
      "source": [
        "#### 1.15 「array_1の要素の中で3の倍数であるものの数をカウントして、表示してください。」"
      ],
      "metadata": {
        "id": "REMQf2DXzhLO"
      }
    },
    {
      "cell_type": "markdown",
      "source": [
        "<details>\n",
        "<summary>\n",
        "この問題に関連する内容を復習するためのスライド\n",
        "</summary>\n",
        "\n",
        "Numpyの「その他よく使用するメソッド」節\n",
        "</details>"
      ],
      "metadata": {
        "id": "_N68b5k3vvmR"
      }
    },
    {
      "cell_type": "code",
      "source": [
        ""
      ],
      "metadata": {
        "id": "f4H29iu4zhcK"
      },
      "execution_count": null,
      "outputs": []
    }
  ]
}