{
  "nbformat": 4,
  "nbformat_minor": 0,
  "metadata": {
    "colab": {
      "name": "その他_editor.ipynb のコピー",
      "provenance": [],
      "collapsed_sections": [],
      "include_colab_link": true
    },
    "kernelspec": {
      "name": "python3",
      "display_name": "Python 3"
    },
    "language_info": {
      "name": "python"
    }
  },
  "cells": [
    {
      "cell_type": "markdown",
      "metadata": {
        "id": "view-in-github",
        "colab_type": "text"
      },
      "source": [
        "<a href=\"https://colab.research.google.com/github/kaigitt/GoogleColab/blob/master/%E3%81%9D%E3%81%AE%E4%BB%96_editor_ipynb_%E3%81%AE%E3%82%B3%E3%83%94%E3%83%BC.ipynb\" target=\"_parent\"><img src=\"https://colab.research.google.com/assets/colab-badge.svg\" alt=\"Open In Colab\"/></a>"
      ]
    },
    {
      "cell_type": "markdown",
      "metadata": {
        "id": "S_DoQU-fHO3H"
      },
      "source": [
        "# その他 exercises\n",
        "\n",
        "\n",
        "1. ライブラリについて学習します。 （2問）\n",
        "2. 参照渡しについて学習します。 (3問)\n",
        "**解答は参考例なので、コードが完全一致している必要はありません。**"
      ]
    },
    {
      "cell_type": "markdown",
      "metadata": {
        "id": "wcFT_1J5QDzb"
      },
      "source": [
        "## 1. ライブラリについて学習します。 （2問）"
      ]
    },
    {
      "cell_type": "markdown",
      "metadata": {
        "id": "U6mUNOfiQkk6"
      },
      "source": [
        "### 1.1 「copyモジュールをimportのみを用いて読み込んでください。」"
      ]
    },
    {
      "cell_type": "code",
      "metadata": {
        "id": "_XaMScOEQGO9"
      },
      "source": [
        "import copy"
      ],
      "execution_count": null,
      "outputs": []
    },
    {
      "cell_type": "markdown",
      "metadata": {
        "id": "wXcAbHBn9XCm"
      },
      "source": [
        "### 1.2 「copyモジュールのdeepcopy関数をfromとimportを用いて読み込んでください。」"
      ]
    },
    {
      "cell_type": "code",
      "metadata": {
        "id": "wwyBSNzb9fIE"
      },
      "source": [
        "from copy import deepcopy"
      ],
      "execution_count": 1,
      "outputs": []
    },
    {
      "cell_type": "markdown",
      "metadata": {
        "id": "IGA0sd68QOVe"
      },
      "source": [
        "##2. 参照渡しについて学習します。 (3問)\n"
      ]
    },
    {
      "cell_type": "markdown",
      "metadata": {
        "id": "koqdiZNQTRp8"
      },
      "source": [
        "### 2.1 「次のlist_1の浅いコピーをとったものを変数に代入して表示してください。また、その際に必要なモジュールはインポートしてください。」"
      ]
    },
    {
      "cell_type": "code",
      "source": [
        "# こちらのセルを実行してください。\n",
        "list_1 = [[3, 6, 4], 8, 1, 9]"
      ],
      "metadata": {
        "id": "wslM5ecsXf8Q"
      },
      "execution_count": null,
      "outputs": []
    },
    {
      "cell_type": "code",
      "metadata": {
        "id": "2d_LQVgITaDU"
      },
      "source": [
        "import copy\n",
        "list_1 = [[3, 6, 4], 8, 1, 9]\n",
        "copy_1 = copy(list_1)\n",
        "\n"
      ],
      "execution_count": 2,
      "outputs": []
    },
    {
      "cell_type": "markdown",
      "metadata": {
        "id": "X29KsoyLd1Po"
      },
      "source": [
        "### 2.2 「次のlist_2の深いコピーをとったものを変数に代入して表示してください。また、その際に必要なモジュールはインポートしてください。」"
      ]
    },
    {
      "cell_type": "code",
      "source": [
        "# こちらのセルを実行してください。\n",
        "import copy\n",
        "list_2 = [[3, 6, 4], 8, 1, 9]\n",
        "copy_2 = deepcopy(list_2)\n"
      ],
      "metadata": {
        "id": "Piabz6tpXqI5"
      },
      "execution_count": 4,
      "outputs": []
    },
    {
      "cell_type": "code",
      "metadata": {
        "id": "UbyPktS_TkWI"
      },
      "source": [
        ""
      ],
      "execution_count": null,
      "outputs": []
    },
    {
      "cell_type": "markdown",
      "metadata": {
        "id": "ocLGxzOTeiAR"
      },
      "source": [
        "### 2.3 「次の関数にlist_3の浅いコピー, list_4の深いコピーを渡して、元のlist_3・list_4を表示することで違いを確認してください。」"
      ]
    },
    {
      "cell_type": "code",
      "metadata": {
        "id": "EAQyzSzfe5ts",
        "colab": {
          "base_uri": "https://localhost:8080/"
        },
        "outputId": "2c46cdf7-90f8-4dc8-f4a0-412905317cac"
      },
      "source": [
        "# こちらのセルを実行してください。\n",
        "from copy import copy\n",
        "from copy import deepcopy\n",
        "def num_add(n_list):\n",
        "  n_list[0][1] = 999\n",
        "  return n_list\n",
        "\n",
        "list_3 = [[3, 6, 4], 8, 1, 9]\n",
        "list_4 = [[3, 6, 4], 8, 1, 9]\n",
        "\n",
        "c3 = copy(list_3)\n",
        "c4 = deepcopy(list_4)\n",
        "\n",
        "print(num_add(c3))\n",
        "print(c3)\n",
        "print(id(num_add(c4)))\n",
        "print(id(c4))"
      ],
      "execution_count": 14,
      "outputs": [
        {
          "output_type": "stream",
          "name": "stdout",
          "text": [
            "[[3, 999, 4], 8, 1, 9]\n",
            "[[3, 999, 4], 8, 1, 9]\n",
            "139706007574000\n",
            "139706007574000\n"
          ]
        }
      ]
    },
    {
      "cell_type": "code",
      "source": [
        ""
      ],
      "metadata": {
        "id": "EqNHkrIxX0y4"
      },
      "execution_count": null,
      "outputs": []
    }
  ]
}